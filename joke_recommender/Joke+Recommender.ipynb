{
 "cells": [
  {
   "cell_type": "code",
   "execution_count": 1,
   "metadata": {
    "collapsed": false
   },
   "outputs": [
    {
     "name": "stdout",
     "output_type": "stream",
     "text": [
      "This non-commercial license of GraphLab Create for academic use is assigned to aamir0744@gmail.com and will expire on June 08, 2018.\n"
     ]
    },
    {
     "name": "stderr",
     "output_type": "stream",
     "text": [
      "[INFO] graphlab.cython.cy_server: GraphLab Create v2.1 started. Logging: /tmp/graphlab_server_1497324789.log\n"
     ]
    }
   ],
   "source": [
    "import graphlab\n",
    "import pandas as pd\n",
    "import numpy as np\n",
    "from sklearn.metrics import mean_squared_error\n",
    "import matplotlib.pyplot as plt\n",
    "from bs4 import BeautifulSoup\n",
    "from sklearn.model_selection import train_test_split\n",
    "%matplotlib inline "
   ]
  },
  {
   "cell_type": "code",
   "execution_count": 2,
   "metadata": {
    "collapsed": false
   },
   "outputs": [],
   "source": [
    "df_jokes = pd.read_table('data/jokes.dat', names=['jokes'])\n",
    "df_ratings_all = pd.read_table('data/ratings.dat')"
   ]
  },
  {
   "cell_type": "code",
   "execution_count": 74,
   "metadata": {
    "collapsed": false
   },
   "outputs": [
    {
     "data": {
      "text/html": [
       "<div>\n",
       "<style>\n",
       "    .dataframe thead tr:only-child th {\n",
       "        text-align: right;\n",
       "    }\n",
       "\n",
       "    .dataframe thead th {\n",
       "        text-align: left;\n",
       "    }\n",
       "\n",
       "    .dataframe tbody tr th {\n",
       "        vertical-align: top;\n",
       "    }\n",
       "</style>\n",
       "<table border=\"1\" class=\"dataframe\">\n",
       "  <thead>\n",
       "    <tr style=\"text-align: right;\">\n",
       "      <th></th>\n",
       "      <th>jokes</th>\n",
       "    </tr>\n",
       "  </thead>\n",
       "  <tbody>\n",
       "    <tr>\n",
       "      <th>0</th>\n",
       "      <td>1:</td>\n",
       "    </tr>\n",
       "    <tr>\n",
       "      <th>1</th>\n",
       "      <td>&lt;p&gt;</td>\n",
       "    </tr>\n",
       "    <tr>\n",
       "      <th>2</th>\n",
       "      <td>A man visits the doctor. The doctor says, &amp;quo...</td>\n",
       "    </tr>\n",
       "    <tr>\n",
       "      <th>3</th>\n",
       "      <td>&lt;br /&gt;</td>\n",
       "    </tr>\n",
       "    <tr>\n",
       "      <th>4</th>\n",
       "      <td>The man replies, &amp;quot;Well, thank God I don&amp;#...</td>\n",
       "    </tr>\n",
       "    <tr>\n",
       "      <th>5</th>\n",
       "      <td>&lt;/p&gt;</td>\n",
       "    </tr>\n",
       "    <tr>\n",
       "      <th>6</th>\n",
       "      <td>2:</td>\n",
       "    </tr>\n",
       "    <tr>\n",
       "      <th>7</th>\n",
       "      <td>&lt;p&gt;</td>\n",
       "    </tr>\n",
       "    <tr>\n",
       "      <th>8</th>\n",
       "      <td>This couple had an excellent relationship goin...</td>\n",
       "    </tr>\n",
       "    <tr>\n",
       "      <th>9</th>\n",
       "      <td>&lt;br /&gt;</td>\n",
       "    </tr>\n",
       "  </tbody>\n",
       "</table>\n",
       "</div>"
      ],
      "text/plain": [
       "                                               jokes\n",
       "0                                                 1:\n",
       "1                                                <p>\n",
       "2  A man visits the doctor. The doctor says, &quo...\n",
       "3                                             <br />\n",
       "4  The man replies, &quot;Well, thank God I don&#...\n",
       "5                                               </p>\n",
       "6                                                 2:\n",
       "7                                                <p>\n",
       "8  This couple had an excellent relationship goin...\n",
       "9                                             <br />"
      ]
     },
     "execution_count": 74,
     "metadata": {},
     "output_type": "execute_result"
    }
   ],
   "source": [
    "df_jokes.head(10)  \n",
    "#jokes came in a messy format. I will have to extract the text using good ol' python and maybe Beautiful Soup"
   ]
  },
  {
   "cell_type": "code",
   "execution_count": 55,
   "metadata": {
    "collapsed": false,
    "scrolled": true
   },
   "outputs": [
    {
     "data": {
      "text/html": [
       "<div>\n",
       "<style>\n",
       "    .dataframe thead tr:only-child th {\n",
       "        text-align: right;\n",
       "    }\n",
       "\n",
       "    .dataframe thead th {\n",
       "        text-align: left;\n",
       "    }\n",
       "\n",
       "    .dataframe tbody tr th {\n",
       "        vertical-align: top;\n",
       "    }\n",
       "</style>\n",
       "<table border=\"1\" class=\"dataframe\">\n",
       "  <thead>\n",
       "    <tr style=\"text-align: right;\">\n",
       "      <th></th>\n",
       "      <th>user_id</th>\n",
       "      <th>joke_id</th>\n",
       "      <th>rating</th>\n",
       "    </tr>\n",
       "  </thead>\n",
       "  <tbody>\n",
       "    <tr>\n",
       "      <th>0</th>\n",
       "      <td>34888</td>\n",
       "      <td>111</td>\n",
       "      <td>-9.71875</td>\n",
       "    </tr>\n",
       "    <tr>\n",
       "      <th>1</th>\n",
       "      <td>49651</td>\n",
       "      <td>119</td>\n",
       "      <td>4.75000</td>\n",
       "    </tr>\n",
       "    <tr>\n",
       "      <th>2</th>\n",
       "      <td>29027</td>\n",
       "      <td>137</td>\n",
       "      <td>2.62500</td>\n",
       "    </tr>\n",
       "    <tr>\n",
       "      <th>3</th>\n",
       "      <td>25235</td>\n",
       "      <td>30</td>\n",
       "      <td>-2.43750</td>\n",
       "    </tr>\n",
       "    <tr>\n",
       "      <th>4</th>\n",
       "      <td>50499</td>\n",
       "      <td>19</td>\n",
       "      <td>2.18750</td>\n",
       "    </tr>\n",
       "  </tbody>\n",
       "</table>\n",
       "</div>"
      ],
      "text/plain": [
       "   user_id  joke_id   rating\n",
       "0    34888      111 -9.71875\n",
       "1    49651      119  4.75000\n",
       "2    29027      137  2.62500\n",
       "3    25235       30 -2.43750\n",
       "4    50499       19  2.18750"
      ]
     },
     "execution_count": 55,
     "metadata": {},
     "output_type": "execute_result"
    }
   ],
   "source": [
    "df_ratings_all.head()"
   ]
  },
  {
   "cell_type": "code",
   "execution_count": 4,
   "metadata": {
    "collapsed": false
   },
   "outputs": [],
   "source": [
    "df_train, df_test = train_test_split(df_ratings_all, test_size=0.1)"
   ]
  },
  {
   "cell_type": "code",
   "execution_count": 5,
   "metadata": {
    "collapsed": false,
    "scrolled": true
   },
   "outputs": [
    {
     "data": {
      "text/plain": [
       "(1096492, 3)"
      ]
     },
     "execution_count": 5,
     "metadata": {},
     "output_type": "execute_result"
    }
   ],
   "source": [
    "df_train.shape"
   ]
  },
  {
   "cell_type": "code",
   "execution_count": 6,
   "metadata": {
    "collapsed": false,
    "scrolled": true
   },
   "outputs": [
    {
     "data": {
      "text/plain": [
       "(121833, 3)"
      ]
     },
     "execution_count": 6,
     "metadata": {},
     "output_type": "execute_result"
    }
   ],
   "source": [
    "df_test.shape"
   ]
  },
  {
   "cell_type": "code",
   "execution_count": 9,
   "metadata": {
    "collapsed": false,
    "scrolled": true
   },
   "outputs": [
    {
     "data": {
      "text/html": [
       "<div>\n",
       "<style>\n",
       "    .dataframe thead tr:only-child th {\n",
       "        text-align: right;\n",
       "    }\n",
       "\n",
       "    .dataframe thead th {\n",
       "        text-align: left;\n",
       "    }\n",
       "\n",
       "    .dataframe tbody tr th {\n",
       "        vertical-align: top;\n",
       "    }\n",
       "</style>\n",
       "<table border=\"1\" class=\"dataframe\">\n",
       "  <thead>\n",
       "    <tr style=\"text-align: right;\">\n",
       "      <th></th>\n",
       "      <th>jokes</th>\n",
       "    </tr>\n",
       "  </thead>\n",
       "  <tbody>\n",
       "    <tr>\n",
       "      <th>1267</th>\n",
       "      <td>150:</td>\n",
       "    </tr>\n",
       "    <tr>\n",
       "      <th>1268</th>\n",
       "      <td>&lt;p&gt;</td>\n",
       "    </tr>\n",
       "    <tr>\n",
       "      <th>1269</th>\n",
       "      <td>In an interview with David Letterman, Carter p...</td>\n",
       "    </tr>\n",
       "    <tr>\n",
       "      <th>1270</th>\n",
       "      <td>&lt;br /&gt;</td>\n",
       "    </tr>\n",
       "    <tr>\n",
       "      <th>1271</th>\n",
       "      <td>He told the joke, then waited for the translat...</td>\n",
       "    </tr>\n",
       "    <tr>\n",
       "      <th>1272</th>\n",
       "      <td>&lt;br /&gt;</td>\n",
       "    </tr>\n",
       "    <tr>\n",
       "      <th>1273</th>\n",
       "      <td>After the speech, Carter wanted to meet the tr...</td>\n",
       "    </tr>\n",
       "    <tr>\n",
       "      <th>1274</th>\n",
       "      <td>&lt;br /&gt;</td>\n",
       "    </tr>\n",
       "    <tr>\n",
       "      <th>1275</th>\n",
       "      <td>When Carter asked how the joke had been told i...</td>\n",
       "    </tr>\n",
       "    <tr>\n",
       "      <th>1276</th>\n",
       "      <td>&lt;/p&gt;</td>\n",
       "    </tr>\n",
       "  </tbody>\n",
       "</table>\n",
       "</div>"
      ],
      "text/plain": [
       "                                                  jokes\n",
       "1267                                               150:\n",
       "1268                                                <p>\n",
       "1269  In an interview with David Letterman, Carter p...\n",
       "1270                                             <br />\n",
       "1271  He told the joke, then waited for the translat...\n",
       "1272                                             <br />\n",
       "1273  After the speech, Carter wanted to meet the tr...\n",
       "1274                                             <br />\n",
       "1275  When Carter asked how the joke had been told i...\n",
       "1276                                               </p>"
      ]
     },
     "execution_count": 9,
     "metadata": {},
     "output_type": "execute_result"
    }
   ],
   "source": [
    "df_jokes.tail(10)"
   ]
  },
  {
   "cell_type": "code",
   "execution_count": 13,
   "metadata": {
    "collapsed": false
   },
   "outputs": [],
   "source": [
    "'''this code will collect each of the 150 jokes in df_jokes['jokes'], clean it up using Beautiful soup and\n",
    "make a new list of jokes where the index will correspond to the joke_id minus 1''' \n",
    "\n",
    "i = 1   \n",
    "jokes = []\n",
    "joke = []\n",
    "for line in df_jokes['jokes'].values:\n",
    "    if str(i) + ':' == line:\n",
    "        i += 1\n",
    "        soup = BeautifulSoup(''.join(joke), 'html.parser')\n",
    "        jokes.append(soup.text)\n",
    "        joke = []\n",
    "    else:\n",
    "        joke.append(line)\n",
    "        \n",
    "jokes.append(joke)  \n",
    "jokes = jokes[1:]"
   ]
  },
  {
   "cell_type": "code",
   "execution_count": 56,
   "metadata": {
    "collapsed": false,
    "scrolled": true
   },
   "outputs": [
    {
     "data": {
      "text/plain": [
       "150"
      ]
     },
     "execution_count": 56,
     "metadata": {},
     "output_type": "execute_result"
    }
   ],
   "source": [
    "len(jokes)  # joke_ids range from 1 to 151 so in this case index+1 will give the joke_id"
   ]
  },
  {
   "cell_type": "code",
   "execution_count": 75,
   "metadata": {
    "collapsed": false,
    "scrolled": true
   },
   "outputs": [
    {
     "name": "stdout",
     "output_type": "stream",
     "text": [
      "A man visits the doctor. The doctor says, \"I have bad news for you. You have cancer and Alzheimer's disease\".The man replies, \"Well, thank God I don't have cancer!\" \n",
      "\n",
      "This couple had an excellent relationship going until one day he came home from work to find his girlfriend packing. He asked her why she was leaving him and she told him that she had heard awful things about him. \"What could they possibly have said to make you move out?\"\"They told me that you were a pedophile.\"He replied, \"That's an awfully big word for a ten year old.\"\n"
     ]
    }
   ],
   "source": [
    "print jokes[0],  #just checking the format. Looks like Beautiful Soup did well\n",
    "print '\\n'\n",
    "print jokes[1]"
   ]
  },
  {
   "cell_type": "code",
   "execution_count": 61,
   "metadata": {
    "collapsed": false
   },
   "outputs": [],
   "source": [
    "sf = graphlab.SFrame(df_train)  # graphlab.recommender only accepts SFrame"
   ]
  },
  {
   "cell_type": "code",
   "execution_count": 19,
   "metadata": {
    "collapsed": true
   },
   "outputs": [],
   "source": [
    "lmbdas = [0, 1e-16, 1e-14, 1e-12, 1e-10]   #trying different learning rates"
   ]
  },
  {
   "cell_type": "code",
   "execution_count": null,
   "metadata": {
    "collapsed": false,
    "scrolled": true
   },
   "outputs": [],
   "source": [
    "rmses = []\n",
    "for lmbda in lmbdas:\n",
    "    rating_recommender = graphlab.recommender.factorization_recommender.create(sf, user_id = 'user_id', item_id = 'joke_id', target = 'rating', solver = 'als', regularization = lmbda)\n",
    "    rmses.append(rating_recommender.get('training_rmse'))\n",
    "rmses"
   ]
  },
  {
   "cell_type": "markdown",
   "metadata": {},
   "source": [
    "*Found best lambda to be 1e-14 but the difference was marginal*"
   ]
  },
  {
   "cell_type": "code",
   "execution_count": 64,
   "metadata": {
    "collapsed": false
   },
   "outputs": [
    {
     "data": {
      "text/html": [
       "<pre>Recsys training: model = factorization_recommender</pre>"
      ],
      "text/plain": [
       "Recsys training: model = factorization_recommender"
      ]
     },
     "metadata": {},
     "output_type": "display_data"
    },
    {
     "data": {
      "text/html": [
       "<pre>Preparing data set.</pre>"
      ],
      "text/plain": [
       "Preparing data set."
      ]
     },
     "metadata": {},
     "output_type": "display_data"
    },
    {
     "data": {
      "text/html": [
       "<pre>    Data has 1096492 observations with 50690 users and 141 items.</pre>"
      ],
      "text/plain": [
       "    Data has 1096492 observations with 50690 users and 141 items."
      ]
     },
     "metadata": {},
     "output_type": "display_data"
    },
    {
     "data": {
      "text/html": [
       "<pre>    Data prepared in: 1.42618s</pre>"
      ],
      "text/plain": [
       "    Data prepared in: 1.42618s"
      ]
     },
     "metadata": {},
     "output_type": "display_data"
    },
    {
     "data": {
      "text/html": [
       "<pre>Training factorization_recommender for recommendations.</pre>"
      ],
      "text/plain": [
       "Training factorization_recommender for recommendations."
      ]
     },
     "metadata": {},
     "output_type": "display_data"
    },
    {
     "data": {
      "text/html": [
       "<pre>+------------------------------+--------------------------------------------------+----------+</pre>"
      ],
      "text/plain": [
       "+------------------------------+--------------------------------------------------+----------+"
      ]
     },
     "metadata": {},
     "output_type": "display_data"
    },
    {
     "data": {
      "text/html": [
       "<pre>| Parameter                    | Description                                      | Value    |</pre>"
      ],
      "text/plain": [
       "| Parameter                    | Description                                      | Value    |"
      ]
     },
     "metadata": {},
     "output_type": "display_data"
    },
    {
     "data": {
      "text/html": [
       "<pre>+------------------------------+--------------------------------------------------+----------+</pre>"
      ],
      "text/plain": [
       "+------------------------------+--------------------------------------------------+----------+"
      ]
     },
     "metadata": {},
     "output_type": "display_data"
    },
    {
     "data": {
      "text/html": [
       "<pre>| num_factors                  | Factor Dimension                                 | 8        |</pre>"
      ],
      "text/plain": [
       "| num_factors                  | Factor Dimension                                 | 8        |"
      ]
     },
     "metadata": {},
     "output_type": "display_data"
    },
    {
     "data": {
      "text/html": [
       "<pre>| regularization               | L2 Regularization on Factors                     | 1e-14    |</pre>"
      ],
      "text/plain": [
       "| regularization               | L2 Regularization on Factors                     | 1e-14    |"
      ]
     },
     "metadata": {},
     "output_type": "display_data"
    },
    {
     "data": {
      "text/html": [
       "<pre>| max_iterations               | Maximum Number of Iterations                     | 50       |</pre>"
      ],
      "text/plain": [
       "| max_iterations               | Maximum Number of Iterations                     | 50       |"
      ]
     },
     "metadata": {},
     "output_type": "display_data"
    },
    {
     "data": {
      "text/html": [
       "<pre>| solver                       | Solver used for training                         | als      |</pre>"
      ],
      "text/plain": [
       "| solver                       | Solver used for training                         | als      |"
      ]
     },
     "metadata": {},
     "output_type": "display_data"
    },
    {
     "data": {
      "text/html": [
       "<pre>+------------------------------+--------------------------------------------------+----------+</pre>"
      ],
      "text/plain": [
       "+------------------------------+--------------------------------------------------+----------+"
      ]
     },
     "metadata": {},
     "output_type": "display_data"
    },
    {
     "data": {
      "text/html": [
       "<pre>+---------+--------------+------------------------+</pre>"
      ],
      "text/plain": [
       "+---------+--------------+------------------------+"
      ]
     },
     "metadata": {},
     "output_type": "display_data"
    },
    {
     "data": {
      "text/html": [
       "<pre>| Iter.   | Elapsed time | RMSE                   |</pre>"
      ],
      "text/plain": [
       "| Iter.   | Elapsed time | RMSE                   |"
      ]
     },
     "metadata": {},
     "output_type": "display_data"
    },
    {
     "data": {
      "text/html": [
       "<pre>+---------+--------------+------------------------+</pre>"
      ],
      "text/plain": [
       "+---------+--------------+------------------------+"
      ]
     },
     "metadata": {},
     "output_type": "display_data"
    },
    {
     "data": {
      "text/html": [
       "<pre>| Initial | 74us         | NA                     |</pre>"
      ],
      "text/plain": [
       "| Initial | 74us         | NA                     |"
      ]
     },
     "metadata": {},
     "output_type": "display_data"
    },
    {
     "data": {
      "text/html": [
       "<pre>+---------+--------------+------------------------+</pre>"
      ],
      "text/plain": [
       "+---------+--------------+------------------------+"
      ]
     },
     "metadata": {},
     "output_type": "display_data"
    },
    {
     "data": {
      "text/html": [
       "<pre>| 0       | 727.341ms    | 3.86516                |</pre>"
      ],
      "text/plain": [
       "| 0       | 727.341ms    | 3.86516                |"
      ]
     },
     "metadata": {},
     "output_type": "display_data"
    },
    {
     "data": {
      "text/html": [
       "<pre>| 1       | 1.34s        | 3.27442                |</pre>"
      ],
      "text/plain": [
       "| 1       | 1.34s        | 3.27442                |"
      ]
     },
     "metadata": {},
     "output_type": "display_data"
    },
    {
     "data": {
      "text/html": [
       "<pre>| 2       | 1.95s        | 3.14933                |</pre>"
      ],
      "text/plain": [
       "| 2       | 1.95s        | 3.14933                |"
      ]
     },
     "metadata": {},
     "output_type": "display_data"
    },
    {
     "data": {
      "text/html": [
       "<pre>| 3       | 2.41s        | 3.10016                |</pre>"
      ],
      "text/plain": [
       "| 3       | 2.41s        | 3.10016                |"
      ]
     },
     "metadata": {},
     "output_type": "display_data"
    },
    {
     "data": {
      "text/html": [
       "<pre>| 4       | 2.87s        | 3.06977                |</pre>"
      ],
      "text/plain": [
       "| 4       | 2.87s        | 3.06977                |"
      ]
     },
     "metadata": {},
     "output_type": "display_data"
    },
    {
     "data": {
      "text/html": [
       "<pre>| 5       | 3.50s        | 3.04641                |</pre>"
      ],
      "text/plain": [
       "| 5       | 3.50s        | 3.04641                |"
      ]
     },
     "metadata": {},
     "output_type": "display_data"
    },
    {
     "data": {
      "text/html": [
       "<pre>| 6       | 4.17s        | 3.02637                |</pre>"
      ],
      "text/plain": [
       "| 6       | 4.17s        | 3.02637                |"
      ]
     },
     "metadata": {},
     "output_type": "display_data"
    },
    {
     "data": {
      "text/html": [
       "<pre>| 7       | 4.85s        | 3.00899                |</pre>"
      ],
      "text/plain": [
       "| 7       | 4.85s        | 3.00899                |"
      ]
     },
     "metadata": {},
     "output_type": "display_data"
    },
    {
     "data": {
      "text/html": [
       "<pre>| 8       | 5.40s        | 2.99476                |</pre>"
      ],
      "text/plain": [
       "| 8       | 5.40s        | 2.99476                |"
      ]
     },
     "metadata": {},
     "output_type": "display_data"
    },
    {
     "data": {
      "text/html": [
       "<pre>| 9       | 5.88s        | 2.98366                |</pre>"
      ],
      "text/plain": [
       "| 9       | 5.88s        | 2.98366                |"
      ]
     },
     "metadata": {},
     "output_type": "display_data"
    },
    {
     "data": {
      "text/html": [
       "<pre>| 10      | 6.33s        | 2.97509                |</pre>"
      ],
      "text/plain": [
       "| 10      | 6.33s        | 2.97509                |"
      ]
     },
     "metadata": {},
     "output_type": "display_data"
    },
    {
     "data": {
      "text/html": [
       "<pre>| 11      | 7.05s        | 2.96843                |</pre>"
      ],
      "text/plain": [
       "| 11      | 7.05s        | 2.96843                |"
      ]
     },
     "metadata": {},
     "output_type": "display_data"
    },
    {
     "data": {
      "text/html": [
       "<pre>| 12      | 7.76s        | 2.96317                |</pre>"
      ],
      "text/plain": [
       "| 12      | 7.76s        | 2.96317                |"
      ]
     },
     "metadata": {},
     "output_type": "display_data"
    },
    {
     "data": {
      "text/html": [
       "<pre>| 13      | 8.40s        | 2.95894                |</pre>"
      ],
      "text/plain": [
       "| 13      | 8.40s        | 2.95894                |"
      ]
     },
     "metadata": {},
     "output_type": "display_data"
    },
    {
     "data": {
      "text/html": [
       "<pre>| 14      | 9.04s        | 2.95547                |</pre>"
      ],
      "text/plain": [
       "| 14      | 9.04s        | 2.95547                |"
      ]
     },
     "metadata": {},
     "output_type": "display_data"
    },
    {
     "data": {
      "text/html": [
       "<pre>| 15      | 9.70s        | 2.95255                |</pre>"
      ],
      "text/plain": [
       "| 15      | 9.70s        | 2.95255                |"
      ]
     },
     "metadata": {},
     "output_type": "display_data"
    },
    {
     "data": {
      "text/html": [
       "<pre>| 16      | 10.27s       | 2.95006                |</pre>"
      ],
      "text/plain": [
       "| 16      | 10.27s       | 2.95006                |"
      ]
     },
     "metadata": {},
     "output_type": "display_data"
    },
    {
     "data": {
      "text/html": [
       "<pre>| 17      | 10.89s       | 2.94789                |</pre>"
      ],
      "text/plain": [
       "| 17      | 10.89s       | 2.94789                |"
      ]
     },
     "metadata": {},
     "output_type": "display_data"
    },
    {
     "data": {
      "text/html": [
       "<pre>| 18      | 11.38s       | 2.94597                |</pre>"
      ],
      "text/plain": [
       "| 18      | 11.38s       | 2.94597                |"
      ]
     },
     "metadata": {},
     "output_type": "display_data"
    },
    {
     "data": {
      "text/html": [
       "<pre>| 19      | 12.04s       | 2.94427                |</pre>"
      ],
      "text/plain": [
       "| 19      | 12.04s       | 2.94427                |"
      ]
     },
     "metadata": {},
     "output_type": "display_data"
    },
    {
     "data": {
      "text/html": [
       "<pre>| 20      | 12.55s       | 2.94274                |</pre>"
      ],
      "text/plain": [
       "| 20      | 12.55s       | 2.94274                |"
      ]
     },
     "metadata": {},
     "output_type": "display_data"
    },
    {
     "data": {
      "text/html": [
       "<pre>| 21      | 13.03s       | 2.94137                |</pre>"
      ],
      "text/plain": [
       "| 21      | 13.03s       | 2.94137                |"
      ]
     },
     "metadata": {},
     "output_type": "display_data"
    },
    {
     "data": {
      "text/html": [
       "<pre>| 22      | 13.49s       | 2.94013                |</pre>"
      ],
      "text/plain": [
       "| 22      | 13.49s       | 2.94013                |"
      ]
     },
     "metadata": {},
     "output_type": "display_data"
    },
    {
     "data": {
      "text/html": [
       "<pre>| 23      | 13.95s       | 2.939                  |</pre>"
      ],
      "text/plain": [
       "| 23      | 13.95s       | 2.939                  |"
      ]
     },
     "metadata": {},
     "output_type": "display_data"
    },
    {
     "data": {
      "text/html": [
       "<pre>| 24      | 14.43s       | 2.93796                |</pre>"
      ],
      "text/plain": [
       "| 24      | 14.43s       | 2.93796                |"
      ]
     },
     "metadata": {},
     "output_type": "display_data"
    },
    {
     "data": {
      "text/html": [
       "<pre>| 25      | 14.90s       | 2.937                  |</pre>"
      ],
      "text/plain": [
       "| 25      | 14.90s       | 2.937                  |"
      ]
     },
     "metadata": {},
     "output_type": "display_data"
    },
    {
     "data": {
      "text/html": [
       "<pre>| 26      | 15.38s       | 2.93612                |</pre>"
      ],
      "text/plain": [
       "| 26      | 15.38s       | 2.93612                |"
      ]
     },
     "metadata": {},
     "output_type": "display_data"
    },
    {
     "data": {
      "text/html": [
       "<pre>| 27      | 15.88s       | 2.93529                |</pre>"
      ],
      "text/plain": [
       "| 27      | 15.88s       | 2.93529                |"
      ]
     },
     "metadata": {},
     "output_type": "display_data"
    },
    {
     "data": {
      "text/html": [
       "<pre>| 28      | 16.37s       | 2.93452                |</pre>"
      ],
      "text/plain": [
       "| 28      | 16.37s       | 2.93452                |"
      ]
     },
     "metadata": {},
     "output_type": "display_data"
    },
    {
     "data": {
      "text/html": [
       "<pre>| 29      | 16.85s       | 2.9338                 |</pre>"
      ],
      "text/plain": [
       "| 29      | 16.85s       | 2.9338                 |"
      ]
     },
     "metadata": {},
     "output_type": "display_data"
    },
    {
     "data": {
      "text/html": [
       "<pre>| 30      | 17.35s       | 2.93313                |</pre>"
      ],
      "text/plain": [
       "| 30      | 17.35s       | 2.93313                |"
      ]
     },
     "metadata": {},
     "output_type": "display_data"
    },
    {
     "data": {
      "text/html": [
       "<pre>| 31      | 17.82s       | 2.9325                 |</pre>"
      ],
      "text/plain": [
       "| 31      | 17.82s       | 2.9325                 |"
      ]
     },
     "metadata": {},
     "output_type": "display_data"
    },
    {
     "data": {
      "text/html": [
       "<pre>| 32      | 18.28s       | 2.9319                 |</pre>"
      ],
      "text/plain": [
       "| 32      | 18.28s       | 2.9319                 |"
      ]
     },
     "metadata": {},
     "output_type": "display_data"
    },
    {
     "data": {
      "text/html": [
       "<pre>| 33      | 18.74s       | 2.93133                |</pre>"
      ],
      "text/plain": [
       "| 33      | 18.74s       | 2.93133                |"
      ]
     },
     "metadata": {},
     "output_type": "display_data"
    },
    {
     "data": {
      "text/html": [
       "<pre>| 34      | 19.20s       | 2.9308                 |</pre>"
      ],
      "text/plain": [
       "| 34      | 19.20s       | 2.9308                 |"
      ]
     },
     "metadata": {},
     "output_type": "display_data"
    },
    {
     "data": {
      "text/html": [
       "<pre>| 35      | 19.67s       | 2.93029                |</pre>"
      ],
      "text/plain": [
       "| 35      | 19.67s       | 2.93029                |"
      ]
     },
     "metadata": {},
     "output_type": "display_data"
    },
    {
     "data": {
      "text/html": [
       "<pre>| 36      | 20.15s       | 2.92981                |</pre>"
      ],
      "text/plain": [
       "| 36      | 20.15s       | 2.92981                |"
      ]
     },
     "metadata": {},
     "output_type": "display_data"
    },
    {
     "data": {
      "text/html": [
       "<pre>| 37      | 20.63s       | 2.92935                |</pre>"
      ],
      "text/plain": [
       "| 37      | 20.63s       | 2.92935                |"
      ]
     },
     "metadata": {},
     "output_type": "display_data"
    },
    {
     "data": {
      "text/html": [
       "<pre>| 38      | 21.13s       | 2.92891                |</pre>"
      ],
      "text/plain": [
       "| 38      | 21.13s       | 2.92891                |"
      ]
     },
     "metadata": {},
     "output_type": "display_data"
    },
    {
     "data": {
      "text/html": [
       "<pre>| 39      | 21.64s       | 2.9285                 |</pre>"
      ],
      "text/plain": [
       "| 39      | 21.64s       | 2.9285                 |"
      ]
     },
     "metadata": {},
     "output_type": "display_data"
    },
    {
     "data": {
      "text/html": [
       "<pre>| 40      | 22.10s       | 2.9281                 |</pre>"
      ],
      "text/plain": [
       "| 40      | 22.10s       | 2.9281                 |"
      ]
     },
     "metadata": {},
     "output_type": "display_data"
    },
    {
     "data": {
      "text/html": [
       "<pre>| 41      | 22.59s       | 2.92771                |</pre>"
      ],
      "text/plain": [
       "| 41      | 22.59s       | 2.92771                |"
      ]
     },
     "metadata": {},
     "output_type": "display_data"
    },
    {
     "data": {
      "text/html": [
       "<pre>| 42      | 23.07s       | 2.92734                |</pre>"
      ],
      "text/plain": [
       "| 42      | 23.07s       | 2.92734                |"
      ]
     },
     "metadata": {},
     "output_type": "display_data"
    },
    {
     "data": {
      "text/html": [
       "<pre>| 43      | 23.54s       | 2.92698                |</pre>"
      ],
      "text/plain": [
       "| 43      | 23.54s       | 2.92698                |"
      ]
     },
     "metadata": {},
     "output_type": "display_data"
    },
    {
     "data": {
      "text/html": [
       "<pre>| 44      | 24.02s       | 2.92664                |</pre>"
      ],
      "text/plain": [
       "| 44      | 24.02s       | 2.92664                |"
      ]
     },
     "metadata": {},
     "output_type": "display_data"
    },
    {
     "data": {
      "text/html": [
       "<pre>| 45      | 24.51s       | 2.92631                |</pre>"
      ],
      "text/plain": [
       "| 45      | 24.51s       | 2.92631                |"
      ]
     },
     "metadata": {},
     "output_type": "display_data"
    },
    {
     "data": {
      "text/html": [
       "<pre>| 46      | 24.98s       | 2.92599                |</pre>"
      ],
      "text/plain": [
       "| 46      | 24.98s       | 2.92599                |"
      ]
     },
     "metadata": {},
     "output_type": "display_data"
    },
    {
     "data": {
      "text/html": [
       "<pre>| 47      | 25.44s       | 2.92567                |</pre>"
      ],
      "text/plain": [
       "| 47      | 25.44s       | 2.92567                |"
      ]
     },
     "metadata": {},
     "output_type": "display_data"
    },
    {
     "data": {
      "text/html": [
       "<pre>| 48      | 25.92s       | 2.92537                |</pre>"
      ],
      "text/plain": [
       "| 48      | 25.92s       | 2.92537                |"
      ]
     },
     "metadata": {},
     "output_type": "display_data"
    },
    {
     "data": {
      "text/html": [
       "<pre>| 49      | 26.43s       | 2.92508                |</pre>"
      ],
      "text/plain": [
       "| 49      | 26.43s       | 2.92508                |"
      ]
     },
     "metadata": {},
     "output_type": "display_data"
    },
    {
     "data": {
      "text/html": [
       "<pre>| FINAL   | 26.43s       | 2.92508                |</pre>"
      ],
      "text/plain": [
       "| FINAL   | 26.43s       | 2.92508                |"
      ]
     },
     "metadata": {},
     "output_type": "display_data"
    },
    {
     "data": {
      "text/html": [
       "<pre>+---------+--------------+------------------------+</pre>"
      ],
      "text/plain": [
       "+---------+--------------+------------------------+"
      ]
     },
     "metadata": {},
     "output_type": "display_data"
    },
    {
     "data": {
      "text/html": [
       "<pre>Optimization Complete: Iteration limit reached.</pre>"
      ],
      "text/plain": [
       "Optimization Complete: Iteration limit reached."
      ]
     },
     "metadata": {},
     "output_type": "display_data"
    }
   ],
   "source": [
    "rating_recommender = graphlab.recommender.factorization_recommender.create(sf, user_id = 'user_id', item_id = 'joke_id', target = 'rating', solver = 'als', regularization=1e-14)\n"
   ]
  },
  {
   "cell_type": "markdown",
   "metadata": {},
   "source": [
    "### Let's do a little grid search for values of k upto n. This is for a (m x n) input matrix. ###"
   ]
  },
  {
   "cell_type": "code",
   "execution_count": 27,
   "metadata": {
    "collapsed": false
   },
   "outputs": [
    {
     "data": {
      "text/plain": [
       "(141,)"
      ]
     },
     "execution_count": 27,
     "metadata": {},
     "output_type": "execute_result"
    }
   ],
   "source": [
    "df_train['joke_id'].unique().shape"
   ]
  },
  {
   "cell_type": "code",
   "execution_count": 30,
   "metadata": {
    "collapsed": true
   },
   "outputs": [
    {
     "data": {
      "text/html": [
       "<pre>Recsys training: model = factorization_recommender</pre>"
      ],
      "text/plain": [
       "Recsys training: model = factorization_recommender"
      ]
     },
     "metadata": {},
     "output_type": "display_data"
    },
    {
     "data": {
      "text/html": [
       "<pre>Preparing data set.</pre>"
      ],
      "text/plain": [
       "Preparing data set."
      ]
     },
     "metadata": {},
     "output_type": "display_data"
    },
    {
     "data": {
      "text/html": [
       "<pre>    Data has 1096492 observations with 50690 users and 141 items.</pre>"
      ],
      "text/plain": [
       "    Data has 1096492 observations with 50690 users and 141 items."
      ]
     },
     "metadata": {},
     "output_type": "display_data"
    },
    {
     "data": {
      "text/html": [
       "<pre>    Data prepared in: 1.04675s</pre>"
      ],
      "text/plain": [
       "    Data prepared in: 1.04675s"
      ]
     },
     "metadata": {},
     "output_type": "display_data"
    },
    {
     "data": {
      "text/html": [
       "<pre>Training factorization_recommender for recommendations.</pre>"
      ],
      "text/plain": [
       "Training factorization_recommender for recommendations."
      ]
     },
     "metadata": {},
     "output_type": "display_data"
    },
    {
     "data": {
      "text/html": [
       "<pre>+------------------------------+--------------------------------------------------+----------+</pre>"
      ],
      "text/plain": [
       "+------------------------------+--------------------------------------------------+----------+"
      ]
     },
     "metadata": {},
     "output_type": "display_data"
    },
    {
     "data": {
      "text/html": [
       "<pre>| Parameter                    | Description                                      | Value    |</pre>"
      ],
      "text/plain": [
       "| Parameter                    | Description                                      | Value    |"
      ]
     },
     "metadata": {},
     "output_type": "display_data"
    },
    {
     "data": {
      "text/html": [
       "<pre>+------------------------------+--------------------------------------------------+----------+</pre>"
      ],
      "text/plain": [
       "+------------------------------+--------------------------------------------------+----------+"
      ]
     },
     "metadata": {},
     "output_type": "display_data"
    },
    {
     "data": {
      "text/html": [
       "<pre>| num_factors                  | Factor Dimension                                 | 1        |</pre>"
      ],
      "text/plain": [
       "| num_factors                  | Factor Dimension                                 | 1        |"
      ]
     },
     "metadata": {},
     "output_type": "display_data"
    },
    {
     "data": {
      "text/html": [
       "<pre>| regularization               | L2 Regularization on Factors                     | 1e-14    |</pre>"
      ],
      "text/plain": [
       "| regularization               | L2 Regularization on Factors                     | 1e-14    |"
      ]
     },
     "metadata": {},
     "output_type": "display_data"
    },
    {
     "data": {
      "text/html": [
       "<pre>| max_iterations               | Maximum Number of Iterations                     | 50       |</pre>"
      ],
      "text/plain": [
       "| max_iterations               | Maximum Number of Iterations                     | 50       |"
      ]
     },
     "metadata": {},
     "output_type": "display_data"
    },
    {
     "data": {
      "text/html": [
       "<pre>| solver                       | Solver used for training                         | als      |</pre>"
      ],
      "text/plain": [
       "| solver                       | Solver used for training                         | als      |"
      ]
     },
     "metadata": {},
     "output_type": "display_data"
    },
    {
     "data": {
      "text/html": [
       "<pre>+------------------------------+--------------------------------------------------+----------+</pre>"
      ],
      "text/plain": [
       "+------------------------------+--------------------------------------------------+----------+"
      ]
     },
     "metadata": {},
     "output_type": "display_data"
    },
    {
     "data": {
      "text/html": [
       "<pre>+---------+--------------+------------------------+</pre>"
      ],
      "text/plain": [
       "+---------+--------------+------------------------+"
      ]
     },
     "metadata": {},
     "output_type": "display_data"
    },
    {
     "data": {
      "text/html": [
       "<pre>| Iter.   | Elapsed time | RMSE                   |</pre>"
      ],
      "text/plain": [
       "| Iter.   | Elapsed time | RMSE                   |"
      ]
     },
     "metadata": {},
     "output_type": "display_data"
    },
    {
     "data": {
      "text/html": [
       "<pre>+---------+--------------+------------------------+</pre>"
      ],
      "text/plain": [
       "+---------+--------------+------------------------+"
      ]
     },
     "metadata": {},
     "output_type": "display_data"
    },
    {
     "data": {
      "text/html": [
       "<pre>| Initial | 103us        | NA                     |</pre>"
      ],
      "text/plain": [
       "| Initial | 103us        | NA                     |"
      ]
     },
     "metadata": {},
     "output_type": "display_data"
    },
    {
     "data": {
      "text/html": [
       "<pre>+---------+--------------+------------------------+</pre>"
      ],
      "text/plain": [
       "+---------+--------------+------------------------+"
      ]
     },
     "metadata": {},
     "output_type": "display_data"
    },
    {
     "data": {
      "text/html": [
       "<pre>| 0       | 326.535ms    | 5.0584                 |</pre>"
      ],
      "text/plain": [
       "| 0       | 326.535ms    | 5.0584                 |"
      ]
     },
     "metadata": {},
     "output_type": "display_data"
    },
    {
     "data": {
      "text/html": [
       "<pre>| 1       | 628.793ms    | 4.4626                 |</pre>"
      ],
      "text/plain": [
       "| 1       | 628.793ms    | 4.4626                 |"
      ]
     },
     "metadata": {},
     "output_type": "display_data"
    },
    {
     "data": {
      "text/html": [
       "<pre>| 2       | 928.288ms    | 4.31908                |</pre>"
      ],
      "text/plain": [
       "| 2       | 928.288ms    | 4.31908                |"
      ]
     },
     "metadata": {},
     "output_type": "display_data"
    },
    {
     "data": {
      "text/html": [
       "<pre>| 3       | 1.23s        | 4.28932                |</pre>"
      ],
      "text/plain": [
       "| 3       | 1.23s        | 4.28932                |"
      ]
     },
     "metadata": {},
     "output_type": "display_data"
    },
    {
     "data": {
      "text/html": [
       "<pre>| 4       | 1.54s        | 4.28543                |</pre>"
      ],
      "text/plain": [
       "| 4       | 1.54s        | 4.28543                |"
      ]
     },
     "metadata": {},
     "output_type": "display_data"
    },
    {
     "data": {
      "text/html": [
       "<pre>| 5       | 1.84s        | 4.28477                |</pre>"
      ],
      "text/plain": [
       "| 5       | 1.84s        | 4.28477                |"
      ]
     },
     "metadata": {},
     "output_type": "display_data"
    },
    {
     "data": {
      "text/html": [
       "<pre>| 6       | 2.13s        | 4.28474                |</pre>"
      ],
      "text/plain": [
       "| 6       | 2.13s        | 4.28474                |"
      ]
     },
     "metadata": {},
     "output_type": "display_data"
    },
    {
     "data": {
      "text/html": [
       "<pre>| 7       | 2.41s        | 4.28483                |</pre>"
      ],
      "text/plain": [
       "| 7       | 2.41s        | 4.28483                |"
      ]
     },
     "metadata": {},
     "output_type": "display_data"
    },
    {
     "data": {
      "text/html": [
       "<pre>| 8       | 2.70s        | 4.28491                |</pre>"
      ],
      "text/plain": [
       "| 8       | 2.70s        | 4.28491                |"
      ]
     },
     "metadata": {},
     "output_type": "display_data"
    },
    {
     "data": {
      "text/html": [
       "<pre>| 9       | 3.01s        | 4.28496                |</pre>"
      ],
      "text/plain": [
       "| 9       | 3.01s        | 4.28496                |"
      ]
     },
     "metadata": {},
     "output_type": "display_data"
    },
    {
     "data": {
      "text/html": [
       "<pre>| 10      | 3.31s        | 4.28499                |</pre>"
      ],
      "text/plain": [
       "| 10      | 3.31s        | 4.28499                |"
      ]
     },
     "metadata": {},
     "output_type": "display_data"
    },
    {
     "data": {
      "text/html": [
       "<pre>| 11      | 3.62s        | 4.285                  |</pre>"
      ],
      "text/plain": [
       "| 11      | 3.62s        | 4.285                  |"
      ]
     },
     "metadata": {},
     "output_type": "display_data"
    },
    {
     "data": {
      "text/html": [
       "<pre>| 12      | 3.91s        | 4.28499                |</pre>"
      ],
      "text/plain": [
       "| 12      | 3.91s        | 4.28499                |"
      ]
     },
     "metadata": {},
     "output_type": "display_data"
    },
    {
     "data": {
      "text/html": [
       "<pre>| 13      | 4.32s        | 4.28498                |</pre>"
      ],
      "text/plain": [
       "| 13      | 4.32s        | 4.28498                |"
      ]
     },
     "metadata": {},
     "output_type": "display_data"
    },
    {
     "data": {
      "text/html": [
       "<pre>| 14      | 4.61s        | 4.28497                |</pre>"
      ],
      "text/plain": [
       "| 14      | 4.61s        | 4.28497                |"
      ]
     },
     "metadata": {},
     "output_type": "display_data"
    },
    {
     "data": {
      "text/html": [
       "<pre>| 15      | 4.90s        | 4.28495                |</pre>"
      ],
      "text/plain": [
       "| 15      | 4.90s        | 4.28495                |"
      ]
     },
     "metadata": {},
     "output_type": "display_data"
    },
    {
     "data": {
      "text/html": [
       "<pre>| 16      | 5.19s        | 4.28493                |</pre>"
      ],
      "text/plain": [
       "| 16      | 5.19s        | 4.28493                |"
      ]
     },
     "metadata": {},
     "output_type": "display_data"
    },
    {
     "data": {
      "text/html": [
       "<pre>| 17      | 5.48s        | 4.28492                |</pre>"
      ],
      "text/plain": [
       "| 17      | 5.48s        | 4.28492                |"
      ]
     },
     "metadata": {},
     "output_type": "display_data"
    },
    {
     "data": {
      "text/html": [
       "<pre>| 18      | 5.77s        | 4.2849                 |</pre>"
      ],
      "text/plain": [
       "| 18      | 5.77s        | 4.2849                 |"
      ]
     },
     "metadata": {},
     "output_type": "display_data"
    },
    {
     "data": {
      "text/html": [
       "<pre>| 19      | 6.15s        | 4.28488                |</pre>"
      ],
      "text/plain": [
       "| 19      | 6.15s        | 4.28488                |"
      ]
     },
     "metadata": {},
     "output_type": "display_data"
    },
    {
     "data": {
      "text/html": [
       "<pre>| 20      | 6.46s        | 4.28486                |</pre>"
      ],
      "text/plain": [
       "| 20      | 6.46s        | 4.28486                |"
      ]
     },
     "metadata": {},
     "output_type": "display_data"
    },
    {
     "data": {
      "text/html": [
       "<pre>| 21      | 6.75s        | 4.28485                |</pre>"
      ],
      "text/plain": [
       "| 21      | 6.75s        | 4.28485                |"
      ]
     },
     "metadata": {},
     "output_type": "display_data"
    },
    {
     "data": {
      "text/html": [
       "<pre>| 22      | 7.05s        | 4.28483                |</pre>"
      ],
      "text/plain": [
       "| 22      | 7.05s        | 4.28483                |"
      ]
     },
     "metadata": {},
     "output_type": "display_data"
    },
    {
     "data": {
      "text/html": [
       "<pre>| 23      | 7.34s        | 4.28482                |</pre>"
      ],
      "text/plain": [
       "| 23      | 7.34s        | 4.28482                |"
      ]
     },
     "metadata": {},
     "output_type": "display_data"
    },
    {
     "data": {
      "text/html": [
       "<pre>| 24      | 7.63s        | 4.2848                 |</pre>"
      ],
      "text/plain": [
       "| 24      | 7.63s        | 4.2848                 |"
      ]
     },
     "metadata": {},
     "output_type": "display_data"
    },
    {
     "data": {
      "text/html": [
       "<pre>| 25      | 7.92s        | 4.28479                |</pre>"
      ],
      "text/plain": [
       "| 25      | 7.92s        | 4.28479                |"
      ]
     },
     "metadata": {},
     "output_type": "display_data"
    },
    {
     "data": {
      "text/html": [
       "<pre>| 26      | 8.21s        | 4.28478                |</pre>"
      ],
      "text/plain": [
       "| 26      | 8.21s        | 4.28478                |"
      ]
     },
     "metadata": {},
     "output_type": "display_data"
    },
    {
     "data": {
      "text/html": [
       "<pre>| 27      | 8.55s        | 4.28477                |</pre>"
      ],
      "text/plain": [
       "| 27      | 8.55s        | 4.28477                |"
      ]
     },
     "metadata": {},
     "output_type": "display_data"
    },
    {
     "data": {
      "text/html": [
       "<pre>| 28      | 8.89s        | 4.28475                |</pre>"
      ],
      "text/plain": [
       "| 28      | 8.89s        | 4.28475                |"
      ]
     },
     "metadata": {},
     "output_type": "display_data"
    },
    {
     "data": {
      "text/html": [
       "<pre>| 29      | 9.18s        | 4.28474                |</pre>"
      ],
      "text/plain": [
       "| 29      | 9.18s        | 4.28474                |"
      ]
     },
     "metadata": {},
     "output_type": "display_data"
    },
    {
     "data": {
      "text/html": [
       "<pre>| 30      | 9.50s        | 4.28473                |</pre>"
      ],
      "text/plain": [
       "| 30      | 9.50s        | 4.28473                |"
      ]
     },
     "metadata": {},
     "output_type": "display_data"
    },
    {
     "data": {
      "text/html": [
       "<pre>| 31      | 9.78s        | 4.28472                |</pre>"
      ],
      "text/plain": [
       "| 31      | 9.78s        | 4.28472                |"
      ]
     },
     "metadata": {},
     "output_type": "display_data"
    },
    {
     "data": {
      "text/html": [
       "<pre>| 32      | 10.07s       | 4.28471                |</pre>"
      ],
      "text/plain": [
       "| 32      | 10.07s       | 4.28471                |"
      ]
     },
     "metadata": {},
     "output_type": "display_data"
    },
    {
     "data": {
      "text/html": [
       "<pre>| 33      | 10.42s       | 4.2847                 |</pre>"
      ],
      "text/plain": [
       "| 33      | 10.42s       | 4.2847                 |"
      ]
     },
     "metadata": {},
     "output_type": "display_data"
    },
    {
     "data": {
      "text/html": [
       "<pre>| 34      | 10.71s       | 4.2847                 |</pre>"
      ],
      "text/plain": [
       "| 34      | 10.71s       | 4.2847                 |"
      ]
     },
     "metadata": {},
     "output_type": "display_data"
    },
    {
     "data": {
      "text/html": [
       "<pre>| 35      | 11.01s       | 4.28469                |</pre>"
      ],
      "text/plain": [
       "| 35      | 11.01s       | 4.28469                |"
      ]
     },
     "metadata": {},
     "output_type": "display_data"
    },
    {
     "data": {
      "text/html": [
       "<pre>| 36      | 11.45s       | 4.28468                |</pre>"
      ],
      "text/plain": [
       "| 36      | 11.45s       | 4.28468                |"
      ]
     },
     "metadata": {},
     "output_type": "display_data"
    },
    {
     "data": {
      "text/html": [
       "<pre>| 37      | 11.85s       | 4.28467                |</pre>"
      ],
      "text/plain": [
       "| 37      | 11.85s       | 4.28467                |"
      ]
     },
     "metadata": {},
     "output_type": "display_data"
    },
    {
     "data": {
      "text/html": [
       "<pre>| 38      | 12.15s       | 4.28467                |</pre>"
      ],
      "text/plain": [
       "| 38      | 12.15s       | 4.28467                |"
      ]
     },
     "metadata": {},
     "output_type": "display_data"
    },
    {
     "data": {
      "text/html": [
       "<pre>| 39      | 12.43s       | 4.28466                |</pre>"
      ],
      "text/plain": [
       "| 39      | 12.43s       | 4.28466                |"
      ]
     },
     "metadata": {},
     "output_type": "display_data"
    },
    {
     "data": {
      "text/html": [
       "<pre>| 40      | 12.72s       | 4.28465                |</pre>"
      ],
      "text/plain": [
       "| 40      | 12.72s       | 4.28465                |"
      ]
     },
     "metadata": {},
     "output_type": "display_data"
    },
    {
     "data": {
      "text/html": [
       "<pre>| 41      | 13.02s       | 4.28465                |</pre>"
      ],
      "text/plain": [
       "| 41      | 13.02s       | 4.28465                |"
      ]
     },
     "metadata": {},
     "output_type": "display_data"
    },
    {
     "data": {
      "text/html": [
       "<pre>| 42      | 13.33s       | 4.28464                |</pre>"
      ],
      "text/plain": [
       "| 42      | 13.33s       | 4.28464                |"
      ]
     },
     "metadata": {},
     "output_type": "display_data"
    },
    {
     "data": {
      "text/html": [
       "<pre>| 43      | 13.62s       | 4.28463                |</pre>"
      ],
      "text/plain": [
       "| 43      | 13.62s       | 4.28463                |"
      ]
     },
     "metadata": {},
     "output_type": "display_data"
    },
    {
     "data": {
      "text/html": [
       "<pre>| 44      | 13.91s       | 4.28463                |</pre>"
      ],
      "text/plain": [
       "| 44      | 13.91s       | 4.28463                |"
      ]
     },
     "metadata": {},
     "output_type": "display_data"
    },
    {
     "data": {
      "text/html": [
       "<pre>| 45      | 14.20s       | 4.28462                |</pre>"
      ],
      "text/plain": [
       "| 45      | 14.20s       | 4.28462                |"
      ]
     },
     "metadata": {},
     "output_type": "display_data"
    },
    {
     "data": {
      "text/html": [
       "<pre>| 46      | 14.53s       | 4.28462                |</pre>"
      ],
      "text/plain": [
       "| 46      | 14.53s       | 4.28462                |"
      ]
     },
     "metadata": {},
     "output_type": "display_data"
    },
    {
     "data": {
      "text/html": [
       "<pre>| 47      | 14.82s       | 4.28461                |</pre>"
      ],
      "text/plain": [
       "| 47      | 14.82s       | 4.28461                |"
      ]
     },
     "metadata": {},
     "output_type": "display_data"
    },
    {
     "data": {
      "text/html": [
       "<pre>| 48      | 15.11s       | 4.28461                |</pre>"
      ],
      "text/plain": [
       "| 48      | 15.11s       | 4.28461                |"
      ]
     },
     "metadata": {},
     "output_type": "display_data"
    },
    {
     "data": {
      "text/html": [
       "<pre>| 49      | 15.41s       | 4.2846                 |</pre>"
      ],
      "text/plain": [
       "| 49      | 15.41s       | 4.2846                 |"
      ]
     },
     "metadata": {},
     "output_type": "display_data"
    },
    {
     "data": {
      "text/html": [
       "<pre>| FINAL   | 15.41s       | 4.2846                 |</pre>"
      ],
      "text/plain": [
       "| FINAL   | 15.41s       | 4.2846                 |"
      ]
     },
     "metadata": {},
     "output_type": "display_data"
    },
    {
     "data": {
      "text/html": [
       "<pre>+---------+--------------+------------------------+</pre>"
      ],
      "text/plain": [
       "+---------+--------------+------------------------+"
      ]
     },
     "metadata": {},
     "output_type": "display_data"
    },
    {
     "data": {
      "text/html": [
       "<pre>Optimization Complete: Iteration limit reached.</pre>"
      ],
      "text/plain": [
       "Optimization Complete: Iteration limit reached."
      ]
     },
     "metadata": {},
     "output_type": "display_data"
    },
    {
     "data": {
      "text/html": [
       "<pre>Recsys training: model = factorization_recommender</pre>"
      ],
      "text/plain": [
       "Recsys training: model = factorization_recommender"
      ]
     },
     "metadata": {},
     "output_type": "display_data"
    },
    {
     "data": {
      "text/html": [
       "<pre>Preparing data set.</pre>"
      ],
      "text/plain": [
       "Preparing data set."
      ]
     },
     "metadata": {},
     "output_type": "display_data"
    },
    {
     "data": {
      "text/html": [
       "<pre>    Data has 1096492 observations with 50690 users and 141 items.</pre>"
      ],
      "text/plain": [
       "    Data has 1096492 observations with 50690 users and 141 items."
      ]
     },
     "metadata": {},
     "output_type": "display_data"
    },
    {
     "data": {
      "text/html": [
       "<pre>    Data prepared in: 1.08324s</pre>"
      ],
      "text/plain": [
       "    Data prepared in: 1.08324s"
      ]
     },
     "metadata": {},
     "output_type": "display_data"
    },
    {
     "data": {
      "text/html": [
       "<pre>Training factorization_recommender for recommendations.</pre>"
      ],
      "text/plain": [
       "Training factorization_recommender for recommendations."
      ]
     },
     "metadata": {},
     "output_type": "display_data"
    },
    {
     "data": {
      "text/html": [
       "<pre>+------------------------------+--------------------------------------------------+----------+</pre>"
      ],
      "text/plain": [
       "+------------------------------+--------------------------------------------------+----------+"
      ]
     },
     "metadata": {},
     "output_type": "display_data"
    },
    {
     "data": {
      "text/html": [
       "<pre>| Parameter                    | Description                                      | Value    |</pre>"
      ],
      "text/plain": [
       "| Parameter                    | Description                                      | Value    |"
      ]
     },
     "metadata": {},
     "output_type": "display_data"
    },
    {
     "data": {
      "text/html": [
       "<pre>+------------------------------+--------------------------------------------------+----------+</pre>"
      ],
      "text/plain": [
       "+------------------------------+--------------------------------------------------+----------+"
      ]
     },
     "metadata": {},
     "output_type": "display_data"
    },
    {
     "data": {
      "text/html": [
       "<pre>| num_factors                  | Factor Dimension                                 | 8        |</pre>"
      ],
      "text/plain": [
       "| num_factors                  | Factor Dimension                                 | 8        |"
      ]
     },
     "metadata": {},
     "output_type": "display_data"
    },
    {
     "data": {
      "text/html": [
       "<pre>| regularization               | L2 Regularization on Factors                     | 1e-14    |</pre>"
      ],
      "text/plain": [
       "| regularization               | L2 Regularization on Factors                     | 1e-14    |"
      ]
     },
     "metadata": {},
     "output_type": "display_data"
    },
    {
     "data": {
      "text/html": [
       "<pre>| max_iterations               | Maximum Number of Iterations                     | 50       |</pre>"
      ],
      "text/plain": [
       "| max_iterations               | Maximum Number of Iterations                     | 50       |"
      ]
     },
     "metadata": {},
     "output_type": "display_data"
    },
    {
     "data": {
      "text/html": [
       "<pre>| solver                       | Solver used for training                         | als      |</pre>"
      ],
      "text/plain": [
       "| solver                       | Solver used for training                         | als      |"
      ]
     },
     "metadata": {},
     "output_type": "display_data"
    },
    {
     "data": {
      "text/html": [
       "<pre>+------------------------------+--------------------------------------------------+----------+</pre>"
      ],
      "text/plain": [
       "+------------------------------+--------------------------------------------------+----------+"
      ]
     },
     "metadata": {},
     "output_type": "display_data"
    },
    {
     "data": {
      "text/html": [
       "<pre>+---------+--------------+------------------------+</pre>"
      ],
      "text/plain": [
       "+---------+--------------+------------------------+"
      ]
     },
     "metadata": {},
     "output_type": "display_data"
    },
    {
     "data": {
      "text/html": [
       "<pre>| Iter.   | Elapsed time | RMSE                   |</pre>"
      ],
      "text/plain": [
       "| Iter.   | Elapsed time | RMSE                   |"
      ]
     },
     "metadata": {},
     "output_type": "display_data"
    },
    {
     "data": {
      "text/html": [
       "<pre>+---------+--------------+------------------------+</pre>"
      ],
      "text/plain": [
       "+---------+--------------+------------------------+"
      ]
     },
     "metadata": {},
     "output_type": "display_data"
    },
    {
     "data": {
      "text/html": [
       "<pre>| Initial | 81us         | NA                     |</pre>"
      ],
      "text/plain": [
       "| Initial | 81us         | NA                     |"
      ]
     },
     "metadata": {},
     "output_type": "display_data"
    },
    {
     "data": {
      "text/html": [
       "<pre>+---------+--------------+------------------------+</pre>"
      ],
      "text/plain": [
       "+---------+--------------+------------------------+"
      ]
     },
     "metadata": {},
     "output_type": "display_data"
    },
    {
     "data": {
      "text/html": [
       "<pre>| 0       | 477.815ms    | 3.86516                |</pre>"
      ],
      "text/plain": [
       "| 0       | 477.815ms    | 3.86516                |"
      ]
     },
     "metadata": {},
     "output_type": "display_data"
    },
    {
     "data": {
      "text/html": [
       "<pre>| 1       | 940.89ms     | 3.27442                |</pre>"
      ],
      "text/plain": [
       "| 1       | 940.89ms     | 3.27442                |"
      ]
     },
     "metadata": {},
     "output_type": "display_data"
    },
    {
     "data": {
      "text/html": [
       "<pre>| 2       | 1.41s        | 3.14933                |</pre>"
      ],
      "text/plain": [
       "| 2       | 1.41s        | 3.14933                |"
      ]
     },
     "metadata": {},
     "output_type": "display_data"
    },
    {
     "data": {
      "text/html": [
       "<pre>| 3       | 1.97s        | 3.10016                |</pre>"
      ],
      "text/plain": [
       "| 3       | 1.97s        | 3.10016                |"
      ]
     },
     "metadata": {},
     "output_type": "display_data"
    },
    {
     "data": {
      "text/html": [
       "<pre>| 4       | 2.42s        | 3.06977                |</pre>"
      ],
      "text/plain": [
       "| 4       | 2.42s        | 3.06977                |"
      ]
     },
     "metadata": {},
     "output_type": "display_data"
    },
    {
     "data": {
      "text/html": [
       "<pre>| 5       | 2.87s        | 3.04641                |</pre>"
      ],
      "text/plain": [
       "| 5       | 2.87s        | 3.04641                |"
      ]
     },
     "metadata": {},
     "output_type": "display_data"
    },
    {
     "data": {
      "text/html": [
       "<pre>| 6       | 3.33s        | 3.02637                |</pre>"
      ],
      "text/plain": [
       "| 6       | 3.33s        | 3.02637                |"
      ]
     },
     "metadata": {},
     "output_type": "display_data"
    },
    {
     "data": {
      "text/html": [
       "<pre>| 7       | 3.78s        | 3.00899                |</pre>"
      ],
      "text/plain": [
       "| 7       | 3.78s        | 3.00899                |"
      ]
     },
     "metadata": {},
     "output_type": "display_data"
    },
    {
     "data": {
      "text/html": [
       "<pre>| 8       | 4.23s        | 2.99476                |</pre>"
      ],
      "text/plain": [
       "| 8       | 4.23s        | 2.99476                |"
      ]
     },
     "metadata": {},
     "output_type": "display_data"
    },
    {
     "data": {
      "text/html": [
       "<pre>| 9       | 4.67s        | 2.98366                |</pre>"
      ],
      "text/plain": [
       "| 9       | 4.67s        | 2.98366                |"
      ]
     },
     "metadata": {},
     "output_type": "display_data"
    },
    {
     "data": {
      "text/html": [
       "<pre>| 10      | 5.12s        | 2.97509                |</pre>"
      ],
      "text/plain": [
       "| 10      | 5.12s        | 2.97509                |"
      ]
     },
     "metadata": {},
     "output_type": "display_data"
    },
    {
     "data": {
      "text/html": [
       "<pre>| 11      | 5.56s        | 2.96843                |</pre>"
      ],
      "text/plain": [
       "| 11      | 5.56s        | 2.96843                |"
      ]
     },
     "metadata": {},
     "output_type": "display_data"
    },
    {
     "data": {
      "text/html": [
       "<pre>| 12      | 6.00s        | 2.96317                |</pre>"
      ],
      "text/plain": [
       "| 12      | 6.00s        | 2.96317                |"
      ]
     },
     "metadata": {},
     "output_type": "display_data"
    },
    {
     "data": {
      "text/html": [
       "<pre>| 13      | 6.45s        | 2.95894                |</pre>"
      ],
      "text/plain": [
       "| 13      | 6.45s        | 2.95894                |"
      ]
     },
     "metadata": {},
     "output_type": "display_data"
    },
    {
     "data": {
      "text/html": [
       "<pre>| 14      | 6.89s        | 2.95547                |</pre>"
      ],
      "text/plain": [
       "| 14      | 6.89s        | 2.95547                |"
      ]
     },
     "metadata": {},
     "output_type": "display_data"
    },
    {
     "data": {
      "text/html": [
       "<pre>| 15      | 7.32s        | 2.95255                |</pre>"
      ],
      "text/plain": [
       "| 15      | 7.32s        | 2.95255                |"
      ]
     },
     "metadata": {},
     "output_type": "display_data"
    },
    {
     "data": {
      "text/html": [
       "<pre>| 16      | 7.75s        | 2.95006                |</pre>"
      ],
      "text/plain": [
       "| 16      | 7.75s        | 2.95006                |"
      ]
     },
     "metadata": {},
     "output_type": "display_data"
    },
    {
     "data": {
      "text/html": [
       "<pre>| 17      | 8.20s        | 2.94789                |</pre>"
      ],
      "text/plain": [
       "| 17      | 8.20s        | 2.94789                |"
      ]
     },
     "metadata": {},
     "output_type": "display_data"
    },
    {
     "data": {
      "text/html": [
       "<pre>| 18      | 8.64s        | 2.94597                |</pre>"
      ],
      "text/plain": [
       "| 18      | 8.64s        | 2.94597                |"
      ]
     },
     "metadata": {},
     "output_type": "display_data"
    },
    {
     "data": {
      "text/html": [
       "<pre>| 19      | 9.08s        | 2.94427                |</pre>"
      ],
      "text/plain": [
       "| 19      | 9.08s        | 2.94427                |"
      ]
     },
     "metadata": {},
     "output_type": "display_data"
    },
    {
     "data": {
      "text/html": [
       "<pre>| 20      | 9.51s        | 2.94274                |</pre>"
      ],
      "text/plain": [
       "| 20      | 9.51s        | 2.94274                |"
      ]
     },
     "metadata": {},
     "output_type": "display_data"
    },
    {
     "data": {
      "text/html": [
       "<pre>| 21      | 9.95s        | 2.94137                |</pre>"
      ],
      "text/plain": [
       "| 21      | 9.95s        | 2.94137                |"
      ]
     },
     "metadata": {},
     "output_type": "display_data"
    },
    {
     "data": {
      "text/html": [
       "<pre>| 22      | 10.38s       | 2.94013                |</pre>"
      ],
      "text/plain": [
       "| 22      | 10.38s       | 2.94013                |"
      ]
     },
     "metadata": {},
     "output_type": "display_data"
    },
    {
     "data": {
      "text/html": [
       "<pre>| 23      | 10.82s       | 2.939                  |</pre>"
      ],
      "text/plain": [
       "| 23      | 10.82s       | 2.939                  |"
      ]
     },
     "metadata": {},
     "output_type": "display_data"
    },
    {
     "data": {
      "text/html": [
       "<pre>| 24      | 11.27s       | 2.93796                |</pre>"
      ],
      "text/plain": [
       "| 24      | 11.27s       | 2.93796                |"
      ]
     },
     "metadata": {},
     "output_type": "display_data"
    },
    {
     "data": {
      "text/html": [
       "<pre>| 25      | 11.71s       | 2.937                  |</pre>"
      ],
      "text/plain": [
       "| 25      | 11.71s       | 2.937                  |"
      ]
     },
     "metadata": {},
     "output_type": "display_data"
    },
    {
     "data": {
      "text/html": [
       "<pre>| 26      | 12.15s       | 2.93612                |</pre>"
      ],
      "text/plain": [
       "| 26      | 12.15s       | 2.93612                |"
      ]
     },
     "metadata": {},
     "output_type": "display_data"
    },
    {
     "data": {
      "text/html": [
       "<pre>| 27      | 12.60s       | 2.93529                |</pre>"
      ],
      "text/plain": [
       "| 27      | 12.60s       | 2.93529                |"
      ]
     },
     "metadata": {},
     "output_type": "display_data"
    },
    {
     "data": {
      "text/html": [
       "<pre>| 28      | 13.03s       | 2.93452                |</pre>"
      ],
      "text/plain": [
       "| 28      | 13.03s       | 2.93452                |"
      ]
     },
     "metadata": {},
     "output_type": "display_data"
    },
    {
     "data": {
      "text/html": [
       "<pre>| 29      | 13.47s       | 2.9338                 |</pre>"
      ],
      "text/plain": [
       "| 29      | 13.47s       | 2.9338                 |"
      ]
     },
     "metadata": {},
     "output_type": "display_data"
    },
    {
     "data": {
      "text/html": [
       "<pre>| 30      | 13.92s       | 2.93313                |</pre>"
      ],
      "text/plain": [
       "| 30      | 13.92s       | 2.93313                |"
      ]
     },
     "metadata": {},
     "output_type": "display_data"
    },
    {
     "data": {
      "text/html": [
       "<pre>| 31      | 14.36s       | 2.9325                 |</pre>"
      ],
      "text/plain": [
       "| 31      | 14.36s       | 2.9325                 |"
      ]
     },
     "metadata": {},
     "output_type": "display_data"
    },
    {
     "data": {
      "text/html": [
       "<pre>| 32      | 14.79s       | 2.9319                 |</pre>"
      ],
      "text/plain": [
       "| 32      | 14.79s       | 2.9319                 |"
      ]
     },
     "metadata": {},
     "output_type": "display_data"
    },
    {
     "data": {
      "text/html": [
       "<pre>| 33      | 15.28s       | 2.93133                |</pre>"
      ],
      "text/plain": [
       "| 33      | 15.28s       | 2.93133                |"
      ]
     },
     "metadata": {},
     "output_type": "display_data"
    },
    {
     "data": {
      "text/html": [
       "<pre>| 34      | 15.72s       | 2.9308                 |</pre>"
      ],
      "text/plain": [
       "| 34      | 15.72s       | 2.9308                 |"
      ]
     },
     "metadata": {},
     "output_type": "display_data"
    },
    {
     "data": {
      "text/html": [
       "<pre>| 35      | 16.15s       | 2.93029                |</pre>"
      ],
      "text/plain": [
       "| 35      | 16.15s       | 2.93029                |"
      ]
     },
     "metadata": {},
     "output_type": "display_data"
    },
    {
     "data": {
      "text/html": [
       "<pre>| 36      | 16.60s       | 2.92981                |</pre>"
      ],
      "text/plain": [
       "| 36      | 16.60s       | 2.92981                |"
      ]
     },
     "metadata": {},
     "output_type": "display_data"
    },
    {
     "data": {
      "text/html": [
       "<pre>| 37      | 17.04s       | 2.92935                |</pre>"
      ],
      "text/plain": [
       "| 37      | 17.04s       | 2.92935                |"
      ]
     },
     "metadata": {},
     "output_type": "display_data"
    },
    {
     "data": {
      "text/html": [
       "<pre>| 38      | 17.49s       | 2.92891                |</pre>"
      ],
      "text/plain": [
       "| 38      | 17.49s       | 2.92891                |"
      ]
     },
     "metadata": {},
     "output_type": "display_data"
    },
    {
     "data": {
      "text/html": [
       "<pre>| 39      | 17.93s       | 2.9285                 |</pre>"
      ],
      "text/plain": [
       "| 39      | 17.93s       | 2.9285                 |"
      ]
     },
     "metadata": {},
     "output_type": "display_data"
    },
    {
     "data": {
      "text/html": [
       "<pre>| 40      | 18.36s       | 2.92809                |</pre>"
      ],
      "text/plain": [
       "| 40      | 18.36s       | 2.92809                |"
      ]
     },
     "metadata": {},
     "output_type": "display_data"
    },
    {
     "data": {
      "text/html": [
       "<pre>| 41      | 18.81s       | 2.92771                |</pre>"
      ],
      "text/plain": [
       "| 41      | 18.81s       | 2.92771                |"
      ]
     },
     "metadata": {},
     "output_type": "display_data"
    },
    {
     "data": {
      "text/html": [
       "<pre>| 42      | 19.26s       | 2.92734                |</pre>"
      ],
      "text/plain": [
       "| 42      | 19.26s       | 2.92734                |"
      ]
     },
     "metadata": {},
     "output_type": "display_data"
    },
    {
     "data": {
      "text/html": [
       "<pre>| 43      | 19.70s       | 2.92698                |</pre>"
      ],
      "text/plain": [
       "| 43      | 19.70s       | 2.92698                |"
      ]
     },
     "metadata": {},
     "output_type": "display_data"
    },
    {
     "data": {
      "text/html": [
       "<pre>| 44      | 20.16s       | 2.92664                |</pre>"
      ],
      "text/plain": [
       "| 44      | 20.16s       | 2.92664                |"
      ]
     },
     "metadata": {},
     "output_type": "display_data"
    },
    {
     "data": {
      "text/html": [
       "<pre>| 45      | 20.65s       | 2.92631                |</pre>"
      ],
      "text/plain": [
       "| 45      | 20.65s       | 2.92631                |"
      ]
     },
     "metadata": {},
     "output_type": "display_data"
    },
    {
     "data": {
      "text/html": [
       "<pre>| 46      | 21.13s       | 2.92599                |</pre>"
      ],
      "text/plain": [
       "| 46      | 21.13s       | 2.92599                |"
      ]
     },
     "metadata": {},
     "output_type": "display_data"
    },
    {
     "data": {
      "text/html": [
       "<pre>| 47      | 21.60s       | 2.92567                |</pre>"
      ],
      "text/plain": [
       "| 47      | 21.60s       | 2.92567                |"
      ]
     },
     "metadata": {},
     "output_type": "display_data"
    },
    {
     "data": {
      "text/html": [
       "<pre>| 48      | 22.09s       | 2.92537                |</pre>"
      ],
      "text/plain": [
       "| 48      | 22.09s       | 2.92537                |"
      ]
     },
     "metadata": {},
     "output_type": "display_data"
    },
    {
     "data": {
      "text/html": [
       "<pre>| 49      | 22.58s       | 2.92508                |</pre>"
      ],
      "text/plain": [
       "| 49      | 22.58s       | 2.92508                |"
      ]
     },
     "metadata": {},
     "output_type": "display_data"
    },
    {
     "data": {
      "text/html": [
       "<pre>| FINAL   | 22.58s       | 2.92508                |</pre>"
      ],
      "text/plain": [
       "| FINAL   | 22.58s       | 2.92508                |"
      ]
     },
     "metadata": {},
     "output_type": "display_data"
    },
    {
     "data": {
      "text/html": [
       "<pre>+---------+--------------+------------------------+</pre>"
      ],
      "text/plain": [
       "+---------+--------------+------------------------+"
      ]
     },
     "metadata": {},
     "output_type": "display_data"
    },
    {
     "data": {
      "text/html": [
       "<pre>Optimization Complete: Iteration limit reached.</pre>"
      ],
      "text/plain": [
       "Optimization Complete: Iteration limit reached."
      ]
     },
     "metadata": {},
     "output_type": "display_data"
    },
    {
     "data": {
      "text/html": [
       "<pre>Recsys training: model = factorization_recommender</pre>"
      ],
      "text/plain": [
       "Recsys training: model = factorization_recommender"
      ]
     },
     "metadata": {},
     "output_type": "display_data"
    },
    {
     "data": {
      "text/html": [
       "<pre>Preparing data set.</pre>"
      ],
      "text/plain": [
       "Preparing data set."
      ]
     },
     "metadata": {},
     "output_type": "display_data"
    },
    {
     "data": {
      "text/html": [
       "<pre>    Data has 1096492 observations with 50690 users and 141 items.</pre>"
      ],
      "text/plain": [
       "    Data has 1096492 observations with 50690 users and 141 items."
      ]
     },
     "metadata": {},
     "output_type": "display_data"
    },
    {
     "data": {
      "text/html": [
       "<pre>    Data prepared in: 1.01162s</pre>"
      ],
      "text/plain": [
       "    Data prepared in: 1.01162s"
      ]
     },
     "metadata": {},
     "output_type": "display_data"
    },
    {
     "data": {
      "text/html": [
       "<pre>Training factorization_recommender for recommendations.</pre>"
      ],
      "text/plain": [
       "Training factorization_recommender for recommendations."
      ]
     },
     "metadata": {},
     "output_type": "display_data"
    },
    {
     "data": {
      "text/html": [
       "<pre>+------------------------------+--------------------------------------------------+----------+</pre>"
      ],
      "text/plain": [
       "+------------------------------+--------------------------------------------------+----------+"
      ]
     },
     "metadata": {},
     "output_type": "display_data"
    },
    {
     "data": {
      "text/html": [
       "<pre>| Parameter                    | Description                                      | Value    |</pre>"
      ],
      "text/plain": [
       "| Parameter                    | Description                                      | Value    |"
      ]
     },
     "metadata": {},
     "output_type": "display_data"
    },
    {
     "data": {
      "text/html": [
       "<pre>+------------------------------+--------------------------------------------------+----------+</pre>"
      ],
      "text/plain": [
       "+------------------------------+--------------------------------------------------+----------+"
      ]
     },
     "metadata": {},
     "output_type": "display_data"
    },
    {
     "data": {
      "text/html": [
       "<pre>| num_factors                  | Factor Dimension                                 | 15       |</pre>"
      ],
      "text/plain": [
       "| num_factors                  | Factor Dimension                                 | 15       |"
      ]
     },
     "metadata": {},
     "output_type": "display_data"
    },
    {
     "data": {
      "text/html": [
       "<pre>| regularization               | L2 Regularization on Factors                     | 1e-14    |</pre>"
      ],
      "text/plain": [
       "| regularization               | L2 Regularization on Factors                     | 1e-14    |"
      ]
     },
     "metadata": {},
     "output_type": "display_data"
    },
    {
     "data": {
      "text/html": [
       "<pre>| max_iterations               | Maximum Number of Iterations                     | 50       |</pre>"
      ],
      "text/plain": [
       "| max_iterations               | Maximum Number of Iterations                     | 50       |"
      ]
     },
     "metadata": {},
     "output_type": "display_data"
    },
    {
     "data": {
      "text/html": [
       "<pre>| solver                       | Solver used for training                         | als      |</pre>"
      ],
      "text/plain": [
       "| solver                       | Solver used for training                         | als      |"
      ]
     },
     "metadata": {},
     "output_type": "display_data"
    },
    {
     "data": {
      "text/html": [
       "<pre>+------------------------------+--------------------------------------------------+----------+</pre>"
      ],
      "text/plain": [
       "+------------------------------+--------------------------------------------------+----------+"
      ]
     },
     "metadata": {},
     "output_type": "display_data"
    },
    {
     "data": {
      "text/html": [
       "<pre>+---------+--------------+------------------------+</pre>"
      ],
      "text/plain": [
       "+---------+--------------+------------------------+"
      ]
     },
     "metadata": {},
     "output_type": "display_data"
    },
    {
     "data": {
      "text/html": [
       "<pre>| Iter.   | Elapsed time | RMSE                   |</pre>"
      ],
      "text/plain": [
       "| Iter.   | Elapsed time | RMSE                   |"
      ]
     },
     "metadata": {},
     "output_type": "display_data"
    },
    {
     "data": {
      "text/html": [
       "<pre>+---------+--------------+------------------------+</pre>"
      ],
      "text/plain": [
       "+---------+--------------+------------------------+"
      ]
     },
     "metadata": {},
     "output_type": "display_data"
    },
    {
     "data": {
      "text/html": [
       "<pre>| Initial | 90us         | NA                     |</pre>"
      ],
      "text/plain": [
       "| Initial | 90us         | NA                     |"
      ]
     },
     "metadata": {},
     "output_type": "display_data"
    },
    {
     "data": {
      "text/html": [
       "<pre>+---------+--------------+------------------------+</pre>"
      ],
      "text/plain": [
       "+---------+--------------+------------------------+"
      ]
     },
     "metadata": {},
     "output_type": "display_data"
    },
    {
     "data": {
      "text/html": [
       "<pre>| 0       | 856.608ms    | 3.46722                |</pre>"
      ],
      "text/plain": [
       "| 0       | 856.608ms    | 3.46722                |"
      ]
     },
     "metadata": {},
     "output_type": "display_data"
    },
    {
     "data": {
      "text/html": [
       "<pre>| 1       | 1.69s        | 2.78148                |</pre>"
      ],
      "text/plain": [
       "| 1       | 1.69s        | 2.78148                |"
      ]
     },
     "metadata": {},
     "output_type": "display_data"
    },
    {
     "data": {
      "text/html": [
       "<pre>| 2       | 2.53s        | 2.66008                |</pre>"
      ],
      "text/plain": [
       "| 2       | 2.53s        | 2.66008                |"
      ]
     },
     "metadata": {},
     "output_type": "display_data"
    },
    {
     "data": {
      "text/html": [
       "<pre>| 3       | 3.36s        | 2.59907                |</pre>"
      ],
      "text/plain": [
       "| 3       | 3.36s        | 2.59907                |"
      ]
     },
     "metadata": {},
     "output_type": "display_data"
    },
    {
     "data": {
      "text/html": [
       "<pre>| 4       | 4.22s        | 2.5601                 |</pre>"
      ],
      "text/plain": [
       "| 4       | 4.22s        | 2.5601                 |"
      ]
     },
     "metadata": {},
     "output_type": "display_data"
    },
    {
     "data": {
      "text/html": [
       "<pre>| 5       | 5.12s        | 2.53308                |</pre>"
      ],
      "text/plain": [
       "| 5       | 5.12s        | 2.53308                |"
      ]
     },
     "metadata": {},
     "output_type": "display_data"
    },
    {
     "data": {
      "text/html": [
       "<pre>| 6       | 5.95s        | 2.51326                |</pre>"
      ],
      "text/plain": [
       "| 6       | 5.95s        | 2.51326                |"
      ]
     },
     "metadata": {},
     "output_type": "display_data"
    },
    {
     "data": {
      "text/html": [
       "<pre>| 7       | 6.79s        | 2.49808                |</pre>"
      ],
      "text/plain": [
       "| 7       | 6.79s        | 2.49808                |"
      ]
     },
     "metadata": {},
     "output_type": "display_data"
    },
    {
     "data": {
      "text/html": [
       "<pre>| 8       | 7.62s        | 2.486                  |</pre>"
      ],
      "text/plain": [
       "| 8       | 7.62s        | 2.486                  |"
      ]
     },
     "metadata": {},
     "output_type": "display_data"
    },
    {
     "data": {
      "text/html": [
       "<pre>| 9       | 8.45s        | 2.47606                |</pre>"
      ],
      "text/plain": [
       "| 9       | 8.45s        | 2.47606                |"
      ]
     },
     "metadata": {},
     "output_type": "display_data"
    },
    {
     "data": {
      "text/html": [
       "<pre>| 10      | 9.28s        | 2.4677                 |</pre>"
      ],
      "text/plain": [
       "| 10      | 9.28s        | 2.4677                 |"
      ]
     },
     "metadata": {},
     "output_type": "display_data"
    },
    {
     "data": {
      "text/html": [
       "<pre>| 11      | 10.13s       | 2.46052                |</pre>"
      ],
      "text/plain": [
       "| 11      | 10.13s       | 2.46052                |"
      ]
     },
     "metadata": {},
     "output_type": "display_data"
    },
    {
     "data": {
      "text/html": [
       "<pre>| 12      | 10.96s       | 2.45429                |</pre>"
      ],
      "text/plain": [
       "| 12      | 10.96s       | 2.45429                |"
      ]
     },
     "metadata": {},
     "output_type": "display_data"
    },
    {
     "data": {
      "text/html": [
       "<pre>| 13      | 11.79s       | 2.44882                |</pre>"
      ],
      "text/plain": [
       "| 13      | 11.79s       | 2.44882                |"
      ]
     },
     "metadata": {},
     "output_type": "display_data"
    },
    {
     "data": {
      "text/html": [
       "<pre>| 14      | 12.65s       | 2.444                  |</pre>"
      ],
      "text/plain": [
       "| 14      | 12.65s       | 2.444                  |"
      ]
     },
     "metadata": {},
     "output_type": "display_data"
    },
    {
     "data": {
      "text/html": [
       "<pre>| 15      | 13.49s       | 2.43972                |</pre>"
      ],
      "text/plain": [
       "| 15      | 13.49s       | 2.43972                |"
      ]
     },
     "metadata": {},
     "output_type": "display_data"
    },
    {
     "data": {
      "text/html": [
       "<pre>| 16      | 14.33s       | 2.4359                 |</pre>"
      ],
      "text/plain": [
       "| 16      | 14.33s       | 2.4359                 |"
      ]
     },
     "metadata": {},
     "output_type": "display_data"
    },
    {
     "data": {
      "text/html": [
       "<pre>| 17      | 15.16s       | 2.43247                |</pre>"
      ],
      "text/plain": [
       "| 17      | 15.16s       | 2.43247                |"
      ]
     },
     "metadata": {},
     "output_type": "display_data"
    },
    {
     "data": {
      "text/html": [
       "<pre>| 18      | 16.00s       | 2.42937                |</pre>"
      ],
      "text/plain": [
       "| 18      | 16.00s       | 2.42937                |"
      ]
     },
     "metadata": {},
     "output_type": "display_data"
    },
    {
     "data": {
      "text/html": [
       "<pre>| 19      | 16.84s       | 2.42655                |</pre>"
      ],
      "text/plain": [
       "| 19      | 16.84s       | 2.42655                |"
      ]
     },
     "metadata": {},
     "output_type": "display_data"
    },
    {
     "data": {
      "text/html": [
       "<pre>| 20      | 17.68s       | 2.42396                |</pre>"
      ],
      "text/plain": [
       "| 20      | 17.68s       | 2.42396                |"
      ]
     },
     "metadata": {},
     "output_type": "display_data"
    },
    {
     "data": {
      "text/html": [
       "<pre>| 21      | 18.51s       | 2.42158                |</pre>"
      ],
      "text/plain": [
       "| 21      | 18.51s       | 2.42158                |"
      ]
     },
     "metadata": {},
     "output_type": "display_data"
    },
    {
     "data": {
      "text/html": [
       "<pre>| 22      | 19.37s       | 2.41938                |</pre>"
      ],
      "text/plain": [
       "| 22      | 19.37s       | 2.41938                |"
      ]
     },
     "metadata": {},
     "output_type": "display_data"
    },
    {
     "data": {
      "text/html": [
       "<pre>| 23      | 20.20s       | 2.41734                |</pre>"
      ],
      "text/plain": [
       "| 23      | 20.20s       | 2.41734                |"
      ]
     },
     "metadata": {},
     "output_type": "display_data"
    },
    {
     "data": {
      "text/html": [
       "<pre>| 24      | 21.05s       | 2.41544                |</pre>"
      ],
      "text/plain": [
       "| 24      | 21.05s       | 2.41544                |"
      ]
     },
     "metadata": {},
     "output_type": "display_data"
    },
    {
     "data": {
      "text/html": [
       "<pre>| 25      | 21.87s       | 2.41366                |</pre>"
      ],
      "text/plain": [
       "| 25      | 21.87s       | 2.41366                |"
      ]
     },
     "metadata": {},
     "output_type": "display_data"
    },
    {
     "data": {
      "text/html": [
       "<pre>| 26      | 22.71s       | 2.412                  |</pre>"
      ],
      "text/plain": [
       "| 26      | 22.71s       | 2.412                  |"
      ]
     },
     "metadata": {},
     "output_type": "display_data"
    },
    {
     "data": {
      "text/html": [
       "<pre>| 27      | 23.54s       | 2.41044                |</pre>"
      ],
      "text/plain": [
       "| 27      | 23.54s       | 2.41044                |"
      ]
     },
     "metadata": {},
     "output_type": "display_data"
    },
    {
     "data": {
      "text/html": [
       "<pre>| 28      | 24.38s       | 2.40898                |</pre>"
      ],
      "text/plain": [
       "| 28      | 24.38s       | 2.40898                |"
      ]
     },
     "metadata": {},
     "output_type": "display_data"
    },
    {
     "data": {
      "text/html": [
       "<pre>| 29      | 25.22s       | 2.40761                |</pre>"
      ],
      "text/plain": [
       "| 29      | 25.22s       | 2.40761                |"
      ]
     },
     "metadata": {},
     "output_type": "display_data"
    },
    {
     "data": {
      "text/html": [
       "<pre>| 30      | 26.26s       | 2.40631                |</pre>"
      ],
      "text/plain": [
       "| 30      | 26.26s       | 2.40631                |"
      ]
     },
     "metadata": {},
     "output_type": "display_data"
    },
    {
     "data": {
      "text/html": [
       "<pre>| 31      | 27.20s       | 2.40509                |</pre>"
      ],
      "text/plain": [
       "| 31      | 27.20s       | 2.40509                |"
      ]
     },
     "metadata": {},
     "output_type": "display_data"
    },
    {
     "data": {
      "text/html": [
       "<pre>| 32      | 28.48s       | 2.40394                |</pre>"
      ],
      "text/plain": [
       "| 32      | 28.48s       | 2.40394                |"
      ]
     },
     "metadata": {},
     "output_type": "display_data"
    },
    {
     "data": {
      "text/html": [
       "<pre>| 33      | 29.41s       | 2.40285                |</pre>"
      ],
      "text/plain": [
       "| 33      | 29.41s       | 2.40285                |"
      ]
     },
     "metadata": {},
     "output_type": "display_data"
    },
    {
     "data": {
      "text/html": [
       "<pre>| 34      | 30.28s       | 2.40181                |</pre>"
      ],
      "text/plain": [
       "| 34      | 30.28s       | 2.40181                |"
      ]
     },
     "metadata": {},
     "output_type": "display_data"
    },
    {
     "data": {
      "text/html": [
       "<pre>| 35      | 31.12s       | 2.40083                |</pre>"
      ],
      "text/plain": [
       "| 35      | 31.12s       | 2.40083                |"
      ]
     },
     "metadata": {},
     "output_type": "display_data"
    },
    {
     "data": {
      "text/html": [
       "<pre>| 36      | 32.12s       | 2.3999                 |</pre>"
      ],
      "text/plain": [
       "| 36      | 32.12s       | 2.3999                 |"
      ]
     },
     "metadata": {},
     "output_type": "display_data"
    },
    {
     "data": {
      "text/html": [
       "<pre>| 37      | 33.10s       | 2.39901                |</pre>"
      ],
      "text/plain": [
       "| 37      | 33.10s       | 2.39901                |"
      ]
     },
     "metadata": {},
     "output_type": "display_data"
    },
    {
     "data": {
      "text/html": [
       "<pre>| 38      | 34.18s       | 2.39817                |</pre>"
      ],
      "text/plain": [
       "| 38      | 34.18s       | 2.39817                |"
      ]
     },
     "metadata": {},
     "output_type": "display_data"
    },
    {
     "data": {
      "text/html": [
       "<pre>| 39      | 35.59s       | 2.39736                |</pre>"
      ],
      "text/plain": [
       "| 39      | 35.59s       | 2.39736                |"
      ]
     },
     "metadata": {},
     "output_type": "display_data"
    },
    {
     "data": {
      "text/html": [
       "<pre>| 40      | 36.83s       | 2.39658                |</pre>"
      ],
      "text/plain": [
       "| 40      | 36.83s       | 2.39658                |"
      ]
     },
     "metadata": {},
     "output_type": "display_data"
    },
    {
     "data": {
      "text/html": [
       "<pre>| 41      | 37.65s       | 2.39584                |</pre>"
      ],
      "text/plain": [
       "| 41      | 37.65s       | 2.39584                |"
      ]
     },
     "metadata": {},
     "output_type": "display_data"
    },
    {
     "data": {
      "text/html": [
       "<pre>| 42      | 38.49s       | 2.39512                |</pre>"
      ],
      "text/plain": [
       "| 42      | 38.49s       | 2.39512                |"
      ]
     },
     "metadata": {},
     "output_type": "display_data"
    },
    {
     "data": {
      "text/html": [
       "<pre>| 43      | 39.66s       | 2.39443                |</pre>"
      ],
      "text/plain": [
       "| 43      | 39.66s       | 2.39443                |"
      ]
     },
     "metadata": {},
     "output_type": "display_data"
    },
    {
     "data": {
      "text/html": [
       "<pre>| 44      | 41.01s       | 2.39376                |</pre>"
      ],
      "text/plain": [
       "| 44      | 41.01s       | 2.39376                |"
      ]
     },
     "metadata": {},
     "output_type": "display_data"
    },
    {
     "data": {
      "text/html": [
       "<pre>| 45      | 42.40s       | 2.39312                |</pre>"
      ],
      "text/plain": [
       "| 45      | 42.40s       | 2.39312                |"
      ]
     },
     "metadata": {},
     "output_type": "display_data"
    },
    {
     "data": {
      "text/html": [
       "<pre>| 46      | 43.36s       | 2.3925                 |</pre>"
      ],
      "text/plain": [
       "| 46      | 43.36s       | 2.3925                 |"
      ]
     },
     "metadata": {},
     "output_type": "display_data"
    },
    {
     "data": {
      "text/html": [
       "<pre>| 47      | 44.76s       | 2.3919                 |</pre>"
      ],
      "text/plain": [
       "| 47      | 44.76s       | 2.3919                 |"
      ]
     },
     "metadata": {},
     "output_type": "display_data"
    },
    {
     "data": {
      "text/html": [
       "<pre>| 48      | 46.11s       | 2.39132                |</pre>"
      ],
      "text/plain": [
       "| 48      | 46.11s       | 2.39132                |"
      ]
     },
     "metadata": {},
     "output_type": "display_data"
    },
    {
     "data": {
      "text/html": [
       "<pre>| 49      | 47.41s       | 2.39076                |</pre>"
      ],
      "text/plain": [
       "| 49      | 47.41s       | 2.39076                |"
      ]
     },
     "metadata": {},
     "output_type": "display_data"
    },
    {
     "data": {
      "text/html": [
       "<pre>| FINAL   | 47.41s       | 2.39076                |</pre>"
      ],
      "text/plain": [
       "| FINAL   | 47.41s       | 2.39076                |"
      ]
     },
     "metadata": {},
     "output_type": "display_data"
    },
    {
     "data": {
      "text/html": [
       "<pre>+---------+--------------+------------------------+</pre>"
      ],
      "text/plain": [
       "+---------+--------------+------------------------+"
      ]
     },
     "metadata": {},
     "output_type": "display_data"
    },
    {
     "data": {
      "text/html": [
       "<pre>Optimization Complete: Iteration limit reached.</pre>"
      ],
      "text/plain": [
       "Optimization Complete: Iteration limit reached."
      ]
     },
     "metadata": {},
     "output_type": "display_data"
    },
    {
     "data": {
      "text/html": [
       "<pre>Recsys training: model = factorization_recommender</pre>"
      ],
      "text/plain": [
       "Recsys training: model = factorization_recommender"
      ]
     },
     "metadata": {},
     "output_type": "display_data"
    },
    {
     "data": {
      "text/html": [
       "<pre>Preparing data set.</pre>"
      ],
      "text/plain": [
       "Preparing data set."
      ]
     },
     "metadata": {},
     "output_type": "display_data"
    },
    {
     "data": {
      "text/html": [
       "<pre>    Data has 1096492 observations with 50690 users and 141 items.</pre>"
      ],
      "text/plain": [
       "    Data has 1096492 observations with 50690 users and 141 items."
      ]
     },
     "metadata": {},
     "output_type": "display_data"
    },
    {
     "data": {
      "text/html": [
       "<pre>    Data prepared in: 1.75088s</pre>"
      ],
      "text/plain": [
       "    Data prepared in: 1.75088s"
      ]
     },
     "metadata": {},
     "output_type": "display_data"
    },
    {
     "data": {
      "text/html": [
       "<pre>Training factorization_recommender for recommendations.</pre>"
      ],
      "text/plain": [
       "Training factorization_recommender for recommendations."
      ]
     },
     "metadata": {},
     "output_type": "display_data"
    },
    {
     "data": {
      "text/html": [
       "<pre>+------------------------------+--------------------------------------------------+----------+</pre>"
      ],
      "text/plain": [
       "+------------------------------+--------------------------------------------------+----------+"
      ]
     },
     "metadata": {},
     "output_type": "display_data"
    },
    {
     "data": {
      "text/html": [
       "<pre>| Parameter                    | Description                                      | Value    |</pre>"
      ],
      "text/plain": [
       "| Parameter                    | Description                                      | Value    |"
      ]
     },
     "metadata": {},
     "output_type": "display_data"
    },
    {
     "data": {
      "text/html": [
       "<pre>+------------------------------+--------------------------------------------------+----------+</pre>"
      ],
      "text/plain": [
       "+------------------------------+--------------------------------------------------+----------+"
      ]
     },
     "metadata": {},
     "output_type": "display_data"
    },
    {
     "data": {
      "text/html": [
       "<pre>| num_factors                  | Factor Dimension                                 | 22       |</pre>"
      ],
      "text/plain": [
       "| num_factors                  | Factor Dimension                                 | 22       |"
      ]
     },
     "metadata": {},
     "output_type": "display_data"
    },
    {
     "data": {
      "text/html": [
       "<pre>| regularization               | L2 Regularization on Factors                     | 1e-14    |</pre>"
      ],
      "text/plain": [
       "| regularization               | L2 Regularization on Factors                     | 1e-14    |"
      ]
     },
     "metadata": {},
     "output_type": "display_data"
    },
    {
     "data": {
      "text/html": [
       "<pre>| max_iterations               | Maximum Number of Iterations                     | 50       |</pre>"
      ],
      "text/plain": [
       "| max_iterations               | Maximum Number of Iterations                     | 50       |"
      ]
     },
     "metadata": {},
     "output_type": "display_data"
    },
    {
     "data": {
      "text/html": [
       "<pre>| solver                       | Solver used for training                         | als      |</pre>"
      ],
      "text/plain": [
       "| solver                       | Solver used for training                         | als      |"
      ]
     },
     "metadata": {},
     "output_type": "display_data"
    },
    {
     "data": {
      "text/html": [
       "<pre>+------------------------------+--------------------------------------------------+----------+</pre>"
      ],
      "text/plain": [
       "+------------------------------+--------------------------------------------------+----------+"
      ]
     },
     "metadata": {},
     "output_type": "display_data"
    },
    {
     "data": {
      "text/html": [
       "<pre>+---------+--------------+------------------------+</pre>"
      ],
      "text/plain": [
       "+---------+--------------+------------------------+"
      ]
     },
     "metadata": {},
     "output_type": "display_data"
    },
    {
     "data": {
      "text/html": [
       "<pre>| Iter.   | Elapsed time | RMSE                   |</pre>"
      ],
      "text/plain": [
       "| Iter.   | Elapsed time | RMSE                   |"
      ]
     },
     "metadata": {},
     "output_type": "display_data"
    },
    {
     "data": {
      "text/html": [
       "<pre>+---------+--------------+------------------------+</pre>"
      ],
      "text/plain": [
       "+---------+--------------+------------------------+"
      ]
     },
     "metadata": {},
     "output_type": "display_data"
    },
    {
     "data": {
      "text/html": [
       "<pre>| Initial | 82us         | NA                     |</pre>"
      ],
      "text/plain": [
       "| Initial | 82us         | NA                     |"
      ]
     },
     "metadata": {},
     "output_type": "display_data"
    },
    {
     "data": {
      "text/html": [
       "<pre>+---------+--------------+------------------------+</pre>"
      ],
      "text/plain": [
       "+---------+--------------+------------------------+"
      ]
     },
     "metadata": {},
     "output_type": "display_data"
    },
    {
     "data": {
      "text/html": [
       "<pre>| 0       | 2.04s        | 3.07291                |</pre>"
      ],
      "text/plain": [
       "| 0       | 2.04s        | 3.07291                |"
      ]
     },
     "metadata": {},
     "output_type": "display_data"
    },
    {
     "data": {
      "text/html": [
       "<pre>| 1       | 3.98s        | 2.42886                |</pre>"
      ],
      "text/plain": [
       "| 1       | 3.98s        | 2.42886                |"
      ]
     },
     "metadata": {},
     "output_type": "display_data"
    },
    {
     "data": {
      "text/html": [
       "<pre>| 2       | 5.94s        | 2.30445                |</pre>"
      ],
      "text/plain": [
       "| 2       | 5.94s        | 2.30445                |"
      ]
     },
     "metadata": {},
     "output_type": "display_data"
    },
    {
     "data": {
      "text/html": [
       "<pre>| 3       | 7.29s        | 2.23926                |</pre>"
      ],
      "text/plain": [
       "| 3       | 7.29s        | 2.23926                |"
      ]
     },
     "metadata": {},
     "output_type": "display_data"
    },
    {
     "data": {
      "text/html": [
       "<pre>| 4       | 8.59s        | 2.19857                |</pre>"
      ],
      "text/plain": [
       "| 4       | 8.59s        | 2.19857                |"
      ]
     },
     "metadata": {},
     "output_type": "display_data"
    },
    {
     "data": {
      "text/html": [
       "<pre>| 5       | 10.53s       | 2.17043                |</pre>"
      ],
      "text/plain": [
       "| 5       | 10.53s       | 2.17043                |"
      ]
     },
     "metadata": {},
     "output_type": "display_data"
    },
    {
     "data": {
      "text/html": [
       "<pre>| 6       | 11.84s       | 2.14958                |</pre>"
      ],
      "text/plain": [
       "| 6       | 11.84s       | 2.14958                |"
      ]
     },
     "metadata": {},
     "output_type": "display_data"
    },
    {
     "data": {
      "text/html": [
       "<pre>| 7       | 13.54s       | 2.13333                |</pre>"
      ],
      "text/plain": [
       "| 7       | 13.54s       | 2.13333                |"
      ]
     },
     "metadata": {},
     "output_type": "display_data"
    },
    {
     "data": {
      "text/html": [
       "<pre>| 8       | 15.20s       | 2.12022                |</pre>"
      ],
      "text/plain": [
       "| 8       | 15.20s       | 2.12022                |"
      ]
     },
     "metadata": {},
     "output_type": "display_data"
    },
    {
     "data": {
      "text/html": [
       "<pre>| 9       | 17.37s       | 2.10938                |</pre>"
      ],
      "text/plain": [
       "| 9       | 17.37s       | 2.10938                |"
      ]
     },
     "metadata": {},
     "output_type": "display_data"
    },
    {
     "data": {
      "text/html": [
       "<pre>| 10      | 18.98s       | 2.10023                |</pre>"
      ],
      "text/plain": [
       "| 10      | 18.98s       | 2.10023                |"
      ]
     },
     "metadata": {},
     "output_type": "display_data"
    },
    {
     "data": {
      "text/html": [
       "<pre>| 11      | 20.34s       | 2.09239                |</pre>"
      ],
      "text/plain": [
       "| 11      | 20.34s       | 2.09239                |"
      ]
     },
     "metadata": {},
     "output_type": "display_data"
    },
    {
     "data": {
      "text/html": [
       "<pre>| 12      | 22.41s       | 2.08558                |</pre>"
      ],
      "text/plain": [
       "| 12      | 22.41s       | 2.08558                |"
      ]
     },
     "metadata": {},
     "output_type": "display_data"
    },
    {
     "data": {
      "text/html": [
       "<pre>| 13      | 23.73s       | 2.07961                |</pre>"
      ],
      "text/plain": [
       "| 13      | 23.73s       | 2.07961                |"
      ]
     },
     "metadata": {},
     "output_type": "display_data"
    },
    {
     "data": {
      "text/html": [
       "<pre>| 14      | 25.04s       | 2.07433                |</pre>"
      ],
      "text/plain": [
       "| 14      | 25.04s       | 2.07433                |"
      ]
     },
     "metadata": {},
     "output_type": "display_data"
    },
    {
     "data": {
      "text/html": [
       "<pre>| 15      | 26.34s       | 2.06961                |</pre>"
      ],
      "text/plain": [
       "| 15      | 26.34s       | 2.06961                |"
      ]
     },
     "metadata": {},
     "output_type": "display_data"
    },
    {
     "data": {
      "text/html": [
       "<pre>| 16      | 27.66s       | 2.06538                |</pre>"
      ],
      "text/plain": [
       "| 16      | 27.66s       | 2.06538                |"
      ]
     },
     "metadata": {},
     "output_type": "display_data"
    },
    {
     "data": {
      "text/html": [
       "<pre>| 17      | 28.98s       | 2.06155                |</pre>"
      ],
      "text/plain": [
       "| 17      | 28.98s       | 2.06155                |"
      ]
     },
     "metadata": {},
     "output_type": "display_data"
    },
    {
     "data": {
      "text/html": [
       "<pre>| 18      | 30.31s       | 2.05806                |</pre>"
      ],
      "text/plain": [
       "| 18      | 30.31s       | 2.05806                |"
      ]
     },
     "metadata": {},
     "output_type": "display_data"
    },
    {
     "data": {
      "text/html": [
       "<pre>| 19      | 31.61s       | 2.05487                |</pre>"
      ],
      "text/plain": [
       "| 19      | 31.61s       | 2.05487                |"
      ]
     },
     "metadata": {},
     "output_type": "display_data"
    },
    {
     "data": {
      "text/html": [
       "<pre>| 20      | 32.92s       | 2.05194                |</pre>"
      ],
      "text/plain": [
       "| 20      | 32.92s       | 2.05194                |"
      ]
     },
     "metadata": {},
     "output_type": "display_data"
    },
    {
     "data": {
      "text/html": [
       "<pre>| 21      | 34.22s       | 2.04923                |</pre>"
      ],
      "text/plain": [
       "| 21      | 34.22s       | 2.04923                |"
      ]
     },
     "metadata": {},
     "output_type": "display_data"
    },
    {
     "data": {
      "text/html": [
       "<pre>| 22      | 35.53s       | 2.04672                |</pre>"
      ],
      "text/plain": [
       "| 22      | 35.53s       | 2.04672                |"
      ]
     },
     "metadata": {},
     "output_type": "display_data"
    },
    {
     "data": {
      "text/html": [
       "<pre>| 23      | 36.83s       | 2.04439                |</pre>"
      ],
      "text/plain": [
       "| 23      | 36.83s       | 2.04439                |"
      ]
     },
     "metadata": {},
     "output_type": "display_data"
    },
    {
     "data": {
      "text/html": [
       "<pre>| 24      | 38.14s       | 2.04222                |</pre>"
      ],
      "text/plain": [
       "| 24      | 38.14s       | 2.04222                |"
      ]
     },
     "metadata": {},
     "output_type": "display_data"
    },
    {
     "data": {
      "text/html": [
       "<pre>| 25      | 39.47s       | 2.04019                |</pre>"
      ],
      "text/plain": [
       "| 25      | 39.47s       | 2.04019                |"
      ]
     },
     "metadata": {},
     "output_type": "display_data"
    },
    {
     "data": {
      "text/html": [
       "<pre>| 26      | 40.78s       | 2.0383                 |</pre>"
      ],
      "text/plain": [
       "| 26      | 40.78s       | 2.0383                 |"
      ]
     },
     "metadata": {},
     "output_type": "display_data"
    },
    {
     "data": {
      "text/html": [
       "<pre>| 27      | 42.12s       | 2.03653                |</pre>"
      ],
      "text/plain": [
       "| 27      | 42.12s       | 2.03653                |"
      ]
     },
     "metadata": {},
     "output_type": "display_data"
    },
    {
     "data": {
      "text/html": [
       "<pre>| 28      | 43.58s       | 2.03487                |</pre>"
      ],
      "text/plain": [
       "| 28      | 43.58s       | 2.03487                |"
      ]
     },
     "metadata": {},
     "output_type": "display_data"
    },
    {
     "data": {
      "text/html": [
       "<pre>| 29      | 44.97s       | 2.03331                |</pre>"
      ],
      "text/plain": [
       "| 29      | 44.97s       | 2.03331                |"
      ]
     },
     "metadata": {},
     "output_type": "display_data"
    },
    {
     "data": {
      "text/html": [
       "<pre>| 30      | 46.29s       | 2.03184                |</pre>"
      ],
      "text/plain": [
       "| 30      | 46.29s       | 2.03184                |"
      ]
     },
     "metadata": {},
     "output_type": "display_data"
    },
    {
     "data": {
      "text/html": [
       "<pre>| 31      | 47.63s       | 2.03045                |</pre>"
      ],
      "text/plain": [
       "| 31      | 47.63s       | 2.03045                |"
      ]
     },
     "metadata": {},
     "output_type": "display_data"
    },
    {
     "data": {
      "text/html": [
       "<pre>| 32      | 48.96s       | 2.02914                |</pre>"
      ],
      "text/plain": [
       "| 32      | 48.96s       | 2.02914                |"
      ]
     },
     "metadata": {},
     "output_type": "display_data"
    },
    {
     "data": {
      "text/html": [
       "<pre>| 33      | 50.33s       | 2.0279                 |</pre>"
      ],
      "text/plain": [
       "| 33      | 50.33s       | 2.0279                 |"
      ]
     },
     "metadata": {},
     "output_type": "display_data"
    },
    {
     "data": {
      "text/html": [
       "<pre>| 34      | 51.71s       | 2.02672                |</pre>"
      ],
      "text/plain": [
       "| 34      | 51.71s       | 2.02672                |"
      ]
     },
     "metadata": {},
     "output_type": "display_data"
    },
    {
     "data": {
      "text/html": [
       "<pre>| 35      | 53.04s       | 2.0256                 |</pre>"
      ],
      "text/plain": [
       "| 35      | 53.04s       | 2.0256                 |"
      ]
     },
     "metadata": {},
     "output_type": "display_data"
    },
    {
     "data": {
      "text/html": [
       "<pre>| 36      | 54.39s       | 2.02453                |</pre>"
      ],
      "text/plain": [
       "| 36      | 54.39s       | 2.02453                |"
      ]
     },
     "metadata": {},
     "output_type": "display_data"
    },
    {
     "data": {
      "text/html": [
       "<pre>| 37      | 55.78s       | 2.02351                |</pre>"
      ],
      "text/plain": [
       "| 37      | 55.78s       | 2.02351                |"
      ]
     },
     "metadata": {},
     "output_type": "display_data"
    },
    {
     "data": {
      "text/html": [
       "<pre>| 38      | 57.19s       | 2.02254                |</pre>"
      ],
      "text/plain": [
       "| 38      | 57.19s       | 2.02254                |"
      ]
     },
     "metadata": {},
     "output_type": "display_data"
    },
    {
     "data": {
      "text/html": [
       "<pre>| 39      | 58.69s       | 2.02161                |</pre>"
      ],
      "text/plain": [
       "| 39      | 58.69s       | 2.02161                |"
      ]
     },
     "metadata": {},
     "output_type": "display_data"
    },
    {
     "data": {
      "text/html": [
       "<pre>| 40      | 1m 0s        | 2.02072                |</pre>"
      ],
      "text/plain": [
       "| 40      | 1m 0s        | 2.02072                |"
      ]
     },
     "metadata": {},
     "output_type": "display_data"
    },
    {
     "data": {
      "text/html": [
       "<pre>| 41      | 1m 2s        | 2.01986                |</pre>"
      ],
      "text/plain": [
       "| 41      | 1m 2s        | 2.01986                |"
      ]
     },
     "metadata": {},
     "output_type": "display_data"
    },
    {
     "data": {
      "text/html": [
       "<pre>| 42      | 1m 3s        | 2.01904                |</pre>"
      ],
      "text/plain": [
       "| 42      | 1m 3s        | 2.01904                |"
      ]
     },
     "metadata": {},
     "output_type": "display_data"
    },
    {
     "data": {
      "text/html": [
       "<pre>| 43      | 1m 6s        | 2.01825                |</pre>"
      ],
      "text/plain": [
       "| 43      | 1m 6s        | 2.01825                |"
      ]
     },
     "metadata": {},
     "output_type": "display_data"
    },
    {
     "data": {
      "text/html": [
       "<pre>| 44      | 1m 8s        | 2.01749                |</pre>"
      ],
      "text/plain": [
       "| 44      | 1m 8s        | 2.01749                |"
      ]
     },
     "metadata": {},
     "output_type": "display_data"
    },
    {
     "data": {
      "text/html": [
       "<pre>| 45      | 1m 9s        | 2.01676                |</pre>"
      ],
      "text/plain": [
       "| 45      | 1m 9s        | 2.01676                |"
      ]
     },
     "metadata": {},
     "output_type": "display_data"
    },
    {
     "data": {
      "text/html": [
       "<pre>| 46      | 1m 11s       | 2.01605                |</pre>"
      ],
      "text/plain": [
       "| 46      | 1m 11s       | 2.01605                |"
      ]
     },
     "metadata": {},
     "output_type": "display_data"
    },
    {
     "data": {
      "text/html": [
       "<pre>| 47      | 1m 12s       | 2.01537                |</pre>"
      ],
      "text/plain": [
       "| 47      | 1m 12s       | 2.01537                |"
      ]
     },
     "metadata": {},
     "output_type": "display_data"
    },
    {
     "data": {
      "text/html": [
       "<pre>| 48      | 1m 13s       | 2.01472                |</pre>"
      ],
      "text/plain": [
       "| 48      | 1m 13s       | 2.01472                |"
      ]
     },
     "metadata": {},
     "output_type": "display_data"
    },
    {
     "data": {
      "text/html": [
       "<pre>| 49      | 1m 15s       | 2.01408                |</pre>"
      ],
      "text/plain": [
       "| 49      | 1m 15s       | 2.01408                |"
      ]
     },
     "metadata": {},
     "output_type": "display_data"
    },
    {
     "data": {
      "text/html": [
       "<pre>| FINAL   | 1m 15s       | 2.01408                |</pre>"
      ],
      "text/plain": [
       "| FINAL   | 1m 15s       | 2.01408                |"
      ]
     },
     "metadata": {},
     "output_type": "display_data"
    },
    {
     "data": {
      "text/html": [
       "<pre>+---------+--------------+------------------------+</pre>"
      ],
      "text/plain": [
       "+---------+--------------+------------------------+"
      ]
     },
     "metadata": {},
     "output_type": "display_data"
    },
    {
     "data": {
      "text/html": [
       "<pre>Optimization Complete: Iteration limit reached.</pre>"
      ],
      "text/plain": [
       "Optimization Complete: Iteration limit reached."
      ]
     },
     "metadata": {},
     "output_type": "display_data"
    },
    {
     "data": {
      "text/html": [
       "<pre>Recsys training: model = factorization_recommender</pre>"
      ],
      "text/plain": [
       "Recsys training: model = factorization_recommender"
      ]
     },
     "metadata": {},
     "output_type": "display_data"
    },
    {
     "data": {
      "text/html": [
       "<pre>Preparing data set.</pre>"
      ],
      "text/plain": [
       "Preparing data set."
      ]
     },
     "metadata": {},
     "output_type": "display_data"
    },
    {
     "data": {
      "text/html": [
       "<pre>    Data has 1096492 observations with 50690 users and 141 items.</pre>"
      ],
      "text/plain": [
       "    Data has 1096492 observations with 50690 users and 141 items."
      ]
     },
     "metadata": {},
     "output_type": "display_data"
    },
    {
     "data": {
      "text/html": [
       "<pre>    Data prepared in: 1.0309s</pre>"
      ],
      "text/plain": [
       "    Data prepared in: 1.0309s"
      ]
     },
     "metadata": {},
     "output_type": "display_data"
    },
    {
     "data": {
      "text/html": [
       "<pre>Training factorization_recommender for recommendations.</pre>"
      ],
      "text/plain": [
       "Training factorization_recommender for recommendations."
      ]
     },
     "metadata": {},
     "output_type": "display_data"
    },
    {
     "data": {
      "text/html": [
       "<pre>+------------------------------+--------------------------------------------------+----------+</pre>"
      ],
      "text/plain": [
       "+------------------------------+--------------------------------------------------+----------+"
      ]
     },
     "metadata": {},
     "output_type": "display_data"
    },
    {
     "data": {
      "text/html": [
       "<pre>| Parameter                    | Description                                      | Value    |</pre>"
      ],
      "text/plain": [
       "| Parameter                    | Description                                      | Value    |"
      ]
     },
     "metadata": {},
     "output_type": "display_data"
    },
    {
     "data": {
      "text/html": [
       "<pre>+------------------------------+--------------------------------------------------+----------+</pre>"
      ],
      "text/plain": [
       "+------------------------------+--------------------------------------------------+----------+"
      ]
     },
     "metadata": {},
     "output_type": "display_data"
    },
    {
     "data": {
      "text/html": [
       "<pre>| num_factors                  | Factor Dimension                                 | 29       |</pre>"
      ],
      "text/plain": [
       "| num_factors                  | Factor Dimension                                 | 29       |"
      ]
     },
     "metadata": {},
     "output_type": "display_data"
    },
    {
     "data": {
      "text/html": [
       "<pre>| regularization               | L2 Regularization on Factors                     | 1e-14    |</pre>"
      ],
      "text/plain": [
       "| regularization               | L2 Regularization on Factors                     | 1e-14    |"
      ]
     },
     "metadata": {},
     "output_type": "display_data"
    },
    {
     "data": {
      "text/html": [
       "<pre>| max_iterations               | Maximum Number of Iterations                     | 50       |</pre>"
      ],
      "text/plain": [
       "| max_iterations               | Maximum Number of Iterations                     | 50       |"
      ]
     },
     "metadata": {},
     "output_type": "display_data"
    },
    {
     "data": {
      "text/html": [
       "<pre>| solver                       | Solver used for training                         | als      |</pre>"
      ],
      "text/plain": [
       "| solver                       | Solver used for training                         | als      |"
      ]
     },
     "metadata": {},
     "output_type": "display_data"
    },
    {
     "data": {
      "text/html": [
       "<pre>+------------------------------+--------------------------------------------------+----------+</pre>"
      ],
      "text/plain": [
       "+------------------------------+--------------------------------------------------+----------+"
      ]
     },
     "metadata": {},
     "output_type": "display_data"
    },
    {
     "data": {
      "text/html": [
       "<pre>+---------+--------------+------------------------+</pre>"
      ],
      "text/plain": [
       "+---------+--------------+------------------------+"
      ]
     },
     "metadata": {},
     "output_type": "display_data"
    },
    {
     "data": {
      "text/html": [
       "<pre>| Iter.   | Elapsed time | RMSE                   |</pre>"
      ],
      "text/plain": [
       "| Iter.   | Elapsed time | RMSE                   |"
      ]
     },
     "metadata": {},
     "output_type": "display_data"
    },
    {
     "data": {
      "text/html": [
       "<pre>+---------+--------------+------------------------+</pre>"
      ],
      "text/plain": [
       "+---------+--------------+------------------------+"
      ]
     },
     "metadata": {},
     "output_type": "display_data"
    },
    {
     "data": {
      "text/html": [
       "<pre>| Initial | 81us         | NA                     |</pre>"
      ],
      "text/plain": [
       "| Initial | 81us         | NA                     |"
      ]
     },
     "metadata": {},
     "output_type": "display_data"
    },
    {
     "data": {
      "text/html": [
       "<pre>+---------+--------------+------------------------+</pre>"
      ],
      "text/plain": [
       "+---------+--------------+------------------------+"
      ]
     },
     "metadata": {},
     "output_type": "display_data"
    },
    {
     "data": {
      "text/html": [
       "<pre>| 0       | 2.02s        | 2.83259                |</pre>"
      ],
      "text/plain": [
       "| 0       | 2.02s        | 2.83259                |"
      ]
     },
     "metadata": {},
     "output_type": "display_data"
    },
    {
     "data": {
      "text/html": [
       "<pre>| 1       | 3.98s        | 2.15776                |</pre>"
      ],
      "text/plain": [
       "| 1       | 3.98s        | 2.15776                |"
      ]
     },
     "metadata": {},
     "output_type": "display_data"
    },
    {
     "data": {
      "text/html": [
       "<pre>| 2       | 5.99s        | 2.02791                |</pre>"
      ],
      "text/plain": [
       "| 2       | 5.99s        | 2.02791                |"
      ]
     },
     "metadata": {},
     "output_type": "display_data"
    },
    {
     "data": {
      "text/html": [
       "<pre>| 3       | 7.98s        | 1.95939                |</pre>"
      ],
      "text/plain": [
       "| 3       | 7.98s        | 1.95939                |"
      ]
     },
     "metadata": {},
     "output_type": "display_data"
    },
    {
     "data": {
      "text/html": [
       "<pre>| 4       | 9.98s        | 1.91615                |</pre>"
      ],
      "text/plain": [
       "| 4       | 9.98s        | 1.91615                |"
      ]
     },
     "metadata": {},
     "output_type": "display_data"
    },
    {
     "data": {
      "text/html": [
       "<pre>| 5       | 12.07s       | 1.88582                |</pre>"
      ],
      "text/plain": [
       "| 5       | 12.07s       | 1.88582                |"
      ]
     },
     "metadata": {},
     "output_type": "display_data"
    },
    {
     "data": {
      "text/html": [
       "<pre>| 6       | 14.04s       | 1.86308                |</pre>"
      ],
      "text/plain": [
       "| 6       | 14.04s       | 1.86308                |"
      ]
     },
     "metadata": {},
     "output_type": "display_data"
    },
    {
     "data": {
      "text/html": [
       "<pre>| 7       | 16.08s       | 1.84527                |</pre>"
      ],
      "text/plain": [
       "| 7       | 16.08s       | 1.84527                |"
      ]
     },
     "metadata": {},
     "output_type": "display_data"
    },
    {
     "data": {
      "text/html": [
       "<pre>| 8       | 18.32s       | 1.83088                |</pre>"
      ],
      "text/plain": [
       "| 8       | 18.32s       | 1.83088                |"
      ]
     },
     "metadata": {},
     "output_type": "display_data"
    },
    {
     "data": {
      "text/html": [
       "<pre>| 9       | 20.34s       | 1.81896                |</pre>"
      ],
      "text/plain": [
       "| 9       | 20.34s       | 1.81896                |"
      ]
     },
     "metadata": {},
     "output_type": "display_data"
    },
    {
     "data": {
      "text/html": [
       "<pre>| 10      | 22.36s       | 1.80889                |</pre>"
      ],
      "text/plain": [
       "| 10      | 22.36s       | 1.80889                |"
      ]
     },
     "metadata": {},
     "output_type": "display_data"
    },
    {
     "data": {
      "text/html": [
       "<pre>| 11      | 24.37s       | 1.80025                |</pre>"
      ],
      "text/plain": [
       "| 11      | 24.37s       | 1.80025                |"
      ]
     },
     "metadata": {},
     "output_type": "display_data"
    },
    {
     "data": {
      "text/html": [
       "<pre>| 12      | 26.36s       | 1.79273                |</pre>"
      ],
      "text/plain": [
       "| 12      | 26.36s       | 1.79273                |"
      ]
     },
     "metadata": {},
     "output_type": "display_data"
    },
    {
     "data": {
      "text/html": [
       "<pre>| 13      | 28.38s       | 1.78613                |</pre>"
      ],
      "text/plain": [
       "| 13      | 28.38s       | 1.78613                |"
      ]
     },
     "metadata": {},
     "output_type": "display_data"
    },
    {
     "data": {
      "text/html": [
       "<pre>| 14      | 30.34s       | 1.78029                |</pre>"
      ],
      "text/plain": [
       "| 14      | 30.34s       | 1.78029                |"
      ]
     },
     "metadata": {},
     "output_type": "display_data"
    },
    {
     "data": {
      "text/html": [
       "<pre>| 15      | 32.29s       | 1.77507                |</pre>"
      ],
      "text/plain": [
       "| 15      | 32.29s       | 1.77507                |"
      ]
     },
     "metadata": {},
     "output_type": "display_data"
    },
    {
     "data": {
      "text/html": [
       "<pre>| 16      | 34.37s       | 1.77038                |</pre>"
      ],
      "text/plain": [
       "| 16      | 34.37s       | 1.77038                |"
      ]
     },
     "metadata": {},
     "output_type": "display_data"
    },
    {
     "data": {
      "text/html": [
       "<pre>| 17      | 36.36s       | 1.76614                |</pre>"
      ],
      "text/plain": [
       "| 17      | 36.36s       | 1.76614                |"
      ]
     },
     "metadata": {},
     "output_type": "display_data"
    },
    {
     "data": {
      "text/html": [
       "<pre>| 18      | 38.35s       | 1.76228                |</pre>"
      ],
      "text/plain": [
       "| 18      | 38.35s       | 1.76228                |"
      ]
     },
     "metadata": {},
     "output_type": "display_data"
    },
    {
     "data": {
      "text/html": [
       "<pre>| 19      | 40.38s       | 1.75876                |</pre>"
      ],
      "text/plain": [
       "| 19      | 40.38s       | 1.75876                |"
      ]
     },
     "metadata": {},
     "output_type": "display_data"
    },
    {
     "data": {
      "text/html": [
       "<pre>| 20      | 42.52s       | 1.75553                |</pre>"
      ],
      "text/plain": [
       "| 20      | 42.52s       | 1.75553                |"
      ]
     },
     "metadata": {},
     "output_type": "display_data"
    },
    {
     "data": {
      "text/html": [
       "<pre>| 21      | 44.54s       | 1.75255                |</pre>"
      ],
      "text/plain": [
       "| 21      | 44.54s       | 1.75255                |"
      ]
     },
     "metadata": {},
     "output_type": "display_data"
    },
    {
     "data": {
      "text/html": [
       "<pre>| 22      | 46.62s       | 1.74979                |</pre>"
      ],
      "text/plain": [
       "| 22      | 46.62s       | 1.74979                |"
      ]
     },
     "metadata": {},
     "output_type": "display_data"
    },
    {
     "data": {
      "text/html": [
       "<pre>| 23      | 48.60s       | 1.74723                |</pre>"
      ],
      "text/plain": [
       "| 23      | 48.60s       | 1.74723                |"
      ]
     },
     "metadata": {},
     "output_type": "display_data"
    },
    {
     "data": {
      "text/html": [
       "<pre>| 24      | 50.63s       | 1.74483                |</pre>"
      ],
      "text/plain": [
       "| 24      | 50.63s       | 1.74483                |"
      ]
     },
     "metadata": {},
     "output_type": "display_data"
    },
    {
     "data": {
      "text/html": [
       "<pre>| 25      | 52.64s       | 1.74259                |</pre>"
      ],
      "text/plain": [
       "| 25      | 52.64s       | 1.74259                |"
      ]
     },
     "metadata": {},
     "output_type": "display_data"
    },
    {
     "data": {
      "text/html": [
       "<pre>| 26      | 54.71s       | 1.74049                |</pre>"
      ],
      "text/plain": [
       "| 26      | 54.71s       | 1.74049                |"
      ]
     },
     "metadata": {},
     "output_type": "display_data"
    },
    {
     "data": {
      "text/html": [
       "<pre>| 27      | 56.66s       | 1.73851                |</pre>"
      ],
      "text/plain": [
       "| 27      | 56.66s       | 1.73851                |"
      ]
     },
     "metadata": {},
     "output_type": "display_data"
    },
    {
     "data": {
      "text/html": [
       "<pre>| 28      | 59.08s       | 1.73664                |</pre>"
      ],
      "text/plain": [
       "| 28      | 59.08s       | 1.73664                |"
      ]
     },
     "metadata": {},
     "output_type": "display_data"
    },
    {
     "data": {
      "text/html": [
       "<pre>| 29      | 1m 1s        | 1.73487                |</pre>"
      ],
      "text/plain": [
       "| 29      | 1m 1s        | 1.73487                |"
      ]
     },
     "metadata": {},
     "output_type": "display_data"
    },
    {
     "data": {
      "text/html": [
       "<pre>| 30      | 1m 3s        | 1.7332                 |</pre>"
      ],
      "text/plain": [
       "| 30      | 1m 3s        | 1.7332                 |"
      ]
     },
     "metadata": {},
     "output_type": "display_data"
    },
    {
     "data": {
      "text/html": [
       "<pre>| 31      | 1m 5s        | 1.7316                 |</pre>"
      ],
      "text/plain": [
       "| 31      | 1m 5s        | 1.7316                 |"
      ]
     },
     "metadata": {},
     "output_type": "display_data"
    },
    {
     "data": {
      "text/html": [
       "<pre>| 32      | 1m 7s        | 1.73009                |</pre>"
      ],
      "text/plain": [
       "| 32      | 1m 7s        | 1.73009                |"
      ]
     },
     "metadata": {},
     "output_type": "display_data"
    },
    {
     "data": {
      "text/html": [
       "<pre>| 33      | 1m 9s        | 1.72865                |</pre>"
      ],
      "text/plain": [
       "| 33      | 1m 9s        | 1.72865                |"
      ]
     },
     "metadata": {},
     "output_type": "display_data"
    },
    {
     "data": {
      "text/html": [
       "<pre>| 34      | 1m 11s       | 1.72727                |</pre>"
      ],
      "text/plain": [
       "| 34      | 1m 11s       | 1.72727                |"
      ]
     },
     "metadata": {},
     "output_type": "display_data"
    },
    {
     "data": {
      "text/html": [
       "<pre>| 35      | 1m 13s       | 1.72596                |</pre>"
      ],
      "text/plain": [
       "| 35      | 1m 13s       | 1.72596                |"
      ]
     },
     "metadata": {},
     "output_type": "display_data"
    },
    {
     "data": {
      "text/html": [
       "<pre>| 36      | 1m 15s       | 1.7247                 |</pre>"
      ],
      "text/plain": [
       "| 36      | 1m 15s       | 1.7247                 |"
      ]
     },
     "metadata": {},
     "output_type": "display_data"
    },
    {
     "data": {
      "text/html": [
       "<pre>| 37      | 1m 17s       | 1.7235                 |</pre>"
      ],
      "text/plain": [
       "| 37      | 1m 17s       | 1.7235                 |"
      ]
     },
     "metadata": {},
     "output_type": "display_data"
    },
    {
     "data": {
      "text/html": [
       "<pre>| 38      | 1m 19s       | 1.72235                |</pre>"
      ],
      "text/plain": [
       "| 38      | 1m 19s       | 1.72235                |"
      ]
     },
     "metadata": {},
     "output_type": "display_data"
    },
    {
     "data": {
      "text/html": [
       "<pre>| 39      | 1m 22s       | 1.72124                |</pre>"
      ],
      "text/plain": [
       "| 39      | 1m 22s       | 1.72124                |"
      ]
     },
     "metadata": {},
     "output_type": "display_data"
    },
    {
     "data": {
      "text/html": [
       "<pre>| 40      | 1m 24s       | 1.72017                |</pre>"
      ],
      "text/plain": [
       "| 40      | 1m 24s       | 1.72017                |"
      ]
     },
     "metadata": {},
     "output_type": "display_data"
    },
    {
     "data": {
      "text/html": [
       "<pre>| 41      | 1m 26s       | 1.71915                |</pre>"
      ],
      "text/plain": [
       "| 41      | 1m 26s       | 1.71915                |"
      ]
     },
     "metadata": {},
     "output_type": "display_data"
    },
    {
     "data": {
      "text/html": [
       "<pre>| 42      | 1m 29s       | 1.71816                |</pre>"
      ],
      "text/plain": [
       "| 42      | 1m 29s       | 1.71816                |"
      ]
     },
     "metadata": {},
     "output_type": "display_data"
    },
    {
     "data": {
      "text/html": [
       "<pre>| 43      | 1m 31s       | 1.7172                 |</pre>"
      ],
      "text/plain": [
       "| 43      | 1m 31s       | 1.7172                 |"
      ]
     },
     "metadata": {},
     "output_type": "display_data"
    },
    {
     "data": {
      "text/html": [
       "<pre>| 44      | 1m 34s       | 1.71628                |</pre>"
      ],
      "text/plain": [
       "| 44      | 1m 34s       | 1.71628                |"
      ]
     },
     "metadata": {},
     "output_type": "display_data"
    },
    {
     "data": {
      "text/html": [
       "<pre>| 45      | 1m 36s       | 1.71539                |</pre>"
      ],
      "text/plain": [
       "| 45      | 1m 36s       | 1.71539                |"
      ]
     },
     "metadata": {},
     "output_type": "display_data"
    },
    {
     "data": {
      "text/html": [
       "<pre>| 46      | 1m 38s       | 1.71454                |</pre>"
      ],
      "text/plain": [
       "| 46      | 1m 38s       | 1.71454                |"
      ]
     },
     "metadata": {},
     "output_type": "display_data"
    },
    {
     "data": {
      "text/html": [
       "<pre>| 47      | 1m 40s       | 1.7137                 |</pre>"
      ],
      "text/plain": [
       "| 47      | 1m 40s       | 1.7137                 |"
      ]
     },
     "metadata": {},
     "output_type": "display_data"
    },
    {
     "data": {
      "text/html": [
       "<pre>| 48      | 1m 43s       | 1.7129                 |</pre>"
      ],
      "text/plain": [
       "| 48      | 1m 43s       | 1.7129                 |"
      ]
     },
     "metadata": {},
     "output_type": "display_data"
    },
    {
     "data": {
      "text/html": [
       "<pre>| 49      | 1m 45s       | 1.71212                |</pre>"
      ],
      "text/plain": [
       "| 49      | 1m 45s       | 1.71212                |"
      ]
     },
     "metadata": {},
     "output_type": "display_data"
    },
    {
     "data": {
      "text/html": [
       "<pre>| FINAL   | 1m 45s       | 1.71212                |</pre>"
      ],
      "text/plain": [
       "| FINAL   | 1m 45s       | 1.71212                |"
      ]
     },
     "metadata": {},
     "output_type": "display_data"
    },
    {
     "data": {
      "text/html": [
       "<pre>+---------+--------------+------------------------+</pre>"
      ],
      "text/plain": [
       "+---------+--------------+------------------------+"
      ]
     },
     "metadata": {},
     "output_type": "display_data"
    },
    {
     "data": {
      "text/html": [
       "<pre>Optimization Complete: Iteration limit reached.</pre>"
      ],
      "text/plain": [
       "Optimization Complete: Iteration limit reached."
      ]
     },
     "metadata": {},
     "output_type": "display_data"
    },
    {
     "data": {
      "text/html": [
       "<pre>Recsys training: model = factorization_recommender</pre>"
      ],
      "text/plain": [
       "Recsys training: model = factorization_recommender"
      ]
     },
     "metadata": {},
     "output_type": "display_data"
    },
    {
     "data": {
      "text/html": [
       "<pre>Preparing data set.</pre>"
      ],
      "text/plain": [
       "Preparing data set."
      ]
     },
     "metadata": {},
     "output_type": "display_data"
    },
    {
     "data": {
      "text/html": [
       "<pre>    Data has 1096492 observations with 50690 users and 141 items.</pre>"
      ],
      "text/plain": [
       "    Data has 1096492 observations with 50690 users and 141 items."
      ]
     },
     "metadata": {},
     "output_type": "display_data"
    },
    {
     "data": {
      "text/html": [
       "<pre>    Data prepared in: 1.04701s</pre>"
      ],
      "text/plain": [
       "    Data prepared in: 1.04701s"
      ]
     },
     "metadata": {},
     "output_type": "display_data"
    },
    {
     "data": {
      "text/html": [
       "<pre>Training factorization_recommender for recommendations.</pre>"
      ],
      "text/plain": [
       "Training factorization_recommender for recommendations."
      ]
     },
     "metadata": {},
     "output_type": "display_data"
    },
    {
     "data": {
      "text/html": [
       "<pre>+------------------------------+--------------------------------------------------+----------+</pre>"
      ],
      "text/plain": [
       "+------------------------------+--------------------------------------------------+----------+"
      ]
     },
     "metadata": {},
     "output_type": "display_data"
    },
    {
     "data": {
      "text/html": [
       "<pre>| Parameter                    | Description                                      | Value    |</pre>"
      ],
      "text/plain": [
       "| Parameter                    | Description                                      | Value    |"
      ]
     },
     "metadata": {},
     "output_type": "display_data"
    },
    {
     "data": {
      "text/html": [
       "<pre>+------------------------------+--------------------------------------------------+----------+</pre>"
      ],
      "text/plain": [
       "+------------------------------+--------------------------------------------------+----------+"
      ]
     },
     "metadata": {},
     "output_type": "display_data"
    },
    {
     "data": {
      "text/html": [
       "<pre>| num_factors                  | Factor Dimension                                 | 36       |</pre>"
      ],
      "text/plain": [
       "| num_factors                  | Factor Dimension                                 | 36       |"
      ]
     },
     "metadata": {},
     "output_type": "display_data"
    },
    {
     "data": {
      "text/html": [
       "<pre>| regularization               | L2 Regularization on Factors                     | 1e-14    |</pre>"
      ],
      "text/plain": [
       "| regularization               | L2 Regularization on Factors                     | 1e-14    |"
      ]
     },
     "metadata": {},
     "output_type": "display_data"
    },
    {
     "data": {
      "text/html": [
       "<pre>| max_iterations               | Maximum Number of Iterations                     | 50       |</pre>"
      ],
      "text/plain": [
       "| max_iterations               | Maximum Number of Iterations                     | 50       |"
      ]
     },
     "metadata": {},
     "output_type": "display_data"
    },
    {
     "data": {
      "text/html": [
       "<pre>| solver                       | Solver used for training                         | als      |</pre>"
      ],
      "text/plain": [
       "| solver                       | Solver used for training                         | als      |"
      ]
     },
     "metadata": {},
     "output_type": "display_data"
    },
    {
     "data": {
      "text/html": [
       "<pre>+------------------------------+--------------------------------------------------+----------+</pre>"
      ],
      "text/plain": [
       "+------------------------------+--------------------------------------------------+----------+"
      ]
     },
     "metadata": {},
     "output_type": "display_data"
    },
    {
     "data": {
      "text/html": [
       "<pre>+---------+--------------+------------------------+</pre>"
      ],
      "text/plain": [
       "+---------+--------------+------------------------+"
      ]
     },
     "metadata": {},
     "output_type": "display_data"
    },
    {
     "data": {
      "text/html": [
       "<pre>| Iter.   | Elapsed time | RMSE                   |</pre>"
      ],
      "text/plain": [
       "| Iter.   | Elapsed time | RMSE                   |"
      ]
     },
     "metadata": {},
     "output_type": "display_data"
    },
    {
     "data": {
      "text/html": [
       "<pre>+---------+--------------+------------------------+</pre>"
      ],
      "text/plain": [
       "+---------+--------------+------------------------+"
      ]
     },
     "metadata": {},
     "output_type": "display_data"
    },
    {
     "data": {
      "text/html": [
       "<pre>| Initial | 82us         | NA                     |</pre>"
      ],
      "text/plain": [
       "| Initial | 82us         | NA                     |"
      ]
     },
     "metadata": {},
     "output_type": "display_data"
    },
    {
     "data": {
      "text/html": [
       "<pre>+---------+--------------+------------------------+</pre>"
      ],
      "text/plain": [
       "+---------+--------------+------------------------+"
      ]
     },
     "metadata": {},
     "output_type": "display_data"
    },
    {
     "data": {
      "text/html": [
       "<pre>| 0       | 2.99s        | 2.60368                |</pre>"
      ],
      "text/plain": [
       "| 0       | 2.99s        | 2.60368                |"
      ]
     },
     "metadata": {},
     "output_type": "display_data"
    },
    {
     "data": {
      "text/html": [
       "<pre>| 1       | 5.81s        | 1.90619                |</pre>"
      ],
      "text/plain": [
       "| 1       | 5.81s        | 1.90619                |"
      ]
     },
     "metadata": {},
     "output_type": "display_data"
    },
    {
     "data": {
      "text/html": [
       "<pre>| 2       | 8.67s        | 1.77973                |</pre>"
      ],
      "text/plain": [
       "| 2       | 8.67s        | 1.77973                |"
      ]
     },
     "metadata": {},
     "output_type": "display_data"
    },
    {
     "data": {
      "text/html": [
       "<pre>| 3       | 11.50s       | 1.71232                |</pre>"
      ],
      "text/plain": [
       "| 3       | 11.50s       | 1.71232                |"
      ]
     },
     "metadata": {},
     "output_type": "display_data"
    },
    {
     "data": {
      "text/html": [
       "<pre>| 4       | 14.33s       | 1.66892                |</pre>"
      ],
      "text/plain": [
       "| 4       | 14.33s       | 1.66892                |"
      ]
     },
     "metadata": {},
     "output_type": "display_data"
    },
    {
     "data": {
      "text/html": [
       "<pre>| 5       | 17.28s       | 1.63795                |</pre>"
      ],
      "text/plain": [
       "| 5       | 17.28s       | 1.63795                |"
      ]
     },
     "metadata": {},
     "output_type": "display_data"
    },
    {
     "data": {
      "text/html": [
       "<pre>| 6       | 20.13s       | 1.61441                |</pre>"
      ],
      "text/plain": [
       "| 6       | 20.13s       | 1.61441                |"
      ]
     },
     "metadata": {},
     "output_type": "display_data"
    },
    {
     "data": {
      "text/html": [
       "<pre>| 7       | 23.02s       | 1.59573                |</pre>"
      ],
      "text/plain": [
       "| 7       | 23.02s       | 1.59573                |"
      ]
     },
     "metadata": {},
     "output_type": "display_data"
    },
    {
     "data": {
      "text/html": [
       "<pre>| 8       | 25.84s       | 1.58046                |</pre>"
      ],
      "text/plain": [
       "| 8       | 25.84s       | 1.58046                |"
      ]
     },
     "metadata": {},
     "output_type": "display_data"
    },
    {
     "data": {
      "text/html": [
       "<pre>| 9       | 28.79s       | 1.5677                 |</pre>"
      ],
      "text/plain": [
       "| 9       | 28.79s       | 1.5677                 |"
      ]
     },
     "metadata": {},
     "output_type": "display_data"
    },
    {
     "data": {
      "text/html": [
       "<pre>| 10      | 31.91s       | 1.55688                |</pre>"
      ],
      "text/plain": [
       "| 10      | 31.91s       | 1.55688                |"
      ]
     },
     "metadata": {},
     "output_type": "display_data"
    },
    {
     "data": {
      "text/html": [
       "<pre>| 11      | 34.75s       | 1.54758                |</pre>"
      ],
      "text/plain": [
       "| 11      | 34.75s       | 1.54758                |"
      ]
     },
     "metadata": {},
     "output_type": "display_data"
    },
    {
     "data": {
      "text/html": [
       "<pre>| 12      | 37.49s       | 1.53951                |</pre>"
      ],
      "text/plain": [
       "| 12      | 37.49s       | 1.53951                |"
      ]
     },
     "metadata": {},
     "output_type": "display_data"
    },
    {
     "data": {
      "text/html": [
       "<pre>| 13      | 40.25s       | 1.53244                |</pre>"
      ],
      "text/plain": [
       "| 13      | 40.25s       | 1.53244                |"
      ]
     },
     "metadata": {},
     "output_type": "display_data"
    },
    {
     "data": {
      "text/html": [
       "<pre>| 14      | 43.07s       | 1.52618                |</pre>"
      ],
      "text/plain": [
       "| 14      | 43.07s       | 1.52618                |"
      ]
     },
     "metadata": {},
     "output_type": "display_data"
    },
    {
     "data": {
      "text/html": [
       "<pre>| 15      | 46.01s       | 1.5206                 |</pre>"
      ],
      "text/plain": [
       "| 15      | 46.01s       | 1.5206                 |"
      ]
     },
     "metadata": {},
     "output_type": "display_data"
    },
    {
     "data": {
      "text/html": [
       "<pre>| 16      | 48.82s       | 1.51558                |</pre>"
      ],
      "text/plain": [
       "| 16      | 48.82s       | 1.51558                |"
      ]
     },
     "metadata": {},
     "output_type": "display_data"
    },
    {
     "data": {
      "text/html": [
       "<pre>| 17      | 51.65s       | 1.51104                |</pre>"
      ],
      "text/plain": [
       "| 17      | 51.65s       | 1.51104                |"
      ]
     },
     "metadata": {},
     "output_type": "display_data"
    },
    {
     "data": {
      "text/html": [
       "<pre>| 18      | 54.94s       | 1.50691                |</pre>"
      ],
      "text/plain": [
       "| 18      | 54.94s       | 1.50691                |"
      ]
     },
     "metadata": {},
     "output_type": "display_data"
    },
    {
     "data": {
      "text/html": [
       "<pre>| 19      | 57.79s       | 1.50312                |</pre>"
      ],
      "text/plain": [
       "| 19      | 57.79s       | 1.50312                |"
      ]
     },
     "metadata": {},
     "output_type": "display_data"
    },
    {
     "data": {
      "text/html": [
       "<pre>| 20      | 1m 0s        | 1.49963                |</pre>"
      ],
      "text/plain": [
       "| 20      | 1m 0s        | 1.49963                |"
      ]
     },
     "metadata": {},
     "output_type": "display_data"
    },
    {
     "data": {
      "text/html": [
       "<pre>| 21      | 1m 3s        | 1.49641                |</pre>"
      ],
      "text/plain": [
       "| 21      | 1m 3s        | 1.49641                |"
      ]
     },
     "metadata": {},
     "output_type": "display_data"
    },
    {
     "data": {
      "text/html": [
       "<pre>| 22      | 1m 6s        | 1.49341                |</pre>"
      ],
      "text/plain": [
       "| 22      | 1m 6s        | 1.49341                |"
      ]
     },
     "metadata": {},
     "output_type": "display_data"
    },
    {
     "data": {
      "text/html": [
       "<pre>| 23      | 1m 9s        | 1.49062                |</pre>"
      ],
      "text/plain": [
       "| 23      | 1m 9s        | 1.49062                |"
      ]
     },
     "metadata": {},
     "output_type": "display_data"
    },
    {
     "data": {
      "text/html": [
       "<pre>| 24      | 1m 12s       | 1.488                  |</pre>"
      ],
      "text/plain": [
       "| 24      | 1m 12s       | 1.488                  |"
      ]
     },
     "metadata": {},
     "output_type": "display_data"
    },
    {
     "data": {
      "text/html": [
       "<pre>| 25      | 1m 14s       | 1.48555                |</pre>"
      ],
      "text/plain": [
       "| 25      | 1m 14s       | 1.48555                |"
      ]
     },
     "metadata": {},
     "output_type": "display_data"
    },
    {
     "data": {
      "text/html": [
       "<pre>| 26      | 1m 17s       | 1.48324                |</pre>"
      ],
      "text/plain": [
       "| 26      | 1m 17s       | 1.48324                |"
      ]
     },
     "metadata": {},
     "output_type": "display_data"
    },
    {
     "data": {
      "text/html": [
       "<pre>| 27      | 1m 20s       | 1.48106                |</pre>"
      ],
      "text/plain": [
       "| 27      | 1m 20s       | 1.48106                |"
      ]
     },
     "metadata": {},
     "output_type": "display_data"
    },
    {
     "data": {
      "text/html": [
       "<pre>| 28      | 1m 23s       | 1.479                  |</pre>"
      ],
      "text/plain": [
       "| 28      | 1m 23s       | 1.479                  |"
      ]
     },
     "metadata": {},
     "output_type": "display_data"
    },
    {
     "data": {
      "text/html": [
       "<pre>| 29      | 1m 26s       | 1.47705                |</pre>"
      ],
      "text/plain": [
       "| 29      | 1m 26s       | 1.47705                |"
      ]
     },
     "metadata": {},
     "output_type": "display_data"
    },
    {
     "data": {
      "text/html": [
       "<pre>| 30      | 1m 29s       | 1.47519                |</pre>"
      ],
      "text/plain": [
       "| 30      | 1m 29s       | 1.47519                |"
      ]
     },
     "metadata": {},
     "output_type": "display_data"
    },
    {
     "data": {
      "text/html": [
       "<pre>| 31      | 1m 33s       | 1.47343                |</pre>"
      ],
      "text/plain": [
       "| 31      | 1m 33s       | 1.47343                |"
      ]
     },
     "metadata": {},
     "output_type": "display_data"
    },
    {
     "data": {
      "text/html": [
       "<pre>| 32      | 1m 36s       | 1.47176                |</pre>"
      ],
      "text/plain": [
       "| 32      | 1m 36s       | 1.47176                |"
      ]
     },
     "metadata": {},
     "output_type": "display_data"
    },
    {
     "data": {
      "text/html": [
       "<pre>| 33      | 1m 39s       | 1.47016                |</pre>"
      ],
      "text/plain": [
       "| 33      | 1m 39s       | 1.47016                |"
      ]
     },
     "metadata": {},
     "output_type": "display_data"
    },
    {
     "data": {
      "text/html": [
       "<pre>| 34      | 1m 41s       | 1.46864                |</pre>"
      ],
      "text/plain": [
       "| 34      | 1m 41s       | 1.46864                |"
      ]
     },
     "metadata": {},
     "output_type": "display_data"
    },
    {
     "data": {
      "text/html": [
       "<pre>| 35      | 1m 44s       | 1.46719                |</pre>"
      ],
      "text/plain": [
       "| 35      | 1m 44s       | 1.46719                |"
      ]
     },
     "metadata": {},
     "output_type": "display_data"
    },
    {
     "data": {
      "text/html": [
       "<pre>| 36      | 1m 47s       | 1.46579                |</pre>"
      ],
      "text/plain": [
       "| 36      | 1m 47s       | 1.46579                |"
      ]
     },
     "metadata": {},
     "output_type": "display_data"
    },
    {
     "data": {
      "text/html": [
       "<pre>| 37      | 1m 50s       | 1.46446                |</pre>"
      ],
      "text/plain": [
       "| 37      | 1m 50s       | 1.46446                |"
      ]
     },
     "metadata": {},
     "output_type": "display_data"
    },
    {
     "data": {
      "text/html": [
       "<pre>| 38      | 1m 52s       | 1.46318                |</pre>"
      ],
      "text/plain": [
       "| 38      | 1m 52s       | 1.46318                |"
      ]
     },
     "metadata": {},
     "output_type": "display_data"
    },
    {
     "data": {
      "text/html": [
       "<pre>| 39      | 1m 55s       | 1.46196                |</pre>"
      ],
      "text/plain": [
       "| 39      | 1m 55s       | 1.46196                |"
      ]
     },
     "metadata": {},
     "output_type": "display_data"
    },
    {
     "data": {
      "text/html": [
       "<pre>| 40      | 1m 58s       | 1.46078                |</pre>"
      ],
      "text/plain": [
       "| 40      | 1m 58s       | 1.46078                |"
      ]
     },
     "metadata": {},
     "output_type": "display_data"
    },
    {
     "data": {
      "text/html": [
       "<pre>| 41      | 2m 1s        | 1.45965                |</pre>"
      ],
      "text/plain": [
       "| 41      | 2m 1s        | 1.45965                |"
      ]
     },
     "metadata": {},
     "output_type": "display_data"
    },
    {
     "data": {
      "text/html": [
       "<pre>| 42      | 2m 4s        | 1.45855                |</pre>"
      ],
      "text/plain": [
       "| 42      | 2m 4s        | 1.45855                |"
      ]
     },
     "metadata": {},
     "output_type": "display_data"
    },
    {
     "data": {
      "text/html": [
       "<pre>| 43      | 2m 7s        | 1.4575                 |</pre>"
      ],
      "text/plain": [
       "| 43      | 2m 7s        | 1.4575                 |"
      ]
     },
     "metadata": {},
     "output_type": "display_data"
    },
    {
     "data": {
      "text/html": [
       "<pre>| 44      | 2m 9s        | 1.45649                |</pre>"
      ],
      "text/plain": [
       "| 44      | 2m 9s        | 1.45649                |"
      ]
     },
     "metadata": {},
     "output_type": "display_data"
    },
    {
     "data": {
      "text/html": [
       "<pre>| 45      | 2m 12s       | 1.45551                |</pre>"
      ],
      "text/plain": [
       "| 45      | 2m 12s       | 1.45551                |"
      ]
     },
     "metadata": {},
     "output_type": "display_data"
    },
    {
     "data": {
      "text/html": [
       "<pre>| 46      | 2m 15s       | 1.45456                |</pre>"
      ],
      "text/plain": [
       "| 46      | 2m 15s       | 1.45456                |"
      ]
     },
     "metadata": {},
     "output_type": "display_data"
    },
    {
     "data": {
      "text/html": [
       "<pre>| 47      | 2m 18s       | 1.45364                |</pre>"
      ],
      "text/plain": [
       "| 47      | 2m 18s       | 1.45364                |"
      ]
     },
     "metadata": {},
     "output_type": "display_data"
    },
    {
     "data": {
      "text/html": [
       "<pre>| 48      | 2m 21s       | 1.45276                |</pre>"
      ],
      "text/plain": [
       "| 48      | 2m 21s       | 1.45276                |"
      ]
     },
     "metadata": {},
     "output_type": "display_data"
    },
    {
     "data": {
      "text/html": [
       "<pre>| 49      | 2m 24s       | 1.4519                 |</pre>"
      ],
      "text/plain": [
       "| 49      | 2m 24s       | 1.4519                 |"
      ]
     },
     "metadata": {},
     "output_type": "display_data"
    },
    {
     "data": {
      "text/html": [
       "<pre>| FINAL   | 2m 24s       | 1.4519                 |</pre>"
      ],
      "text/plain": [
       "| FINAL   | 2m 24s       | 1.4519                 |"
      ]
     },
     "metadata": {},
     "output_type": "display_data"
    },
    {
     "data": {
      "text/html": [
       "<pre>+---------+--------------+------------------------+</pre>"
      ],
      "text/plain": [
       "+---------+--------------+------------------------+"
      ]
     },
     "metadata": {},
     "output_type": "display_data"
    },
    {
     "data": {
      "text/html": [
       "<pre>Optimization Complete: Iteration limit reached.</pre>"
      ],
      "text/plain": [
       "Optimization Complete: Iteration limit reached."
      ]
     },
     "metadata": {},
     "output_type": "display_data"
    },
    {
     "data": {
      "text/html": [
       "<pre>Recsys training: model = factorization_recommender</pre>"
      ],
      "text/plain": [
       "Recsys training: model = factorization_recommender"
      ]
     },
     "metadata": {},
     "output_type": "display_data"
    },
    {
     "data": {
      "text/html": [
       "<pre>Preparing data set.</pre>"
      ],
      "text/plain": [
       "Preparing data set."
      ]
     },
     "metadata": {},
     "output_type": "display_data"
    },
    {
     "data": {
      "text/html": [
       "<pre>    Data has 1096492 observations with 50690 users and 141 items.</pre>"
      ],
      "text/plain": [
       "    Data has 1096492 observations with 50690 users and 141 items."
      ]
     },
     "metadata": {},
     "output_type": "display_data"
    },
    {
     "data": {
      "text/html": [
       "<pre>    Data prepared in: 1.00201s</pre>"
      ],
      "text/plain": [
       "    Data prepared in: 1.00201s"
      ]
     },
     "metadata": {},
     "output_type": "display_data"
    },
    {
     "data": {
      "text/html": [
       "<pre>Training factorization_recommender for recommendations.</pre>"
      ],
      "text/plain": [
       "Training factorization_recommender for recommendations."
      ]
     },
     "metadata": {},
     "output_type": "display_data"
    },
    {
     "data": {
      "text/html": [
       "<pre>+------------------------------+--------------------------------------------------+----------+</pre>"
      ],
      "text/plain": [
       "+------------------------------+--------------------------------------------------+----------+"
      ]
     },
     "metadata": {},
     "output_type": "display_data"
    },
    {
     "data": {
      "text/html": [
       "<pre>| Parameter                    | Description                                      | Value    |</pre>"
      ],
      "text/plain": [
       "| Parameter                    | Description                                      | Value    |"
      ]
     },
     "metadata": {},
     "output_type": "display_data"
    },
    {
     "data": {
      "text/html": [
       "<pre>+------------------------------+--------------------------------------------------+----------+</pre>"
      ],
      "text/plain": [
       "+------------------------------+--------------------------------------------------+----------+"
      ]
     },
     "metadata": {},
     "output_type": "display_data"
    },
    {
     "data": {
      "text/html": [
       "<pre>| num_factors                  | Factor Dimension                                 | 43       |</pre>"
      ],
      "text/plain": [
       "| num_factors                  | Factor Dimension                                 | 43       |"
      ]
     },
     "metadata": {},
     "output_type": "display_data"
    },
    {
     "data": {
      "text/html": [
       "<pre>| regularization               | L2 Regularization on Factors                     | 1e-14    |</pre>"
      ],
      "text/plain": [
       "| regularization               | L2 Regularization on Factors                     | 1e-14    |"
      ]
     },
     "metadata": {},
     "output_type": "display_data"
    },
    {
     "data": {
      "text/html": [
       "<pre>| max_iterations               | Maximum Number of Iterations                     | 50       |</pre>"
      ],
      "text/plain": [
       "| max_iterations               | Maximum Number of Iterations                     | 50       |"
      ]
     },
     "metadata": {},
     "output_type": "display_data"
    },
    {
     "data": {
      "text/html": [
       "<pre>| solver                       | Solver used for training                         | als      |</pre>"
      ],
      "text/plain": [
       "| solver                       | Solver used for training                         | als      |"
      ]
     },
     "metadata": {},
     "output_type": "display_data"
    },
    {
     "data": {
      "text/html": [
       "<pre>+------------------------------+--------------------------------------------------+----------+</pre>"
      ],
      "text/plain": [
       "+------------------------------+--------------------------------------------------+----------+"
      ]
     },
     "metadata": {},
     "output_type": "display_data"
    },
    {
     "data": {
      "text/html": [
       "<pre>+---------+--------------+------------------------+</pre>"
      ],
      "text/plain": [
       "+---------+--------------+------------------------+"
      ]
     },
     "metadata": {},
     "output_type": "display_data"
    },
    {
     "data": {
      "text/html": [
       "<pre>| Iter.   | Elapsed time | RMSE                   |</pre>"
      ],
      "text/plain": [
       "| Iter.   | Elapsed time | RMSE                   |"
      ]
     },
     "metadata": {},
     "output_type": "display_data"
    },
    {
     "data": {
      "text/html": [
       "<pre>+---------+--------------+------------------------+</pre>"
      ],
      "text/plain": [
       "+---------+--------------+------------------------+"
      ]
     },
     "metadata": {},
     "output_type": "display_data"
    },
    {
     "data": {
      "text/html": [
       "<pre>| Initial | 81us         | NA                     |</pre>"
      ],
      "text/plain": [
       "| Initial | 81us         | NA                     |"
      ]
     },
     "metadata": {},
     "output_type": "display_data"
    },
    {
     "data": {
      "text/html": [
       "<pre>+---------+--------------+------------------------+</pre>"
      ],
      "text/plain": [
       "+---------+--------------+------------------------+"
      ]
     },
     "metadata": {},
     "output_type": "display_data"
    },
    {
     "data": {
      "text/html": [
       "<pre>| 0       | 4.07s        | 2.42297                |</pre>"
      ],
      "text/plain": [
       "| 0       | 4.07s        | 2.42297                |"
      ]
     },
     "metadata": {},
     "output_type": "display_data"
    },
    {
     "data": {
      "text/html": [
       "<pre>| 1       | 7.77s        | 1.68893                |</pre>"
      ],
      "text/plain": [
       "| 1       | 7.77s        | 1.68893                |"
      ]
     },
     "metadata": {},
     "output_type": "display_data"
    },
    {
     "data": {
      "text/html": [
       "<pre>| 2       | 11.48s       | 1.55504                |</pre>"
      ],
      "text/plain": [
       "| 2       | 11.48s       | 1.55504                |"
      ]
     },
     "metadata": {},
     "output_type": "display_data"
    },
    {
     "data": {
      "text/html": [
       "<pre>| 3       | 15.27s       | 1.48372                |</pre>"
      ],
      "text/plain": [
       "| 3       | 15.27s       | 1.48372                |"
      ]
     },
     "metadata": {},
     "output_type": "display_data"
    },
    {
     "data": {
      "text/html": [
       "<pre>| 4       | 19.00s       | 1.43923                |</pre>"
      ],
      "text/plain": [
       "| 4       | 19.00s       | 1.43923                |"
      ]
     },
     "metadata": {},
     "output_type": "display_data"
    },
    {
     "data": {
      "text/html": [
       "<pre>| 5       | 22.70s       | 1.40818                |</pre>"
      ],
      "text/plain": [
       "| 5       | 22.70s       | 1.40818                |"
      ]
     },
     "metadata": {},
     "output_type": "display_data"
    },
    {
     "data": {
      "text/html": [
       "<pre>| 6       | 26.40s       | 1.38488                |</pre>"
      ],
      "text/plain": [
       "| 6       | 26.40s       | 1.38488                |"
      ]
     },
     "metadata": {},
     "output_type": "display_data"
    },
    {
     "data": {
      "text/html": [
       "<pre>| 7       | 30.20s       | 1.36654                |</pre>"
      ],
      "text/plain": [
       "| 7       | 30.20s       | 1.36654                |"
      ]
     },
     "metadata": {},
     "output_type": "display_data"
    },
    {
     "data": {
      "text/html": [
       "<pre>| 8       | 34.62s       | 1.35163                |</pre>"
      ],
      "text/plain": [
       "| 8       | 34.62s       | 1.35163                |"
      ]
     },
     "metadata": {},
     "output_type": "display_data"
    },
    {
     "data": {
      "text/html": [
       "<pre>| 9       | 38.82s       | 1.33922                |</pre>"
      ],
      "text/plain": [
       "| 9       | 38.82s       | 1.33922                |"
      ]
     },
     "metadata": {},
     "output_type": "display_data"
    },
    {
     "data": {
      "text/html": [
       "<pre>| 10      | 42.56s       | 1.32868                |</pre>"
      ],
      "text/plain": [
       "| 10      | 42.56s       | 1.32868                |"
      ]
     },
     "metadata": {},
     "output_type": "display_data"
    },
    {
     "data": {
      "text/html": [
       "<pre>| 11      | 46.27s       | 1.31959                |</pre>"
      ],
      "text/plain": [
       "| 11      | 46.27s       | 1.31959                |"
      ]
     },
     "metadata": {},
     "output_type": "display_data"
    },
    {
     "data": {
      "text/html": [
       "<pre>| 12      | 50.01s       | 1.31166                |</pre>"
      ],
      "text/plain": [
       "| 12      | 50.01s       | 1.31166                |"
      ]
     },
     "metadata": {},
     "output_type": "display_data"
    },
    {
     "data": {
      "text/html": [
       "<pre>| 13      | 53.74s       | 1.30465                |</pre>"
      ],
      "text/plain": [
       "| 13      | 53.74s       | 1.30465                |"
      ]
     },
     "metadata": {},
     "output_type": "display_data"
    },
    {
     "data": {
      "text/html": [
       "<pre>| 14      | 57.67s       | 1.29842                |</pre>"
      ],
      "text/plain": [
       "| 14      | 57.67s       | 1.29842                |"
      ]
     },
     "metadata": {},
     "output_type": "display_data"
    },
    {
     "data": {
      "text/html": [
       "<pre>| 15      | 1m 1s        | 1.29284                |</pre>"
      ],
      "text/plain": [
       "| 15      | 1m 1s        | 1.29284                |"
      ]
     },
     "metadata": {},
     "output_type": "display_data"
    },
    {
     "data": {
      "text/html": [
       "<pre>| 16      | 1m 6s        | 1.2878                 |</pre>"
      ],
      "text/plain": [
       "| 16      | 1m 6s        | 1.2878                 |"
      ]
     },
     "metadata": {},
     "output_type": "display_data"
    },
    {
     "data": {
      "text/html": [
       "<pre>| 17      | 1m 10s       | 1.28323                |</pre>"
      ],
      "text/plain": [
       "| 17      | 1m 10s       | 1.28323                |"
      ]
     },
     "metadata": {},
     "output_type": "display_data"
    },
    {
     "data": {
      "text/html": [
       "<pre>| 18      | 1m 14s       | 1.27905                |</pre>"
      ],
      "text/plain": [
       "| 18      | 1m 14s       | 1.27905                |"
      ]
     },
     "metadata": {},
     "output_type": "display_data"
    },
    {
     "data": {
      "text/html": [
       "<pre>| 19      | 1m 17s       | 1.27523                |</pre>"
      ],
      "text/plain": [
       "| 19      | 1m 17s       | 1.27523                |"
      ]
     },
     "metadata": {},
     "output_type": "display_data"
    },
    {
     "data": {
      "text/html": [
       "<pre>| 20      | 1m 21s       | 1.2717                 |</pre>"
      ],
      "text/plain": [
       "| 20      | 1m 21s       | 1.2717                 |"
      ]
     },
     "metadata": {},
     "output_type": "display_data"
    },
    {
     "data": {
      "text/html": [
       "<pre>| 21      | 1m 25s       | 1.26844                |</pre>"
      ],
      "text/plain": [
       "| 21      | 1m 25s       | 1.26844                |"
      ]
     },
     "metadata": {},
     "output_type": "display_data"
    },
    {
     "data": {
      "text/html": [
       "<pre>| 22      | 1m 30s       | 1.2654                 |</pre>"
      ],
      "text/plain": [
       "| 22      | 1m 30s       | 1.2654                 |"
      ]
     },
     "metadata": {},
     "output_type": "display_data"
    },
    {
     "data": {
      "text/html": [
       "<pre>| 23      | 1m 34s       | 1.26257                |</pre>"
      ],
      "text/plain": [
       "| 23      | 1m 34s       | 1.26257                |"
      ]
     },
     "metadata": {},
     "output_type": "display_data"
    },
    {
     "data": {
      "text/html": [
       "<pre>| 24      | 1m 39s       | 1.25992                |</pre>"
      ],
      "text/plain": [
       "| 24      | 1m 39s       | 1.25992                |"
      ]
     },
     "metadata": {},
     "output_type": "display_data"
    },
    {
     "data": {
      "text/html": [
       "<pre>| 25      | 1m 44s       | 1.25743                |</pre>"
      ],
      "text/plain": [
       "| 25      | 1m 44s       | 1.25743                |"
      ]
     },
     "metadata": {},
     "output_type": "display_data"
    },
    {
     "data": {
      "text/html": [
       "<pre>| 26      | 1m 48s       | 1.25508                |</pre>"
      ],
      "text/plain": [
       "| 26      | 1m 48s       | 1.25508                |"
      ]
     },
     "metadata": {},
     "output_type": "display_data"
    },
    {
     "data": {
      "text/html": [
       "<pre>| 27      | 1m 52s       | 1.25286                |</pre>"
      ],
      "text/plain": [
       "| 27      | 1m 52s       | 1.25286                |"
      ]
     },
     "metadata": {},
     "output_type": "display_data"
    },
    {
     "data": {
      "text/html": [
       "<pre>| 28      | 1m 57s       | 1.25075                |</pre>"
      ],
      "text/plain": [
       "| 28      | 1m 57s       | 1.25075                |"
      ]
     },
     "metadata": {},
     "output_type": "display_data"
    },
    {
     "data": {
      "text/html": [
       "<pre>| 29      | 2m 2s        | 1.24876                |</pre>"
      ],
      "text/plain": [
       "| 29      | 2m 2s        | 1.24876                |"
      ]
     },
     "metadata": {},
     "output_type": "display_data"
    },
    {
     "data": {
      "text/html": [
       "<pre>| 30      | 2m 7s        | 1.24686                |</pre>"
      ],
      "text/plain": [
       "| 30      | 2m 7s        | 1.24686                |"
      ]
     },
     "metadata": {},
     "output_type": "display_data"
    },
    {
     "data": {
      "text/html": [
       "<pre>| 31      | 2m 12s       | 1.24505                |</pre>"
      ],
      "text/plain": [
       "| 31      | 2m 12s       | 1.24505                |"
      ]
     },
     "metadata": {},
     "output_type": "display_data"
    },
    {
     "data": {
      "text/html": [
       "<pre>| 32      | 2m 16s       | 1.24332                |</pre>"
      ],
      "text/plain": [
       "| 32      | 2m 16s       | 1.24332                |"
      ]
     },
     "metadata": {},
     "output_type": "display_data"
    },
    {
     "data": {
      "text/html": [
       "<pre>| 33      | 2m 20s       | 1.24168                |</pre>"
      ],
      "text/plain": [
       "| 33      | 2m 20s       | 1.24168                |"
      ]
     },
     "metadata": {},
     "output_type": "display_data"
    },
    {
     "data": {
      "text/html": [
       "<pre>| 34      | 2m 25s       | 1.2401                 |</pre>"
      ],
      "text/plain": [
       "| 34      | 2m 25s       | 1.2401                 |"
      ]
     },
     "metadata": {},
     "output_type": "display_data"
    },
    {
     "data": {
      "text/html": [
       "<pre>| 35      | 2m 29s       | 1.23859                |</pre>"
      ],
      "text/plain": [
       "| 35      | 2m 29s       | 1.23859                |"
      ]
     },
     "metadata": {},
     "output_type": "display_data"
    },
    {
     "data": {
      "text/html": [
       "<pre>| 36      | 2m 33s       | 1.23714                |</pre>"
      ],
      "text/plain": [
       "| 36      | 2m 33s       | 1.23714                |"
      ]
     },
     "metadata": {},
     "output_type": "display_data"
    },
    {
     "data": {
      "text/html": [
       "<pre>| 37      | 2m 37s       | 1.23576                |</pre>"
      ],
      "text/plain": [
       "| 37      | 2m 37s       | 1.23576                |"
      ]
     },
     "metadata": {},
     "output_type": "display_data"
    },
    {
     "data": {
      "text/html": [
       "<pre>| 38      | 2m 42s       | 1.23442                |</pre>"
      ],
      "text/plain": [
       "| 38      | 2m 42s       | 1.23442                |"
      ]
     },
     "metadata": {},
     "output_type": "display_data"
    },
    {
     "data": {
      "text/html": [
       "<pre>| 39      | 2m 46s       | 1.23315                |</pre>"
      ],
      "text/plain": [
       "| 39      | 2m 46s       | 1.23315                |"
      ]
     },
     "metadata": {},
     "output_type": "display_data"
    },
    {
     "data": {
      "text/html": [
       "<pre>| 40      | 2m 50s       | 1.23192                |</pre>"
      ],
      "text/plain": [
       "| 40      | 2m 50s       | 1.23192                |"
      ]
     },
     "metadata": {},
     "output_type": "display_data"
    },
    {
     "data": {
      "text/html": [
       "<pre>| 41      | 2m 54s       | 1.23073                |</pre>"
      ],
      "text/plain": [
       "| 41      | 2m 54s       | 1.23073                |"
      ]
     },
     "metadata": {},
     "output_type": "display_data"
    },
    {
     "data": {
      "text/html": [
       "<pre>| 42      | 2m 59s       | 1.2296                 |</pre>"
      ],
      "text/plain": [
       "| 42      | 2m 59s       | 1.2296                 |"
      ]
     },
     "metadata": {},
     "output_type": "display_data"
    },
    {
     "data": {
      "text/html": [
       "<pre>| 43      | 3m 4s        | 1.2285                 |</pre>"
      ],
      "text/plain": [
       "| 43      | 3m 4s        | 1.2285                 |"
      ]
     },
     "metadata": {},
     "output_type": "display_data"
    },
    {
     "data": {
      "text/html": [
       "<pre>| 44      | 3m 9s        | 1.22745                |</pre>"
      ],
      "text/plain": [
       "| 44      | 3m 9s        | 1.22745                |"
      ]
     },
     "metadata": {},
     "output_type": "display_data"
    },
    {
     "data": {
      "text/html": [
       "<pre>| 45      | 3m 13s       | 1.22643                |</pre>"
      ],
      "text/plain": [
       "| 45      | 3m 13s       | 1.22643                |"
      ]
     },
     "metadata": {},
     "output_type": "display_data"
    },
    {
     "data": {
      "text/html": [
       "<pre>| 46      | 3m 18s       | 1.22545                |</pre>"
      ],
      "text/plain": [
       "| 46      | 3m 18s       | 1.22545                |"
      ]
     },
     "metadata": {},
     "output_type": "display_data"
    },
    {
     "data": {
      "text/html": [
       "<pre>| 47      | 3m 23s       | 1.22451                |</pre>"
      ],
      "text/plain": [
       "| 47      | 3m 23s       | 1.22451                |"
      ]
     },
     "metadata": {},
     "output_type": "display_data"
    },
    {
     "data": {
      "text/html": [
       "<pre>| 48      | 3m 27s       | 1.22359                |</pre>"
      ],
      "text/plain": [
       "| 48      | 3m 27s       | 1.22359                |"
      ]
     },
     "metadata": {},
     "output_type": "display_data"
    },
    {
     "data": {
      "text/html": [
       "<pre>| 49      | 3m 31s       | 1.2227                 |</pre>"
      ],
      "text/plain": [
       "| 49      | 3m 31s       | 1.2227                 |"
      ]
     },
     "metadata": {},
     "output_type": "display_data"
    },
    {
     "data": {
      "text/html": [
       "<pre>| FINAL   | 3m 31s       | 1.2227                 |</pre>"
      ],
      "text/plain": [
       "| FINAL   | 3m 31s       | 1.2227                 |"
      ]
     },
     "metadata": {},
     "output_type": "display_data"
    },
    {
     "data": {
      "text/html": [
       "<pre>+---------+--------------+------------------------+</pre>"
      ],
      "text/plain": [
       "+---------+--------------+------------------------+"
      ]
     },
     "metadata": {},
     "output_type": "display_data"
    },
    {
     "data": {
      "text/html": [
       "<pre>Optimization Complete: Iteration limit reached.</pre>"
      ],
      "text/plain": [
       "Optimization Complete: Iteration limit reached."
      ]
     },
     "metadata": {},
     "output_type": "display_data"
    },
    {
     "data": {
      "text/html": [
       "<pre>Recsys training: model = factorization_recommender</pre>"
      ],
      "text/plain": [
       "Recsys training: model = factorization_recommender"
      ]
     },
     "metadata": {},
     "output_type": "display_data"
    },
    {
     "data": {
      "text/html": [
       "<pre>Preparing data set.</pre>"
      ],
      "text/plain": [
       "Preparing data set."
      ]
     },
     "metadata": {},
     "output_type": "display_data"
    },
    {
     "data": {
      "text/html": [
       "<pre>    Data has 1096492 observations with 50690 users and 141 items.</pre>"
      ],
      "text/plain": [
       "    Data has 1096492 observations with 50690 users and 141 items."
      ]
     },
     "metadata": {},
     "output_type": "display_data"
    },
    {
     "data": {
      "text/html": [
       "<pre>    Data prepared in: 1.05333s</pre>"
      ],
      "text/plain": [
       "    Data prepared in: 1.05333s"
      ]
     },
     "metadata": {},
     "output_type": "display_data"
    },
    {
     "data": {
      "text/html": [
       "<pre>Training factorization_recommender for recommendations.</pre>"
      ],
      "text/plain": [
       "Training factorization_recommender for recommendations."
      ]
     },
     "metadata": {},
     "output_type": "display_data"
    },
    {
     "data": {
      "text/html": [
       "<pre>+------------------------------+--------------------------------------------------+----------+</pre>"
      ],
      "text/plain": [
       "+------------------------------+--------------------------------------------------+----------+"
      ]
     },
     "metadata": {},
     "output_type": "display_data"
    },
    {
     "data": {
      "text/html": [
       "<pre>| Parameter                    | Description                                      | Value    |</pre>"
      ],
      "text/plain": [
       "| Parameter                    | Description                                      | Value    |"
      ]
     },
     "metadata": {},
     "output_type": "display_data"
    },
    {
     "data": {
      "text/html": [
       "<pre>+------------------------------+--------------------------------------------------+----------+</pre>"
      ],
      "text/plain": [
       "+------------------------------+--------------------------------------------------+----------+"
      ]
     },
     "metadata": {},
     "output_type": "display_data"
    },
    {
     "data": {
      "text/html": [
       "<pre>| num_factors                  | Factor Dimension                                 | 50       |</pre>"
      ],
      "text/plain": [
       "| num_factors                  | Factor Dimension                                 | 50       |"
      ]
     },
     "metadata": {},
     "output_type": "display_data"
    },
    {
     "data": {
      "text/html": [
       "<pre>| regularization               | L2 Regularization on Factors                     | 1e-14    |</pre>"
      ],
      "text/plain": [
       "| regularization               | L2 Regularization on Factors                     | 1e-14    |"
      ]
     },
     "metadata": {},
     "output_type": "display_data"
    },
    {
     "data": {
      "text/html": [
       "<pre>| max_iterations               | Maximum Number of Iterations                     | 50       |</pre>"
      ],
      "text/plain": [
       "| max_iterations               | Maximum Number of Iterations                     | 50       |"
      ]
     },
     "metadata": {},
     "output_type": "display_data"
    },
    {
     "data": {
      "text/html": [
       "<pre>| solver                       | Solver used for training                         | als      |</pre>"
      ],
      "text/plain": [
       "| solver                       | Solver used for training                         | als      |"
      ]
     },
     "metadata": {},
     "output_type": "display_data"
    },
    {
     "data": {
      "text/html": [
       "<pre>+------------------------------+--------------------------------------------------+----------+</pre>"
      ],
      "text/plain": [
       "+------------------------------+--------------------------------------------------+----------+"
      ]
     },
     "metadata": {},
     "output_type": "display_data"
    },
    {
     "data": {
      "text/html": [
       "<pre>+---------+--------------+------------------------+</pre>"
      ],
      "text/plain": [
       "+---------+--------------+------------------------+"
      ]
     },
     "metadata": {},
     "output_type": "display_data"
    },
    {
     "data": {
      "text/html": [
       "<pre>| Iter.   | Elapsed time | RMSE                   |</pre>"
      ],
      "text/plain": [
       "| Iter.   | Elapsed time | RMSE                   |"
      ]
     },
     "metadata": {},
     "output_type": "display_data"
    },
    {
     "data": {
      "text/html": [
       "<pre>+---------+--------------+------------------------+</pre>"
      ],
      "text/plain": [
       "+---------+--------------+------------------------+"
      ]
     },
     "metadata": {},
     "output_type": "display_data"
    },
    {
     "data": {
      "text/html": [
       "<pre>| Initial | 83us         | NA                     |</pre>"
      ],
      "text/plain": [
       "| Initial | 83us         | NA                     |"
      ]
     },
     "metadata": {},
     "output_type": "display_data"
    },
    {
     "data": {
      "text/html": [
       "<pre>+---------+--------------+------------------------+</pre>"
      ],
      "text/plain": [
       "+---------+--------------+------------------------+"
      ]
     },
     "metadata": {},
     "output_type": "display_data"
    },
    {
     "data": {
      "text/html": [
       "<pre>| 0       | 4.88s        | 2.21124                |</pre>"
      ],
      "text/plain": [
       "| 0       | 4.88s        | 2.21124                |"
      ]
     },
     "metadata": {},
     "output_type": "display_data"
    },
    {
     "data": {
      "text/html": [
       "<pre>| 1       | 9.86s        | 1.47907                |</pre>"
      ],
      "text/plain": [
       "| 1       | 9.86s        | 1.47907                |"
      ]
     },
     "metadata": {},
     "output_type": "display_data"
    },
    {
     "data": {
      "text/html": [
       "<pre>| 2       | 14.82s       | 1.35376                |</pre>"
      ],
      "text/plain": [
       "| 2       | 14.82s       | 1.35376                |"
      ]
     },
     "metadata": {},
     "output_type": "display_data"
    },
    {
     "data": {
      "text/html": [
       "<pre>| 3       | 19.80s       | 1.28525                |</pre>"
      ],
      "text/plain": [
       "| 3       | 19.80s       | 1.28525                |"
      ]
     },
     "metadata": {},
     "output_type": "display_data"
    },
    {
     "data": {
      "text/html": [
       "<pre>| 4       | 25.11s       | 1.24028                |</pre>"
      ],
      "text/plain": [
       "| 4       | 25.11s       | 1.24028                |"
      ]
     },
     "metadata": {},
     "output_type": "display_data"
    },
    {
     "data": {
      "text/html": [
       "<pre>| 5       | 30.04s       | 1.20785                |</pre>"
      ],
      "text/plain": [
       "| 5       | 30.04s       | 1.20785                |"
      ]
     },
     "metadata": {},
     "output_type": "display_data"
    },
    {
     "data": {
      "text/html": [
       "<pre>| 6       | 35.32s       | 1.18311                |</pre>"
      ],
      "text/plain": [
       "| 6       | 35.32s       | 1.18311                |"
      ]
     },
     "metadata": {},
     "output_type": "display_data"
    },
    {
     "data": {
      "text/html": [
       "<pre>| 7       | 40.60s       | 1.16347                |</pre>"
      ],
      "text/plain": [
       "| 7       | 40.60s       | 1.16347                |"
      ]
     },
     "metadata": {},
     "output_type": "display_data"
    },
    {
     "data": {
      "text/html": [
       "<pre>| 8       | 45.54s       | 1.14742                |</pre>"
      ],
      "text/plain": [
       "| 8       | 45.54s       | 1.14742                |"
      ]
     },
     "metadata": {},
     "output_type": "display_data"
    },
    {
     "data": {
      "text/html": [
       "<pre>| 9       | 50.33s       | 1.13401                |</pre>"
      ],
      "text/plain": [
       "| 9       | 50.33s       | 1.13401                |"
      ]
     },
     "metadata": {},
     "output_type": "display_data"
    },
    {
     "data": {
      "text/html": [
       "<pre>| 10      | 55.26s       | 1.12261                |</pre>"
      ],
      "text/plain": [
       "| 10      | 55.26s       | 1.12261                |"
      ]
     },
     "metadata": {},
     "output_type": "display_data"
    },
    {
     "data": {
      "text/html": [
       "<pre>| 11      | 59.97s       | 1.11277                |</pre>"
      ],
      "text/plain": [
       "| 11      | 59.97s       | 1.11277                |"
      ]
     },
     "metadata": {},
     "output_type": "display_data"
    },
    {
     "data": {
      "text/html": [
       "<pre>| 12      | 1m 5s        | 1.10418                |</pre>"
      ],
      "text/plain": [
       "| 12      | 1m 5s        | 1.10418                |"
      ]
     },
     "metadata": {},
     "output_type": "display_data"
    },
    {
     "data": {
      "text/html": [
       "<pre>| 13      | 1m 10s       | 1.09661                |</pre>"
      ],
      "text/plain": [
       "| 13      | 1m 10s       | 1.09661                |"
      ]
     },
     "metadata": {},
     "output_type": "display_data"
    },
    {
     "data": {
      "text/html": [
       "<pre>| 14      | 1m 14s       | 1.08986                |</pre>"
      ],
      "text/plain": [
       "| 14      | 1m 14s       | 1.08986                |"
      ]
     },
     "metadata": {},
     "output_type": "display_data"
    },
    {
     "data": {
      "text/html": [
       "<pre>| 15      | 1m 19s       | 1.0838                 |</pre>"
      ],
      "text/plain": [
       "| 15      | 1m 19s       | 1.0838                 |"
      ]
     },
     "metadata": {},
     "output_type": "display_data"
    },
    {
     "data": {
      "text/html": [
       "<pre>| 16      | 1m 24s       | 1.07831                |</pre>"
      ],
      "text/plain": [
       "| 16      | 1m 24s       | 1.07831                |"
      ]
     },
     "metadata": {},
     "output_type": "display_data"
    },
    {
     "data": {
      "text/html": [
       "<pre>| 17      | 1m 29s       | 1.07332                |</pre>"
      ],
      "text/plain": [
       "| 17      | 1m 29s       | 1.07332                |"
      ]
     },
     "metadata": {},
     "output_type": "display_data"
    },
    {
     "data": {
      "text/html": [
       "<pre>| 18      | 1m 34s       | 1.06875                |</pre>"
      ],
      "text/plain": [
       "| 18      | 1m 34s       | 1.06875                |"
      ]
     },
     "metadata": {},
     "output_type": "display_data"
    },
    {
     "data": {
      "text/html": [
       "<pre>| 19      | 1m 38s       | 1.06453                |</pre>"
      ],
      "text/plain": [
       "| 19      | 1m 38s       | 1.06453                |"
      ]
     },
     "metadata": {},
     "output_type": "display_data"
    },
    {
     "data": {
      "text/html": [
       "<pre>| 20      | 1m 44s       | 1.06064                |</pre>"
      ],
      "text/plain": [
       "| 20      | 1m 44s       | 1.06064                |"
      ]
     },
     "metadata": {},
     "output_type": "display_data"
    },
    {
     "data": {
      "text/html": [
       "<pre>| 21      | 1m 48s       | 1.05701                |</pre>"
      ],
      "text/plain": [
       "| 21      | 1m 48s       | 1.05701                |"
      ]
     },
     "metadata": {},
     "output_type": "display_data"
    },
    {
     "data": {
      "text/html": [
       "<pre>| 22      | 1m 53s       | 1.05364                |</pre>"
      ],
      "text/plain": [
       "| 22      | 1m 53s       | 1.05364                |"
      ]
     },
     "metadata": {},
     "output_type": "display_data"
    },
    {
     "data": {
      "text/html": [
       "<pre>| 23      | 1m 58s       | 1.05048                |</pre>"
      ],
      "text/plain": [
       "| 23      | 1m 58s       | 1.05048                |"
      ]
     },
     "metadata": {},
     "output_type": "display_data"
    },
    {
     "data": {
      "text/html": [
       "<pre>| 24      | 2m 2s        | 1.04751                |</pre>"
      ],
      "text/plain": [
       "| 24      | 2m 2s        | 1.04751                |"
      ]
     },
     "metadata": {},
     "output_type": "display_data"
    },
    {
     "data": {
      "text/html": [
       "<pre>| 25      | 2m 7s        | 1.04473                |</pre>"
      ],
      "text/plain": [
       "| 25      | 2m 7s        | 1.04473                |"
      ]
     },
     "metadata": {},
     "output_type": "display_data"
    },
    {
     "data": {
      "text/html": [
       "<pre>| 26      | 2m 12s       | 1.0421                 |</pre>"
      ],
      "text/plain": [
       "| 26      | 2m 12s       | 1.0421                 |"
      ]
     },
     "metadata": {},
     "output_type": "display_data"
    },
    {
     "data": {
      "text/html": [
       "<pre>| 27      | 2m 16s       | 1.03961                |</pre>"
      ],
      "text/plain": [
       "| 27      | 2m 16s       | 1.03961                |"
      ]
     },
     "metadata": {},
     "output_type": "display_data"
    },
    {
     "data": {
      "text/html": [
       "<pre>| 28      | 2m 21s       | 1.03726                |</pre>"
      ],
      "text/plain": [
       "| 28      | 2m 21s       | 1.03726                |"
      ]
     },
     "metadata": {},
     "output_type": "display_data"
    },
    {
     "data": {
      "text/html": [
       "<pre>| 29      | 2m 26s       | 1.03503                |</pre>"
      ],
      "text/plain": [
       "| 29      | 2m 26s       | 1.03503                |"
      ]
     },
     "metadata": {},
     "output_type": "display_data"
    },
    {
     "data": {
      "text/html": [
       "<pre>| 30      | 2m 31s       | 1.03292                |</pre>"
      ],
      "text/plain": [
       "| 30      | 2m 31s       | 1.03292                |"
      ]
     },
     "metadata": {},
     "output_type": "display_data"
    },
    {
     "data": {
      "text/html": [
       "<pre>| 31      | 2m 36s       | 1.0309                 |</pre>"
      ],
      "text/plain": [
       "| 31      | 2m 36s       | 1.0309                 |"
      ]
     },
     "metadata": {},
     "output_type": "display_data"
    },
    {
     "data": {
      "text/html": [
       "<pre>| 32      | 2m 41s       | 1.02898                |</pre>"
      ],
      "text/plain": [
       "| 32      | 2m 41s       | 1.02898                |"
      ]
     },
     "metadata": {},
     "output_type": "display_data"
    },
    {
     "data": {
      "text/html": [
       "<pre>| 33      | 2m 46s       | 1.02715                |</pre>"
      ],
      "text/plain": [
       "| 33      | 2m 46s       | 1.02715                |"
      ]
     },
     "metadata": {},
     "output_type": "display_data"
    },
    {
     "data": {
      "text/html": [
       "<pre>| 34      | 2m 51s       | 1.02541                |</pre>"
      ],
      "text/plain": [
       "| 34      | 2m 51s       | 1.02541                |"
      ]
     },
     "metadata": {},
     "output_type": "display_data"
    },
    {
     "data": {
      "text/html": [
       "<pre>| 35      | 2m 55s       | 1.02374                |</pre>"
      ],
      "text/plain": [
       "| 35      | 2m 55s       | 1.02374                |"
      ]
     },
     "metadata": {},
     "output_type": "display_data"
    },
    {
     "data": {
      "text/html": [
       "<pre>| 36      | 3m 0s        | 1.02214                |</pre>"
      ],
      "text/plain": [
       "| 36      | 3m 0s        | 1.02214                |"
      ]
     },
     "metadata": {},
     "output_type": "display_data"
    },
    {
     "data": {
      "text/html": [
       "<pre>| 37      | 3m 5s        | 1.02061                |</pre>"
      ],
      "text/plain": [
       "| 37      | 3m 5s        | 1.02061                |"
      ]
     },
     "metadata": {},
     "output_type": "display_data"
    },
    {
     "data": {
      "text/html": [
       "<pre>| 38      | 3m 9s        | 1.01914                |</pre>"
      ],
      "text/plain": [
       "| 38      | 3m 9s        | 1.01914                |"
      ]
     },
     "metadata": {},
     "output_type": "display_data"
    },
    {
     "data": {
      "text/html": [
       "<pre>| 39      | 3m 14s       | 1.01773                |</pre>"
      ],
      "text/plain": [
       "| 39      | 3m 14s       | 1.01773                |"
      ]
     },
     "metadata": {},
     "output_type": "display_data"
    },
    {
     "data": {
      "text/html": [
       "<pre>| 40      | 3m 19s       | 1.01638                |</pre>"
      ],
      "text/plain": [
       "| 40      | 3m 19s       | 1.01638                |"
      ]
     },
     "metadata": {},
     "output_type": "display_data"
    },
    {
     "data": {
      "text/html": [
       "<pre>| 41      | 3m 24s       | 1.01508                |</pre>"
      ],
      "text/plain": [
       "| 41      | 3m 24s       | 1.01508                |"
      ]
     },
     "metadata": {},
     "output_type": "display_data"
    },
    {
     "data": {
      "text/html": [
       "<pre>| 42      | 3m 28s       | 1.01384                |</pre>"
      ],
      "text/plain": [
       "| 42      | 3m 28s       | 1.01384                |"
      ]
     },
     "metadata": {},
     "output_type": "display_data"
    },
    {
     "data": {
      "text/html": [
       "<pre>| 43      | 3m 33s       | 1.01264                |</pre>"
      ],
      "text/plain": [
       "| 43      | 3m 33s       | 1.01264                |"
      ]
     },
     "metadata": {},
     "output_type": "display_data"
    },
    {
     "data": {
      "text/html": [
       "<pre>| 44      | 3m 38s       | 1.01148                |</pre>"
      ],
      "text/plain": [
       "| 44      | 3m 38s       | 1.01148                |"
      ]
     },
     "metadata": {},
     "output_type": "display_data"
    },
    {
     "data": {
      "text/html": [
       "<pre>| 45      | 3m 42s       | 1.01037                |</pre>"
      ],
      "text/plain": [
       "| 45      | 3m 42s       | 1.01037                |"
      ]
     },
     "metadata": {},
     "output_type": "display_data"
    },
    {
     "data": {
      "text/html": [
       "<pre>| 46      | 3m 47s       | 1.0093                 |</pre>"
      ],
      "text/plain": [
       "| 46      | 3m 47s       | 1.0093                 |"
      ]
     },
     "metadata": {},
     "output_type": "display_data"
    },
    {
     "data": {
      "text/html": [
       "<pre>| 47      | 3m 52s       | 1.00826                |</pre>"
      ],
      "text/plain": [
       "| 47      | 3m 52s       | 1.00826                |"
      ]
     },
     "metadata": {},
     "output_type": "display_data"
    },
    {
     "data": {
      "text/html": [
       "<pre>| 48      | 3m 57s       | 1.00726                |</pre>"
      ],
      "text/plain": [
       "| 48      | 3m 57s       | 1.00726                |"
      ]
     },
     "metadata": {},
     "output_type": "display_data"
    },
    {
     "data": {
      "text/html": [
       "<pre>| 49      | 4m 1s        | 1.00629                |</pre>"
      ],
      "text/plain": [
       "| 49      | 4m 1s        | 1.00629                |"
      ]
     },
     "metadata": {},
     "output_type": "display_data"
    },
    {
     "data": {
      "text/html": [
       "<pre>| FINAL   | 4m 1s        | 1.00629                |</pre>"
      ],
      "text/plain": [
       "| FINAL   | 4m 1s        | 1.00629                |"
      ]
     },
     "metadata": {},
     "output_type": "display_data"
    },
    {
     "data": {
      "text/html": [
       "<pre>+---------+--------------+------------------------+</pre>"
      ],
      "text/plain": [
       "+---------+--------------+------------------------+"
      ]
     },
     "metadata": {},
     "output_type": "display_data"
    },
    {
     "data": {
      "text/html": [
       "<pre>Optimization Complete: Iteration limit reached.</pre>"
      ],
      "text/plain": [
       "Optimization Complete: Iteration limit reached."
      ]
     },
     "metadata": {},
     "output_type": "display_data"
    },
    {
     "data": {
      "text/html": [
       "<pre>Recsys training: model = factorization_recommender</pre>"
      ],
      "text/plain": [
       "Recsys training: model = factorization_recommender"
      ]
     },
     "metadata": {},
     "output_type": "display_data"
    },
    {
     "data": {
      "text/html": [
       "<pre>Preparing data set.</pre>"
      ],
      "text/plain": [
       "Preparing data set."
      ]
     },
     "metadata": {},
     "output_type": "display_data"
    },
    {
     "data": {
      "text/html": [
       "<pre>    Data has 1096492 observations with 50690 users and 141 items.</pre>"
      ],
      "text/plain": [
       "    Data has 1096492 observations with 50690 users and 141 items."
      ]
     },
     "metadata": {},
     "output_type": "display_data"
    },
    {
     "data": {
      "text/html": [
       "<pre>    Data prepared in: 1.25115s</pre>"
      ],
      "text/plain": [
       "    Data prepared in: 1.25115s"
      ]
     },
     "metadata": {},
     "output_type": "display_data"
    },
    {
     "data": {
      "text/html": [
       "<pre>Training factorization_recommender for recommendations.</pre>"
      ],
      "text/plain": [
       "Training factorization_recommender for recommendations."
      ]
     },
     "metadata": {},
     "output_type": "display_data"
    },
    {
     "data": {
      "text/html": [
       "<pre>+------------------------------+--------------------------------------------------+----------+</pre>"
      ],
      "text/plain": [
       "+------------------------------+--------------------------------------------------+----------+"
      ]
     },
     "metadata": {},
     "output_type": "display_data"
    },
    {
     "data": {
      "text/html": [
       "<pre>| Parameter                    | Description                                      | Value    |</pre>"
      ],
      "text/plain": [
       "| Parameter                    | Description                                      | Value    |"
      ]
     },
     "metadata": {},
     "output_type": "display_data"
    },
    {
     "data": {
      "text/html": [
       "<pre>+------------------------------+--------------------------------------------------+----------+</pre>"
      ],
      "text/plain": [
       "+------------------------------+--------------------------------------------------+----------+"
      ]
     },
     "metadata": {},
     "output_type": "display_data"
    },
    {
     "data": {
      "text/html": [
       "<pre>| num_factors                  | Factor Dimension                                 | 57       |</pre>"
      ],
      "text/plain": [
       "| num_factors                  | Factor Dimension                                 | 57       |"
      ]
     },
     "metadata": {},
     "output_type": "display_data"
    },
    {
     "data": {
      "text/html": [
       "<pre>| regularization               | L2 Regularization on Factors                     | 1e-14    |</pre>"
      ],
      "text/plain": [
       "| regularization               | L2 Regularization on Factors                     | 1e-14    |"
      ]
     },
     "metadata": {},
     "output_type": "display_data"
    },
    {
     "data": {
      "text/html": [
       "<pre>| max_iterations               | Maximum Number of Iterations                     | 50       |</pre>"
      ],
      "text/plain": [
       "| max_iterations               | Maximum Number of Iterations                     | 50       |"
      ]
     },
     "metadata": {},
     "output_type": "display_data"
    },
    {
     "data": {
      "text/html": [
       "<pre>| solver                       | Solver used for training                         | als      |</pre>"
      ],
      "text/plain": [
       "| solver                       | Solver used for training                         | als      |"
      ]
     },
     "metadata": {},
     "output_type": "display_data"
    },
    {
     "data": {
      "text/html": [
       "<pre>+------------------------------+--------------------------------------------------+----------+</pre>"
      ],
      "text/plain": [
       "+------------------------------+--------------------------------------------------+----------+"
      ]
     },
     "metadata": {},
     "output_type": "display_data"
    },
    {
     "data": {
      "text/html": [
       "<pre>+---------+--------------+------------------------+</pre>"
      ],
      "text/plain": [
       "+---------+--------------+------------------------+"
      ]
     },
     "metadata": {},
     "output_type": "display_data"
    },
    {
     "data": {
      "text/html": [
       "<pre>| Iter.   | Elapsed time | RMSE                   |</pre>"
      ],
      "text/plain": [
       "| Iter.   | Elapsed time | RMSE                   |"
      ]
     },
     "metadata": {},
     "output_type": "display_data"
    },
    {
     "data": {
      "text/html": [
       "<pre>+---------+--------------+------------------------+</pre>"
      ],
      "text/plain": [
       "+---------+--------------+------------------------+"
      ]
     },
     "metadata": {},
     "output_type": "display_data"
    },
    {
     "data": {
      "text/html": [
       "<pre>| Initial | 102us        | NA                     |</pre>"
      ],
      "text/plain": [
       "| Initial | 102us        | NA                     |"
      ]
     },
     "metadata": {},
     "output_type": "display_data"
    },
    {
     "data": {
      "text/html": [
       "<pre>+---------+--------------+------------------------+</pre>"
      ],
      "text/plain": [
       "+---------+--------------+------------------------+"
      ]
     },
     "metadata": {},
     "output_type": "display_data"
    },
    {
     "data": {
      "text/html": [
       "<pre>| 0       | 6.66s        | 2.17581                |</pre>"
      ],
      "text/plain": [
       "| 0       | 6.66s        | 2.17581                |"
      ]
     },
     "metadata": {},
     "output_type": "display_data"
    },
    {
     "data": {
      "text/html": [
       "<pre>| 1       | 12.73s       | 1.29294                |</pre>"
      ],
      "text/plain": [
       "| 1       | 12.73s       | 1.29294                |"
      ]
     },
     "metadata": {},
     "output_type": "display_data"
    },
    {
     "data": {
      "text/html": [
       "<pre>| 2       | 18.78s       | 1.16942                |</pre>"
      ],
      "text/plain": [
       "| 2       | 18.78s       | 1.16942                |"
      ]
     },
     "metadata": {},
     "output_type": "display_data"
    },
    {
     "data": {
      "text/html": [
       "<pre>| 3       | 24.81s       | 1.09953                |</pre>"
      ],
      "text/plain": [
       "| 3       | 24.81s       | 1.09953                |"
      ]
     },
     "metadata": {},
     "output_type": "display_data"
    },
    {
     "data": {
      "text/html": [
       "<pre>| 4       | 30.87s       | 1.05333                |</pre>"
      ],
      "text/plain": [
       "| 4       | 30.87s       | 1.05333                |"
      ]
     },
     "metadata": {},
     "output_type": "display_data"
    },
    {
     "data": {
      "text/html": [
       "<pre>| 5       | 36.97s       | 1.01982                |</pre>"
      ],
      "text/plain": [
       "| 5       | 36.97s       | 1.01982                |"
      ]
     },
     "metadata": {},
     "output_type": "display_data"
    },
    {
     "data": {
      "text/html": [
       "<pre>| 6       | 43.13s       | 0.994058               |</pre>"
      ],
      "text/plain": [
       "| 6       | 43.13s       | 0.994058               |"
      ]
     },
     "metadata": {},
     "output_type": "display_data"
    },
    {
     "data": {
      "text/html": [
       "<pre>| 7       | 49.43s       | 0.973458               |</pre>"
      ],
      "text/plain": [
       "| 7       | 49.43s       | 0.973458               |"
      ]
     },
     "metadata": {},
     "output_type": "display_data"
    },
    {
     "data": {
      "text/html": [
       "<pre>| 8       | 55.98s       | 0.956504               |</pre>"
      ],
      "text/plain": [
       "| 8       | 55.98s       | 0.956504               |"
      ]
     },
     "metadata": {},
     "output_type": "display_data"
    },
    {
     "data": {
      "text/html": [
       "<pre>| 9       | 1m 1s        | 0.942243               |</pre>"
      ],
      "text/plain": [
       "| 9       | 1m 1s        | 0.942243               |"
      ]
     },
     "metadata": {},
     "output_type": "display_data"
    },
    {
     "data": {
      "text/html": [
       "<pre>| 10      | 1m 8s        | 0.930047               |</pre>"
      ],
      "text/plain": [
       "| 10      | 1m 8s        | 0.930047               |"
      ]
     },
     "metadata": {},
     "output_type": "display_data"
    },
    {
     "data": {
      "text/html": [
       "<pre>| 11      | 1m 14s       | 0.919478               |</pre>"
      ],
      "text/plain": [
       "| 11      | 1m 14s       | 0.919478               |"
      ]
     },
     "metadata": {},
     "output_type": "display_data"
    },
    {
     "data": {
      "text/html": [
       "<pre>| 12      | 1m 20s       | 0.910219               |</pre>"
      ],
      "text/plain": [
       "| 12      | 1m 20s       | 0.910219               |"
      ]
     },
     "metadata": {},
     "output_type": "display_data"
    },
    {
     "data": {
      "text/html": [
       "<pre>| 13      | 1m 26s       | 0.902031               |</pre>"
      ],
      "text/plain": [
       "| 13      | 1m 26s       | 0.902031               |"
      ]
     },
     "metadata": {},
     "output_type": "display_data"
    },
    {
     "data": {
      "text/html": [
       "<pre>| 14      | 1m 32s       | 0.894727               |</pre>"
      ],
      "text/plain": [
       "| 14      | 1m 32s       | 0.894727               |"
      ]
     },
     "metadata": {},
     "output_type": "display_data"
    },
    {
     "data": {
      "text/html": [
       "<pre>| 15      | 1m 38s       | 0.888162               |</pre>"
      ],
      "text/plain": [
       "| 15      | 1m 38s       | 0.888162               |"
      ]
     },
     "metadata": {},
     "output_type": "display_data"
    },
    {
     "data": {
      "text/html": [
       "<pre>| 16      | 1m 45s       | 0.882217               |</pre>"
      ],
      "text/plain": [
       "| 16      | 1m 45s       | 0.882217               |"
      ]
     },
     "metadata": {},
     "output_type": "display_data"
    },
    {
     "data": {
      "text/html": [
       "<pre>| 17      | 1m 51s       | 0.8768                 |</pre>"
      ],
      "text/plain": [
       "| 17      | 1m 51s       | 0.8768                 |"
      ]
     },
     "metadata": {},
     "output_type": "display_data"
    },
    {
     "data": {
      "text/html": [
       "<pre>| 18      | 1m 57s       | 0.871838               |</pre>"
      ],
      "text/plain": [
       "| 18      | 1m 57s       | 0.871838               |"
      ]
     },
     "metadata": {},
     "output_type": "display_data"
    },
    {
     "data": {
      "text/html": [
       "<pre>| 19      | 2m 4s        | 0.867272               |</pre>"
      ],
      "text/plain": [
       "| 19      | 2m 4s        | 0.867272               |"
      ]
     },
     "metadata": {},
     "output_type": "display_data"
    },
    {
     "data": {
      "text/html": [
       "<pre>| 20      | 2m 10s       | 0.863054               |</pre>"
      ],
      "text/plain": [
       "| 20      | 2m 10s       | 0.863054               |"
      ]
     },
     "metadata": {},
     "output_type": "display_data"
    },
    {
     "data": {
      "text/html": [
       "<pre>| 21      | 2m 16s       | 0.859145               |</pre>"
      ],
      "text/plain": [
       "| 21      | 2m 16s       | 0.859145               |"
      ]
     },
     "metadata": {},
     "output_type": "display_data"
    },
    {
     "data": {
      "text/html": [
       "<pre>| 22      | 2m 22s       | 0.855513               |</pre>"
      ],
      "text/plain": [
       "| 22      | 2m 22s       | 0.855513               |"
      ]
     },
     "metadata": {},
     "output_type": "display_data"
    },
    {
     "data": {
      "text/html": [
       "<pre>| 23      | 2m 28s       | 0.852131               |</pre>"
      ],
      "text/plain": [
       "| 23      | 2m 28s       | 0.852131               |"
      ]
     },
     "metadata": {},
     "output_type": "display_data"
    },
    {
     "data": {
      "text/html": [
       "<pre>| 24      | 2m 35s       | 0.848976               |</pre>"
      ],
      "text/plain": [
       "| 24      | 2m 35s       | 0.848976               |"
      ]
     },
     "metadata": {},
     "output_type": "display_data"
    },
    {
     "data": {
      "text/html": [
       "<pre>| 25      | 2m 42s       | 0.846026               |</pre>"
      ],
      "text/plain": [
       "| 25      | 2m 42s       | 0.846026               |"
      ]
     },
     "metadata": {},
     "output_type": "display_data"
    },
    {
     "data": {
      "text/html": [
       "<pre>| 26      | 2m 49s       | 0.843263               |</pre>"
      ],
      "text/plain": [
       "| 26      | 2m 49s       | 0.843263               |"
      ]
     },
     "metadata": {},
     "output_type": "display_data"
    },
    {
     "data": {
      "text/html": [
       "<pre>| 27      | 2m 55s       | 0.840671               |</pre>"
      ],
      "text/plain": [
       "| 27      | 2m 55s       | 0.840671               |"
      ]
     },
     "metadata": {},
     "output_type": "display_data"
    },
    {
     "data": {
      "text/html": [
       "<pre>| 28      | 3m 1s        | 0.838235               |</pre>"
      ],
      "text/plain": [
       "| 28      | 3m 1s        | 0.838235               |"
      ]
     },
     "metadata": {},
     "output_type": "display_data"
    },
    {
     "data": {
      "text/html": [
       "<pre>| 29      | 3m 8s        | 0.835943               |</pre>"
      ],
      "text/plain": [
       "| 29      | 3m 8s        | 0.835943               |"
      ]
     },
     "metadata": {},
     "output_type": "display_data"
    },
    {
     "data": {
      "text/html": [
       "<pre>| 30      | 3m 14s       | 0.833781               |</pre>"
      ],
      "text/plain": [
       "| 30      | 3m 14s       | 0.833781               |"
      ]
     },
     "metadata": {},
     "output_type": "display_data"
    },
    {
     "data": {
      "text/html": [
       "<pre>| 31      | 3m 20s       | 0.831739               |</pre>"
      ],
      "text/plain": [
       "| 31      | 3m 20s       | 0.831739               |"
      ]
     },
     "metadata": {},
     "output_type": "display_data"
    },
    {
     "data": {
      "text/html": [
       "<pre>| 32      | 3m 26s       | 0.829806               |</pre>"
      ],
      "text/plain": [
       "| 32      | 3m 26s       | 0.829806               |"
      ]
     },
     "metadata": {},
     "output_type": "display_data"
    },
    {
     "data": {
      "text/html": [
       "<pre>| 33      | 3m 32s       | 0.827975               |</pre>"
      ],
      "text/plain": [
       "| 33      | 3m 32s       | 0.827975               |"
      ]
     },
     "metadata": {},
     "output_type": "display_data"
    },
    {
     "data": {
      "text/html": [
       "<pre>| 34      | 3m 38s       | 0.826235               |</pre>"
      ],
      "text/plain": [
       "| 34      | 3m 38s       | 0.826235               |"
      ]
     },
     "metadata": {},
     "output_type": "display_data"
    },
    {
     "data": {
      "text/html": [
       "<pre>| 35      | 3m 44s       | 0.824581               |</pre>"
      ],
      "text/plain": [
       "| 35      | 3m 44s       | 0.824581               |"
      ]
     },
     "metadata": {},
     "output_type": "display_data"
    },
    {
     "data": {
      "text/html": [
       "<pre>| 36      | 3m 50s       | 0.823003               |</pre>"
      ],
      "text/plain": [
       "| 36      | 3m 50s       | 0.823003               |"
      ]
     },
     "metadata": {},
     "output_type": "display_data"
    },
    {
     "data": {
      "text/html": [
       "<pre>| 37      | 3m 56s       | 0.821497               |</pre>"
      ],
      "text/plain": [
       "| 37      | 3m 56s       | 0.821497               |"
      ]
     },
     "metadata": {},
     "output_type": "display_data"
    },
    {
     "data": {
      "text/html": [
       "<pre>| 38      | 4m 2s        | 0.820057               |</pre>"
      ],
      "text/plain": [
       "| 38      | 4m 2s        | 0.820057               |"
      ]
     },
     "metadata": {},
     "output_type": "display_data"
    },
    {
     "data": {
      "text/html": [
       "<pre>| 39      | 4m 8s        | 0.818676               |</pre>"
      ],
      "text/plain": [
       "| 39      | 4m 8s        | 0.818676               |"
      ]
     },
     "metadata": {},
     "output_type": "display_data"
    },
    {
     "data": {
      "text/html": [
       "<pre>| 40      | 4m 14s       | 0.817351               |</pre>"
      ],
      "text/plain": [
       "| 40      | 4m 14s       | 0.817351               |"
      ]
     },
     "metadata": {},
     "output_type": "display_data"
    },
    {
     "data": {
      "text/html": [
       "<pre>| 41      | 4m 20s       | 0.816076               |</pre>"
      ],
      "text/plain": [
       "| 41      | 4m 20s       | 0.816076               |"
      ]
     },
     "metadata": {},
     "output_type": "display_data"
    },
    {
     "data": {
      "text/html": [
       "<pre>| 42      | 4m 26s       | 0.814848               |</pre>"
      ],
      "text/plain": [
       "| 42      | 4m 26s       | 0.814848               |"
      ]
     },
     "metadata": {},
     "output_type": "display_data"
    },
    {
     "data": {
      "text/html": [
       "<pre>| 43      | 4m 32s       | 0.813664               |</pre>"
      ],
      "text/plain": [
       "| 43      | 4m 32s       | 0.813664               |"
      ]
     },
     "metadata": {},
     "output_type": "display_data"
    },
    {
     "data": {
      "text/html": [
       "<pre>| 44      | 4m 38s       | 0.812519               |</pre>"
      ],
      "text/plain": [
       "| 44      | 4m 38s       | 0.812519               |"
      ]
     },
     "metadata": {},
     "output_type": "display_data"
    },
    {
     "data": {
      "text/html": [
       "<pre>| 45      | 4m 44s       | 0.811411               |</pre>"
      ],
      "text/plain": [
       "| 45      | 4m 44s       | 0.811411               |"
      ]
     },
     "metadata": {},
     "output_type": "display_data"
    },
    {
     "data": {
      "text/html": [
       "<pre>| 46      | 4m 50s       | 0.810337               |</pre>"
      ],
      "text/plain": [
       "| 46      | 4m 50s       | 0.810337               |"
      ]
     },
     "metadata": {},
     "output_type": "display_data"
    },
    {
     "data": {
      "text/html": [
       "<pre>| 47      | 4m 56s       | 0.809295               |</pre>"
      ],
      "text/plain": [
       "| 47      | 4m 56s       | 0.809295               |"
      ]
     },
     "metadata": {},
     "output_type": "display_data"
    },
    {
     "data": {
      "text/html": [
       "<pre>| 48      | 5m 2s        | 0.808283               |</pre>"
      ],
      "text/plain": [
       "| 48      | 5m 2s        | 0.808283               |"
      ]
     },
     "metadata": {},
     "output_type": "display_data"
    },
    {
     "data": {
      "text/html": [
       "<pre>| 49      | 5m 8s        | 0.807299               |</pre>"
      ],
      "text/plain": [
       "| 49      | 5m 8s        | 0.807299               |"
      ]
     },
     "metadata": {},
     "output_type": "display_data"
    },
    {
     "data": {
      "text/html": [
       "<pre>| FINAL   | 5m 8s        | 0.807299               |</pre>"
      ],
      "text/plain": [
       "| FINAL   | 5m 8s        | 0.807299               |"
      ]
     },
     "metadata": {},
     "output_type": "display_data"
    },
    {
     "data": {
      "text/html": [
       "<pre>+---------+--------------+------------------------+</pre>"
      ],
      "text/plain": [
       "+---------+--------------+------------------------+"
      ]
     },
     "metadata": {},
     "output_type": "display_data"
    },
    {
     "data": {
      "text/html": [
       "<pre>Optimization Complete: Iteration limit reached.</pre>"
      ],
      "text/plain": [
       "Optimization Complete: Iteration limit reached."
      ]
     },
     "metadata": {},
     "output_type": "display_data"
    },
    {
     "data": {
      "text/html": [
       "<pre>Recsys training: model = factorization_recommender</pre>"
      ],
      "text/plain": [
       "Recsys training: model = factorization_recommender"
      ]
     },
     "metadata": {},
     "output_type": "display_data"
    },
    {
     "data": {
      "text/html": [
       "<pre>Preparing data set.</pre>"
      ],
      "text/plain": [
       "Preparing data set."
      ]
     },
     "metadata": {},
     "output_type": "display_data"
    },
    {
     "data": {
      "text/html": [
       "<pre>    Data has 1096492 observations with 50690 users and 141 items.</pre>"
      ],
      "text/plain": [
       "    Data has 1096492 observations with 50690 users and 141 items."
      ]
     },
     "metadata": {},
     "output_type": "display_data"
    },
    {
     "data": {
      "text/html": [
       "<pre>    Data prepared in: 0.993316s</pre>"
      ],
      "text/plain": [
       "    Data prepared in: 0.993316s"
      ]
     },
     "metadata": {},
     "output_type": "display_data"
    },
    {
     "data": {
      "text/html": [
       "<pre>Training factorization_recommender for recommendations.</pre>"
      ],
      "text/plain": [
       "Training factorization_recommender for recommendations."
      ]
     },
     "metadata": {},
     "output_type": "display_data"
    },
    {
     "data": {
      "text/html": [
       "<pre>+------------------------------+--------------------------------------------------+----------+</pre>"
      ],
      "text/plain": [
       "+------------------------------+--------------------------------------------------+----------+"
      ]
     },
     "metadata": {},
     "output_type": "display_data"
    },
    {
     "data": {
      "text/html": [
       "<pre>| Parameter                    | Description                                      | Value    |</pre>"
      ],
      "text/plain": [
       "| Parameter                    | Description                                      | Value    |"
      ]
     },
     "metadata": {},
     "output_type": "display_data"
    },
    {
     "data": {
      "text/html": [
       "<pre>+------------------------------+--------------------------------------------------+----------+</pre>"
      ],
      "text/plain": [
       "+------------------------------+--------------------------------------------------+----------+"
      ]
     },
     "metadata": {},
     "output_type": "display_data"
    },
    {
     "data": {
      "text/html": [
       "<pre>| num_factors                  | Factor Dimension                                 | 64       |</pre>"
      ],
      "text/plain": [
       "| num_factors                  | Factor Dimension                                 | 64       |"
      ]
     },
     "metadata": {},
     "output_type": "display_data"
    },
    {
     "data": {
      "text/html": [
       "<pre>| regularization               | L2 Regularization on Factors                     | 1e-14    |</pre>"
      ],
      "text/plain": [
       "| regularization               | L2 Regularization on Factors                     | 1e-14    |"
      ]
     },
     "metadata": {},
     "output_type": "display_data"
    },
    {
     "data": {
      "text/html": [
       "<pre>| max_iterations               | Maximum Number of Iterations                     | 50       |</pre>"
      ],
      "text/plain": [
       "| max_iterations               | Maximum Number of Iterations                     | 50       |"
      ]
     },
     "metadata": {},
     "output_type": "display_data"
    },
    {
     "data": {
      "text/html": [
       "<pre>| solver                       | Solver used for training                         | als      |</pre>"
      ],
      "text/plain": [
       "| solver                       | Solver used for training                         | als      |"
      ]
     },
     "metadata": {},
     "output_type": "display_data"
    },
    {
     "data": {
      "text/html": [
       "<pre>+------------------------------+--------------------------------------------------+----------+</pre>"
      ],
      "text/plain": [
       "+------------------------------+--------------------------------------------------+----------+"
      ]
     },
     "metadata": {},
     "output_type": "display_data"
    },
    {
     "data": {
      "text/html": [
       "<pre>+---------+--------------+------------------------+</pre>"
      ],
      "text/plain": [
       "+---------+--------------+------------------------+"
      ]
     },
     "metadata": {},
     "output_type": "display_data"
    },
    {
     "data": {
      "text/html": [
       "<pre>| Iter.   | Elapsed time | RMSE                   |</pre>"
      ],
      "text/plain": [
       "| Iter.   | Elapsed time | RMSE                   |"
      ]
     },
     "metadata": {},
     "output_type": "display_data"
    },
    {
     "data": {
      "text/html": [
       "<pre>+---------+--------------+------------------------+</pre>"
      ],
      "text/plain": [
       "+---------+--------------+------------------------+"
      ]
     },
     "metadata": {},
     "output_type": "display_data"
    },
    {
     "data": {
      "text/html": [
       "<pre>| Initial | 81us         | NA                     |</pre>"
      ],
      "text/plain": [
       "| Initial | 81us         | NA                     |"
      ]
     },
     "metadata": {},
     "output_type": "display_data"
    },
    {
     "data": {
      "text/html": [
       "<pre>+---------+--------------+------------------------+</pre>"
      ],
      "text/plain": [
       "+---------+--------------+------------------------+"
      ]
     },
     "metadata": {},
     "output_type": "display_data"
    },
    {
     "data": {
      "text/html": [
       "<pre>| 0       | 7.30s        | 1.92567                |</pre>"
      ],
      "text/plain": [
       "| 0       | 7.30s        | 1.92567                |"
      ]
     },
     "metadata": {},
     "output_type": "display_data"
    },
    {
     "data": {
      "text/html": [
       "<pre>| 1       | 14.42s       | 1.1221                 |</pre>"
      ],
      "text/plain": [
       "| 1       | 14.42s       | 1.1221                 |"
      ]
     },
     "metadata": {},
     "output_type": "display_data"
    },
    {
     "data": {
      "text/html": [
       "<pre>| 2       | 21.53s       | 0.996353               |</pre>"
      ],
      "text/plain": [
       "| 2       | 21.53s       | 0.996353               |"
      ]
     },
     "metadata": {},
     "output_type": "display_data"
    },
    {
     "data": {
      "text/html": [
       "<pre>| 3       | 28.68s       | 0.923703               |</pre>"
      ],
      "text/plain": [
       "| 3       | 28.68s       | 0.923703               |"
      ]
     },
     "metadata": {},
     "output_type": "display_data"
    },
    {
     "data": {
      "text/html": [
       "<pre>| 4       | 36.35s       | 0.87488                |</pre>"
      ],
      "text/plain": [
       "| 4       | 36.35s       | 0.87488                |"
      ]
     },
     "metadata": {},
     "output_type": "display_data"
    },
    {
     "data": {
      "text/html": [
       "<pre>| 5       | 43.51s       | 0.839109               |</pre>"
      ],
      "text/plain": [
       "| 5       | 43.51s       | 0.839109               |"
      ]
     },
     "metadata": {},
     "output_type": "display_data"
    },
    {
     "data": {
      "text/html": [
       "<pre>| 6       | 50.67s       | 0.811444               |</pre>"
      ],
      "text/plain": [
       "| 6       | 50.67s       | 0.811444               |"
      ]
     },
     "metadata": {},
     "output_type": "display_data"
    },
    {
     "data": {
      "text/html": [
       "<pre>| 7       | 57.83s       | 0.78924                |</pre>"
      ],
      "text/plain": [
       "| 7       | 57.83s       | 0.78924                |"
      ]
     },
     "metadata": {},
     "output_type": "display_data"
    },
    {
     "data": {
      "text/html": [
       "<pre>| 8       | 1m 4s        | 0.770929               |</pre>"
      ],
      "text/plain": [
       "| 8       | 1m 4s        | 0.770929               |"
      ]
     },
     "metadata": {},
     "output_type": "display_data"
    },
    {
     "data": {
      "text/html": [
       "<pre>| 9       | 1m 12s       | 0.75552                |</pre>"
      ],
      "text/plain": [
       "| 9       | 1m 12s       | 0.75552                |"
      ]
     },
     "metadata": {},
     "output_type": "display_data"
    },
    {
     "data": {
      "text/html": [
       "<pre>| 10      | 1m 19s       | 0.742343               |</pre>"
      ],
      "text/plain": [
       "| 10      | 1m 19s       | 0.742343               |"
      ]
     },
     "metadata": {},
     "output_type": "display_data"
    },
    {
     "data": {
      "text/html": [
       "<pre>| 11      | 1m 26s       | 0.730928               |</pre>"
      ],
      "text/plain": [
       "| 11      | 1m 26s       | 0.730928               |"
      ]
     },
     "metadata": {},
     "output_type": "display_data"
    },
    {
     "data": {
      "text/html": [
       "<pre>| 12      | 1m 33s       | 0.720927               |</pre>"
      ],
      "text/plain": [
       "| 12      | 1m 33s       | 0.720927               |"
      ]
     },
     "metadata": {},
     "output_type": "display_data"
    },
    {
     "data": {
      "text/html": [
       "<pre>| 13      | 1m 41s       | 0.712076               |</pre>"
      ],
      "text/plain": [
       "| 13      | 1m 41s       | 0.712076               |"
      ]
     },
     "metadata": {},
     "output_type": "display_data"
    },
    {
     "data": {
      "text/html": [
       "<pre>| 14      | 1m 48s       | 0.704172               |</pre>"
      ],
      "text/plain": [
       "| 14      | 1m 48s       | 0.704172               |"
      ]
     },
     "metadata": {},
     "output_type": "display_data"
    },
    {
     "data": {
      "text/html": [
       "<pre>| 15      | 1m 55s       | 0.697056               |</pre>"
      ],
      "text/plain": [
       "| 15      | 1m 55s       | 0.697056               |"
      ]
     },
     "metadata": {},
     "output_type": "display_data"
    },
    {
     "data": {
      "text/html": [
       "<pre>| 16      | 2m 2s        | 0.690602               |</pre>"
      ],
      "text/plain": [
       "| 16      | 2m 2s        | 0.690602               |"
      ]
     },
     "metadata": {},
     "output_type": "display_data"
    },
    {
     "data": {
      "text/html": [
       "<pre>| 17      | 2m 9s        | 0.684712               |</pre>"
      ],
      "text/plain": [
       "| 17      | 2m 9s        | 0.684712               |"
      ]
     },
     "metadata": {},
     "output_type": "display_data"
    },
    {
     "data": {
      "text/html": [
       "<pre>| 18      | 2m 16s       | 0.679308               |</pre>"
      ],
      "text/plain": [
       "| 18      | 2m 16s       | 0.679308               |"
      ]
     },
     "metadata": {},
     "output_type": "display_data"
    },
    {
     "data": {
      "text/html": [
       "<pre>| 19      | 2m 23s       | 0.674329               |</pre>"
      ],
      "text/plain": [
       "| 19      | 2m 23s       | 0.674329               |"
      ]
     },
     "metadata": {},
     "output_type": "display_data"
    },
    {
     "data": {
      "text/html": [
       "<pre>| 20      | 2m 30s       | 0.669723               |</pre>"
      ],
      "text/plain": [
       "| 20      | 2m 30s       | 0.669723               |"
      ]
     },
     "metadata": {},
     "output_type": "display_data"
    },
    {
     "data": {
      "text/html": [
       "<pre>| 21      | 2m 38s       | 0.665449               |</pre>"
      ],
      "text/plain": [
       "| 21      | 2m 38s       | 0.665449               |"
      ]
     },
     "metadata": {},
     "output_type": "display_data"
    },
    {
     "data": {
      "text/html": [
       "<pre>| 22      | 2m 45s       | 0.661472               |</pre>"
      ],
      "text/plain": [
       "| 22      | 2m 45s       | 0.661472               |"
      ]
     },
     "metadata": {},
     "output_type": "display_data"
    },
    {
     "data": {
      "text/html": [
       "<pre>| 23      | 2m 52s       | 0.657762               |</pre>"
      ],
      "text/plain": [
       "| 23      | 2m 52s       | 0.657762               |"
      ]
     },
     "metadata": {},
     "output_type": "display_data"
    },
    {
     "data": {
      "text/html": [
       "<pre>| 24      | 2m 59s       | 0.654293               |</pre>"
      ],
      "text/plain": [
       "| 24      | 2m 59s       | 0.654293               |"
      ]
     },
     "metadata": {},
     "output_type": "display_data"
    },
    {
     "data": {
      "text/html": [
       "<pre>| 25      | 3m 6s        | 0.651044               |</pre>"
      ],
      "text/plain": [
       "| 25      | 3m 6s        | 0.651044               |"
      ]
     },
     "metadata": {},
     "output_type": "display_data"
    },
    {
     "data": {
      "text/html": [
       "<pre>| 26      | 3m 13s       | 0.647994               |</pre>"
      ],
      "text/plain": [
       "| 26      | 3m 13s       | 0.647994               |"
      ]
     },
     "metadata": {},
     "output_type": "display_data"
    },
    {
     "data": {
      "text/html": [
       "<pre>| 27      | 3m 21s       | 0.645126               |</pre>"
      ],
      "text/plain": [
       "| 27      | 3m 21s       | 0.645126               |"
      ]
     },
     "metadata": {},
     "output_type": "display_data"
    },
    {
     "data": {
      "text/html": [
       "<pre>| 28      | 3m 28s       | 0.642424               |</pre>"
      ],
      "text/plain": [
       "| 28      | 3m 28s       | 0.642424               |"
      ]
     },
     "metadata": {},
     "output_type": "display_data"
    },
    {
     "data": {
      "text/html": [
       "<pre>| 29      | 3m 36s       | 0.639874               |</pre>"
      ],
      "text/plain": [
       "| 29      | 3m 36s       | 0.639874               |"
      ]
     },
     "metadata": {},
     "output_type": "display_data"
    },
    {
     "data": {
      "text/html": [
       "<pre>| 30      | 3m 43s       | 0.637462               |</pre>"
      ],
      "text/plain": [
       "| 30      | 3m 43s       | 0.637462               |"
      ]
     },
     "metadata": {},
     "output_type": "display_data"
    },
    {
     "data": {
      "text/html": [
       "<pre>| 31      | 3m 51s       | 0.635176               |</pre>"
      ],
      "text/plain": [
       "| 31      | 3m 51s       | 0.635176               |"
      ]
     },
     "metadata": {},
     "output_type": "display_data"
    },
    {
     "data": {
      "text/html": [
       "<pre>| 32      | 3m 58s       | 0.633005               |</pre>"
      ],
      "text/plain": [
       "| 32      | 3m 58s       | 0.633005               |"
      ]
     },
     "metadata": {},
     "output_type": "display_data"
    },
    {
     "data": {
      "text/html": [
       "<pre>| 33      | 4m 5s        | 0.630938               |</pre>"
      ],
      "text/plain": [
       "| 33      | 4m 5s        | 0.630938               |"
      ]
     },
     "metadata": {},
     "output_type": "display_data"
    },
    {
     "data": {
      "text/html": [
       "<pre>| 34      | 4m 12s       | 0.628967               |</pre>"
      ],
      "text/plain": [
       "| 34      | 4m 12s       | 0.628967               |"
      ]
     },
     "metadata": {},
     "output_type": "display_data"
    },
    {
     "data": {
      "text/html": [
       "<pre>| 35      | 4m 19s       | 0.627082               |</pre>"
      ],
      "text/plain": [
       "| 35      | 4m 19s       | 0.627082               |"
      ]
     },
     "metadata": {},
     "output_type": "display_data"
    },
    {
     "data": {
      "text/html": [
       "<pre>| 36      | 4m 27s       | 0.625277               |</pre>"
      ],
      "text/plain": [
       "| 36      | 4m 27s       | 0.625277               |"
      ]
     },
     "metadata": {},
     "output_type": "display_data"
    },
    {
     "data": {
      "text/html": [
       "<pre>| 37      | 4m 34s       | 0.623545               |</pre>"
      ],
      "text/plain": [
       "| 37      | 4m 34s       | 0.623545               |"
      ]
     },
     "metadata": {},
     "output_type": "display_data"
    },
    {
     "data": {
      "text/html": [
       "<pre>| 38      | 4m 41s       | 0.621879               |</pre>"
      ],
      "text/plain": [
       "| 38      | 4m 41s       | 0.621879               |"
      ]
     },
     "metadata": {},
     "output_type": "display_data"
    },
    {
     "data": {
      "text/html": [
       "<pre>| 39      | 4m 48s       | 0.620276               |</pre>"
      ],
      "text/plain": [
       "| 39      | 4m 48s       | 0.620276               |"
      ]
     },
     "metadata": {},
     "output_type": "display_data"
    },
    {
     "data": {
      "text/html": [
       "<pre>| 40      | 4m 56s       | 0.618729               |</pre>"
      ],
      "text/plain": [
       "| 40      | 4m 56s       | 0.618729               |"
      ]
     },
     "metadata": {},
     "output_type": "display_data"
    },
    {
     "data": {
      "text/html": [
       "<pre>| 41      | 5m 3s        | 0.617237               |</pre>"
      ],
      "text/plain": [
       "| 41      | 5m 3s        | 0.617237               |"
      ]
     },
     "metadata": {},
     "output_type": "display_data"
    },
    {
     "data": {
      "text/html": [
       "<pre>| 42      | 5m 10s       | 0.615794               |</pre>"
      ],
      "text/plain": [
       "| 42      | 5m 10s       | 0.615794               |"
      ]
     },
     "metadata": {},
     "output_type": "display_data"
    },
    {
     "data": {
      "text/html": [
       "<pre>| 43      | 5m 17s       | 0.614399               |</pre>"
      ],
      "text/plain": [
       "| 43      | 5m 17s       | 0.614399               |"
      ]
     },
     "metadata": {},
     "output_type": "display_data"
    },
    {
     "data": {
      "text/html": [
       "<pre>| 44      | 5m 24s       | 0.613048               |</pre>"
      ],
      "text/plain": [
       "| 44      | 5m 24s       | 0.613048               |"
      ]
     },
     "metadata": {},
     "output_type": "display_data"
    },
    {
     "data": {
      "text/html": [
       "<pre>| 45      | 5m 31s       | 0.611739               |</pre>"
      ],
      "text/plain": [
       "| 45      | 5m 31s       | 0.611739               |"
      ]
     },
     "metadata": {},
     "output_type": "display_data"
    },
    {
     "data": {
      "text/html": [
       "<pre>| 46      | 5m 39s       | 0.610471               |</pre>"
      ],
      "text/plain": [
       "| 46      | 5m 39s       | 0.610471               |"
      ]
     },
     "metadata": {},
     "output_type": "display_data"
    },
    {
     "data": {
      "text/html": [
       "<pre>| 47      | 5m 46s       | 0.609242               |</pre>"
      ],
      "text/plain": [
       "| 47      | 5m 46s       | 0.609242               |"
      ]
     },
     "metadata": {},
     "output_type": "display_data"
    },
    {
     "data": {
      "text/html": [
       "<pre>| 48      | 5m 53s       | 0.60805                |</pre>"
      ],
      "text/plain": [
       "| 48      | 5m 53s       | 0.60805                |"
      ]
     },
     "metadata": {},
     "output_type": "display_data"
    },
    {
     "data": {
      "text/html": [
       "<pre>| 49      | 6m 0s        | 0.606893               |</pre>"
      ],
      "text/plain": [
       "| 49      | 6m 0s        | 0.606893               |"
      ]
     },
     "metadata": {},
     "output_type": "display_data"
    },
    {
     "data": {
      "text/html": [
       "<pre>| FINAL   | 6m 0s        | 0.606893               |</pre>"
      ],
      "text/plain": [
       "| FINAL   | 6m 0s        | 0.606893               |"
      ]
     },
     "metadata": {},
     "output_type": "display_data"
    },
    {
     "data": {
      "text/html": [
       "<pre>+---------+--------------+------------------------+</pre>"
      ],
      "text/plain": [
       "+---------+--------------+------------------------+"
      ]
     },
     "metadata": {},
     "output_type": "display_data"
    },
    {
     "data": {
      "text/html": [
       "<pre>Optimization Complete: Iteration limit reached.</pre>"
      ],
      "text/plain": [
       "Optimization Complete: Iteration limit reached."
      ]
     },
     "metadata": {},
     "output_type": "display_data"
    },
    {
     "data": {
      "text/html": [
       "<pre>Recsys training: model = factorization_recommender</pre>"
      ],
      "text/plain": [
       "Recsys training: model = factorization_recommender"
      ]
     },
     "metadata": {},
     "output_type": "display_data"
    },
    {
     "data": {
      "text/html": [
       "<pre>Preparing data set.</pre>"
      ],
      "text/plain": [
       "Preparing data set."
      ]
     },
     "metadata": {},
     "output_type": "display_data"
    },
    {
     "data": {
      "text/html": [
       "<pre>    Data has 1096492 observations with 50690 users and 141 items.</pre>"
      ],
      "text/plain": [
       "    Data has 1096492 observations with 50690 users and 141 items."
      ]
     },
     "metadata": {},
     "output_type": "display_data"
    },
    {
     "data": {
      "text/html": [
       "<pre>    Data prepared in: 1.00628s</pre>"
      ],
      "text/plain": [
       "    Data prepared in: 1.00628s"
      ]
     },
     "metadata": {},
     "output_type": "display_data"
    },
    {
     "data": {
      "text/html": [
       "<pre>Training factorization_recommender for recommendations.</pre>"
      ],
      "text/plain": [
       "Training factorization_recommender for recommendations."
      ]
     },
     "metadata": {},
     "output_type": "display_data"
    },
    {
     "data": {
      "text/html": [
       "<pre>+------------------------------+--------------------------------------------------+----------+</pre>"
      ],
      "text/plain": [
       "+------------------------------+--------------------------------------------------+----------+"
      ]
     },
     "metadata": {},
     "output_type": "display_data"
    },
    {
     "data": {
      "text/html": [
       "<pre>| Parameter                    | Description                                      | Value    |</pre>"
      ],
      "text/plain": [
       "| Parameter                    | Description                                      | Value    |"
      ]
     },
     "metadata": {},
     "output_type": "display_data"
    },
    {
     "data": {
      "text/html": [
       "<pre>+------------------------------+--------------------------------------------------+----------+</pre>"
      ],
      "text/plain": [
       "+------------------------------+--------------------------------------------------+----------+"
      ]
     },
     "metadata": {},
     "output_type": "display_data"
    },
    {
     "data": {
      "text/html": [
       "<pre>| num_factors                  | Factor Dimension                                 | 71       |</pre>"
      ],
      "text/plain": [
       "| num_factors                  | Factor Dimension                                 | 71       |"
      ]
     },
     "metadata": {},
     "output_type": "display_data"
    },
    {
     "data": {
      "text/html": [
       "<pre>| regularization               | L2 Regularization on Factors                     | 1e-14    |</pre>"
      ],
      "text/plain": [
       "| regularization               | L2 Regularization on Factors                     | 1e-14    |"
      ]
     },
     "metadata": {},
     "output_type": "display_data"
    },
    {
     "data": {
      "text/html": [
       "<pre>| max_iterations               | Maximum Number of Iterations                     | 50       |</pre>"
      ],
      "text/plain": [
       "| max_iterations               | Maximum Number of Iterations                     | 50       |"
      ]
     },
     "metadata": {},
     "output_type": "display_data"
    },
    {
     "data": {
      "text/html": [
       "<pre>| solver                       | Solver used for training                         | als      |</pre>"
      ],
      "text/plain": [
       "| solver                       | Solver used for training                         | als      |"
      ]
     },
     "metadata": {},
     "output_type": "display_data"
    },
    {
     "data": {
      "text/html": [
       "<pre>+------------------------------+--------------------------------------------------+----------+</pre>"
      ],
      "text/plain": [
       "+------------------------------+--------------------------------------------------+----------+"
      ]
     },
     "metadata": {},
     "output_type": "display_data"
    },
    {
     "data": {
      "text/html": [
       "<pre>+---------+--------------+------------------------+</pre>"
      ],
      "text/plain": [
       "+---------+--------------+------------------------+"
      ]
     },
     "metadata": {},
     "output_type": "display_data"
    },
    {
     "data": {
      "text/html": [
       "<pre>| Iter.   | Elapsed time | RMSE                   |</pre>"
      ],
      "text/plain": [
       "| Iter.   | Elapsed time | RMSE                   |"
      ]
     },
     "metadata": {},
     "output_type": "display_data"
    },
    {
     "data": {
      "text/html": [
       "<pre>+---------+--------------+------------------------+</pre>"
      ],
      "text/plain": [
       "+---------+--------------+------------------------+"
      ]
     },
     "metadata": {},
     "output_type": "display_data"
    },
    {
     "data": {
      "text/html": [
       "<pre>| Initial | 74us         | NA                     |</pre>"
      ],
      "text/plain": [
       "| Initial | 74us         | NA                     |"
      ]
     },
     "metadata": {},
     "output_type": "display_data"
    },
    {
     "data": {
      "text/html": [
       "<pre>+---------+--------------+------------------------+</pre>"
      ],
      "text/plain": [
       "+---------+--------------+------------------------+"
      ]
     },
     "metadata": {},
     "output_type": "display_data"
    },
    {
     "data": {
      "text/html": [
       "<pre>| 0       | 8.99s        | 1.85335                |</pre>"
      ],
      "text/plain": [
       "| 0       | 8.99s        | 1.85335                |"
      ]
     },
     "metadata": {},
     "output_type": "display_data"
    },
    {
     "data": {
      "text/html": [
       "<pre>| 1       | 17.87s       | 0.963776               |</pre>"
      ],
      "text/plain": [
       "| 1       | 17.87s       | 0.963776               |"
      ]
     },
     "metadata": {},
     "output_type": "display_data"
    },
    {
     "data": {
      "text/html": [
       "<pre>| 2       | 26.76s       | 0.834424               |</pre>"
      ],
      "text/plain": [
       "| 2       | 26.76s       | 0.834424               |"
      ]
     },
     "metadata": {},
     "output_type": "display_data"
    },
    {
     "data": {
      "text/html": [
       "<pre>| 3       | 35.68s       | 0.760988               |</pre>"
      ],
      "text/plain": [
       "| 3       | 35.68s       | 0.760988               |"
      ]
     },
     "metadata": {},
     "output_type": "display_data"
    },
    {
     "data": {
      "text/html": [
       "<pre>| 4       | 44.55s       | 0.710771               |</pre>"
      ],
      "text/plain": [
       "| 4       | 44.55s       | 0.710771               |"
      ]
     },
     "metadata": {},
     "output_type": "display_data"
    },
    {
     "data": {
      "text/html": [
       "<pre>| 5       | 53.45s       | 0.673494               |</pre>"
      ],
      "text/plain": [
       "| 5       | 53.45s       | 0.673494               |"
      ]
     },
     "metadata": {},
     "output_type": "display_data"
    },
    {
     "data": {
      "text/html": [
       "<pre>| 6       | 1m 2s        | 0.64438                |</pre>"
      ],
      "text/plain": [
       "| 6       | 1m 2s        | 0.64438                |"
      ]
     },
     "metadata": {},
     "output_type": "display_data"
    },
    {
     "data": {
      "text/html": [
       "<pre>| 7       | 1m 11s       | 0.620809               |</pre>"
      ],
      "text/plain": [
       "| 7       | 1m 11s       | 0.620809               |"
      ]
     },
     "metadata": {},
     "output_type": "display_data"
    },
    {
     "data": {
      "text/html": [
       "<pre>| 8       | 1m 20s       | 0.601204               |</pre>"
      ],
      "text/plain": [
       "| 8       | 1m 20s       | 0.601204               |"
      ]
     },
     "metadata": {},
     "output_type": "display_data"
    },
    {
     "data": {
      "text/html": [
       "<pre>| 9       | 1m 29s       | 0.584556               |</pre>"
      ],
      "text/plain": [
       "| 9       | 1m 29s       | 0.584556               |"
      ]
     },
     "metadata": {},
     "output_type": "display_data"
    },
    {
     "data": {
      "text/html": [
       "<pre>| 10      | 1m 38s       | 0.570186               |</pre>"
      ],
      "text/plain": [
       "| 10      | 1m 38s       | 0.570186               |"
      ]
     },
     "metadata": {},
     "output_type": "display_data"
    },
    {
     "data": {
      "text/html": [
       "<pre>| 11      | 1m 46s       | 0.557619               |</pre>"
      ],
      "text/plain": [
       "| 11      | 1m 46s       | 0.557619               |"
      ]
     },
     "metadata": {},
     "output_type": "display_data"
    },
    {
     "data": {
      "text/html": [
       "<pre>| 12      | 1m 55s       | 0.54651                |</pre>"
      ],
      "text/plain": [
       "| 12      | 1m 55s       | 0.54651                |"
      ]
     },
     "metadata": {},
     "output_type": "display_data"
    },
    {
     "data": {
      "text/html": [
       "<pre>| 13      | 2m 4s        | 0.536602               |</pre>"
      ],
      "text/plain": [
       "| 13      | 2m 4s        | 0.536602               |"
      ]
     },
     "metadata": {},
     "output_type": "display_data"
    },
    {
     "data": {
      "text/html": [
       "<pre>| 14      | 2m 13s       | 0.527697               |</pre>"
      ],
      "text/plain": [
       "| 14      | 2m 13s       | 0.527697               |"
      ]
     },
     "metadata": {},
     "output_type": "display_data"
    },
    {
     "data": {
      "text/html": [
       "<pre>| 15      | 2m 22s       | 0.519638               |</pre>"
      ],
      "text/plain": [
       "| 15      | 2m 22s       | 0.519638               |"
      ]
     },
     "metadata": {},
     "output_type": "display_data"
    },
    {
     "data": {
      "text/html": [
       "<pre>| 16      | 2m 31s       | 0.512299               |</pre>"
      ],
      "text/plain": [
       "| 16      | 2m 31s       | 0.512299               |"
      ]
     },
     "metadata": {},
     "output_type": "display_data"
    },
    {
     "data": {
      "text/html": [
       "<pre>| 17      | 2m 40s       | 0.505579               |</pre>"
      ],
      "text/plain": [
       "| 17      | 2m 40s       | 0.505579               |"
      ]
     },
     "metadata": {},
     "output_type": "display_data"
    },
    {
     "data": {
      "text/html": [
       "<pre>| 18      | 2m 49s       | 0.499393               |</pre>"
      ],
      "text/plain": [
       "| 18      | 2m 49s       | 0.499393               |"
      ]
     },
     "metadata": {},
     "output_type": "display_data"
    },
    {
     "data": {
      "text/html": [
       "<pre>| 19      | 2m 58s       | 0.493673               |</pre>"
      ],
      "text/plain": [
       "| 19      | 2m 58s       | 0.493673               |"
      ]
     },
     "metadata": {},
     "output_type": "display_data"
    },
    {
     "data": {
      "text/html": [
       "<pre>| 20      | 3m 7s        | 0.488362               |</pre>"
      ],
      "text/plain": [
       "| 20      | 3m 7s        | 0.488362               |"
      ]
     },
     "metadata": {},
     "output_type": "display_data"
    },
    {
     "data": {
      "text/html": [
       "<pre>| 21      | 3m 16s       | 0.483411               |</pre>"
      ],
      "text/plain": [
       "| 21      | 3m 16s       | 0.483411               |"
      ]
     },
     "metadata": {},
     "output_type": "display_data"
    },
    {
     "data": {
      "text/html": [
       "<pre>| 22      | 3m 25s       | 0.47878                |</pre>"
      ],
      "text/plain": [
       "| 22      | 3m 25s       | 0.47878                |"
      ]
     },
     "metadata": {},
     "output_type": "display_data"
    },
    {
     "data": {
      "text/html": [
       "<pre>| 23      | 3m 34s       | 0.474437               |</pre>"
      ],
      "text/plain": [
       "| 23      | 3m 34s       | 0.474437               |"
      ]
     },
     "metadata": {},
     "output_type": "display_data"
    },
    {
     "data": {
      "text/html": [
       "<pre>| 24      | 3m 43s       | 0.470351               |</pre>"
      ],
      "text/plain": [
       "| 24      | 3m 43s       | 0.470351               |"
      ]
     },
     "metadata": {},
     "output_type": "display_data"
    },
    {
     "data": {
      "text/html": [
       "<pre>| 25      | 3m 52s       | 0.466499               |</pre>"
      ],
      "text/plain": [
       "| 25      | 3m 52s       | 0.466499               |"
      ]
     },
     "metadata": {},
     "output_type": "display_data"
    },
    {
     "data": {
      "text/html": [
       "<pre>| 26      | 4m 1s        | 0.46286                |</pre>"
      ],
      "text/plain": [
       "| 26      | 4m 1s        | 0.46286                |"
      ]
     },
     "metadata": {},
     "output_type": "display_data"
    },
    {
     "data": {
      "text/html": [
       "<pre>| 27      | 4m 10s       | 0.459416               |</pre>"
      ],
      "text/plain": [
       "| 27      | 4m 10s       | 0.459416               |"
      ]
     },
     "metadata": {},
     "output_type": "display_data"
    },
    {
     "data": {
      "text/html": [
       "<pre>| 28      | 4m 19s       | 0.45615                |</pre>"
      ],
      "text/plain": [
       "| 28      | 4m 19s       | 0.45615                |"
      ]
     },
     "metadata": {},
     "output_type": "display_data"
    },
    {
     "data": {
      "text/html": [
       "<pre>| 29      | 4m 28s       | 0.453047               |</pre>"
      ],
      "text/plain": [
       "| 29      | 4m 28s       | 0.453047               |"
      ]
     },
     "metadata": {},
     "output_type": "display_data"
    },
    {
     "data": {
      "text/html": [
       "<pre>| 30      | 4m 37s       | 0.450095               |</pre>"
      ],
      "text/plain": [
       "| 30      | 4m 37s       | 0.450095               |"
      ]
     },
     "metadata": {},
     "output_type": "display_data"
    },
    {
     "data": {
      "text/html": [
       "<pre>| 31      | 4m 47s       | 0.447282               |</pre>"
      ],
      "text/plain": [
       "| 31      | 4m 47s       | 0.447282               |"
      ]
     },
     "metadata": {},
     "output_type": "display_data"
    },
    {
     "data": {
      "text/html": [
       "<pre>| 32      | 4m 57s       | 0.444597               |</pre>"
      ],
      "text/plain": [
       "| 32      | 4m 57s       | 0.444597               |"
      ]
     },
     "metadata": {},
     "output_type": "display_data"
    },
    {
     "data": {
      "text/html": [
       "<pre>| 33      | 5m 9s        | 0.442031               |</pre>"
      ],
      "text/plain": [
       "| 33      | 5m 9s        | 0.442031               |"
      ]
     },
     "metadata": {},
     "output_type": "display_data"
    },
    {
     "data": {
      "text/html": [
       "<pre>| 34      | 5m 21s       | 0.439574               |</pre>"
      ],
      "text/plain": [
       "| 34      | 5m 21s       | 0.439574               |"
      ]
     },
     "metadata": {},
     "output_type": "display_data"
    },
    {
     "data": {
      "text/html": [
       "<pre>| 35      | 5m 30s       | 0.43722                |</pre>"
      ],
      "text/plain": [
       "| 35      | 5m 30s       | 0.43722                |"
      ]
     },
     "metadata": {},
     "output_type": "display_data"
    },
    {
     "data": {
      "text/html": [
       "<pre>| 36      | 5m 40s       | 0.434961               |</pre>"
      ],
      "text/plain": [
       "| 36      | 5m 40s       | 0.434961               |"
      ]
     },
     "metadata": {},
     "output_type": "display_data"
    },
    {
     "data": {
      "text/html": [
       "<pre>| 37      | 5m 50s       | 0.43279                |</pre>"
      ],
      "text/plain": [
       "| 37      | 5m 50s       | 0.43279                |"
      ]
     },
     "metadata": {},
     "output_type": "display_data"
    },
    {
     "data": {
      "text/html": [
       "<pre>| 38      | 6m 0s        | 0.430704               |</pre>"
      ],
      "text/plain": [
       "| 38      | 6m 0s        | 0.430704               |"
      ]
     },
     "metadata": {},
     "output_type": "display_data"
    },
    {
     "data": {
      "text/html": [
       "<pre>| 39      | 6m 9s        | 0.428697               |</pre>"
      ],
      "text/plain": [
       "| 39      | 6m 9s        | 0.428697               |"
      ]
     },
     "metadata": {},
     "output_type": "display_data"
    },
    {
     "data": {
      "text/html": [
       "<pre>| 40      | 6m 19s       | 0.426764               |</pre>"
      ],
      "text/plain": [
       "| 40      | 6m 19s       | 0.426764               |"
      ]
     },
     "metadata": {},
     "output_type": "display_data"
    },
    {
     "data": {
      "text/html": [
       "<pre>| 41      | 6m 32s       | 0.424902               |</pre>"
      ],
      "text/plain": [
       "| 41      | 6m 32s       | 0.424902               |"
      ]
     },
     "metadata": {},
     "output_type": "display_data"
    },
    {
     "data": {
      "text/html": [
       "<pre>| 42      | 6m 43s       | 0.423107               |</pre>"
      ],
      "text/plain": [
       "| 42      | 6m 43s       | 0.423107               |"
      ]
     },
     "metadata": {},
     "output_type": "display_data"
    },
    {
     "data": {
      "text/html": [
       "<pre>| 43      | 6m 53s       | 0.421376               |</pre>"
      ],
      "text/plain": [
       "| 43      | 6m 53s       | 0.421376               |"
      ]
     },
     "metadata": {},
     "output_type": "display_data"
    },
    {
     "data": {
      "text/html": [
       "<pre>| 44      | 7m 3s        | 0.419706               |</pre>"
      ],
      "text/plain": [
       "| 44      | 7m 3s        | 0.419706               |"
      ]
     },
     "metadata": {},
     "output_type": "display_data"
    },
    {
     "data": {
      "text/html": [
       "<pre>| 45      | 7m 14s       | 0.418094               |</pre>"
      ],
      "text/plain": [
       "| 45      | 7m 14s       | 0.418094               |"
      ]
     },
     "metadata": {},
     "output_type": "display_data"
    },
    {
     "data": {
      "text/html": [
       "<pre>| 46      | 7m 26s       | 0.416537               |</pre>"
      ],
      "text/plain": [
       "| 46      | 7m 26s       | 0.416537               |"
      ]
     },
     "metadata": {},
     "output_type": "display_data"
    },
    {
     "data": {
      "text/html": [
       "<pre>| 47      | 7m 38s       | 0.415033               |</pre>"
      ],
      "text/plain": [
       "| 47      | 7m 38s       | 0.415033               |"
      ]
     },
     "metadata": {},
     "output_type": "display_data"
    },
    {
     "data": {
      "text/html": [
       "<pre>| 48      | 7m 50s       | 0.41358                |</pre>"
      ],
      "text/plain": [
       "| 48      | 7m 50s       | 0.41358                |"
      ]
     },
     "metadata": {},
     "output_type": "display_data"
    },
    {
     "data": {
      "text/html": [
       "<pre>| 49      | 8m 2s        | 0.412175               |</pre>"
      ],
      "text/plain": [
       "| 49      | 8m 2s        | 0.412175               |"
      ]
     },
     "metadata": {},
     "output_type": "display_data"
    },
    {
     "data": {
      "text/html": [
       "<pre>| FINAL   | 8m 2s        | 0.412175               |</pre>"
      ],
      "text/plain": [
       "| FINAL   | 8m 2s        | 0.412175               |"
      ]
     },
     "metadata": {},
     "output_type": "display_data"
    },
    {
     "data": {
      "text/html": [
       "<pre>+---------+--------------+------------------------+</pre>"
      ],
      "text/plain": [
       "+---------+--------------+------------------------+"
      ]
     },
     "metadata": {},
     "output_type": "display_data"
    },
    {
     "data": {
      "text/html": [
       "<pre>Optimization Complete: Iteration limit reached.</pre>"
      ],
      "text/plain": [
       "Optimization Complete: Iteration limit reached."
      ]
     },
     "metadata": {},
     "output_type": "display_data"
    },
    {
     "data": {
      "text/html": [
       "<pre>Recsys training: model = factorization_recommender</pre>"
      ],
      "text/plain": [
       "Recsys training: model = factorization_recommender"
      ]
     },
     "metadata": {},
     "output_type": "display_data"
    },
    {
     "data": {
      "text/html": [
       "<pre>Preparing data set.</pre>"
      ],
      "text/plain": [
       "Preparing data set."
      ]
     },
     "metadata": {},
     "output_type": "display_data"
    },
    {
     "data": {
      "text/html": [
       "<pre>    Data has 1096492 observations with 50690 users and 141 items.</pre>"
      ],
      "text/plain": [
       "    Data has 1096492 observations with 50690 users and 141 items."
      ]
     },
     "metadata": {},
     "output_type": "display_data"
    },
    {
     "data": {
      "text/html": [
       "<pre>    Data prepared in: 1.26782s</pre>"
      ],
      "text/plain": [
       "    Data prepared in: 1.26782s"
      ]
     },
     "metadata": {},
     "output_type": "display_data"
    },
    {
     "data": {
      "text/html": [
       "<pre>Training factorization_recommender for recommendations.</pre>"
      ],
      "text/plain": [
       "Training factorization_recommender for recommendations."
      ]
     },
     "metadata": {},
     "output_type": "display_data"
    },
    {
     "data": {
      "text/html": [
       "<pre>+------------------------------+--------------------------------------------------+----------+</pre>"
      ],
      "text/plain": [
       "+------------------------------+--------------------------------------------------+----------+"
      ]
     },
     "metadata": {},
     "output_type": "display_data"
    },
    {
     "data": {
      "text/html": [
       "<pre>| Parameter                    | Description                                      | Value    |</pre>"
      ],
      "text/plain": [
       "| Parameter                    | Description                                      | Value    |"
      ]
     },
     "metadata": {},
     "output_type": "display_data"
    },
    {
     "data": {
      "text/html": [
       "<pre>+------------------------------+--------------------------------------------------+----------+</pre>"
      ],
      "text/plain": [
       "+------------------------------+--------------------------------------------------+----------+"
      ]
     },
     "metadata": {},
     "output_type": "display_data"
    },
    {
     "data": {
      "text/html": [
       "<pre>| num_factors                  | Factor Dimension                                 | 78       |</pre>"
      ],
      "text/plain": [
       "| num_factors                  | Factor Dimension                                 | 78       |"
      ]
     },
     "metadata": {},
     "output_type": "display_data"
    },
    {
     "data": {
      "text/html": [
       "<pre>| regularization               | L2 Regularization on Factors                     | 1e-14    |</pre>"
      ],
      "text/plain": [
       "| regularization               | L2 Regularization on Factors                     | 1e-14    |"
      ]
     },
     "metadata": {},
     "output_type": "display_data"
    },
    {
     "data": {
      "text/html": [
       "<pre>| max_iterations               | Maximum Number of Iterations                     | 50       |</pre>"
      ],
      "text/plain": [
       "| max_iterations               | Maximum Number of Iterations                     | 50       |"
      ]
     },
     "metadata": {},
     "output_type": "display_data"
    },
    {
     "data": {
      "text/html": [
       "<pre>| solver                       | Solver used for training                         | als      |</pre>"
      ],
      "text/plain": [
       "| solver                       | Solver used for training                         | als      |"
      ]
     },
     "metadata": {},
     "output_type": "display_data"
    },
    {
     "data": {
      "text/html": [
       "<pre>+------------------------------+--------------------------------------------------+----------+</pre>"
      ],
      "text/plain": [
       "+------------------------------+--------------------------------------------------+----------+"
      ]
     },
     "metadata": {},
     "output_type": "display_data"
    },
    {
     "data": {
      "text/html": [
       "<pre>+---------+--------------+------------------------+</pre>"
      ],
      "text/plain": [
       "+---------+--------------+------------------------+"
      ]
     },
     "metadata": {},
     "output_type": "display_data"
    },
    {
     "data": {
      "text/html": [
       "<pre>| Iter.   | Elapsed time | RMSE                   |</pre>"
      ],
      "text/plain": [
       "| Iter.   | Elapsed time | RMSE                   |"
      ]
     },
     "metadata": {},
     "output_type": "display_data"
    },
    {
     "data": {
      "text/html": [
       "<pre>+---------+--------------+------------------------+</pre>"
      ],
      "text/plain": [
       "+---------+--------------+------------------------+"
      ]
     },
     "metadata": {},
     "output_type": "display_data"
    },
    {
     "data": {
      "text/html": [
       "<pre>| Initial | 130us        | NA                     |</pre>"
      ],
      "text/plain": [
       "| Initial | 130us        | NA                     |"
      ]
     },
     "metadata": {},
     "output_type": "display_data"
    },
    {
     "data": {
      "text/html": [
       "<pre>+---------+--------------+------------------------+</pre>"
      ],
      "text/plain": [
       "+---------+--------------+------------------------+"
      ]
     },
     "metadata": {},
     "output_type": "display_data"
    },
    {
     "data": {
      "text/html": [
       "<pre>| 0       | 12.67s       | 1.71698                |</pre>"
      ],
      "text/plain": [
       "| 0       | 12.67s       | 1.71698                |"
      ]
     },
     "metadata": {},
     "output_type": "display_data"
    },
    {
     "data": {
      "text/html": [
       "<pre>| 1       | 24.85s       | 0.800411               |</pre>"
      ],
      "text/plain": [
       "| 1       | 24.85s       | 0.800411               |"
      ]
     },
     "metadata": {},
     "output_type": "display_data"
    },
    {
     "data": {
      "text/html": [
       "<pre>| 2       | 38.05s       | 0.685803               |</pre>"
      ],
      "text/plain": [
       "| 2       | 38.05s       | 0.685803               |"
      ]
     },
     "metadata": {},
     "output_type": "display_data"
    },
    {
     "data": {
      "text/html": [
       "<pre>| 3       | 50.43s       | 0.614138               |</pre>"
      ],
      "text/plain": [
       "| 3       | 50.43s       | 0.614138               |"
      ]
     },
     "metadata": {},
     "output_type": "display_data"
    },
    {
     "data": {
      "text/html": [
       "<pre>| 4       | 1m 3s        | 0.563718               |</pre>"
      ],
      "text/plain": [
       "| 4       | 1m 3s        | 0.563718               |"
      ]
     },
     "metadata": {},
     "output_type": "display_data"
    },
    {
     "data": {
      "text/html": [
       "<pre>| 5       | 1m 13s       | 0.525636               |</pre>"
      ],
      "text/plain": [
       "| 5       | 1m 13s       | 0.525636               |"
      ]
     },
     "metadata": {},
     "output_type": "display_data"
    },
    {
     "data": {
      "text/html": [
       "<pre>| 6       | 1m 24s       | 0.495518               |</pre>"
      ],
      "text/plain": [
       "| 6       | 1m 24s       | 0.495518               |"
      ]
     },
     "metadata": {},
     "output_type": "display_data"
    },
    {
     "data": {
      "text/html": [
       "<pre>| 7       | 1m 35s       | 0.470918               |</pre>"
      ],
      "text/plain": [
       "| 7       | 1m 35s       | 0.470918               |"
      ]
     },
     "metadata": {},
     "output_type": "display_data"
    },
    {
     "data": {
      "text/html": [
       "<pre>| 8       | 1m 45s       | 0.45033                |</pre>"
      ],
      "text/plain": [
       "| 8       | 1m 45s       | 0.45033                |"
      ]
     },
     "metadata": {},
     "output_type": "display_data"
    },
    {
     "data": {
      "text/html": [
       "<pre>| 9       | 1m 56s       | 0.432764               |</pre>"
      ],
      "text/plain": [
       "| 9       | 1m 56s       | 0.432764               |"
      ]
     },
     "metadata": {},
     "output_type": "display_data"
    },
    {
     "data": {
      "text/html": [
       "<pre>| 10      | 2m 7s        | 0.417535               |</pre>"
      ],
      "text/plain": [
       "| 10      | 2m 7s        | 0.417535               |"
      ]
     },
     "metadata": {},
     "output_type": "display_data"
    },
    {
     "data": {
      "text/html": [
       "<pre>| 11      | 2m 18s       | 0.404154               |</pre>"
      ],
      "text/plain": [
       "| 11      | 2m 18s       | 0.404154               |"
      ]
     },
     "metadata": {},
     "output_type": "display_data"
    },
    {
     "data": {
      "text/html": [
       "<pre>| 12      | 2m 28s       | 0.392262               |</pre>"
      ],
      "text/plain": [
       "| 12      | 2m 28s       | 0.392262               |"
      ]
     },
     "metadata": {},
     "output_type": "display_data"
    },
    {
     "data": {
      "text/html": [
       "<pre>| 13      | 2m 39s       | 0.381592               |</pre>"
      ],
      "text/plain": [
       "| 13      | 2m 39s       | 0.381592               |"
      ]
     },
     "metadata": {},
     "output_type": "display_data"
    },
    {
     "data": {
      "text/html": [
       "<pre>| 14      | 2m 50s       | 0.37194                |</pre>"
      ],
      "text/plain": [
       "| 14      | 2m 50s       | 0.37194                |"
      ]
     },
     "metadata": {},
     "output_type": "display_data"
    },
    {
     "data": {
      "text/html": [
       "<pre>| 15      | 3m 1s        | 0.363146               |</pre>"
      ],
      "text/plain": [
       "| 15      | 3m 1s        | 0.363146               |"
      ]
     },
     "metadata": {},
     "output_type": "display_data"
    },
    {
     "data": {
      "text/html": [
       "<pre>| 16      | 3m 12s       | 0.355087               |</pre>"
      ],
      "text/plain": [
       "| 16      | 3m 12s       | 0.355087               |"
      ]
     },
     "metadata": {},
     "output_type": "display_data"
    },
    {
     "data": {
      "text/html": [
       "<pre>| 17      | 3m 23s       | 0.347663               |</pre>"
      ],
      "text/plain": [
       "| 17      | 3m 23s       | 0.347663               |"
      ]
     },
     "metadata": {},
     "output_type": "display_data"
    },
    {
     "data": {
      "text/html": [
       "<pre>| 18      | 3m 34s       | 0.340792               |</pre>"
      ],
      "text/plain": [
       "| 18      | 3m 34s       | 0.340792               |"
      ]
     },
     "metadata": {},
     "output_type": "display_data"
    },
    {
     "data": {
      "text/html": [
       "<pre>| 19      | 3m 44s       | 0.334407               |</pre>"
      ],
      "text/plain": [
       "| 19      | 3m 44s       | 0.334407               |"
      ]
     },
     "metadata": {},
     "output_type": "display_data"
    },
    {
     "data": {
      "text/html": [
       "<pre>| 20      | 3m 56s       | 0.328454               |</pre>"
      ],
      "text/plain": [
       "| 20      | 3m 56s       | 0.328454               |"
      ]
     },
     "metadata": {},
     "output_type": "display_data"
    },
    {
     "data": {
      "text/html": [
       "<pre>| 21      | 4m 11s       | 0.322885               |</pre>"
      ],
      "text/plain": [
       "| 21      | 4m 11s       | 0.322885               |"
      ]
     },
     "metadata": {},
     "output_type": "display_data"
    },
    {
     "data": {
      "text/html": [
       "<pre>| 22      | 4m 25s       | 0.317661               |</pre>"
      ],
      "text/plain": [
       "| 22      | 4m 25s       | 0.317661               |"
      ]
     },
     "metadata": {},
     "output_type": "display_data"
    },
    {
     "data": {
      "text/html": [
       "<pre>| 23      | 4m 42s       | 0.312748               |</pre>"
      ],
      "text/plain": [
       "| 23      | 4m 42s       | 0.312748               |"
      ]
     },
     "metadata": {},
     "output_type": "display_data"
    },
    {
     "data": {
      "text/html": [
       "<pre>| 24      | 4m 57s       | 0.308116               |</pre>"
      ],
      "text/plain": [
       "| 24      | 4m 57s       | 0.308116               |"
      ]
     },
     "metadata": {},
     "output_type": "display_data"
    },
    {
     "data": {
      "text/html": [
       "<pre>| 25      | 5m 10s       | 0.30374                |</pre>"
      ],
      "text/plain": [
       "| 25      | 5m 10s       | 0.30374                |"
      ]
     },
     "metadata": {},
     "output_type": "display_data"
    },
    {
     "data": {
      "text/html": [
       "<pre>| 26      | 5m 22s       | 0.299598               |</pre>"
      ],
      "text/plain": [
       "| 26      | 5m 22s       | 0.299598               |"
      ]
     },
     "metadata": {},
     "output_type": "display_data"
    },
    {
     "data": {
      "text/html": [
       "<pre>| 27      | 5m 33s       | 0.295669               |</pre>"
      ],
      "text/plain": [
       "| 27      | 5m 33s       | 0.295669               |"
      ]
     },
     "metadata": {},
     "output_type": "display_data"
    },
    {
     "data": {
      "text/html": [
       "<pre>| 28      | 5m 44s       | 0.291937               |</pre>"
      ],
      "text/plain": [
       "| 28      | 5m 44s       | 0.291937               |"
      ]
     },
     "metadata": {},
     "output_type": "display_data"
    },
    {
     "data": {
      "text/html": [
       "<pre>| 29      | 5m 56s       | 0.288386               |</pre>"
      ],
      "text/plain": [
       "| 29      | 5m 56s       | 0.288386               |"
      ]
     },
     "metadata": {},
     "output_type": "display_data"
    },
    {
     "data": {
      "text/html": [
       "<pre>| 30      | 6m 6s        | 0.285003               |</pre>"
      ],
      "text/plain": [
       "| 30      | 6m 6s        | 0.285003               |"
      ]
     },
     "metadata": {},
     "output_type": "display_data"
    },
    {
     "data": {
      "text/html": [
       "<pre>| 31      | 6m 17s       | 0.281774               |</pre>"
      ],
      "text/plain": [
       "| 31      | 6m 17s       | 0.281774               |"
      ]
     },
     "metadata": {},
     "output_type": "display_data"
    },
    {
     "data": {
      "text/html": [
       "<pre>| 32      | 6m 28s       | 0.27869                |</pre>"
      ],
      "text/plain": [
       "| 32      | 6m 28s       | 0.27869                |"
      ]
     },
     "metadata": {},
     "output_type": "display_data"
    },
    {
     "data": {
      "text/html": [
       "<pre>| 33      | 6m 39s       | 0.275739               |</pre>"
      ],
      "text/plain": [
       "| 33      | 6m 39s       | 0.275739               |"
      ]
     },
     "metadata": {},
     "output_type": "display_data"
    },
    {
     "data": {
      "text/html": [
       "<pre>| 34      | 6m 49s       | 0.272913               |</pre>"
      ],
      "text/plain": [
       "| 34      | 6m 49s       | 0.272913               |"
      ]
     },
     "metadata": {},
     "output_type": "display_data"
    },
    {
     "data": {
      "text/html": [
       "<pre>| 35      | 7m 0s        | 0.270203               |</pre>"
      ],
      "text/plain": [
       "| 35      | 7m 0s        | 0.270203               |"
      ]
     },
     "metadata": {},
     "output_type": "display_data"
    },
    {
     "data": {
      "text/html": [
       "<pre>| 36      | 7m 11s       | 0.267602               |</pre>"
      ],
      "text/plain": [
       "| 36      | 7m 11s       | 0.267602               |"
      ]
     },
     "metadata": {},
     "output_type": "display_data"
    },
    {
     "data": {
      "text/html": [
       "<pre>| 37      | 7m 22s       | 0.265102               |</pre>"
      ],
      "text/plain": [
       "| 37      | 7m 22s       | 0.265102               |"
      ]
     },
     "metadata": {},
     "output_type": "display_data"
    },
    {
     "data": {
      "text/html": [
       "<pre>| 38      | 7m 32s       | 0.262698               |</pre>"
      ],
      "text/plain": [
       "| 38      | 7m 32s       | 0.262698               |"
      ]
     },
     "metadata": {},
     "output_type": "display_data"
    },
    {
     "data": {
      "text/html": [
       "<pre>| 39      | 7m 43s       | 0.260383               |</pre>"
      ],
      "text/plain": [
       "| 39      | 7m 43s       | 0.260383               |"
      ]
     },
     "metadata": {},
     "output_type": "display_data"
    },
    {
     "data": {
      "text/html": [
       "<pre>| 40      | 7m 54s       | 0.258152               |</pre>"
      ],
      "text/plain": [
       "| 40      | 7m 54s       | 0.258152               |"
      ]
     },
     "metadata": {},
     "output_type": "display_data"
    },
    {
     "data": {
      "text/html": [
       "<pre>| 41      | 8m 5s        | 0.256002               |</pre>"
      ],
      "text/plain": [
       "| 41      | 8m 5s        | 0.256002               |"
      ]
     },
     "metadata": {},
     "output_type": "display_data"
    },
    {
     "data": {
      "text/html": [
       "<pre>| 42      | 8m 16s       | 0.253926               |</pre>"
      ],
      "text/plain": [
       "| 42      | 8m 16s       | 0.253926               |"
      ]
     },
     "metadata": {},
     "output_type": "display_data"
    },
    {
     "data": {
      "text/html": [
       "<pre>| 43      | 8m 26s       | 0.251921               |</pre>"
      ],
      "text/plain": [
       "| 43      | 8m 26s       | 0.251921               |"
      ]
     },
     "metadata": {},
     "output_type": "display_data"
    },
    {
     "data": {
      "text/html": [
       "<pre>| 44      | 8m 37s       | 0.249984               |</pre>"
      ],
      "text/plain": [
       "| 44      | 8m 37s       | 0.249984               |"
      ]
     },
     "metadata": {},
     "output_type": "display_data"
    },
    {
     "data": {
      "text/html": [
       "<pre>| 45      | 8m 48s       | 0.24811                |</pre>"
      ],
      "text/plain": [
       "| 45      | 8m 48s       | 0.24811                |"
      ]
     },
     "metadata": {},
     "output_type": "display_data"
    },
    {
     "data": {
      "text/html": [
       "<pre>| 46      | 8m 59s       | 0.246297               |</pre>"
      ],
      "text/plain": [
       "| 46      | 8m 59s       | 0.246297               |"
      ]
     },
     "metadata": {},
     "output_type": "display_data"
    },
    {
     "data": {
      "text/html": [
       "<pre>| 47      | 9m 10s       | 0.244541               |</pre>"
      ],
      "text/plain": [
       "| 47      | 9m 10s       | 0.244541               |"
      ]
     },
     "metadata": {},
     "output_type": "display_data"
    },
    {
     "data": {
      "text/html": [
       "<pre>| 48      | 9m 20s       | 0.24284                |</pre>"
      ],
      "text/plain": [
       "| 48      | 9m 20s       | 0.24284                |"
      ]
     },
     "metadata": {},
     "output_type": "display_data"
    },
    {
     "data": {
      "text/html": [
       "<pre>| 49      | 9m 31s       | 0.24119                |</pre>"
      ],
      "text/plain": [
       "| 49      | 9m 31s       | 0.24119                |"
      ]
     },
     "metadata": {},
     "output_type": "display_data"
    },
    {
     "data": {
      "text/html": [
       "<pre>| FINAL   | 9m 31s       | 0.24119                |</pre>"
      ],
      "text/plain": [
       "| FINAL   | 9m 31s       | 0.24119                |"
      ]
     },
     "metadata": {},
     "output_type": "display_data"
    },
    {
     "data": {
      "text/html": [
       "<pre>+---------+--------------+------------------------+</pre>"
      ],
      "text/plain": [
       "+---------+--------------+------------------------+"
      ]
     },
     "metadata": {},
     "output_type": "display_data"
    },
    {
     "data": {
      "text/html": [
       "<pre>Optimization Complete: Iteration limit reached.</pre>"
      ],
      "text/plain": [
       "Optimization Complete: Iteration limit reached."
      ]
     },
     "metadata": {},
     "output_type": "display_data"
    },
    {
     "data": {
      "text/html": [
       "<pre>Recsys training: model = factorization_recommender</pre>"
      ],
      "text/plain": [
       "Recsys training: model = factorization_recommender"
      ]
     },
     "metadata": {},
     "output_type": "display_data"
    },
    {
     "data": {
      "text/html": [
       "<pre>Preparing data set.</pre>"
      ],
      "text/plain": [
       "Preparing data set."
      ]
     },
     "metadata": {},
     "output_type": "display_data"
    },
    {
     "data": {
      "text/html": [
       "<pre>    Data has 1096492 observations with 50690 users and 141 items.</pre>"
      ],
      "text/plain": [
       "    Data has 1096492 observations with 50690 users and 141 items."
      ]
     },
     "metadata": {},
     "output_type": "display_data"
    },
    {
     "data": {
      "text/html": [
       "<pre>    Data prepared in: 1.07851s</pre>"
      ],
      "text/plain": [
       "    Data prepared in: 1.07851s"
      ]
     },
     "metadata": {},
     "output_type": "display_data"
    },
    {
     "data": {
      "text/html": [
       "<pre>Training factorization_recommender for recommendations.</pre>"
      ],
      "text/plain": [
       "Training factorization_recommender for recommendations."
      ]
     },
     "metadata": {},
     "output_type": "display_data"
    },
    {
     "data": {
      "text/html": [
       "<pre>+------------------------------+--------------------------------------------------+----------+</pre>"
      ],
      "text/plain": [
       "+------------------------------+--------------------------------------------------+----------+"
      ]
     },
     "metadata": {},
     "output_type": "display_data"
    },
    {
     "data": {
      "text/html": [
       "<pre>| Parameter                    | Description                                      | Value    |</pre>"
      ],
      "text/plain": [
       "| Parameter                    | Description                                      | Value    |"
      ]
     },
     "metadata": {},
     "output_type": "display_data"
    },
    {
     "data": {
      "text/html": [
       "<pre>+------------------------------+--------------------------------------------------+----------+</pre>"
      ],
      "text/plain": [
       "+------------------------------+--------------------------------------------------+----------+"
      ]
     },
     "metadata": {},
     "output_type": "display_data"
    },
    {
     "data": {
      "text/html": [
       "<pre>| num_factors                  | Factor Dimension                                 | 85       |</pre>"
      ],
      "text/plain": [
       "| num_factors                  | Factor Dimension                                 | 85       |"
      ]
     },
     "metadata": {},
     "output_type": "display_data"
    },
    {
     "data": {
      "text/html": [
       "<pre>| regularization               | L2 Regularization on Factors                     | 1e-14    |</pre>"
      ],
      "text/plain": [
       "| regularization               | L2 Regularization on Factors                     | 1e-14    |"
      ]
     },
     "metadata": {},
     "output_type": "display_data"
    },
    {
     "data": {
      "text/html": [
       "<pre>| max_iterations               | Maximum Number of Iterations                     | 50       |</pre>"
      ],
      "text/plain": [
       "| max_iterations               | Maximum Number of Iterations                     | 50       |"
      ]
     },
     "metadata": {},
     "output_type": "display_data"
    },
    {
     "data": {
      "text/html": [
       "<pre>| solver                       | Solver used for training                         | als      |</pre>"
      ],
      "text/plain": [
       "| solver                       | Solver used for training                         | als      |"
      ]
     },
     "metadata": {},
     "output_type": "display_data"
    },
    {
     "data": {
      "text/html": [
       "<pre>+------------------------------+--------------------------------------------------+----------+</pre>"
      ],
      "text/plain": [
       "+------------------------------+--------------------------------------------------+----------+"
      ]
     },
     "metadata": {},
     "output_type": "display_data"
    },
    {
     "data": {
      "text/html": [
       "<pre>+---------+--------------+------------------------+</pre>"
      ],
      "text/plain": [
       "+---------+--------------+------------------------+"
      ]
     },
     "metadata": {},
     "output_type": "display_data"
    },
    {
     "data": {
      "text/html": [
       "<pre>| Iter.   | Elapsed time | RMSE                   |</pre>"
      ],
      "text/plain": [
       "| Iter.   | Elapsed time | RMSE                   |"
      ]
     },
     "metadata": {},
     "output_type": "display_data"
    },
    {
     "data": {
      "text/html": [
       "<pre>+---------+--------------+------------------------+</pre>"
      ],
      "text/plain": [
       "+---------+--------------+------------------------+"
      ]
     },
     "metadata": {},
     "output_type": "display_data"
    },
    {
     "data": {
      "text/html": [
       "<pre>| Initial | 100us        | NA                     |</pre>"
      ],
      "text/plain": [
       "| Initial | 100us        | NA                     |"
      ]
     },
     "metadata": {},
     "output_type": "display_data"
    },
    {
     "data": {
      "text/html": [
       "<pre>+---------+--------------+------------------------+</pre>"
      ],
      "text/plain": [
       "+---------+--------------+------------------------+"
      ]
     },
     "metadata": {},
     "output_type": "display_data"
    },
    {
     "data": {
      "text/html": [
       "<pre>| 0       | 13.40s       | 1.50584                |</pre>"
      ],
      "text/plain": [
       "| 0       | 13.40s       | 1.50584                |"
      ]
     },
     "metadata": {},
     "output_type": "display_data"
    },
    {
     "data": {
      "text/html": [
       "<pre>| 1       | 27.56s       | 0.661304               |</pre>"
      ],
      "text/plain": [
       "| 1       | 27.56s       | 0.661304               |"
      ]
     },
     "metadata": {},
     "output_type": "display_data"
    },
    {
     "data": {
      "text/html": [
       "<pre>| 2       | 41.19s       | 0.551618               |</pre>"
      ],
      "text/plain": [
       "| 2       | 41.19s       | 0.551618               |"
      ]
     },
     "metadata": {},
     "output_type": "display_data"
    },
    {
     "data": {
      "text/html": [
       "<pre>| 3       | 55.01s       | 0.482592               |</pre>"
      ],
      "text/plain": [
       "| 3       | 55.01s       | 0.482592               |"
      ]
     },
     "metadata": {},
     "output_type": "display_data"
    },
    {
     "data": {
      "text/html": [
       "<pre>| 4       | 1m 8s        | 0.433943               |</pre>"
      ],
      "text/plain": [
       "| 4       | 1m 8s        | 0.433943               |"
      ]
     },
     "metadata": {},
     "output_type": "display_data"
    },
    {
     "data": {
      "text/html": [
       "<pre>| 5       | 1m 27s       | 0.397089               |</pre>"
      ],
      "text/plain": [
       "| 5       | 1m 27s       | 0.397089               |"
      ]
     },
     "metadata": {},
     "output_type": "display_data"
    },
    {
     "data": {
      "text/html": [
       "<pre>| 6       | 1m 39s       | 0.367802               |</pre>"
      ],
      "text/plain": [
       "| 6       | 1m 39s       | 0.367802               |"
      ]
     },
     "metadata": {},
     "output_type": "display_data"
    },
    {
     "data": {
      "text/html": [
       "<pre>| 7       | 1m 52s       | 0.343726               |</pre>"
      ],
      "text/plain": [
       "| 7       | 1m 52s       | 0.343726               |"
      ]
     },
     "metadata": {},
     "output_type": "display_data"
    },
    {
     "data": {
      "text/html": [
       "<pre>| 8       | 2m 5s        | 0.323429               |</pre>"
      ],
      "text/plain": [
       "| 8       | 2m 5s        | 0.323429               |"
      ]
     },
     "metadata": {},
     "output_type": "display_data"
    },
    {
     "data": {
      "text/html": [
       "<pre>| 9       | 2m 20s       | 0.305989               |</pre>"
      ],
      "text/plain": [
       "| 9       | 2m 20s       | 0.305989               |"
      ]
     },
     "metadata": {},
     "output_type": "display_data"
    },
    {
     "data": {
      "text/html": [
       "<pre>| 10      | 2m 34s       | 0.290783               |</pre>"
      ],
      "text/plain": [
       "| 10      | 2m 34s       | 0.290783               |"
      ]
     },
     "metadata": {},
     "output_type": "display_data"
    },
    {
     "data": {
      "text/html": [
       "<pre>| 11      | 2m 47s       | 0.277371               |</pre>"
      ],
      "text/plain": [
       "| 11      | 2m 47s       | 0.277371               |"
      ]
     },
     "metadata": {},
     "output_type": "display_data"
    },
    {
     "data": {
      "text/html": [
       "<pre>| 12      | 3m 1s        | 0.265428               |</pre>"
      ],
      "text/plain": [
       "| 12      | 3m 1s        | 0.265428               |"
      ]
     },
     "metadata": {},
     "output_type": "display_data"
    },
    {
     "data": {
      "text/html": [
       "<pre>| 13      | 3m 15s       | 0.25471                |</pre>"
      ],
      "text/plain": [
       "| 13      | 3m 15s       | 0.25471                |"
      ]
     },
     "metadata": {},
     "output_type": "display_data"
    },
    {
     "data": {
      "text/html": [
       "<pre>| 14      | 3m 29s       | 0.245027               |</pre>"
      ],
      "text/plain": [
       "| 14      | 3m 29s       | 0.245027               |"
      ]
     },
     "metadata": {},
     "output_type": "display_data"
    },
    {
     "data": {
      "text/html": [
       "<pre>| 15      | 3m 42s       | 0.236228               |</pre>"
      ],
      "text/plain": [
       "| 15      | 3m 42s       | 0.236228               |"
      ]
     },
     "metadata": {},
     "output_type": "display_data"
    },
    {
     "data": {
      "text/html": [
       "<pre>| 16      | 3m 56s       | 0.22819                |</pre>"
      ],
      "text/plain": [
       "| 16      | 3m 56s       | 0.22819                |"
      ]
     },
     "metadata": {},
     "output_type": "display_data"
    },
    {
     "data": {
      "text/html": [
       "<pre>| 17      | 4m 10s       | 0.220812               |</pre>"
      ],
      "text/plain": [
       "| 17      | 4m 10s       | 0.220812               |"
      ]
     },
     "metadata": {},
     "output_type": "display_data"
    },
    {
     "data": {
      "text/html": [
       "<pre>| 18      | 4m 24s       | 0.214013               |</pre>"
      ],
      "text/plain": [
       "| 18      | 4m 24s       | 0.214013               |"
      ]
     },
     "metadata": {},
     "output_type": "display_data"
    },
    {
     "data": {
      "text/html": [
       "<pre>| 19      | 4m 38s       | 0.207723               |</pre>"
      ],
      "text/plain": [
       "| 19      | 4m 38s       | 0.207723               |"
      ]
     },
     "metadata": {},
     "output_type": "display_data"
    },
    {
     "data": {
      "text/html": [
       "<pre>| 20      | 4m 52s       | 0.201883               |</pre>"
      ],
      "text/plain": [
       "| 20      | 4m 52s       | 0.201883               |"
      ]
     },
     "metadata": {},
     "output_type": "display_data"
    },
    {
     "data": {
      "text/html": [
       "<pre>| 21      | 5m 6s        | 0.196443               |</pre>"
      ],
      "text/plain": [
       "| 21      | 5m 6s        | 0.196443               |"
      ]
     },
     "metadata": {},
     "output_type": "display_data"
    },
    {
     "data": {
      "text/html": [
       "<pre>| 22      | 5m 20s       | 0.191361               |</pre>"
      ],
      "text/plain": [
       "| 22      | 5m 20s       | 0.191361               |"
      ]
     },
     "metadata": {},
     "output_type": "display_data"
    },
    {
     "data": {
      "text/html": [
       "<pre>| 23      | 5m 34s       | 0.186599               |</pre>"
      ],
      "text/plain": [
       "| 23      | 5m 34s       | 0.186599               |"
      ]
     },
     "metadata": {},
     "output_type": "display_data"
    },
    {
     "data": {
      "text/html": [
       "<pre>| 24      | 5m 48s       | 0.182127               |</pre>"
      ],
      "text/plain": [
       "| 24      | 5m 48s       | 0.182127               |"
      ]
     },
     "metadata": {},
     "output_type": "display_data"
    },
    {
     "data": {
      "text/html": [
       "<pre>| 25      | 6m 2s        | 0.177915               |</pre>"
      ],
      "text/plain": [
       "| 25      | 6m 2s        | 0.177915               |"
      ]
     },
     "metadata": {},
     "output_type": "display_data"
    },
    {
     "data": {
      "text/html": [
       "<pre>| 26      | 6m 18s       | 0.173941               |</pre>"
      ],
      "text/plain": [
       "| 26      | 6m 18s       | 0.173941               |"
      ]
     },
     "metadata": {},
     "output_type": "display_data"
    },
    {
     "data": {
      "text/html": [
       "<pre>| 27      | 6m 33s       | 0.170182               |</pre>"
      ],
      "text/plain": [
       "| 27      | 6m 33s       | 0.170182               |"
      ]
     },
     "metadata": {},
     "output_type": "display_data"
    },
    {
     "data": {
      "text/html": [
       "<pre>| 28      | 6m 48s       | 0.16662                |</pre>"
      ],
      "text/plain": [
       "| 28      | 6m 48s       | 0.16662                |"
      ]
     },
     "metadata": {},
     "output_type": "display_data"
    },
    {
     "data": {
      "text/html": [
       "<pre>| 29      | 7m 1s        | 0.163238               |</pre>"
      ],
      "text/plain": [
       "| 29      | 7m 1s        | 0.163238               |"
      ]
     },
     "metadata": {},
     "output_type": "display_data"
    },
    {
     "data": {
      "text/html": [
       "<pre>| 30      | 7m 16s       | 0.160021               |</pre>"
      ],
      "text/plain": [
       "| 30      | 7m 16s       | 0.160021               |"
      ]
     },
     "metadata": {},
     "output_type": "display_data"
    },
    {
     "data": {
      "text/html": [
       "<pre>| 31      | 7m 31s       | 0.156957               |</pre>"
      ],
      "text/plain": [
       "| 31      | 7m 31s       | 0.156957               |"
      ]
     },
     "metadata": {},
     "output_type": "display_data"
    },
    {
     "data": {
      "text/html": [
       "<pre>| 32      | 7m 47s       | 0.154034               |</pre>"
      ],
      "text/plain": [
       "| 32      | 7m 47s       | 0.154034               |"
      ]
     },
     "metadata": {},
     "output_type": "display_data"
    },
    {
     "data": {
      "text/html": [
       "<pre>| 33      | 8m 4s        | 0.15124                |</pre>"
      ],
      "text/plain": [
       "| 33      | 8m 4s        | 0.15124                |"
      ]
     },
     "metadata": {},
     "output_type": "display_data"
    },
    {
     "data": {
      "text/html": [
       "<pre>| 34      | 8m 18s       | 0.148567               |</pre>"
      ],
      "text/plain": [
       "| 34      | 8m 18s       | 0.148567               |"
      ]
     },
     "metadata": {},
     "output_type": "display_data"
    },
    {
     "data": {
      "text/html": [
       "<pre>| 35      | 8m 33s       | 0.146007               |</pre>"
      ],
      "text/plain": [
       "| 35      | 8m 33s       | 0.146007               |"
      ]
     },
     "metadata": {},
     "output_type": "display_data"
    },
    {
     "data": {
      "text/html": [
       "<pre>| 36      | 8m 50s       | 0.143552               |</pre>"
      ],
      "text/plain": [
       "| 36      | 8m 50s       | 0.143552               |"
      ]
     },
     "metadata": {},
     "output_type": "display_data"
    },
    {
     "data": {
      "text/html": [
       "<pre>| 37      | 9m 4s        | 0.141194               |</pre>"
      ],
      "text/plain": [
       "| 37      | 9m 4s        | 0.141194               |"
      ]
     },
     "metadata": {},
     "output_type": "display_data"
    },
    {
     "data": {
      "text/html": [
       "<pre>| 38      | 9m 21s       | 0.138928               |</pre>"
      ],
      "text/plain": [
       "| 38      | 9m 21s       | 0.138928               |"
      ]
     },
     "metadata": {},
     "output_type": "display_data"
    },
    {
     "data": {
      "text/html": [
       "<pre>| 39      | 9m 35s       | 0.136747               |</pre>"
      ],
      "text/plain": [
       "| 39      | 9m 35s       | 0.136747               |"
      ]
     },
     "metadata": {},
     "output_type": "display_data"
    },
    {
     "data": {
      "text/html": [
       "<pre>| 40      | 9m 50s       | 0.134648               |</pre>"
      ],
      "text/plain": [
       "| 40      | 9m 50s       | 0.134648               |"
      ]
     },
     "metadata": {},
     "output_type": "display_data"
    },
    {
     "data": {
      "text/html": [
       "<pre>| 41      | 10m 4s       | 0.132625               |</pre>"
      ],
      "text/plain": [
       "| 41      | 10m 4s       | 0.132625               |"
      ]
     },
     "metadata": {},
     "output_type": "display_data"
    },
    {
     "data": {
      "text/html": [
       "<pre>| 42      | 10m 18s      | 0.130673               |</pre>"
      ],
      "text/plain": [
       "| 42      | 10m 18s      | 0.130673               |"
      ]
     },
     "metadata": {},
     "output_type": "display_data"
    },
    {
     "data": {
      "text/html": [
       "<pre>| 43      | 10m 35s      | 0.128789               |</pre>"
      ],
      "text/plain": [
       "| 43      | 10m 35s      | 0.128789               |"
      ]
     },
     "metadata": {},
     "output_type": "display_data"
    },
    {
     "data": {
      "text/html": [
       "<pre>| 44      | 10m 50s      | 0.12697                |</pre>"
      ],
      "text/plain": [
       "| 44      | 10m 50s      | 0.12697                |"
      ]
     },
     "metadata": {},
     "output_type": "display_data"
    },
    {
     "data": {
      "text/html": [
       "<pre>| 45      | 11m 4s       | 0.125211               |</pre>"
      ],
      "text/plain": [
       "| 45      | 11m 4s       | 0.125211               |"
      ]
     },
     "metadata": {},
     "output_type": "display_data"
    },
    {
     "data": {
      "text/html": [
       "<pre>| 46      | 11m 18s      | 0.12351                |</pre>"
      ],
      "text/plain": [
       "| 46      | 11m 18s      | 0.12351                |"
      ]
     },
     "metadata": {},
     "output_type": "display_data"
    },
    {
     "data": {
      "text/html": [
       "<pre>| 47      | 11m 32s      | 0.121864               |</pre>"
      ],
      "text/plain": [
       "| 47      | 11m 32s      | 0.121864               |"
      ]
     },
     "metadata": {},
     "output_type": "display_data"
    },
    {
     "data": {
      "text/html": [
       "<pre>| 48      | 11m 45s      | 0.120269               |</pre>"
      ],
      "text/plain": [
       "| 48      | 11m 45s      | 0.120269               |"
      ]
     },
     "metadata": {},
     "output_type": "display_data"
    },
    {
     "data": {
      "text/html": [
       "<pre>| 49      | 11m 59s      | 0.118725               |</pre>"
      ],
      "text/plain": [
       "| 49      | 11m 59s      | 0.118725               |"
      ]
     },
     "metadata": {},
     "output_type": "display_data"
    },
    {
     "data": {
      "text/html": [
       "<pre>| FINAL   | 11m 59s      | 0.118725               |</pre>"
      ],
      "text/plain": [
       "| FINAL   | 11m 59s      | 0.118725               |"
      ]
     },
     "metadata": {},
     "output_type": "display_data"
    },
    {
     "data": {
      "text/html": [
       "<pre>+---------+--------------+------------------------+</pre>"
      ],
      "text/plain": [
       "+---------+--------------+------------------------+"
      ]
     },
     "metadata": {},
     "output_type": "display_data"
    },
    {
     "data": {
      "text/html": [
       "<pre>Optimization Complete: Iteration limit reached.</pre>"
      ],
      "text/plain": [
       "Optimization Complete: Iteration limit reached."
      ]
     },
     "metadata": {},
     "output_type": "display_data"
    },
    {
     "data": {
      "text/html": [
       "<pre>Recsys training: model = factorization_recommender</pre>"
      ],
      "text/plain": [
       "Recsys training: model = factorization_recommender"
      ]
     },
     "metadata": {},
     "output_type": "display_data"
    },
    {
     "data": {
      "text/html": [
       "<pre>Preparing data set.</pre>"
      ],
      "text/plain": [
       "Preparing data set."
      ]
     },
     "metadata": {},
     "output_type": "display_data"
    },
    {
     "data": {
      "text/html": [
       "<pre>    Data has 1096492 observations with 50690 users and 141 items.</pre>"
      ],
      "text/plain": [
       "    Data has 1096492 observations with 50690 users and 141 items."
      ]
     },
     "metadata": {},
     "output_type": "display_data"
    },
    {
     "data": {
      "text/html": [
       "<pre>    Data prepared in: 1.22456s</pre>"
      ],
      "text/plain": [
       "    Data prepared in: 1.22456s"
      ]
     },
     "metadata": {},
     "output_type": "display_data"
    },
    {
     "data": {
      "text/html": [
       "<pre>Training factorization_recommender for recommendations.</pre>"
      ],
      "text/plain": [
       "Training factorization_recommender for recommendations."
      ]
     },
     "metadata": {},
     "output_type": "display_data"
    },
    {
     "data": {
      "text/html": [
       "<pre>+------------------------------+--------------------------------------------------+----------+</pre>"
      ],
      "text/plain": [
       "+------------------------------+--------------------------------------------------+----------+"
      ]
     },
     "metadata": {},
     "output_type": "display_data"
    },
    {
     "data": {
      "text/html": [
       "<pre>| Parameter                    | Description                                      | Value    |</pre>"
      ],
      "text/plain": [
       "| Parameter                    | Description                                      | Value    |"
      ]
     },
     "metadata": {},
     "output_type": "display_data"
    },
    {
     "data": {
      "text/html": [
       "<pre>+------------------------------+--------------------------------------------------+----------+</pre>"
      ],
      "text/plain": [
       "+------------------------------+--------------------------------------------------+----------+"
      ]
     },
     "metadata": {},
     "output_type": "display_data"
    },
    {
     "data": {
      "text/html": [
       "<pre>| num_factors                  | Factor Dimension                                 | 92       |</pre>"
      ],
      "text/plain": [
       "| num_factors                  | Factor Dimension                                 | 92       |"
      ]
     },
     "metadata": {},
     "output_type": "display_data"
    },
    {
     "data": {
      "text/html": [
       "<pre>| regularization               | L2 Regularization on Factors                     | 1e-14    |</pre>"
      ],
      "text/plain": [
       "| regularization               | L2 Regularization on Factors                     | 1e-14    |"
      ]
     },
     "metadata": {},
     "output_type": "display_data"
    },
    {
     "data": {
      "text/html": [
       "<pre>| max_iterations               | Maximum Number of Iterations                     | 50       |</pre>"
      ],
      "text/plain": [
       "| max_iterations               | Maximum Number of Iterations                     | 50       |"
      ]
     },
     "metadata": {},
     "output_type": "display_data"
    },
    {
     "data": {
      "text/html": [
       "<pre>| solver                       | Solver used for training                         | als      |</pre>"
      ],
      "text/plain": [
       "| solver                       | Solver used for training                         | als      |"
      ]
     },
     "metadata": {},
     "output_type": "display_data"
    },
    {
     "data": {
      "text/html": [
       "<pre>+------------------------------+--------------------------------------------------+----------+</pre>"
      ],
      "text/plain": [
       "+------------------------------+--------------------------------------------------+----------+"
      ]
     },
     "metadata": {},
     "output_type": "display_data"
    },
    {
     "data": {
      "text/html": [
       "<pre>+---------+--------------+------------------------+</pre>"
      ],
      "text/plain": [
       "+---------+--------------+------------------------+"
      ]
     },
     "metadata": {},
     "output_type": "display_data"
    },
    {
     "data": {
      "text/html": [
       "<pre>| Iter.   | Elapsed time | RMSE                   |</pre>"
      ],
      "text/plain": [
       "| Iter.   | Elapsed time | RMSE                   |"
      ]
     },
     "metadata": {},
     "output_type": "display_data"
    },
    {
     "data": {
      "text/html": [
       "<pre>+---------+--------------+------------------------+</pre>"
      ],
      "text/plain": [
       "+---------+--------------+------------------------+"
      ]
     },
     "metadata": {},
     "output_type": "display_data"
    },
    {
     "data": {
      "text/html": [
       "<pre>| Initial | 76us         | NA                     |</pre>"
      ],
      "text/plain": [
       "| Initial | 76us         | NA                     |"
      ]
     },
     "metadata": {},
     "output_type": "display_data"
    },
    {
     "data": {
      "text/html": [
       "<pre>+---------+--------------+------------------------+</pre>"
      ],
      "text/plain": [
       "+---------+--------------+------------------------+"
      ]
     },
     "metadata": {},
     "output_type": "display_data"
    },
    {
     "data": {
      "text/html": [
       "<pre>| 0       | 15.56s       | 1.46036                |</pre>"
      ],
      "text/plain": [
       "| 0       | 15.56s       | 1.46036                |"
      ]
     },
     "metadata": {},
     "output_type": "display_data"
    },
    {
     "data": {
      "text/html": [
       "<pre>| 1       | 31.29s       | 0.5342                 |</pre>"
      ],
      "text/plain": [
       "| 1       | 31.29s       | 0.5342                 |"
      ]
     },
     "metadata": {},
     "output_type": "display_data"
    },
    {
     "data": {
      "text/html": [
       "<pre>| 2       | 47.16s       | 0.439777               |</pre>"
      ],
      "text/plain": [
       "| 2       | 47.16s       | 0.439777               |"
      ]
     },
     "metadata": {},
     "output_type": "display_data"
    },
    {
     "data": {
      "text/html": [
       "<pre>| 3       | 1m 2s        | 0.37823                |</pre>"
      ],
      "text/plain": [
       "| 3       | 1m 2s        | 0.37823                |"
      ]
     },
     "metadata": {},
     "output_type": "display_data"
    },
    {
     "data": {
      "text/html": [
       "<pre>| 4       | 1m 18s       | 0.334033               |</pre>"
      ],
      "text/plain": [
       "| 4       | 1m 18s       | 0.334033               |"
      ]
     },
     "metadata": {},
     "output_type": "display_data"
    },
    {
     "data": {
      "text/html": [
       "<pre>| 5       | 1m 33s       | 0.300348               |</pre>"
      ],
      "text/plain": [
       "| 5       | 1m 33s       | 0.300348               |"
      ]
     },
     "metadata": {},
     "output_type": "display_data"
    },
    {
     "data": {
      "text/html": [
       "<pre>| 6       | 1m 50s       | 0.273608               |</pre>"
      ],
      "text/plain": [
       "| 6       | 1m 50s       | 0.273608               |"
      ]
     },
     "metadata": {},
     "output_type": "display_data"
    },
    {
     "data": {
      "text/html": [
       "<pre>| 7       | 2m 8s        | 0.251741               |</pre>"
      ],
      "text/plain": [
       "| 7       | 2m 8s        | 0.251741               |"
      ]
     },
     "metadata": {},
     "output_type": "display_data"
    },
    {
     "data": {
      "text/html": [
       "<pre>| 8       | 2m 26s       | 0.233447               |</pre>"
      ],
      "text/plain": [
       "| 8       | 2m 26s       | 0.233447               |"
      ]
     },
     "metadata": {},
     "output_type": "display_data"
    },
    {
     "data": {
      "text/html": [
       "<pre>| 9       | 2m 42s       | 0.217866               |</pre>"
      ],
      "text/plain": [
       "| 9       | 2m 42s       | 0.217866               |"
      ]
     },
     "metadata": {},
     "output_type": "display_data"
    },
    {
     "data": {
      "text/html": [
       "<pre>| 10      | 2m 57s       | 0.204399               |</pre>"
      ],
      "text/plain": [
       "| 10      | 2m 57s       | 0.204399               |"
      ]
     },
     "metadata": {},
     "output_type": "display_data"
    },
    {
     "data": {
      "text/html": [
       "<pre>| 11      | 3m 13s       | 0.19262                |</pre>"
      ],
      "text/plain": [
       "| 11      | 3m 13s       | 0.19262                |"
      ]
     },
     "metadata": {},
     "output_type": "display_data"
    },
    {
     "data": {
      "text/html": [
       "<pre>| 12      | 3m 29s       | 0.182212               |</pre>"
      ],
      "text/plain": [
       "| 12      | 3m 29s       | 0.182212               |"
      ]
     },
     "metadata": {},
     "output_type": "display_data"
    },
    {
     "data": {
      "text/html": [
       "<pre>| 13      | 3m 44s       | 0.172936               |</pre>"
      ],
      "text/plain": [
       "| 13      | 3m 44s       | 0.172936               |"
      ]
     },
     "metadata": {},
     "output_type": "display_data"
    },
    {
     "data": {
      "text/html": [
       "<pre>| 14      | 4m 0s        | 0.164609               |</pre>"
      ],
      "text/plain": [
       "| 14      | 4m 0s        | 0.164609               |"
      ]
     },
     "metadata": {},
     "output_type": "display_data"
    },
    {
     "data": {
      "text/html": [
       "<pre>| 15      | 4m 15s       | 0.157084               |</pre>"
      ],
      "text/plain": [
       "| 15      | 4m 15s       | 0.157084               |"
      ]
     },
     "metadata": {},
     "output_type": "display_data"
    },
    {
     "data": {
      "text/html": [
       "<pre>| 16      | 4m 31s       | 0.150248               |</pre>"
      ],
      "text/plain": [
       "| 16      | 4m 31s       | 0.150248               |"
      ]
     },
     "metadata": {},
     "output_type": "display_data"
    },
    {
     "data": {
      "text/html": [
       "<pre>| 17      | 4m 47s       | 0.144004               |</pre>"
      ],
      "text/plain": [
       "| 17      | 4m 47s       | 0.144004               |"
      ]
     },
     "metadata": {},
     "output_type": "display_data"
    },
    {
     "data": {
      "text/html": [
       "<pre>| 18      | 5m 3s        | 0.138278               |</pre>"
      ],
      "text/plain": [
       "| 18      | 5m 3s        | 0.138278               |"
      ]
     },
     "metadata": {},
     "output_type": "display_data"
    },
    {
     "data": {
      "text/html": [
       "<pre>| 19      | 5m 18s       | 0.133003               |</pre>"
      ],
      "text/plain": [
       "| 19      | 5m 18s       | 0.133003               |"
      ]
     },
     "metadata": {},
     "output_type": "display_data"
    },
    {
     "data": {
      "text/html": [
       "<pre>| 20      | 5m 34s       | 0.128128               |</pre>"
      ],
      "text/plain": [
       "| 20      | 5m 34s       | 0.128128               |"
      ]
     },
     "metadata": {},
     "output_type": "display_data"
    },
    {
     "data": {
      "text/html": [
       "<pre>| 21      | 5m 50s       | 0.123607               |</pre>"
      ],
      "text/plain": [
       "| 21      | 5m 50s       | 0.123607               |"
      ]
     },
     "metadata": {},
     "output_type": "display_data"
    },
    {
     "data": {
      "text/html": [
       "<pre>| 22      | 6m 5s        | 0.119402               |</pre>"
      ],
      "text/plain": [
       "| 22      | 6m 5s        | 0.119402               |"
      ]
     },
     "metadata": {},
     "output_type": "display_data"
    },
    {
     "data": {
      "text/html": [
       "<pre>| 23      | 6m 21s       | 0.115479               |</pre>"
      ],
      "text/plain": [
       "| 23      | 6m 21s       | 0.115479               |"
      ]
     },
     "metadata": {},
     "output_type": "display_data"
    },
    {
     "data": {
      "text/html": [
       "<pre>| 24      | 6m 36s       | 0.11181                |</pre>"
      ],
      "text/plain": [
       "| 24      | 6m 36s       | 0.11181                |"
      ]
     },
     "metadata": {},
     "output_type": "display_data"
    },
    {
     "data": {
      "text/html": [
       "<pre>| 25      | 6m 52s       | 0.108372               |</pre>"
      ],
      "text/plain": [
       "| 25      | 6m 52s       | 0.108372               |"
      ]
     },
     "metadata": {},
     "output_type": "display_data"
    },
    {
     "data": {
      "text/html": [
       "<pre>| 26      | 7m 7s        | 0.105141               |</pre>"
      ],
      "text/plain": [
       "| 26      | 7m 7s        | 0.105141               |"
      ]
     },
     "metadata": {},
     "output_type": "display_data"
    },
    {
     "data": {
      "text/html": [
       "<pre>| 27      | 7m 24s       | 0.1021                 |</pre>"
      ],
      "text/plain": [
       "| 27      | 7m 24s       | 0.1021                 |"
      ]
     },
     "metadata": {},
     "output_type": "display_data"
    },
    {
     "data": {
      "text/html": [
       "<pre>| 28      | 7m 39s       | 0.0992319              |</pre>"
      ],
      "text/plain": [
       "| 28      | 7m 39s       | 0.0992319              |"
      ]
     },
     "metadata": {},
     "output_type": "display_data"
    },
    {
     "data": {
      "text/html": [
       "<pre>| 29      | 7m 55s       | 0.0965221              |</pre>"
      ],
      "text/plain": [
       "| 29      | 7m 55s       | 0.0965221              |"
      ]
     },
     "metadata": {},
     "output_type": "display_data"
    },
    {
     "data": {
      "text/html": [
       "<pre>| 30      | 8m 10s       | 0.0939578              |</pre>"
      ],
      "text/plain": [
       "| 30      | 8m 10s       | 0.0939578              |"
      ]
     },
     "metadata": {},
     "output_type": "display_data"
    },
    {
     "data": {
      "text/html": [
       "<pre>| 31      | 8m 25s       | 0.0915272              |</pre>"
      ],
      "text/plain": [
       "| 31      | 8m 25s       | 0.0915272              |"
      ]
     },
     "metadata": {},
     "output_type": "display_data"
    },
    {
     "data": {
      "text/html": [
       "<pre>| 32      | 8m 41s       | 0.0892201              |</pre>"
      ],
      "text/plain": [
       "| 32      | 8m 41s       | 0.0892201              |"
      ]
     },
     "metadata": {},
     "output_type": "display_data"
    },
    {
     "data": {
      "text/html": [
       "<pre>| 33      | 8m 56s       | 0.0870271              |</pre>"
      ],
      "text/plain": [
       "| 33      | 8m 56s       | 0.0870271              |"
      ]
     },
     "metadata": {},
     "output_type": "display_data"
    },
    {
     "data": {
      "text/html": [
       "<pre>| 34      | 9m 11s       | 0.08494                |</pre>"
      ],
      "text/plain": [
       "| 34      | 9m 11s       | 0.08494                |"
      ]
     },
     "metadata": {},
     "output_type": "display_data"
    },
    {
     "data": {
      "text/html": [
       "<pre>| 35      | 9m 27s       | 0.082951               |</pre>"
      ],
      "text/plain": [
       "| 35      | 9m 27s       | 0.082951               |"
      ]
     },
     "metadata": {},
     "output_type": "display_data"
    },
    {
     "data": {
      "text/html": [
       "<pre>| 36      | 9m 42s       | 0.0810536              |</pre>"
      ],
      "text/plain": [
       "| 36      | 9m 42s       | 0.0810536              |"
      ]
     },
     "metadata": {},
     "output_type": "display_data"
    },
    {
     "data": {
      "text/html": [
       "<pre>| 37      | 9m 57s       | 0.0792413              |</pre>"
      ],
      "text/plain": [
       "| 37      | 9m 57s       | 0.0792413              |"
      ]
     },
     "metadata": {},
     "output_type": "display_data"
    },
    {
     "data": {
      "text/html": [
       "<pre>| 38      | 10m 13s      | 0.0775088              |</pre>"
      ],
      "text/plain": [
       "| 38      | 10m 13s      | 0.0775088              |"
      ]
     },
     "metadata": {},
     "output_type": "display_data"
    },
    {
     "data": {
      "text/html": [
       "<pre>| 39      | 10m 29s      | 0.0758505              |</pre>"
      ],
      "text/plain": [
       "| 39      | 10m 29s      | 0.0758505              |"
      ]
     },
     "metadata": {},
     "output_type": "display_data"
    },
    {
     "data": {
      "text/html": [
       "<pre>| 40      | 10m 44s      | 0.0742622              |</pre>"
      ],
      "text/plain": [
       "| 40      | 10m 44s      | 0.0742622              |"
      ]
     },
     "metadata": {},
     "output_type": "display_data"
    },
    {
     "data": {
      "text/html": [
       "<pre>| 41      | 11m 0s       | 0.0727389              |</pre>"
      ],
      "text/plain": [
       "| 41      | 11m 0s       | 0.0727389              |"
      ]
     },
     "metadata": {},
     "output_type": "display_data"
    },
    {
     "data": {
      "text/html": [
       "<pre>| 42      | 11m 15s      | 0.0712773              |</pre>"
      ],
      "text/plain": [
       "| 42      | 11m 15s      | 0.0712773              |"
      ]
     },
     "metadata": {},
     "output_type": "display_data"
    },
    {
     "data": {
      "text/html": [
       "<pre>| 43      | 11m 31s      | 0.0698734              |</pre>"
      ],
      "text/plain": [
       "| 43      | 11m 31s      | 0.0698734              |"
      ]
     },
     "metadata": {},
     "output_type": "display_data"
    },
    {
     "data": {
      "text/html": [
       "<pre>| 44      | 11m 46s      | 0.0685238              |</pre>"
      ],
      "text/plain": [
       "| 44      | 11m 46s      | 0.0685238              |"
      ]
     },
     "metadata": {},
     "output_type": "display_data"
    },
    {
     "data": {
      "text/html": [
       "<pre>| 45      | 12m 1s       | 0.0672257              |</pre>"
      ],
      "text/plain": [
       "| 45      | 12m 1s       | 0.0672257              |"
      ]
     },
     "metadata": {},
     "output_type": "display_data"
    },
    {
     "data": {
      "text/html": [
       "<pre>| 46      | 12m 18s      | 0.0659758              |</pre>"
      ],
      "text/plain": [
       "| 46      | 12m 18s      | 0.0659758              |"
      ]
     },
     "metadata": {},
     "output_type": "display_data"
    },
    {
     "data": {
      "text/html": [
       "<pre>| 47      | 12m 32s      | 0.0647718              |</pre>"
      ],
      "text/plain": [
       "| 47      | 12m 32s      | 0.0647718              |"
      ]
     },
     "metadata": {},
     "output_type": "display_data"
    },
    {
     "data": {
      "text/html": [
       "<pre>| 48      | 12m 49s      | 0.063611               |</pre>"
      ],
      "text/plain": [
       "| 48      | 12m 49s      | 0.063611               |"
      ]
     },
     "metadata": {},
     "output_type": "display_data"
    },
    {
     "data": {
      "text/html": [
       "<pre>| 49      | 13m 4s       | 0.062491               |</pre>"
      ],
      "text/plain": [
       "| 49      | 13m 4s       | 0.062491               |"
      ]
     },
     "metadata": {},
     "output_type": "display_data"
    },
    {
     "data": {
      "text/html": [
       "<pre>| FINAL   | 13m 4s       | 0.062491               |</pre>"
      ],
      "text/plain": [
       "| FINAL   | 13m 4s       | 0.062491               |"
      ]
     },
     "metadata": {},
     "output_type": "display_data"
    },
    {
     "data": {
      "text/html": [
       "<pre>+---------+--------------+------------------------+</pre>"
      ],
      "text/plain": [
       "+---------+--------------+------------------------+"
      ]
     },
     "metadata": {},
     "output_type": "display_data"
    },
    {
     "data": {
      "text/html": [
       "<pre>Optimization Complete: Iteration limit reached.</pre>"
      ],
      "text/plain": [
       "Optimization Complete: Iteration limit reached."
      ]
     },
     "metadata": {},
     "output_type": "display_data"
    },
    {
     "data": {
      "text/html": [
       "<pre>Recsys training: model = factorization_recommender</pre>"
      ],
      "text/plain": [
       "Recsys training: model = factorization_recommender"
      ]
     },
     "metadata": {},
     "output_type": "display_data"
    },
    {
     "data": {
      "text/html": [
       "<pre>Preparing data set.</pre>"
      ],
      "text/plain": [
       "Preparing data set."
      ]
     },
     "metadata": {},
     "output_type": "display_data"
    },
    {
     "data": {
      "text/html": [
       "<pre>    Data has 1096492 observations with 50690 users and 141 items.</pre>"
      ],
      "text/plain": [
       "    Data has 1096492 observations with 50690 users and 141 items."
      ]
     },
     "metadata": {},
     "output_type": "display_data"
    },
    {
     "data": {
      "text/html": [
       "<pre>    Data prepared in: 1.01906s</pre>"
      ],
      "text/plain": [
       "    Data prepared in: 1.01906s"
      ]
     },
     "metadata": {},
     "output_type": "display_data"
    },
    {
     "data": {
      "text/html": [
       "<pre>Training factorization_recommender for recommendations.</pre>"
      ],
      "text/plain": [
       "Training factorization_recommender for recommendations."
      ]
     },
     "metadata": {},
     "output_type": "display_data"
    },
    {
     "data": {
      "text/html": [
       "<pre>+------------------------------+--------------------------------------------------+----------+</pre>"
      ],
      "text/plain": [
       "+------------------------------+--------------------------------------------------+----------+"
      ]
     },
     "metadata": {},
     "output_type": "display_data"
    },
    {
     "data": {
      "text/html": [
       "<pre>| Parameter                    | Description                                      | Value    |</pre>"
      ],
      "text/plain": [
       "| Parameter                    | Description                                      | Value    |"
      ]
     },
     "metadata": {},
     "output_type": "display_data"
    },
    {
     "data": {
      "text/html": [
       "<pre>+------------------------------+--------------------------------------------------+----------+</pre>"
      ],
      "text/plain": [
       "+------------------------------+--------------------------------------------------+----------+"
      ]
     },
     "metadata": {},
     "output_type": "display_data"
    },
    {
     "data": {
      "text/html": [
       "<pre>| num_factors                  | Factor Dimension                                 | 99       |</pre>"
      ],
      "text/plain": [
       "| num_factors                  | Factor Dimension                                 | 99       |"
      ]
     },
     "metadata": {},
     "output_type": "display_data"
    },
    {
     "data": {
      "text/html": [
       "<pre>| regularization               | L2 Regularization on Factors                     | 1e-14    |</pre>"
      ],
      "text/plain": [
       "| regularization               | L2 Regularization on Factors                     | 1e-14    |"
      ]
     },
     "metadata": {},
     "output_type": "display_data"
    },
    {
     "data": {
      "text/html": [
       "<pre>| max_iterations               | Maximum Number of Iterations                     | 50       |</pre>"
      ],
      "text/plain": [
       "| max_iterations               | Maximum Number of Iterations                     | 50       |"
      ]
     },
     "metadata": {},
     "output_type": "display_data"
    },
    {
     "data": {
      "text/html": [
       "<pre>| solver                       | Solver used for training                         | als      |</pre>"
      ],
      "text/plain": [
       "| solver                       | Solver used for training                         | als      |"
      ]
     },
     "metadata": {},
     "output_type": "display_data"
    },
    {
     "data": {
      "text/html": [
       "<pre>+------------------------------+--------------------------------------------------+----------+</pre>"
      ],
      "text/plain": [
       "+------------------------------+--------------------------------------------------+----------+"
      ]
     },
     "metadata": {},
     "output_type": "display_data"
    },
    {
     "data": {
      "text/html": [
       "<pre>+---------+--------------+------------------------+</pre>"
      ],
      "text/plain": [
       "+---------+--------------+------------------------+"
      ]
     },
     "metadata": {},
     "output_type": "display_data"
    },
    {
     "data": {
      "text/html": [
       "<pre>| Iter.   | Elapsed time | RMSE                   |</pre>"
      ],
      "text/plain": [
       "| Iter.   | Elapsed time | RMSE                   |"
      ]
     },
     "metadata": {},
     "output_type": "display_data"
    },
    {
     "data": {
      "text/html": [
       "<pre>+---------+--------------+------------------------+</pre>"
      ],
      "text/plain": [
       "+---------+--------------+------------------------+"
      ]
     },
     "metadata": {},
     "output_type": "display_data"
    },
    {
     "data": {
      "text/html": [
       "<pre>| Initial | 88us         | NA                     |</pre>"
      ],
      "text/plain": [
       "| Initial | 88us         | NA                     |"
      ]
     },
     "metadata": {},
     "output_type": "display_data"
    },
    {
     "data": {
      "text/html": [
       "<pre>+---------+--------------+------------------------+</pre>"
      ],
      "text/plain": [
       "+---------+--------------+------------------------+"
      ]
     },
     "metadata": {},
     "output_type": "display_data"
    },
    {
     "data": {
      "text/html": [
       "<pre>| 0       | 18.99s       | 1.21563                |</pre>"
      ],
      "text/plain": [
       "| 0       | 18.99s       | 1.21563                |"
      ]
     },
     "metadata": {},
     "output_type": "display_data"
    },
    {
     "data": {
      "text/html": [
       "<pre>| 1       | 37.67s       | 0.418523               |</pre>"
      ],
      "text/plain": [
       "| 1       | 37.67s       | 0.418523               |"
      ]
     },
     "metadata": {},
     "output_type": "display_data"
    },
    {
     "data": {
      "text/html": [
       "<pre>| 2       | 56.46s       | 0.330796               |</pre>"
      ],
      "text/plain": [
       "| 2       | 56.46s       | 0.330796               |"
      ]
     },
     "metadata": {},
     "output_type": "display_data"
    },
    {
     "data": {
      "text/html": [
       "<pre>| 3       | 1m 15s       | 0.276866               |</pre>"
      ],
      "text/plain": [
       "| 3       | 1m 15s       | 0.276866               |"
      ]
     },
     "metadata": {},
     "output_type": "display_data"
    },
    {
     "data": {
      "text/html": [
       "<pre>| 4       | 1m 34s       | 0.239613               |</pre>"
      ],
      "text/plain": [
       "| 4       | 1m 34s       | 0.239613               |"
      ]
     },
     "metadata": {},
     "output_type": "display_data"
    },
    {
     "data": {
      "text/html": [
       "<pre>| 5       | 1m 52s       | 0.212083               |</pre>"
      ],
      "text/plain": [
       "| 5       | 1m 52s       | 0.212083               |"
      ]
     },
     "metadata": {},
     "output_type": "display_data"
    },
    {
     "data": {
      "text/html": [
       "<pre>| 6       | 2m 11s       | 0.190574               |</pre>"
      ],
      "text/plain": [
       "| 6       | 2m 11s       | 0.190574               |"
      ]
     },
     "metadata": {},
     "output_type": "display_data"
    },
    {
     "data": {
      "text/html": [
       "<pre>| 7       | 2m 29s       | 0.173278               |</pre>"
      ],
      "text/plain": [
       "| 7       | 2m 29s       | 0.173278               |"
      ]
     },
     "metadata": {},
     "output_type": "display_data"
    },
    {
     "data": {
      "text/html": [
       "<pre>| 8       | 2m 48s       | 0.15907                |</pre>"
      ],
      "text/plain": [
       "| 8       | 2m 48s       | 0.15907                |"
      ]
     },
     "metadata": {},
     "output_type": "display_data"
    },
    {
     "data": {
      "text/html": [
       "<pre>| 9       | 3m 7s        | 0.147328               |</pre>"
      ],
      "text/plain": [
       "| 9       | 3m 7s        | 0.147328               |"
      ]
     },
     "metadata": {},
     "output_type": "display_data"
    },
    {
     "data": {
      "text/html": [
       "<pre>| 10      | 3m 26s       | 0.137528               |</pre>"
      ],
      "text/plain": [
       "| 10      | 3m 26s       | 0.137528               |"
      ]
     },
     "metadata": {},
     "output_type": "display_data"
    },
    {
     "data": {
      "text/html": [
       "<pre>| 11      | 3m 44s       | 0.128058               |</pre>"
      ],
      "text/plain": [
       "| 11      | 3m 44s       | 0.128058               |"
      ]
     },
     "metadata": {},
     "output_type": "display_data"
    },
    {
     "data": {
      "text/html": [
       "<pre>| 12      | 4m 3s        | 0.120252               |</pre>"
      ],
      "text/plain": [
       "| 12      | 4m 3s        | 0.120252               |"
      ]
     },
     "metadata": {},
     "output_type": "display_data"
    },
    {
     "data": {
      "text/html": [
       "<pre>| 13      | 4m 22s       | 0.113378               |</pre>"
      ],
      "text/plain": [
       "| 13      | 4m 22s       | 0.113378               |"
      ]
     },
     "metadata": {},
     "output_type": "display_data"
    },
    {
     "data": {
      "text/html": [
       "<pre>| 14      | 4m 40s       | 0.107706               |</pre>"
      ],
      "text/plain": [
       "| 14      | 4m 40s       | 0.107706               |"
      ]
     },
     "metadata": {},
     "output_type": "display_data"
    },
    {
     "data": {
      "text/html": [
       "<pre>| 15      | 4m 59s       | 0.101846               |</pre>"
      ],
      "text/plain": [
       "| 15      | 4m 59s       | 0.101846               |"
      ]
     },
     "metadata": {},
     "output_type": "display_data"
    },
    {
     "data": {
      "text/html": [
       "<pre>| 16      | 5m 17s       | 0.0969582              |</pre>"
      ],
      "text/plain": [
       "| 16      | 5m 17s       | 0.0969582              |"
      ]
     },
     "metadata": {},
     "output_type": "display_data"
    },
    {
     "data": {
      "text/html": [
       "<pre>| 17      | 5m 36s       | 0.0925051              |</pre>"
      ],
      "text/plain": [
       "| 17      | 5m 36s       | 0.0925051              |"
      ]
     },
     "metadata": {},
     "output_type": "display_data"
    },
    {
     "data": {
      "text/html": [
       "<pre>| 18      | 5m 55s       | 0.088466               |</pre>"
      ],
      "text/plain": [
       "| 18      | 5m 55s       | 0.088466               |"
      ]
     },
     "metadata": {},
     "output_type": "display_data"
    },
    {
     "data": {
      "text/html": [
       "<pre>| 19      | 6m 14s       | 0.0847485              |</pre>"
      ],
      "text/plain": [
       "| 19      | 6m 14s       | 0.0847485              |"
      ]
     },
     "metadata": {},
     "output_type": "display_data"
    },
    {
     "data": {
      "text/html": [
       "<pre>| 20      | 6m 32s       | 0.0812999              |</pre>"
      ],
      "text/plain": [
       "| 20      | 6m 32s       | 0.0812999              |"
      ]
     },
     "metadata": {},
     "output_type": "display_data"
    },
    {
     "data": {
      "text/html": [
       "<pre>| 21      | 6m 51s       | 0.0781407              |</pre>"
      ],
      "text/plain": [
       "| 21      | 6m 51s       | 0.0781407              |"
      ]
     },
     "metadata": {},
     "output_type": "display_data"
    },
    {
     "data": {
      "text/html": [
       "<pre>| 22      | 7m 10s       | 0.0752699              |</pre>"
      ],
      "text/plain": [
       "| 22      | 7m 10s       | 0.0752699              |"
      ]
     },
     "metadata": {},
     "output_type": "display_data"
    },
    {
     "data": {
      "text/html": [
       "<pre>| 23      | 7m 29s       | 0.0725338              |</pre>"
      ],
      "text/plain": [
       "| 23      | 7m 29s       | 0.0725338              |"
      ]
     },
     "metadata": {},
     "output_type": "display_data"
    },
    {
     "data": {
      "text/html": [
       "<pre>| 24      | 7m 47s       | 0.0700893              |</pre>"
      ],
      "text/plain": [
       "| 24      | 7m 47s       | 0.0700893              |"
      ]
     },
     "metadata": {},
     "output_type": "display_data"
    },
    {
     "data": {
      "text/html": [
       "<pre>| 25      | 8m 6s        | 0.0676866              |</pre>"
      ],
      "text/plain": [
       "| 25      | 8m 6s        | 0.0676866              |"
      ]
     },
     "metadata": {},
     "output_type": "display_data"
    },
    {
     "data": {
      "text/html": [
       "<pre>| 26      | 8m 25s       | 0.0655051              |</pre>"
      ],
      "text/plain": [
       "| 26      | 8m 25s       | 0.0655051              |"
      ]
     },
     "metadata": {},
     "output_type": "display_data"
    },
    {
     "data": {
      "text/html": [
       "<pre>| 27      | 8m 43s       | 0.0634354              |</pre>"
      ],
      "text/plain": [
       "| 27      | 8m 43s       | 0.0634354              |"
      ]
     },
     "metadata": {},
     "output_type": "display_data"
    },
    {
     "data": {
      "text/html": [
       "<pre>| 28      | 9m 2s        | 0.0616663              |</pre>"
      ],
      "text/plain": [
       "| 28      | 9m 2s        | 0.0616663              |"
      ]
     },
     "metadata": {},
     "output_type": "display_data"
    },
    {
     "data": {
      "text/html": [
       "<pre>| 29      | 9m 21s       | 0.0597603              |</pre>"
      ],
      "text/plain": [
       "| 29      | 9m 21s       | 0.0597603              |"
      ]
     },
     "metadata": {},
     "output_type": "display_data"
    },
    {
     "data": {
      "text/html": [
       "<pre>| 30      | 9m 39s       | 0.0581637              |</pre>"
      ],
      "text/plain": [
       "| 30      | 9m 39s       | 0.0581637              |"
      ]
     },
     "metadata": {},
     "output_type": "display_data"
    },
    {
     "data": {
      "text/html": [
       "<pre>| 31      | 9m 58s       | 0.0564148              |</pre>"
      ],
      "text/plain": [
       "| 31      | 9m 58s       | 0.0564148              |"
      ]
     },
     "metadata": {},
     "output_type": "display_data"
    },
    {
     "data": {
      "text/html": [
       "<pre>| 32      | 10m 17s      | 0.0549242              |</pre>"
      ],
      "text/plain": [
       "| 32      | 10m 17s      | 0.0549242              |"
      ]
     },
     "metadata": {},
     "output_type": "display_data"
    },
    {
     "data": {
      "text/html": [
       "<pre>| 33      | 10m 36s      | 0.0533792              |</pre>"
      ],
      "text/plain": [
       "| 33      | 10m 36s      | 0.0533792              |"
      ]
     },
     "metadata": {},
     "output_type": "display_data"
    },
    {
     "data": {
      "text/html": [
       "<pre>| 34      | 10m 55s      | 0.0520825              |</pre>"
      ],
      "text/plain": [
       "| 34      | 10m 55s      | 0.0520825              |"
      ]
     },
     "metadata": {},
     "output_type": "display_data"
    },
    {
     "data": {
      "text/html": [
       "<pre>| 35      | 11m 13s      | 0.0510957              |</pre>"
      ],
      "text/plain": [
       "| 35      | 11m 13s      | 0.0510957              |"
      ]
     },
     "metadata": {},
     "output_type": "display_data"
    },
    {
     "data": {
      "text/html": [
       "<pre>| 36      | 11m 32s      | 0.0495053              |</pre>"
      ],
      "text/plain": [
       "| 36      | 11m 32s      | 0.0495053              |"
      ]
     },
     "metadata": {},
     "output_type": "display_data"
    },
    {
     "data": {
      "text/html": [
       "<pre>| 37      | 11m 50s      | 0.0484082              |</pre>"
      ],
      "text/plain": [
       "| 37      | 11m 50s      | 0.0484082              |"
      ]
     },
     "metadata": {},
     "output_type": "display_data"
    },
    {
     "data": {
      "text/html": [
       "<pre>| 38      | 12m 9s       | 0.0471814              |</pre>"
      ],
      "text/plain": [
       "| 38      | 12m 9s       | 0.0471814              |"
      ]
     },
     "metadata": {},
     "output_type": "display_data"
    },
    {
     "data": {
      "text/html": [
       "<pre>| 39      | 12m 28s      | 0.0461666              |</pre>"
      ],
      "text/plain": [
       "| 39      | 12m 28s      | 0.0461666              |"
      ]
     },
     "metadata": {},
     "output_type": "display_data"
    },
    {
     "data": {
      "text/html": [
       "<pre>| 40      | 12m 48s      | 0.0451486              |</pre>"
      ],
      "text/plain": [
       "| 40      | 12m 48s      | 0.0451486              |"
      ]
     },
     "metadata": {},
     "output_type": "display_data"
    },
    {
     "data": {
      "text/html": [
       "<pre>| 41      | 13m 13s      | 0.0441538              |</pre>"
      ],
      "text/plain": [
       "| 41      | 13m 13s      | 0.0441538              |"
      ]
     },
     "metadata": {},
     "output_type": "display_data"
    },
    {
     "data": {
      "text/html": [
       "<pre>| 42      | 13m 33s      | 0.0431848              |</pre>"
      ],
      "text/plain": [
       "| 42      | 13m 33s      | 0.0431848              |"
      ]
     },
     "metadata": {},
     "output_type": "display_data"
    },
    {
     "data": {
      "text/html": [
       "<pre>| 43      | 13m 52s      | 0.042397               |</pre>"
      ],
      "text/plain": [
       "| 43      | 13m 52s      | 0.042397               |"
      ]
     },
     "metadata": {},
     "output_type": "display_data"
    },
    {
     "data": {
      "text/html": [
       "<pre>| 44      | 14m 10s      | 0.0413592              |</pre>"
      ],
      "text/plain": [
       "| 44      | 14m 10s      | 0.0413592              |"
      ]
     },
     "metadata": {},
     "output_type": "display_data"
    },
    {
     "data": {
      "text/html": [
       "<pre>| 45      | 14m 29s      | 0.0405038              |</pre>"
      ],
      "text/plain": [
       "| 45      | 14m 29s      | 0.0405038              |"
      ]
     },
     "metadata": {},
     "output_type": "display_data"
    },
    {
     "data": {
      "text/html": [
       "<pre>| 46      | 14m 47s      | 0.0399031              |</pre>"
      ],
      "text/plain": [
       "| 46      | 14m 47s      | 0.0399031              |"
      ]
     },
     "metadata": {},
     "output_type": "display_data"
    },
    {
     "data": {
      "text/html": [
       "<pre>| 47      | 15m 6s       | 0.0391144              |</pre>"
      ],
      "text/plain": [
       "| 47      | 15m 6s       | 0.0391144              |"
      ]
     },
     "metadata": {},
     "output_type": "display_data"
    },
    {
     "data": {
      "text/html": [
       "<pre>| 48      | 15m 24s      | 0.0383391              |</pre>"
      ],
      "text/plain": [
       "| 48      | 15m 24s      | 0.0383391              |"
      ]
     },
     "metadata": {},
     "output_type": "display_data"
    },
    {
     "data": {
      "text/html": [
       "<pre>| 49      | 15m 44s      | 0.037597               |</pre>"
      ],
      "text/plain": [
       "| 49      | 15m 44s      | 0.037597               |"
      ]
     },
     "metadata": {},
     "output_type": "display_data"
    },
    {
     "data": {
      "text/html": [
       "<pre>| FINAL   | 15m 44s      | 0.037597               |</pre>"
      ],
      "text/plain": [
       "| FINAL   | 15m 44s      | 0.037597               |"
      ]
     },
     "metadata": {},
     "output_type": "display_data"
    },
    {
     "data": {
      "text/html": [
       "<pre>+---------+--------------+------------------------+</pre>"
      ],
      "text/plain": [
       "+---------+--------------+------------------------+"
      ]
     },
     "metadata": {},
     "output_type": "display_data"
    },
    {
     "data": {
      "text/html": [
       "<pre>Optimization Complete: Iteration limit reached.</pre>"
      ],
      "text/plain": [
       "Optimization Complete: Iteration limit reached."
      ]
     },
     "metadata": {},
     "output_type": "display_data"
    },
    {
     "data": {
      "text/html": [
       "<pre>Recsys training: model = factorization_recommender</pre>"
      ],
      "text/plain": [
       "Recsys training: model = factorization_recommender"
      ]
     },
     "metadata": {},
     "output_type": "display_data"
    },
    {
     "data": {
      "text/html": [
       "<pre>Preparing data set.</pre>"
      ],
      "text/plain": [
       "Preparing data set."
      ]
     },
     "metadata": {},
     "output_type": "display_data"
    },
    {
     "data": {
      "text/html": [
       "<pre>    Data has 1096492 observations with 50690 users and 141 items.</pre>"
      ],
      "text/plain": [
       "    Data has 1096492 observations with 50690 users and 141 items."
      ]
     },
     "metadata": {},
     "output_type": "display_data"
    },
    {
     "data": {
      "text/html": [
       "<pre>    Data prepared in: 2.49369s</pre>"
      ],
      "text/plain": [
       "    Data prepared in: 2.49369s"
      ]
     },
     "metadata": {},
     "output_type": "display_data"
    },
    {
     "data": {
      "text/html": [
       "<pre>Training factorization_recommender for recommendations.</pre>"
      ],
      "text/plain": [
       "Training factorization_recommender for recommendations."
      ]
     },
     "metadata": {},
     "output_type": "display_data"
    },
    {
     "data": {
      "text/html": [
       "<pre>+------------------------------+--------------------------------------------------+----------+</pre>"
      ],
      "text/plain": [
       "+------------------------------+--------------------------------------------------+----------+"
      ]
     },
     "metadata": {},
     "output_type": "display_data"
    },
    {
     "data": {
      "text/html": [
       "<pre>| Parameter                    | Description                                      | Value    |</pre>"
      ],
      "text/plain": [
       "| Parameter                    | Description                                      | Value    |"
      ]
     },
     "metadata": {},
     "output_type": "display_data"
    },
    {
     "data": {
      "text/html": [
       "<pre>+------------------------------+--------------------------------------------------+----------+</pre>"
      ],
      "text/plain": [
       "+------------------------------+--------------------------------------------------+----------+"
      ]
     },
     "metadata": {},
     "output_type": "display_data"
    },
    {
     "data": {
      "text/html": [
       "<pre>| num_factors                  | Factor Dimension                                 | 106      |</pre>"
      ],
      "text/plain": [
       "| num_factors                  | Factor Dimension                                 | 106      |"
      ]
     },
     "metadata": {},
     "output_type": "display_data"
    },
    {
     "data": {
      "text/html": [
       "<pre>| regularization               | L2 Regularization on Factors                     | 1e-14    |</pre>"
      ],
      "text/plain": [
       "| regularization               | L2 Regularization on Factors                     | 1e-14    |"
      ]
     },
     "metadata": {},
     "output_type": "display_data"
    },
    {
     "data": {
      "text/html": [
       "<pre>| max_iterations               | Maximum Number of Iterations                     | 50       |</pre>"
      ],
      "text/plain": [
       "| max_iterations               | Maximum Number of Iterations                     | 50       |"
      ]
     },
     "metadata": {},
     "output_type": "display_data"
    },
    {
     "data": {
      "text/html": [
       "<pre>| solver                       | Solver used for training                         | als      |</pre>"
      ],
      "text/plain": [
       "| solver                       | Solver used for training                         | als      |"
      ]
     },
     "metadata": {},
     "output_type": "display_data"
    },
    {
     "data": {
      "text/html": [
       "<pre>+------------------------------+--------------------------------------------------+----------+</pre>"
      ],
      "text/plain": [
       "+------------------------------+--------------------------------------------------+----------+"
      ]
     },
     "metadata": {},
     "output_type": "display_data"
    },
    {
     "data": {
      "text/html": [
       "<pre>+---------+--------------+------------------------+</pre>"
      ],
      "text/plain": [
       "+---------+--------------+------------------------+"
      ]
     },
     "metadata": {},
     "output_type": "display_data"
    },
    {
     "data": {
      "text/html": [
       "<pre>| Iter.   | Elapsed time | RMSE                   |</pre>"
      ],
      "text/plain": [
       "| Iter.   | Elapsed time | RMSE                   |"
      ]
     },
     "metadata": {},
     "output_type": "display_data"
    },
    {
     "data": {
      "text/html": [
       "<pre>+---------+--------------+------------------------+</pre>"
      ],
      "text/plain": [
       "+---------+--------------+------------------------+"
      ]
     },
     "metadata": {},
     "output_type": "display_data"
    },
    {
     "data": {
      "text/html": [
       "<pre>| Initial | 73us         | NA                     |</pre>"
      ],
      "text/plain": [
       "| Initial | 73us         | NA                     |"
      ]
     },
     "metadata": {},
     "output_type": "display_data"
    },
    {
     "data": {
      "text/html": [
       "<pre>+---------+--------------+------------------------+</pre>"
      ],
      "text/plain": [
       "+---------+--------------+------------------------+"
      ]
     },
     "metadata": {},
     "output_type": "display_data"
    },
    {
     "data": {
      "text/html": [
       "<pre>| 0       | 21.00s       | 1.30478                |</pre>"
      ],
      "text/plain": [
       "| 0       | 21.00s       | 1.30478                |"
      ]
     },
     "metadata": {},
     "output_type": "display_data"
    },
    {
     "data": {
      "text/html": [
       "<pre>| 1       | 43.14s       | 0.865749               |</pre>"
      ],
      "text/plain": [
       "| 1       | 43.14s       | 0.865749               |"
      ]
     },
     "metadata": {},
     "output_type": "display_data"
    },
    {
     "data": {
      "text/html": [
       "<pre>| 2       | 1m 3s        | 0.234003               |</pre>"
      ],
      "text/plain": [
       "| 2       | 1m 3s        | 0.234003               |"
      ]
     },
     "metadata": {},
     "output_type": "display_data"
    },
    {
     "data": {
      "text/html": [
       "<pre>| 3       | 1m 24s       | 0.192324               |</pre>"
      ],
      "text/plain": [
       "| 3       | 1m 24s       | 0.192324               |"
      ]
     },
     "metadata": {},
     "output_type": "display_data"
    },
    {
     "data": {
      "text/html": [
       "<pre>| 4       | 1m 45s       | 0.164652               |</pre>"
      ],
      "text/plain": [
       "| 4       | 1m 45s       | 0.164652               |"
      ]
     },
     "metadata": {},
     "output_type": "display_data"
    },
    {
     "data": {
      "text/html": [
       "<pre>| 5       | 2m 6s        | 0.144736               |</pre>"
      ],
      "text/plain": [
       "| 5       | 2m 6s        | 0.144736               |"
      ]
     },
     "metadata": {},
     "output_type": "display_data"
    },
    {
     "data": {
      "text/html": [
       "<pre>| 6       | 2m 27s       | 0.128591               |</pre>"
      ],
      "text/plain": [
       "| 6       | 2m 27s       | 0.128591               |"
      ]
     },
     "metadata": {},
     "output_type": "display_data"
    },
    {
     "data": {
      "text/html": [
       "<pre>| 7       | 2m 48s       | 0.116574               |</pre>"
      ],
      "text/plain": [
       "| 7       | 2m 48s       | 0.116574               |"
      ]
     },
     "metadata": {},
     "output_type": "display_data"
    },
    {
     "data": {
      "text/html": [
       "<pre>| 8       | 3m 9s        | 0.10602                |</pre>"
      ],
      "text/plain": [
       "| 8       | 3m 9s        | 0.10602                |"
      ]
     },
     "metadata": {},
     "output_type": "display_data"
    },
    {
     "data": {
      "text/html": [
       "<pre>| 9       | 3m 30s       | 0.0977462              |</pre>"
      ],
      "text/plain": [
       "| 9       | 3m 30s       | 0.0977462              |"
      ]
     },
     "metadata": {},
     "output_type": "display_data"
    },
    {
     "data": {
      "text/html": [
       "<pre>| 10      | 3m 50s       | 0.090836               |</pre>"
      ],
      "text/plain": [
       "| 10      | 3m 50s       | 0.090836               |"
      ]
     },
     "metadata": {},
     "output_type": "display_data"
    },
    {
     "data": {
      "text/html": [
       "<pre>| 11      | 4m 11s       | 0.0842093              |</pre>"
      ],
      "text/plain": [
       "| 11      | 4m 11s       | 0.0842093              |"
      ]
     },
     "metadata": {},
     "output_type": "display_data"
    },
    {
     "data": {
      "text/html": [
       "<pre>| 12      | 4m 32s       | 0.0794813              |</pre>"
      ],
      "text/plain": [
       "| 12      | 4m 32s       | 0.0794813              |"
      ]
     },
     "metadata": {},
     "output_type": "display_data"
    },
    {
     "data": {
      "text/html": [
       "<pre>| 13      | 4m 53s       | 0.0747075              |</pre>"
      ],
      "text/plain": [
       "| 13      | 4m 53s       | 0.0747075              |"
      ]
     },
     "metadata": {},
     "output_type": "display_data"
    },
    {
     "data": {
      "text/html": [
       "<pre>| 14      | 5m 13s       | 0.0703483              |</pre>"
      ],
      "text/plain": [
       "| 14      | 5m 13s       | 0.0703483              |"
      ]
     },
     "metadata": {},
     "output_type": "display_data"
    },
    {
     "data": {
      "text/html": [
       "<pre>| 15      | 5m 35s       | 0.0663854              |</pre>"
      ],
      "text/plain": [
       "| 15      | 5m 35s       | 0.0663854              |"
      ]
     },
     "metadata": {},
     "output_type": "display_data"
    },
    {
     "data": {
      "text/html": [
       "<pre>| 16      | 5m 55s       | 0.0635011              |</pre>"
      ],
      "text/plain": [
       "| 16      | 5m 55s       | 0.0635011              |"
      ]
     },
     "metadata": {},
     "output_type": "display_data"
    },
    {
     "data": {
      "text/html": [
       "<pre>| 17      | 6m 15s       | 0.0601253              |</pre>"
      ],
      "text/plain": [
       "| 17      | 6m 15s       | 0.0601253              |"
      ]
     },
     "metadata": {},
     "output_type": "display_data"
    },
    {
     "data": {
      "text/html": [
       "<pre>| 18      | 6m 36s       | 0.0573289              |</pre>"
      ],
      "text/plain": [
       "| 18      | 6m 36s       | 0.0573289              |"
      ]
     },
     "metadata": {},
     "output_type": "display_data"
    },
    {
     "data": {
      "text/html": [
       "<pre>| 19      | 6m 57s       | 0.0550043              |</pre>"
      ],
      "text/plain": [
       "| 19      | 6m 57s       | 0.0550043              |"
      ]
     },
     "metadata": {},
     "output_type": "display_data"
    },
    {
     "data": {
      "text/html": [
       "<pre>| 20      | 7m 17s       | 0.0529509              |</pre>"
      ],
      "text/plain": [
       "| 20      | 7m 17s       | 0.0529509              |"
      ]
     },
     "metadata": {},
     "output_type": "display_data"
    },
    {
     "data": {
      "text/html": [
       "<pre>| 21      | 7m 38s       | 0.0506404              |</pre>"
      ],
      "text/plain": [
       "| 21      | 7m 38s       | 0.0506404              |"
      ]
     },
     "metadata": {},
     "output_type": "display_data"
    },
    {
     "data": {
      "text/html": [
       "<pre>| 22      | 7m 59s       | 0.0487025              |</pre>"
      ],
      "text/plain": [
       "| 22      | 7m 59s       | 0.0487025              |"
      ]
     },
     "metadata": {},
     "output_type": "display_data"
    },
    {
     "data": {
      "text/html": [
       "<pre>| 23      | 8m 19s       | 0.0643309              |</pre>"
      ],
      "text/plain": [
       "| 23      | 8m 19s       | 0.0643309              |"
      ]
     },
     "metadata": {},
     "output_type": "display_data"
    },
    {
     "data": {
      "text/html": [
       "<pre>| 24      | 8m 40s       | 0.0455175              |</pre>"
      ],
      "text/plain": [
       "| 24      | 8m 40s       | 0.0455175              |"
      ]
     },
     "metadata": {},
     "output_type": "display_data"
    },
    {
     "data": {
      "text/html": [
       "<pre>| 25      | 9m 1s        | 0.0438676              |</pre>"
      ],
      "text/plain": [
       "| 25      | 9m 1s        | 0.0438676              |"
      ]
     },
     "metadata": {},
     "output_type": "display_data"
    },
    {
     "data": {
      "text/html": [
       "<pre>| 26      | 9m 21s       | 0.0423363              |</pre>"
      ],
      "text/plain": [
       "| 26      | 9m 21s       | 0.0423363              |"
      ]
     },
     "metadata": {},
     "output_type": "display_data"
    },
    {
     "data": {
      "text/html": [
       "<pre>| 27      | 9m 42s       | 0.0463209              |</pre>"
      ],
      "text/plain": [
       "| 27      | 9m 42s       | 0.0463209              |"
      ]
     },
     "metadata": {},
     "output_type": "display_data"
    },
    {
     "data": {
      "text/html": [
       "<pre>| 28      | 10m 3s       | 0.0400968              |</pre>"
      ],
      "text/plain": [
       "| 28      | 10m 3s       | 0.0400968              |"
      ]
     },
     "metadata": {},
     "output_type": "display_data"
    },
    {
     "data": {
      "text/html": [
       "<pre>| 29      | 10m 23s      | 0.0388251              |</pre>"
      ],
      "text/plain": [
       "| 29      | 10m 23s      | 0.0388251              |"
      ]
     },
     "metadata": {},
     "output_type": "display_data"
    },
    {
     "data": {
      "text/html": [
       "<pre>| 30      | 10m 45s      | 0.0375331              |</pre>"
      ],
      "text/plain": [
       "| 30      | 10m 45s      | 0.0375331              |"
      ]
     },
     "metadata": {},
     "output_type": "display_data"
    },
    {
     "data": {
      "text/html": [
       "<pre>| 31      | 11m 5s       | 0.0367056              |</pre>"
      ],
      "text/plain": [
       "| 31      | 11m 5s       | 0.0367056              |"
      ]
     },
     "metadata": {},
     "output_type": "display_data"
    },
    {
     "data": {
      "text/html": [
       "<pre>| 32      | 11m 26s      | 0.0356546              |</pre>"
      ],
      "text/plain": [
       "| 32      | 11m 26s      | 0.0356546              |"
      ]
     },
     "metadata": {},
     "output_type": "display_data"
    },
    {
     "data": {
      "text/html": [
       "<pre>| 33      | 11m 46s      | 0.0348805              |</pre>"
      ],
      "text/plain": [
       "| 33      | 11m 46s      | 0.0348805              |"
      ]
     },
     "metadata": {},
     "output_type": "display_data"
    },
    {
     "data": {
      "text/html": [
       "<pre>| 34      | 12m 7s       | 0.0339207              |</pre>"
      ],
      "text/plain": [
       "| 34      | 12m 7s       | 0.0339207              |"
      ]
     },
     "metadata": {},
     "output_type": "display_data"
    },
    {
     "data": {
      "text/html": [
       "<pre>| 35      | 12m 27s      | 0.0331442              |</pre>"
      ],
      "text/plain": [
       "| 35      | 12m 27s      | 0.0331442              |"
      ]
     },
     "metadata": {},
     "output_type": "display_data"
    },
    {
     "data": {
      "text/html": [
       "<pre>| 36      | 12m 48s      | 0.0321422              |</pre>"
      ],
      "text/plain": [
       "| 36      | 12m 48s      | 0.0321422              |"
      ]
     },
     "metadata": {},
     "output_type": "display_data"
    },
    {
     "data": {
      "text/html": [
       "<pre>| 37      | 13m 8s       | 0.031209               |</pre>"
      ],
      "text/plain": [
       "| 37      | 13m 8s       | 0.031209               |"
      ]
     },
     "metadata": {},
     "output_type": "display_data"
    },
    {
     "data": {
      "text/html": [
       "<pre>| 38      | 13m 28s      | 0.0305113              |</pre>"
      ],
      "text/plain": [
       "| 38      | 13m 28s      | 0.0305113              |"
      ]
     },
     "metadata": {},
     "output_type": "display_data"
    },
    {
     "data": {
      "text/html": [
       "<pre>| 39      | 13m 49s      | 0.0299212              |</pre>"
      ],
      "text/plain": [
       "| 39      | 13m 49s      | 0.0299212              |"
      ]
     },
     "metadata": {},
     "output_type": "display_data"
    },
    {
     "data": {
      "text/html": [
       "<pre>| 40      | 14m 11s      | 0.0292042              |</pre>"
      ],
      "text/plain": [
       "| 40      | 14m 11s      | 0.0292042              |"
      ]
     },
     "metadata": {},
     "output_type": "display_data"
    },
    {
     "data": {
      "text/html": [
       "<pre>| 41      | 14m 31s      | 0.0285276              |</pre>"
      ],
      "text/plain": [
       "| 41      | 14m 31s      | 0.0285276              |"
      ]
     },
     "metadata": {},
     "output_type": "display_data"
    },
    {
     "data": {
      "text/html": [
       "<pre>| 42      | 14m 51s      | 0.0279062              |</pre>"
      ],
      "text/plain": [
       "| 42      | 14m 51s      | 0.0279062              |"
      ]
     },
     "metadata": {},
     "output_type": "display_data"
    },
    {
     "data": {
      "text/html": [
       "<pre>| 43      | 15m 12s      | 0.0274257              |</pre>"
      ],
      "text/plain": [
       "| 43      | 15m 12s      | 0.0274257              |"
      ]
     },
     "metadata": {},
     "output_type": "display_data"
    },
    {
     "data": {
      "text/html": [
       "<pre>| 44      | 15m 33s      | 0.0268224              |</pre>"
      ],
      "text/plain": [
       "| 44      | 15m 33s      | 0.0268224              |"
      ]
     },
     "metadata": {},
     "output_type": "display_data"
    },
    {
     "data": {
      "text/html": [
       "<pre>| 45      | 15m 54s      | 0.0425592              |</pre>"
      ],
      "text/plain": [
       "| 45      | 15m 54s      | 0.0425592              |"
      ]
     },
     "metadata": {},
     "output_type": "display_data"
    },
    {
     "data": {
      "text/html": [
       "<pre>| 46      | 16m 14s      | 0.0259912              |</pre>"
      ],
      "text/plain": [
       "| 46      | 16m 14s      | 0.0259912              |"
      ]
     },
     "metadata": {},
     "output_type": "display_data"
    },
    {
     "data": {
      "text/html": [
       "<pre>| 47      | 16m 34s      | 0.0253807              |</pre>"
      ],
      "text/plain": [
       "| 47      | 16m 34s      | 0.0253807              |"
      ]
     },
     "metadata": {},
     "output_type": "display_data"
    },
    {
     "data": {
      "text/html": [
       "<pre>| 48      | 16m 54s      | 0.0248595              |</pre>"
      ],
      "text/plain": [
       "| 48      | 16m 54s      | 0.0248595              |"
      ]
     },
     "metadata": {},
     "output_type": "display_data"
    },
    {
     "data": {
      "text/html": [
       "<pre>| 49      | 17m 16s      | 0.0247025              |</pre>"
      ],
      "text/plain": [
       "| 49      | 17m 16s      | 0.0247025              |"
      ]
     },
     "metadata": {},
     "output_type": "display_data"
    },
    {
     "data": {
      "text/html": [
       "<pre>| FINAL   | 17m 16s      | 0.0247025              |</pre>"
      ],
      "text/plain": [
       "| FINAL   | 17m 16s      | 0.0247025              |"
      ]
     },
     "metadata": {},
     "output_type": "display_data"
    },
    {
     "data": {
      "text/html": [
       "<pre>+---------+--------------+------------------------+</pre>"
      ],
      "text/plain": [
       "+---------+--------------+------------------------+"
      ]
     },
     "metadata": {},
     "output_type": "display_data"
    },
    {
     "data": {
      "text/html": [
       "<pre>Optimization Complete: Iteration limit reached.</pre>"
      ],
      "text/plain": [
       "Optimization Complete: Iteration limit reached."
      ]
     },
     "metadata": {},
     "output_type": "display_data"
    },
    {
     "data": {
      "text/html": [
       "<pre>Recsys training: model = factorization_recommender</pre>"
      ],
      "text/plain": [
       "Recsys training: model = factorization_recommender"
      ]
     },
     "metadata": {},
     "output_type": "display_data"
    },
    {
     "data": {
      "text/html": [
       "<pre>Preparing data set.</pre>"
      ],
      "text/plain": [
       "Preparing data set."
      ]
     },
     "metadata": {},
     "output_type": "display_data"
    },
    {
     "data": {
      "text/html": [
       "<pre>    Data has 1096492 observations with 50690 users and 141 items.</pre>"
      ],
      "text/plain": [
       "    Data has 1096492 observations with 50690 users and 141 items."
      ]
     },
     "metadata": {},
     "output_type": "display_data"
    },
    {
     "data": {
      "text/html": [
       "<pre>    Data prepared in: 1.00635s</pre>"
      ],
      "text/plain": [
       "    Data prepared in: 1.00635s"
      ]
     },
     "metadata": {},
     "output_type": "display_data"
    },
    {
     "data": {
      "text/html": [
       "<pre>Training factorization_recommender for recommendations.</pre>"
      ],
      "text/plain": [
       "Training factorization_recommender for recommendations."
      ]
     },
     "metadata": {},
     "output_type": "display_data"
    },
    {
     "data": {
      "text/html": [
       "<pre>+------------------------------+--------------------------------------------------+----------+</pre>"
      ],
      "text/plain": [
       "+------------------------------+--------------------------------------------------+----------+"
      ]
     },
     "metadata": {},
     "output_type": "display_data"
    },
    {
     "data": {
      "text/html": [
       "<pre>| Parameter                    | Description                                      | Value    |</pre>"
      ],
      "text/plain": [
       "| Parameter                    | Description                                      | Value    |"
      ]
     },
     "metadata": {},
     "output_type": "display_data"
    },
    {
     "data": {
      "text/html": [
       "<pre>+------------------------------+--------------------------------------------------+----------+</pre>"
      ],
      "text/plain": [
       "+------------------------------+--------------------------------------------------+----------+"
      ]
     },
     "metadata": {},
     "output_type": "display_data"
    },
    {
     "data": {
      "text/html": [
       "<pre>| num_factors                  | Factor Dimension                                 | 113      |</pre>"
      ],
      "text/plain": [
       "| num_factors                  | Factor Dimension                                 | 113      |"
      ]
     },
     "metadata": {},
     "output_type": "display_data"
    },
    {
     "data": {
      "text/html": [
       "<pre>| regularization               | L2 Regularization on Factors                     | 1e-14    |</pre>"
      ],
      "text/plain": [
       "| regularization               | L2 Regularization on Factors                     | 1e-14    |"
      ]
     },
     "metadata": {},
     "output_type": "display_data"
    },
    {
     "data": {
      "text/html": [
       "<pre>| max_iterations               | Maximum Number of Iterations                     | 50       |</pre>"
      ],
      "text/plain": [
       "| max_iterations               | Maximum Number of Iterations                     | 50       |"
      ]
     },
     "metadata": {},
     "output_type": "display_data"
    },
    {
     "data": {
      "text/html": [
       "<pre>| solver                       | Solver used for training                         | als      |</pre>"
      ],
      "text/plain": [
       "| solver                       | Solver used for training                         | als      |"
      ]
     },
     "metadata": {},
     "output_type": "display_data"
    },
    {
     "data": {
      "text/html": [
       "<pre>+------------------------------+--------------------------------------------------+----------+</pre>"
      ],
      "text/plain": [
       "+------------------------------+--------------------------------------------------+----------+"
      ]
     },
     "metadata": {},
     "output_type": "display_data"
    },
    {
     "data": {
      "text/html": [
       "<pre>+---------+--------------+------------------------+</pre>"
      ],
      "text/plain": [
       "+---------+--------------+------------------------+"
      ]
     },
     "metadata": {},
     "output_type": "display_data"
    },
    {
     "data": {
      "text/html": [
       "<pre>| Iter.   | Elapsed time | RMSE                   |</pre>"
      ],
      "text/plain": [
       "| Iter.   | Elapsed time | RMSE                   |"
      ]
     },
     "metadata": {},
     "output_type": "display_data"
    },
    {
     "data": {
      "text/html": [
       "<pre>+---------+--------------+------------------------+</pre>"
      ],
      "text/plain": [
       "+---------+--------------+------------------------+"
      ]
     },
     "metadata": {},
     "output_type": "display_data"
    },
    {
     "data": {
      "text/html": [
       "<pre>| Initial | 81us         | NA                     |</pre>"
      ],
      "text/plain": [
       "| Initial | 81us         | NA                     |"
      ]
     },
     "metadata": {},
     "output_type": "display_data"
    },
    {
     "data": {
      "text/html": [
       "<pre>+---------+--------------+------------------------+</pre>"
      ],
      "text/plain": [
       "+---------+--------------+------------------------+"
      ]
     },
     "metadata": {},
     "output_type": "display_data"
    },
    {
     "data": {
      "text/html": [
       "<pre>| 0       | 23.45s       | 0.942078               |</pre>"
      ],
      "text/plain": [
       "| 0       | 23.45s       | 0.942078               |"
      ]
     },
     "metadata": {},
     "output_type": "display_data"
    },
    {
     "data": {
      "text/html": [
       "<pre>| 1       | 47.91s       | 0.223557               |</pre>"
      ],
      "text/plain": [
       "| 1       | 47.91s       | 0.223557               |"
      ]
     },
     "metadata": {},
     "output_type": "display_data"
    },
    {
     "data": {
      "text/html": [
       "<pre>| 2       | 1m 11s       | 0.169663               |</pre>"
      ],
      "text/plain": [
       "| 2       | 1m 11s       | 0.169663               |"
      ]
     },
     "metadata": {},
     "output_type": "display_data"
    },
    {
     "data": {
      "text/html": [
       "<pre>| 3       | 1m 35s       | 0.138981               |</pre>"
      ],
      "text/plain": [
       "| 3       | 1m 35s       | 0.138981               |"
      ]
     },
     "metadata": {},
     "output_type": "display_data"
    },
    {
     "data": {
      "text/html": [
       "<pre>| 4       | 2m 1s        | 0.117976               |</pre>"
      ],
      "text/plain": [
       "| 4       | 2m 1s        | 0.117976               |"
      ]
     },
     "metadata": {},
     "output_type": "display_data"
    },
    {
     "data": {
      "text/html": [
       "<pre>| 5       | 2m 25s       | 0.102553               |</pre>"
      ],
      "text/plain": [
       "| 5       | 2m 25s       | 0.102553               |"
      ]
     },
     "metadata": {},
     "output_type": "display_data"
    },
    {
     "data": {
      "text/html": [
       "<pre>| 6       | 2m 49s       | 0.125953               |</pre>"
      ],
      "text/plain": [
       "| 6       | 2m 49s       | 0.125953               |"
      ]
     },
     "metadata": {},
     "output_type": "display_data"
    },
    {
     "data": {
      "text/html": [
       "<pre>| 7       | 3m 13s       | 82973.5                |</pre>"
      ],
      "text/plain": [
       "| 7       | 3m 13s       | 82973.5                |"
      ]
     },
     "metadata": {},
     "output_type": "display_data"
    },
    {
     "data": {
      "text/html": [
       "<pre>| 8       | 3m 37s       | nan                    |</pre>"
      ],
      "text/plain": [
       "| 8       | 3m 37s       | nan                    |"
      ]
     },
     "metadata": {},
     "output_type": "display_data"
    },
    {
     "data": {
      "text/html": [
       "<pre>Resetting model.</pre>"
      ],
      "text/plain": [
       "Resetting model."
      ]
     },
     "metadata": {},
     "output_type": "display_data"
    },
    {
     "data": {
      "text/html": [
       "<pre>| 9       | 4m 0s        | 0.933947               |</pre>"
      ],
      "text/plain": [
       "| 9       | 4m 0s        | 0.933947               |"
      ]
     },
     "metadata": {},
     "output_type": "display_data"
    },
    {
     "data": {
      "text/html": [
       "<pre>| 10      | 4m 25s       | 0.220215               |</pre>"
      ],
      "text/plain": [
       "| 10      | 4m 25s       | 0.220215               |"
      ]
     },
     "metadata": {},
     "output_type": "display_data"
    },
    {
     "data": {
      "text/html": [
       "<pre>| 11      | 4m 48s       | 0.179611               |</pre>"
      ],
      "text/plain": [
       "| 11      | 4m 48s       | 0.179611               |"
      ]
     },
     "metadata": {},
     "output_type": "display_data"
    },
    {
     "data": {
      "text/html": [
       "<pre>| 12      | 5m 12s       | 109274                 |</pre>"
      ],
      "text/plain": [
       "| 12      | 5m 12s       | 109274                 |"
      ]
     },
     "metadata": {},
     "output_type": "display_data"
    },
    {
     "data": {
      "text/html": [
       "<pre>| 13      | 5m 37s       | nan                    |</pre>"
      ],
      "text/plain": [
       "| 13      | 5m 37s       | nan                    |"
      ]
     },
     "metadata": {},
     "output_type": "display_data"
    },
    {
     "data": {
      "text/html": [
       "<pre>Resetting model.</pre>"
      ],
      "text/plain": [
       "Resetting model."
      ]
     },
     "metadata": {},
     "output_type": "display_data"
    },
    {
     "data": {
      "text/html": [
       "<pre>| 14      | 6m 0s        | 1.09995                |</pre>"
      ],
      "text/plain": [
       "| 14      | 6m 0s        | 1.09995                |"
      ]
     },
     "metadata": {},
     "output_type": "display_data"
    },
    {
     "data": {
      "text/html": [
       "<pre>| 15      | 6m 24s       | 0.524675               |</pre>"
      ],
      "text/plain": [
       "| 15      | 6m 24s       | 0.524675               |"
      ]
     },
     "metadata": {},
     "output_type": "display_data"
    },
    {
     "data": {
      "text/html": [
       "<pre>| 16      | 6m 48s       | 0.0684895              |</pre>"
      ],
      "text/plain": [
       "| 16      | 6m 48s       | 0.0684895              |"
      ]
     },
     "metadata": {},
     "output_type": "display_data"
    },
    {
     "data": {
      "text/html": [
       "<pre>| 17      | 7m 17s       | 0.0598919              |</pre>"
      ],
      "text/plain": [
       "| 17      | 7m 17s       | 0.0598919              |"
      ]
     },
     "metadata": {},
     "output_type": "display_data"
    },
    {
     "data": {
      "text/html": [
       "<pre>| 18      | 7m 41s       | 0.0535594              |</pre>"
      ],
      "text/plain": [
       "| 18      | 7m 41s       | 0.0535594              |"
      ]
     },
     "metadata": {},
     "output_type": "display_data"
    },
    {
     "data": {
      "text/html": [
       "<pre>| 19      | 8m 4s        | 0.0475865              |</pre>"
      ],
      "text/plain": [
       "| 19      | 8m 4s        | 0.0475865              |"
      ]
     },
     "metadata": {},
     "output_type": "display_data"
    },
    {
     "data": {
      "text/html": [
       "<pre>| 20      | 8m 28s       | 0.0438624              |</pre>"
      ],
      "text/plain": [
       "| 20      | 8m 28s       | 0.0438624              |"
      ]
     },
     "metadata": {},
     "output_type": "display_data"
    },
    {
     "data": {
      "text/html": [
       "<pre>| 21      | 8m 52s       | 0.0405228              |</pre>"
      ],
      "text/plain": [
       "| 21      | 8m 52s       | 0.0405228              |"
      ]
     },
     "metadata": {},
     "output_type": "display_data"
    },
    {
     "data": {
      "text/html": [
       "<pre>| 22      | 9m 17s       | 0.037859               |</pre>"
      ],
      "text/plain": [
       "| 22      | 9m 17s       | 0.037859               |"
      ]
     },
     "metadata": {},
     "output_type": "display_data"
    },
    {
     "data": {
      "text/html": [
       "<pre>| 23      | 9m 41s       | 0.0361466              |</pre>"
      ],
      "text/plain": [
       "| 23      | 9m 41s       | 0.0361466              |"
      ]
     },
     "metadata": {},
     "output_type": "display_data"
    },
    {
     "data": {
      "text/html": [
       "<pre>| 24      | 10m 5s       | 0.0347234              |</pre>"
      ],
      "text/plain": [
       "| 24      | 10m 5s       | 0.0347234              |"
      ]
     },
     "metadata": {},
     "output_type": "display_data"
    },
    {
     "data": {
      "text/html": [
       "<pre>| 25      | 10m 29s      | 0.031979               |</pre>"
      ],
      "text/plain": [
       "| 25      | 10m 29s      | 0.031979               |"
      ]
     },
     "metadata": {},
     "output_type": "display_data"
    },
    {
     "data": {
      "text/html": [
       "<pre>| 26      | 10m 53s      | 0.031706               |</pre>"
      ],
      "text/plain": [
       "| 26      | 10m 53s      | 0.031706               |"
      ]
     },
     "metadata": {},
     "output_type": "display_data"
    },
    {
     "data": {
      "text/html": [
       "<pre>| 27      | 11m 16s      | 0.0298271              |</pre>"
      ],
      "text/plain": [
       "| 27      | 11m 16s      | 0.0298271              |"
      ]
     },
     "metadata": {},
     "output_type": "display_data"
    },
    {
     "data": {
      "text/html": [
       "<pre>| 28      | 11m 40s      | 0.0297378              |</pre>"
      ],
      "text/plain": [
       "| 28      | 11m 40s      | 0.0297378              |"
      ]
     },
     "metadata": {},
     "output_type": "display_data"
    },
    {
     "data": {
      "text/html": [
       "<pre>| 29      | 12m 4s       | 0.0287608              |</pre>"
      ],
      "text/plain": [
       "| 29      | 12m 4s       | 0.0287608              |"
      ]
     },
     "metadata": {},
     "output_type": "display_data"
    },
    {
     "data": {
      "text/html": [
       "<pre>| 30      | 12m 27s      | 0.0275427              |</pre>"
      ],
      "text/plain": [
       "| 30      | 12m 27s      | 0.0275427              |"
      ]
     },
     "metadata": {},
     "output_type": "display_data"
    },
    {
     "data": {
      "text/html": [
       "<pre>| 31      | 12m 51s      | 0.0274324              |</pre>"
      ],
      "text/plain": [
       "| 31      | 12m 51s      | 0.0274324              |"
      ]
     },
     "metadata": {},
     "output_type": "display_data"
    },
    {
     "data": {
      "text/html": [
       "<pre>| 32      | 13m 15s      | 0.0261194              |</pre>"
      ],
      "text/plain": [
       "| 32      | 13m 15s      | 0.0261194              |"
      ]
     },
     "metadata": {},
     "output_type": "display_data"
    },
    {
     "data": {
      "text/html": [
       "<pre>| 33      | 13m 39s      | 0.0259853              |</pre>"
      ],
      "text/plain": [
       "| 33      | 13m 39s      | 0.0259853              |"
      ]
     },
     "metadata": {},
     "output_type": "display_data"
    },
    {
     "data": {
      "text/html": [
       "<pre>| 34      | 14m 2s       | 0.0247726              |</pre>"
      ],
      "text/plain": [
       "| 34      | 14m 2s       | 0.0247726              |"
      ]
     },
     "metadata": {},
     "output_type": "display_data"
    },
    {
     "data": {
      "text/html": [
       "<pre>| 35      | 14m 26s      | 0.0249896              |</pre>"
      ],
      "text/plain": [
       "| 35      | 14m 26s      | 0.0249896              |"
      ]
     },
     "metadata": {},
     "output_type": "display_data"
    },
    {
     "data": {
      "text/html": [
       "<pre>| 36      | 14m 50s      | 0.0252778              |</pre>"
      ],
      "text/plain": [
       "| 36      | 14m 50s      | 0.0252778              |"
      ]
     },
     "metadata": {},
     "output_type": "display_data"
    },
    {
     "data": {
      "text/html": [
       "<pre>| 37      | 15m 13s      | 0.0243401              |</pre>"
      ],
      "text/plain": [
       "| 37      | 15m 13s      | 0.0243401              |"
      ]
     },
     "metadata": {},
     "output_type": "display_data"
    },
    {
     "data": {
      "text/html": [
       "<pre>| 38      | 15m 37s      | 0.0235744              |</pre>"
      ],
      "text/plain": [
       "| 38      | 15m 37s      | 0.0235744              |"
      ]
     },
     "metadata": {},
     "output_type": "display_data"
    },
    {
     "data": {
      "text/html": [
       "<pre>| 39      | 16m 2s       | 0.0247716              |</pre>"
      ],
      "text/plain": [
       "| 39      | 16m 2s       | 0.0247716              |"
      ]
     },
     "metadata": {},
     "output_type": "display_data"
    },
    {
     "data": {
      "text/html": [
       "<pre>| 40      | 16m 25s      | 0.0218416              |</pre>"
      ],
      "text/plain": [
       "| 40      | 16m 25s      | 0.0218416              |"
      ]
     },
     "metadata": {},
     "output_type": "display_data"
    },
    {
     "data": {
      "text/html": [
       "<pre>| 41      | 16m 49s      | 0.0238537              |</pre>"
      ],
      "text/plain": [
       "| 41      | 16m 49s      | 0.0238537              |"
      ]
     },
     "metadata": {},
     "output_type": "display_data"
    },
    {
     "data": {
      "text/html": [
       "<pre>| 42      | 17m 13s      | 0.0219422              |</pre>"
      ],
      "text/plain": [
       "| 42      | 17m 13s      | 0.0219422              |"
      ]
     },
     "metadata": {},
     "output_type": "display_data"
    },
    {
     "data": {
      "text/html": [
       "<pre>| 43      | 17m 37s      | 0.0213054              |</pre>"
      ],
      "text/plain": [
       "| 43      | 17m 37s      | 0.0213054              |"
      ]
     },
     "metadata": {},
     "output_type": "display_data"
    },
    {
     "data": {
      "text/html": [
       "<pre>| 44      | 18m 1s       | 0.0211466              |</pre>"
      ],
      "text/plain": [
       "| 44      | 18m 1s       | 0.0211466              |"
      ]
     },
     "metadata": {},
     "output_type": "display_data"
    },
    {
     "data": {
      "text/html": [
       "<pre>| 45      | 18m 25s      | 0.0209133              |</pre>"
      ],
      "text/plain": [
       "| 45      | 18m 25s      | 0.0209133              |"
      ]
     },
     "metadata": {},
     "output_type": "display_data"
    },
    {
     "data": {
      "text/html": [
       "<pre>| 46      | 18m 48s      | 0.0208957              |</pre>"
      ],
      "text/plain": [
       "| 46      | 18m 48s      | 0.0208957              |"
      ]
     },
     "metadata": {},
     "output_type": "display_data"
    },
    {
     "data": {
      "text/html": [
       "<pre>| 47      | 19m 12s      | 0.0199383              |</pre>"
      ],
      "text/plain": [
       "| 47      | 19m 12s      | 0.0199383              |"
      ]
     },
     "metadata": {},
     "output_type": "display_data"
    },
    {
     "data": {
      "text/html": [
       "<pre>| 48      | 19m 36s      | 0.0208978              |</pre>"
      ],
      "text/plain": [
       "| 48      | 19m 36s      | 0.0208978              |"
      ]
     },
     "metadata": {},
     "output_type": "display_data"
    },
    {
     "data": {
      "text/html": [
       "<pre>| 49      | 20m 0s       | 0.0200766              |</pre>"
      ],
      "text/plain": [
       "| 49      | 20m 0s       | 0.0200766              |"
      ]
     },
     "metadata": {},
     "output_type": "display_data"
    },
    {
     "data": {
      "text/html": [
       "<pre>| FINAL   | 20m 0s       | 0.0200766              |</pre>"
      ],
      "text/plain": [
       "| FINAL   | 20m 0s       | 0.0200766              |"
      ]
     },
     "metadata": {},
     "output_type": "display_data"
    },
    {
     "data": {
      "text/html": [
       "<pre>+---------+--------------+------------------------+</pre>"
      ],
      "text/plain": [
       "+---------+--------------+------------------------+"
      ]
     },
     "metadata": {},
     "output_type": "display_data"
    },
    {
     "data": {
      "text/html": [
       "<pre>Optimization Complete: Iteration limit reached.</pre>"
      ],
      "text/plain": [
       "Optimization Complete: Iteration limit reached."
      ]
     },
     "metadata": {},
     "output_type": "display_data"
    },
    {
     "data": {
      "text/html": [
       "<pre>Recsys training: model = factorization_recommender</pre>"
      ],
      "text/plain": [
       "Recsys training: model = factorization_recommender"
      ]
     },
     "metadata": {},
     "output_type": "display_data"
    },
    {
     "data": {
      "text/html": [
       "<pre>Preparing data set.</pre>"
      ],
      "text/plain": [
       "Preparing data set."
      ]
     },
     "metadata": {},
     "output_type": "display_data"
    },
    {
     "data": {
      "text/html": [
       "<pre>    Data has 1096492 observations with 50690 users and 141 items.</pre>"
      ],
      "text/plain": [
       "    Data has 1096492 observations with 50690 users and 141 items."
      ]
     },
     "metadata": {},
     "output_type": "display_data"
    },
    {
     "data": {
      "text/html": [
       "<pre>    Data prepared in: 1.65166s</pre>"
      ],
      "text/plain": [
       "    Data prepared in: 1.65166s"
      ]
     },
     "metadata": {},
     "output_type": "display_data"
    },
    {
     "data": {
      "text/html": [
       "<pre>Training factorization_recommender for recommendations.</pre>"
      ],
      "text/plain": [
       "Training factorization_recommender for recommendations."
      ]
     },
     "metadata": {},
     "output_type": "display_data"
    },
    {
     "data": {
      "text/html": [
       "<pre>+------------------------------+--------------------------------------------------+----------+</pre>"
      ],
      "text/plain": [
       "+------------------------------+--------------------------------------------------+----------+"
      ]
     },
     "metadata": {},
     "output_type": "display_data"
    },
    {
     "data": {
      "text/html": [
       "<pre>| Parameter                    | Description                                      | Value    |</pre>"
      ],
      "text/plain": [
       "| Parameter                    | Description                                      | Value    |"
      ]
     },
     "metadata": {},
     "output_type": "display_data"
    },
    {
     "data": {
      "text/html": [
       "<pre>+------------------------------+--------------------------------------------------+----------+</pre>"
      ],
      "text/plain": [
       "+------------------------------+--------------------------------------------------+----------+"
      ]
     },
     "metadata": {},
     "output_type": "display_data"
    },
    {
     "data": {
      "text/html": [
       "<pre>| num_factors                  | Factor Dimension                                 | 120      |</pre>"
      ],
      "text/plain": [
       "| num_factors                  | Factor Dimension                                 | 120      |"
      ]
     },
     "metadata": {},
     "output_type": "display_data"
    },
    {
     "data": {
      "text/html": [
       "<pre>| regularization               | L2 Regularization on Factors                     | 1e-14    |</pre>"
      ],
      "text/plain": [
       "| regularization               | L2 Regularization on Factors                     | 1e-14    |"
      ]
     },
     "metadata": {},
     "output_type": "display_data"
    },
    {
     "data": {
      "text/html": [
       "<pre>| max_iterations               | Maximum Number of Iterations                     | 50       |</pre>"
      ],
      "text/plain": [
       "| max_iterations               | Maximum Number of Iterations                     | 50       |"
      ]
     },
     "metadata": {},
     "output_type": "display_data"
    },
    {
     "data": {
      "text/html": [
       "<pre>| solver                       | Solver used for training                         | als      |</pre>"
      ],
      "text/plain": [
       "| solver                       | Solver used for training                         | als      |"
      ]
     },
     "metadata": {},
     "output_type": "display_data"
    },
    {
     "data": {
      "text/html": [
       "<pre>+------------------------------+--------------------------------------------------+----------+</pre>"
      ],
      "text/plain": [
       "+------------------------------+--------------------------------------------------+----------+"
      ]
     },
     "metadata": {},
     "output_type": "display_data"
    },
    {
     "data": {
      "text/html": [
       "<pre>+---------+--------------+------------------------+</pre>"
      ],
      "text/plain": [
       "+---------+--------------+------------------------+"
      ]
     },
     "metadata": {},
     "output_type": "display_data"
    },
    {
     "data": {
      "text/html": [
       "<pre>| Iter.   | Elapsed time | RMSE                   |</pre>"
      ],
      "text/plain": [
       "| Iter.   | Elapsed time | RMSE                   |"
      ]
     },
     "metadata": {},
     "output_type": "display_data"
    },
    {
     "data": {
      "text/html": [
       "<pre>+---------+--------------+------------------------+</pre>"
      ],
      "text/plain": [
       "+---------+--------------+------------------------+"
      ]
     },
     "metadata": {},
     "output_type": "display_data"
    },
    {
     "data": {
      "text/html": [
       "<pre>| Initial | 100us        | NA                     |</pre>"
      ],
      "text/plain": [
       "| Initial | 100us        | NA                     |"
      ]
     },
     "metadata": {},
     "output_type": "display_data"
    },
    {
     "data": {
      "text/html": [
       "<pre>+---------+--------------+------------------------+</pre>"
      ],
      "text/plain": [
       "+---------+--------------+------------------------+"
      ]
     },
     "metadata": {},
     "output_type": "display_data"
    },
    {
     "data": {
      "text/html": [
       "<pre>| 0       | 25.40s       | 1.08927                |</pre>"
      ],
      "text/plain": [
       "| 0       | 25.40s       | 1.08927                |"
      ]
     },
     "metadata": {},
     "output_type": "display_data"
    },
    {
     "data": {
      "text/html": [
       "<pre>| 1       | 51.50s       | 0.252632               |</pre>"
      ],
      "text/plain": [
       "| 1       | 51.50s       | 0.252632               |"
      ]
     },
     "metadata": {},
     "output_type": "display_data"
    },
    {
     "data": {
      "text/html": [
       "<pre>| 2       | 1m 17s       | 123.941                |</pre>"
      ],
      "text/plain": [
       "| 2       | 1m 17s       | 123.941                |"
      ]
     },
     "metadata": {},
     "output_type": "display_data"
    },
    {
     "data": {
      "text/html": [
       "<pre>| 3       | 1m 43s       | nan                    |</pre>"
      ],
      "text/plain": [
       "| 3       | 1m 43s       | nan                    |"
      ]
     },
     "metadata": {},
     "output_type": "display_data"
    },
    {
     "data": {
      "text/html": [
       "<pre>Resetting model.</pre>"
      ],
      "text/plain": [
       "Resetting model."
      ]
     },
     "metadata": {},
     "output_type": "display_data"
    },
    {
     "data": {
      "text/html": [
       "<pre>| 4       | 2m 8s        | 0.806703               |</pre>"
      ],
      "text/plain": [
       "| 4       | 2m 8s        | 0.806703               |"
      ]
     },
     "metadata": {},
     "output_type": "display_data"
    },
    {
     "data": {
      "text/html": [
       "<pre>| 5       | 2m 35s       | 208.531                |</pre>"
      ],
      "text/plain": [
       "| 5       | 2m 35s       | 208.531                |"
      ]
     },
     "metadata": {},
     "output_type": "display_data"
    },
    {
     "data": {
      "text/html": [
       "<pre>| 6       | 3m 1s        | nan                    |</pre>"
      ],
      "text/plain": [
       "| 6       | 3m 1s        | nan                    |"
      ]
     },
     "metadata": {},
     "output_type": "display_data"
    },
    {
     "data": {
      "text/html": [
       "<pre>Resetting model.</pre>"
      ],
      "text/plain": [
       "Resetting model."
      ]
     },
     "metadata": {},
     "output_type": "display_data"
    },
    {
     "data": {
      "text/html": [
       "<pre>| 7       | 3m 27s       | 0.934609               |</pre>"
      ],
      "text/plain": [
       "| 7       | 3m 27s       | 0.934609               |"
      ]
     },
     "metadata": {},
     "output_type": "display_data"
    },
    {
     "data": {
      "text/html": [
       "<pre>| 8       | 3m 52s       | 0.000232019            |</pre>"
      ],
      "text/plain": [
       "| 8       | 3m 52s       | 0.000232019            |"
      ]
     },
     "metadata": {},
     "output_type": "display_data"
    },
    {
     "data": {
      "text/html": [
       "<pre>| 9       | 4m 18s       | 0.0015248              |</pre>"
      ],
      "text/plain": [
       "| 9       | 4m 18s       | 0.0015248              |"
      ]
     },
     "metadata": {},
     "output_type": "display_data"
    },
    {
     "data": {
      "text/html": [
       "<pre>| 10      | 4m 44s       | 0.00271758             |</pre>"
      ],
      "text/plain": [
       "| 10      | 4m 44s       | 0.00271758             |"
      ]
     },
     "metadata": {},
     "output_type": "display_data"
    },
    {
     "data": {
      "text/html": [
       "<pre>| 11      | 5m 10s       | 0.00275302             |</pre>"
      ],
      "text/plain": [
       "| 11      | 5m 10s       | 0.00275302             |"
      ]
     },
     "metadata": {},
     "output_type": "display_data"
    },
    {
     "data": {
      "text/html": [
       "<pre>| 12      | 5m 35s       | 0.0051473              |</pre>"
      ],
      "text/plain": [
       "| 12      | 5m 35s       | 0.0051473              |"
      ]
     },
     "metadata": {},
     "output_type": "display_data"
    },
    {
     "data": {
      "text/html": [
       "<pre>| 13      | 6m 2s        | 0.0105983              |</pre>"
      ],
      "text/plain": [
       "| 13      | 6m 2s        | 0.0105983              |"
      ]
     },
     "metadata": {},
     "output_type": "display_data"
    },
    {
     "data": {
      "text/html": [
       "<pre>| 14      | 6m 27s       | 0.00295087             |</pre>"
      ],
      "text/plain": [
       "| 14      | 6m 27s       | 0.00295087             |"
      ]
     },
     "metadata": {},
     "output_type": "display_data"
    },
    {
     "data": {
      "text/html": [
       "<pre>| 15      | 6m 54s       | 0.00324186             |</pre>"
      ],
      "text/plain": [
       "| 15      | 6m 54s       | 0.00324186             |"
      ]
     },
     "metadata": {},
     "output_type": "display_data"
    },
    {
     "data": {
      "text/html": [
       "<pre>| 16      | 7m 20s       | 0.034237               |</pre>"
      ],
      "text/plain": [
       "| 16      | 7m 20s       | 0.034237               |"
      ]
     },
     "metadata": {},
     "output_type": "display_data"
    },
    {
     "data": {
      "text/html": [
       "<pre>| 17      | 7m 46s       | 0.0165016              |</pre>"
      ],
      "text/plain": [
       "| 17      | 7m 46s       | 0.0165016              |"
      ]
     },
     "metadata": {},
     "output_type": "display_data"
    },
    {
     "data": {
      "text/html": [
       "<pre>| 18      | 8m 12s       | 1.48952                |</pre>"
      ],
      "text/plain": [
       "| 18      | 8m 12s       | 1.48952                |"
      ]
     },
     "metadata": {},
     "output_type": "display_data"
    },
    {
     "data": {
      "text/html": [
       "<pre>| 19      | 8m 38s       | nan                    |</pre>"
      ],
      "text/plain": [
       "| 19      | 8m 38s       | nan                    |"
      ]
     },
     "metadata": {},
     "output_type": "display_data"
    },
    {
     "data": {
      "text/html": [
       "<pre>Resetting model.</pre>"
      ],
      "text/plain": [
       "Resetting model."
      ]
     },
     "metadata": {},
     "output_type": "display_data"
    },
    {
     "data": {
      "text/html": [
       "<pre>| 20      | 9m 6s        | 0.880613               |</pre>"
      ],
      "text/plain": [
       "| 20      | 9m 6s        | 0.880613               |"
      ]
     },
     "metadata": {},
     "output_type": "display_data"
    },
    {
     "data": {
      "text/html": [
       "<pre>| 21      | 9m 31s       | nan                    |</pre>"
      ],
      "text/plain": [
       "| 21      | 9m 31s       | nan                    |"
      ]
     },
     "metadata": {},
     "output_type": "display_data"
    },
    {
     "data": {
      "text/html": [
       "<pre>Resetting model.</pre>"
      ],
      "text/plain": [
       "Resetting model."
      ]
     },
     "metadata": {},
     "output_type": "display_data"
    },
    {
     "data": {
      "text/html": [
       "<pre>| 22      | 11m 32s      | 0.867301               |</pre>"
      ],
      "text/plain": [
       "| 22      | 11m 32s      | 0.867301               |"
      ]
     },
     "metadata": {},
     "output_type": "display_data"
    },
    {
     "data": {
      "text/html": [
       "<pre>| 23      | 11m 57s      | nan                    |</pre>"
      ],
      "text/plain": [
       "| 23      | 11m 57s      | nan                    |"
      ]
     },
     "metadata": {},
     "output_type": "display_data"
    },
    {
     "data": {
      "text/html": [
       "<pre>Resetting model.</pre>"
      ],
      "text/plain": [
       "Resetting model."
      ]
     },
     "metadata": {},
     "output_type": "display_data"
    },
    {
     "data": {
      "text/html": [
       "<pre>| 24      | 13m 25s      | 1.93068                |</pre>"
      ],
      "text/plain": [
       "| 24      | 13m 25s      | 1.93068                |"
      ]
     },
     "metadata": {},
     "output_type": "display_data"
    },
    {
     "data": {
      "text/html": [
       "<pre>| 25      | 13m 51s      | nan                    |</pre>"
      ],
      "text/plain": [
       "| 25      | 13m 51s      | nan                    |"
      ]
     },
     "metadata": {},
     "output_type": "display_data"
    },
    {
     "data": {
      "text/html": [
       "<pre>Resetting model.</pre>"
      ],
      "text/plain": [
       "Resetting model."
      ]
     },
     "metadata": {},
     "output_type": "display_data"
    },
    {
     "data": {
      "text/html": [
       "<pre>| 26      | 14m 19s      | 5.26949                |</pre>"
      ],
      "text/plain": [
       "| 26      | 14m 19s      | 5.26949                |"
      ]
     },
     "metadata": {},
     "output_type": "display_data"
    },
    {
     "data": {
      "text/html": [
       "<pre>| 27      | 14m 44s      | nan                    |</pre>"
      ],
      "text/plain": [
       "| 27      | 14m 44s      | nan                    |"
      ]
     },
     "metadata": {},
     "output_type": "display_data"
    },
    {
     "data": {
      "text/html": [
       "<pre>Resetting model.</pre>"
      ],
      "text/plain": [
       "Resetting model."
      ]
     },
     "metadata": {},
     "output_type": "display_data"
    },
    {
     "data": {
      "text/html": [
       "<pre>| 28      | 15m 50s      | 5.28431                |</pre>"
      ],
      "text/plain": [
       "| 28      | 15m 50s      | 5.28431                |"
      ]
     },
     "metadata": {},
     "output_type": "display_data"
    },
    {
     "data": {
      "text/html": [
       "<pre>| 29      | 16m 16s      | 9.58493                |</pre>"
      ],
      "text/plain": [
       "| 29      | 16m 16s      | 9.58493                |"
      ]
     },
     "metadata": {},
     "output_type": "display_data"
    },
    {
     "data": {
      "text/html": [
       "<pre>| 30      | 16m 42s      | 4.19719e+08            |</pre>"
      ],
      "text/plain": [
       "| 30      | 16m 42s      | 4.19719e+08            |"
      ]
     },
     "metadata": {},
     "output_type": "display_data"
    },
    {
     "data": {
      "text/html": [
       "<pre>| 31      | 17m 7s       | nan                    |</pre>"
      ],
      "text/plain": [
       "| 31      | 17m 7s       | nan                    |"
      ]
     },
     "metadata": {},
     "output_type": "display_data"
    },
    {
     "data": {
      "text/html": [
       "<pre>Resetting model.</pre>"
      ],
      "text/plain": [
       "Resetting model."
      ]
     },
     "metadata": {},
     "output_type": "display_data"
    },
    {
     "data": {
      "text/html": [
       "<pre>| 32      | 18m 46s      | 5.28431                |</pre>"
      ],
      "text/plain": [
       "| 32      | 18m 46s      | 5.28431                |"
      ]
     },
     "metadata": {},
     "output_type": "display_data"
    },
    {
     "data": {
      "text/html": [
       "<pre>| 33      | 19m 12s      | nan                    |</pre>"
      ],
      "text/plain": [
       "| 33      | 19m 12s      | nan                    |"
      ]
     },
     "metadata": {},
     "output_type": "display_data"
    },
    {
     "data": {
      "text/html": [
       "<pre>Resetting model.</pre>"
      ],
      "text/plain": [
       "Resetting model."
      ]
     },
     "metadata": {},
     "output_type": "display_data"
    },
    {
     "data": {
      "text/html": [
       "<pre>| 34      | 20m 49s      | 5.28431                |</pre>"
      ],
      "text/plain": [
       "| 34      | 20m 49s      | 5.28431                |"
      ]
     },
     "metadata": {},
     "output_type": "display_data"
    },
    {
     "data": {
      "text/html": [
       "<pre>| 35      | 21m 15s      | 0.117318               |</pre>"
      ],
      "text/plain": [
       "| 35      | 21m 15s      | 0.117318               |"
      ]
     },
     "metadata": {},
     "output_type": "display_data"
    },
    {
     "data": {
      "text/html": [
       "<pre>| 36      | 21m 41s      | 0.0698817              |</pre>"
      ],
      "text/plain": [
       "| 36      | 21m 41s      | 0.0698817              |"
      ]
     },
     "metadata": {},
     "output_type": "display_data"
    },
    {
     "data": {
      "text/html": [
       "<pre>| 37      | 22m 7s       | 0.116036               |</pre>"
      ],
      "text/plain": [
       "| 37      | 22m 7s       | 0.116036               |"
      ]
     },
     "metadata": {},
     "output_type": "display_data"
    },
    {
     "data": {
      "text/html": [
       "<pre>| 38      | 22m 33s      | 0.0886297              |</pre>"
      ],
      "text/plain": [
       "| 38      | 22m 33s      | 0.0886297              |"
      ]
     },
     "metadata": {},
     "output_type": "display_data"
    },
    {
     "data": {
      "text/html": [
       "<pre>| 39      | 22m 59s      | 0.159821               |</pre>"
      ],
      "text/plain": [
       "| 39      | 22m 59s      | 0.159821               |"
      ]
     },
     "metadata": {},
     "output_type": "display_data"
    },
    {
     "data": {
      "text/html": [
       "<pre>| 40      | 23m 25s      | 0.0272167              |</pre>"
      ],
      "text/plain": [
       "| 40      | 23m 25s      | 0.0272167              |"
      ]
     },
     "metadata": {},
     "output_type": "display_data"
    },
    {
     "data": {
      "text/html": [
       "<pre>| 41      | 23m 51s      | 14920.3                |</pre>"
      ],
      "text/plain": [
       "| 41      | 23m 51s      | 14920.3                |"
      ]
     },
     "metadata": {},
     "output_type": "display_data"
    },
    {
     "data": {
      "text/html": [
       "<pre>| 42      | 24m 17s      | nan                    |</pre>"
      ],
      "text/plain": [
       "| 42      | 24m 17s      | nan                    |"
      ]
     },
     "metadata": {},
     "output_type": "display_data"
    },
    {
     "data": {
      "text/html": [
       "<pre>Resetting model.</pre>"
      ],
      "text/plain": [
       "Resetting model."
      ]
     },
     "metadata": {},
     "output_type": "display_data"
    },
    {
     "data": {
      "text/html": [
       "<pre>| 43      | 24m 55s      | 5.28431                |</pre>"
      ],
      "text/plain": [
       "| 43      | 24m 55s      | 5.28431                |"
      ]
     },
     "metadata": {},
     "output_type": "display_data"
    },
    {
     "data": {
      "text/html": [
       "<pre>| 44      | 25m 21s      | 2.06111                |</pre>"
      ],
      "text/plain": [
       "| 44      | 25m 21s      | 2.06111                |"
      ]
     },
     "metadata": {},
     "output_type": "display_data"
    },
    {
     "data": {
      "text/html": [
       "<pre>| 45      | 25m 46s      | 13.9881                |</pre>"
      ],
      "text/plain": [
       "| 45      | 25m 46s      | 13.9881                |"
      ]
     },
     "metadata": {},
     "output_type": "display_data"
    },
    {
     "data": {
      "text/html": [
       "<pre>| 46      | 26m 12s      | nan                    |</pre>"
      ],
      "text/plain": [
       "| 46      | 26m 12s      | nan                    |"
      ]
     },
     "metadata": {},
     "output_type": "display_data"
    },
    {
     "data": {
      "text/html": [
       "<pre>Resetting model.</pre>"
      ],
      "text/plain": [
       "Resetting model."
      ]
     },
     "metadata": {},
     "output_type": "display_data"
    },
    {
     "data": {
      "text/html": [
       "<pre>| 47      | 26m 58s      | 5.28431                |</pre>"
      ],
      "text/plain": [
       "| 47      | 26m 58s      | 5.28431                |"
      ]
     },
     "metadata": {},
     "output_type": "display_data"
    },
    {
     "data": {
      "text/html": [
       "<pre>| 48      | 27m 23s      | 117.375                |</pre>"
      ],
      "text/plain": [
       "| 48      | 27m 23s      | 117.375                |"
      ]
     },
     "metadata": {},
     "output_type": "display_data"
    },
    {
     "data": {
      "text/html": [
       "<pre>| 49      | 27m 49s      | nan                    |</pre>"
      ],
      "text/plain": [
       "| 49      | 27m 49s      | nan                    |"
      ]
     },
     "metadata": {},
     "output_type": "display_data"
    },
    {
     "data": {
      "text/html": [
       "<pre>Resetting model.</pre>"
      ],
      "text/plain": [
       "Resetting model."
      ]
     },
     "metadata": {},
     "output_type": "display_data"
    },
    {
     "data": {
      "text/html": [
       "<pre>| FINAL   | 27m 50s      | nan                    |</pre>"
      ],
      "text/plain": [
       "| FINAL   | 27m 50s      | nan                    |"
      ]
     },
     "metadata": {},
     "output_type": "display_data"
    },
    {
     "data": {
      "text/html": [
       "<pre>+---------+--------------+------------------------+</pre>"
      ],
      "text/plain": [
       "+---------+--------------+------------------------+"
      ]
     },
     "metadata": {},
     "output_type": "display_data"
    },
    {
     "data": {
      "text/html": [
       "<pre>Optimization Complete: Iteration limit reached.</pre>"
      ],
      "text/plain": [
       "Optimization Complete: Iteration limit reached."
      ]
     },
     "metadata": {},
     "output_type": "display_data"
    },
    {
     "data": {
      "text/html": [
       "<pre>Recsys training: model = factorization_recommender</pre>"
      ],
      "text/plain": [
       "Recsys training: model = factorization_recommender"
      ]
     },
     "metadata": {},
     "output_type": "display_data"
    },
    {
     "data": {
      "text/html": [
       "<pre>Preparing data set.</pre>"
      ],
      "text/plain": [
       "Preparing data set."
      ]
     },
     "metadata": {},
     "output_type": "display_data"
    },
    {
     "data": {
      "text/html": [
       "<pre>    Data has 1096492 observations with 50690 users and 141 items.</pre>"
      ],
      "text/plain": [
       "    Data has 1096492 observations with 50690 users and 141 items."
      ]
     },
     "metadata": {},
     "output_type": "display_data"
    },
    {
     "data": {
      "text/html": [
       "<pre>    Data prepared in: 1.53186s</pre>"
      ],
      "text/plain": [
       "    Data prepared in: 1.53186s"
      ]
     },
     "metadata": {},
     "output_type": "display_data"
    },
    {
     "data": {
      "text/html": [
       "<pre>Training factorization_recommender for recommendations.</pre>"
      ],
      "text/plain": [
       "Training factorization_recommender for recommendations."
      ]
     },
     "metadata": {},
     "output_type": "display_data"
    },
    {
     "data": {
      "text/html": [
       "<pre>+------------------------------+--------------------------------------------------+----------+</pre>"
      ],
      "text/plain": [
       "+------------------------------+--------------------------------------------------+----------+"
      ]
     },
     "metadata": {},
     "output_type": "display_data"
    },
    {
     "data": {
      "text/html": [
       "<pre>| Parameter                    | Description                                      | Value    |</pre>"
      ],
      "text/plain": [
       "| Parameter                    | Description                                      | Value    |"
      ]
     },
     "metadata": {},
     "output_type": "display_data"
    },
    {
     "data": {
      "text/html": [
       "<pre>+------------------------------+--------------------------------------------------+----------+</pre>"
      ],
      "text/plain": [
       "+------------------------------+--------------------------------------------------+----------+"
      ]
     },
     "metadata": {},
     "output_type": "display_data"
    },
    {
     "data": {
      "text/html": [
       "<pre>| num_factors                  | Factor Dimension                                 | 127      |</pre>"
      ],
      "text/plain": [
       "| num_factors                  | Factor Dimension                                 | 127      |"
      ]
     },
     "metadata": {},
     "output_type": "display_data"
    },
    {
     "data": {
      "text/html": [
       "<pre>| regularization               | L2 Regularization on Factors                     | 1e-14    |</pre>"
      ],
      "text/plain": [
       "| regularization               | L2 Regularization on Factors                     | 1e-14    |"
      ]
     },
     "metadata": {},
     "output_type": "display_data"
    },
    {
     "data": {
      "text/html": [
       "<pre>| max_iterations               | Maximum Number of Iterations                     | 50       |</pre>"
      ],
      "text/plain": [
       "| max_iterations               | Maximum Number of Iterations                     | 50       |"
      ]
     },
     "metadata": {},
     "output_type": "display_data"
    },
    {
     "data": {
      "text/html": [
       "<pre>| solver                       | Solver used for training                         | als      |</pre>"
      ],
      "text/plain": [
       "| solver                       | Solver used for training                         | als      |"
      ]
     },
     "metadata": {},
     "output_type": "display_data"
    },
    {
     "data": {
      "text/html": [
       "<pre>+------------------------------+--------------------------------------------------+----------+</pre>"
      ],
      "text/plain": [
       "+------------------------------+--------------------------------------------------+----------+"
      ]
     },
     "metadata": {},
     "output_type": "display_data"
    },
    {
     "data": {
      "text/html": [
       "<pre>+---------+--------------+------------------------+</pre>"
      ],
      "text/plain": [
       "+---------+--------------+------------------------+"
      ]
     },
     "metadata": {},
     "output_type": "display_data"
    },
    {
     "data": {
      "text/html": [
       "<pre>| Iter.   | Elapsed time | RMSE                   |</pre>"
      ],
      "text/plain": [
       "| Iter.   | Elapsed time | RMSE                   |"
      ]
     },
     "metadata": {},
     "output_type": "display_data"
    },
    {
     "data": {
      "text/html": [
       "<pre>+---------+--------------+------------------------+</pre>"
      ],
      "text/plain": [
       "+---------+--------------+------------------------+"
      ]
     },
     "metadata": {},
     "output_type": "display_data"
    },
    {
     "data": {
      "text/html": [
       "<pre>| Initial | 98us         | NA                     |</pre>"
      ],
      "text/plain": [
       "| Initial | 98us         | NA                     |"
      ]
     },
     "metadata": {},
     "output_type": "display_data"
    },
    {
     "data": {
      "text/html": [
       "<pre>+---------+--------------+------------------------+</pre>"
      ],
      "text/plain": [
       "+---------+--------------+------------------------+"
      ]
     },
     "metadata": {},
     "output_type": "display_data"
    },
    {
     "data": {
      "text/html": [
       "<pre>| 0       | 30.68s       | 21.4489                |</pre>"
      ],
      "text/plain": [
       "| 0       | 30.68s       | 21.4489                |"
      ]
     },
     "metadata": {},
     "output_type": "display_data"
    },
    {
     "data": {
      "text/html": [
       "<pre>| 1       | 1m 1s        | nan                    |</pre>"
      ],
      "text/plain": [
       "| 1       | 1m 1s        | nan                    |"
      ]
     },
     "metadata": {},
     "output_type": "display_data"
    },
    {
     "data": {
      "text/html": [
       "<pre>Resetting model.</pre>"
      ],
      "text/plain": [
       "Resetting model."
      ]
     },
     "metadata": {},
     "output_type": "display_data"
    },
    {
     "data": {
      "text/html": [
       "<pre>| 2       | 1m 31s       | 2.03687                |</pre>"
      ],
      "text/plain": [
       "| 2       | 1m 31s       | 2.03687                |"
      ]
     },
     "metadata": {},
     "output_type": "display_data"
    },
    {
     "data": {
      "text/html": [
       "<pre>| 3       | 2m 2s        | 14361.8                |</pre>"
      ],
      "text/plain": [
       "| 3       | 2m 2s        | 14361.8                |"
      ]
     },
     "metadata": {},
     "output_type": "display_data"
    },
    {
     "data": {
      "text/html": [
       "<pre>| 4       | 2m 32s       | nan                    |</pre>"
      ],
      "text/plain": [
       "| 4       | 2m 32s       | nan                    |"
      ]
     },
     "metadata": {},
     "output_type": "display_data"
    },
    {
     "data": {
      "text/html": [
       "<pre>Resetting model.</pre>"
      ],
      "text/plain": [
       "Resetting model."
      ]
     },
     "metadata": {},
     "output_type": "display_data"
    },
    {
     "data": {
      "text/html": [
       "<pre>| 5       | 3m 2s        | 0.735958               |</pre>"
      ],
      "text/plain": [
       "| 5       | 3m 2s        | 0.735958               |"
      ]
     },
     "metadata": {},
     "output_type": "display_data"
    },
    {
     "data": {
      "text/html": [
       "<pre>| 6       | 3m 33s       | 0.943983               |</pre>"
      ],
      "text/plain": [
       "| 6       | 3m 33s       | 0.943983               |"
      ]
     },
     "metadata": {},
     "output_type": "display_data"
    },
    {
     "data": {
      "text/html": [
       "<pre>| 7       | 4m 3s        | 1.02232                |</pre>"
      ],
      "text/plain": [
       "| 7       | 4m 3s        | 1.02232                |"
      ]
     },
     "metadata": {},
     "output_type": "display_data"
    },
    {
     "data": {
      "text/html": [
       "<pre>| 8       | 4m 33s       | 0.563116               |</pre>"
      ],
      "text/plain": [
       "| 8       | 4m 33s       | 0.563116               |"
      ]
     },
     "metadata": {},
     "output_type": "display_data"
    },
    {
     "data": {
      "text/html": [
       "<pre>| 9       | 5m 4s        | 1.95728                |</pre>"
      ],
      "text/plain": [
       "| 9       | 5m 4s        | 1.95728                |"
      ]
     },
     "metadata": {},
     "output_type": "display_data"
    },
    {
     "data": {
      "text/html": [
       "<pre>| 10      | 5m 34s       | 0.416608               |</pre>"
      ],
      "text/plain": [
       "| 10      | 5m 34s       | 0.416608               |"
      ]
     },
     "metadata": {},
     "output_type": "display_data"
    },
    {
     "data": {
      "text/html": [
       "<pre>| 11      | 6m 5s        | 0.0395334              |</pre>"
      ],
      "text/plain": [
       "| 11      | 6m 5s        | 0.0395334              |"
      ]
     },
     "metadata": {},
     "output_type": "display_data"
    },
    {
     "data": {
      "text/html": [
       "<pre>| 12      | 6m 35s       | 0.0546411              |</pre>"
      ],
      "text/plain": [
       "| 12      | 6m 35s       | 0.0546411              |"
      ]
     },
     "metadata": {},
     "output_type": "display_data"
    },
    {
     "data": {
      "text/html": [
       "<pre>| 13      | 7m 6s        | 0.052732               |</pre>"
      ],
      "text/plain": [
       "| 13      | 7m 6s        | 0.052732               |"
      ]
     },
     "metadata": {},
     "output_type": "display_data"
    },
    {
     "data": {
      "text/html": [
       "<pre>| 14      | 7m 36s       | 0.0375366              |</pre>"
      ],
      "text/plain": [
       "| 14      | 7m 36s       | 0.0375366              |"
      ]
     },
     "metadata": {},
     "output_type": "display_data"
    },
    {
     "data": {
      "text/html": [
       "<pre>| 15      | 8m 6s        | 0.039592               |</pre>"
      ],
      "text/plain": [
       "| 15      | 8m 6s        | 0.039592               |"
      ]
     },
     "metadata": {},
     "output_type": "display_data"
    },
    {
     "data": {
      "text/html": [
       "<pre>| 16      | 8m 37s       | 0.0521444              |</pre>"
      ],
      "text/plain": [
       "| 16      | 8m 37s       | 0.0521444              |"
      ]
     },
     "metadata": {},
     "output_type": "display_data"
    },
    {
     "data": {
      "text/html": [
       "<pre>| 17      | 9m 7s        | 0.0757247              |</pre>"
      ],
      "text/plain": [
       "| 17      | 9m 7s        | 0.0757247              |"
      ]
     },
     "metadata": {},
     "output_type": "display_data"
    },
    {
     "data": {
      "text/html": [
       "<pre>| 18      | 9m 38s       | 0.0730726              |</pre>"
      ],
      "text/plain": [
       "| 18      | 9m 38s       | 0.0730726              |"
      ]
     },
     "metadata": {},
     "output_type": "display_data"
    },
    {
     "data": {
      "text/html": [
       "<pre>| 19      | 10m 9s       | 0.0317476              |</pre>"
      ],
      "text/plain": [
       "| 19      | 10m 9s       | 0.0317476              |"
      ]
     },
     "metadata": {},
     "output_type": "display_data"
    },
    {
     "data": {
      "text/html": [
       "<pre>| 20      | 10m 39s      | 0.0869924              |</pre>"
      ],
      "text/plain": [
       "| 20      | 10m 39s      | 0.0869924              |"
      ]
     },
     "metadata": {},
     "output_type": "display_data"
    },
    {
     "data": {
      "text/html": [
       "<pre>| 21      | 11m 10s      | 0.0610961              |</pre>"
      ],
      "text/plain": [
       "| 21      | 11m 10s      | 0.0610961              |"
      ]
     },
     "metadata": {},
     "output_type": "display_data"
    },
    {
     "data": {
      "text/html": [
       "<pre>| 22      | 11m 45s      | 0.0746053              |</pre>"
      ],
      "text/plain": [
       "| 22      | 11m 45s      | 0.0746053              |"
      ]
     },
     "metadata": {},
     "output_type": "display_data"
    },
    {
     "data": {
      "text/html": [
       "<pre>| 23      | 12m 19s      | 0.233541               |</pre>"
      ],
      "text/plain": [
       "| 23      | 12m 19s      | 0.233541               |"
      ]
     },
     "metadata": {},
     "output_type": "display_data"
    },
    {
     "data": {
      "text/html": [
       "<pre>| 24      | 12m 51s      | 0.564201               |</pre>"
      ],
      "text/plain": [
       "| 24      | 12m 51s      | 0.564201               |"
      ]
     },
     "metadata": {},
     "output_type": "display_data"
    },
    {
     "data": {
      "text/html": [
       "<pre>| 25      | 13m 23s      | 0.573958               |</pre>"
      ],
      "text/plain": [
       "| 25      | 13m 23s      | 0.573958               |"
      ]
     },
     "metadata": {},
     "output_type": "display_data"
    },
    {
     "data": {
      "text/html": [
       "<pre>| 26      | 13m 57s      | 1.00017                |</pre>"
      ],
      "text/plain": [
       "| 26      | 13m 57s      | 1.00017                |"
      ]
     },
     "metadata": {},
     "output_type": "display_data"
    },
    {
     "data": {
      "text/html": [
       "<pre>| 27      | 14m 31s      | 0.644796               |</pre>"
      ],
      "text/plain": [
       "| 27      | 14m 31s      | 0.644796               |"
      ]
     },
     "metadata": {},
     "output_type": "display_data"
    },
    {
     "data": {
      "text/html": [
       "<pre>| 28      | 15m 4s       | 0.780748               |</pre>"
      ],
      "text/plain": [
       "| 28      | 15m 4s       | 0.780748               |"
      ]
     },
     "metadata": {},
     "output_type": "display_data"
    },
    {
     "data": {
      "text/html": [
       "<pre>| 29      | 15m 35s      | 0.0537374              |</pre>"
      ],
      "text/plain": [
       "| 29      | 15m 35s      | 0.0537374              |"
      ]
     },
     "metadata": {},
     "output_type": "display_data"
    },
    {
     "data": {
      "text/html": [
       "<pre>| 30      | 16m 6s       | 0.101951               |</pre>"
      ],
      "text/plain": [
       "| 30      | 16m 6s       | 0.101951               |"
      ]
     },
     "metadata": {},
     "output_type": "display_data"
    },
    {
     "data": {
      "text/html": [
       "<pre>| 31      | 16m 37s      | 0.0544566              |</pre>"
      ],
      "text/plain": [
       "| 31      | 16m 37s      | 0.0544566              |"
      ]
     },
     "metadata": {},
     "output_type": "display_data"
    },
    {
     "data": {
      "text/html": [
       "<pre>| 32      | 17m 7s       | 0.0723245              |</pre>"
      ],
      "text/plain": [
       "| 32      | 17m 7s       | 0.0723245              |"
      ]
     },
     "metadata": {},
     "output_type": "display_data"
    },
    {
     "data": {
      "text/html": [
       "<pre>| 33      | 17m 39s      | 0.0665044              |</pre>"
      ],
      "text/plain": [
       "| 33      | 17m 39s      | 0.0665044              |"
      ]
     },
     "metadata": {},
     "output_type": "display_data"
    },
    {
     "data": {
      "text/html": [
       "<pre>| 34      | 18m 10s      | 1.32429                |</pre>"
      ],
      "text/plain": [
       "| 34      | 18m 10s      | 1.32429                |"
      ]
     },
     "metadata": {},
     "output_type": "display_data"
    },
    {
     "data": {
      "text/html": [
       "<pre>| 35      | 18m 40s      | 0.351422               |</pre>"
      ],
      "text/plain": [
       "| 35      | 18m 40s      | 0.351422               |"
      ]
     },
     "metadata": {},
     "output_type": "display_data"
    },
    {
     "data": {
      "text/html": [
       "<pre>| 36      | 19m 10s      | 0.524041               |</pre>"
      ],
      "text/plain": [
       "| 36      | 19m 10s      | 0.524041               |"
      ]
     },
     "metadata": {},
     "output_type": "display_data"
    },
    {
     "data": {
      "text/html": [
       "<pre>| 37      | 19m 42s      | 0.175661               |</pre>"
      ],
      "text/plain": [
       "| 37      | 19m 42s      | 0.175661               |"
      ]
     },
     "metadata": {},
     "output_type": "display_data"
    },
    {
     "data": {
      "text/html": [
       "<pre>| 38      | 20m 13s      | 0.473294               |</pre>"
      ],
      "text/plain": [
       "| 38      | 20m 13s      | 0.473294               |"
      ]
     },
     "metadata": {},
     "output_type": "display_data"
    },
    {
     "data": {
      "text/html": [
       "<pre>| 39      | 20m 44s      | 0.454631               |</pre>"
      ],
      "text/plain": [
       "| 39      | 20m 44s      | 0.454631               |"
      ]
     },
     "metadata": {},
     "output_type": "display_data"
    },
    {
     "data": {
      "text/html": [
       "<pre>| 40      | 21m 15s      | 2.09953                |</pre>"
      ],
      "text/plain": [
       "| 40      | 21m 15s      | 2.09953                |"
      ]
     },
     "metadata": {},
     "output_type": "display_data"
    },
    {
     "data": {
      "text/html": [
       "<pre>| 41      | 21m 46s      | 3.93078                |</pre>"
      ],
      "text/plain": [
       "| 41      | 21m 46s      | 3.93078                |"
      ]
     },
     "metadata": {},
     "output_type": "display_data"
    },
    {
     "data": {
      "text/html": [
       "<pre>| 42      | 22m 17s      | 1.89667                |</pre>"
      ],
      "text/plain": [
       "| 42      | 22m 17s      | 1.89667                |"
      ]
     },
     "metadata": {},
     "output_type": "display_data"
    },
    {
     "data": {
      "text/html": [
       "<pre>| 43      | 22m 48s      | 1.28709                |</pre>"
      ],
      "text/plain": [
       "| 43      | 22m 48s      | 1.28709                |"
      ]
     },
     "metadata": {},
     "output_type": "display_data"
    },
    {
     "data": {
      "text/html": [
       "<pre>| 44      | 23m 27s      | 14.0033                |</pre>"
      ],
      "text/plain": [
       "| 44      | 23m 27s      | 14.0033                |"
      ]
     },
     "metadata": {},
     "output_type": "display_data"
    },
    {
     "data": {
      "text/html": [
       "<pre>| 45      | 23m 59s      | 1.54339                |</pre>"
      ],
      "text/plain": [
       "| 45      | 23m 59s      | 1.54339                |"
      ]
     },
     "metadata": {},
     "output_type": "display_data"
    },
    {
     "data": {
      "text/html": [
       "<pre>| 46      | 24m 31s      | 5.65524                |</pre>"
      ],
      "text/plain": [
       "| 46      | 24m 31s      | 5.65524                |"
      ]
     },
     "metadata": {},
     "output_type": "display_data"
    },
    {
     "data": {
      "text/html": [
       "<pre>| 47      | 25m 2s       | 1.3416                 |</pre>"
      ],
      "text/plain": [
       "| 47      | 25m 2s       | 1.3416                 |"
      ]
     },
     "metadata": {},
     "output_type": "display_data"
    },
    {
     "data": {
      "text/html": [
       "<pre>| 48      | 25m 33s      | 0.688464               |</pre>"
      ],
      "text/plain": [
       "| 48      | 25m 33s      | 0.688464               |"
      ]
     },
     "metadata": {},
     "output_type": "display_data"
    },
    {
     "data": {
      "text/html": [
       "<pre>| 49      | 26m 13s      | nan                    |</pre>"
      ],
      "text/plain": [
       "| 49      | 26m 13s      | nan                    |"
      ]
     },
     "metadata": {},
     "output_type": "display_data"
    },
    {
     "data": {
      "text/html": [
       "<pre>Resetting model.</pre>"
      ],
      "text/plain": [
       "Resetting model."
      ]
     },
     "metadata": {},
     "output_type": "display_data"
    },
    {
     "data": {
      "text/html": [
       "<pre>| FINAL   | 26m 13s      | nan                    |</pre>"
      ],
      "text/plain": [
       "| FINAL   | 26m 13s      | nan                    |"
      ]
     },
     "metadata": {},
     "output_type": "display_data"
    },
    {
     "data": {
      "text/html": [
       "<pre>+---------+--------------+------------------------+</pre>"
      ],
      "text/plain": [
       "+---------+--------------+------------------------+"
      ]
     },
     "metadata": {},
     "output_type": "display_data"
    },
    {
     "data": {
      "text/html": [
       "<pre>Optimization Complete: Iteration limit reached.</pre>"
      ],
      "text/plain": [
       "Optimization Complete: Iteration limit reached."
      ]
     },
     "metadata": {},
     "output_type": "display_data"
    },
    {
     "data": {
      "text/html": [
       "<pre>Recsys training: model = factorization_recommender</pre>"
      ],
      "text/plain": [
       "Recsys training: model = factorization_recommender"
      ]
     },
     "metadata": {},
     "output_type": "display_data"
    },
    {
     "data": {
      "text/html": [
       "<pre>Preparing data set.</pre>"
      ],
      "text/plain": [
       "Preparing data set."
      ]
     },
     "metadata": {},
     "output_type": "display_data"
    },
    {
     "data": {
      "text/html": [
       "<pre>    Data has 1096492 observations with 50690 users and 141 items.</pre>"
      ],
      "text/plain": [
       "    Data has 1096492 observations with 50690 users and 141 items."
      ]
     },
     "metadata": {},
     "output_type": "display_data"
    },
    {
     "data": {
      "text/html": [
       "<pre>    Data prepared in: 1.82695s</pre>"
      ],
      "text/plain": [
       "    Data prepared in: 1.82695s"
      ]
     },
     "metadata": {},
     "output_type": "display_data"
    },
    {
     "data": {
      "text/html": [
       "<pre>Training factorization_recommender for recommendations.</pre>"
      ],
      "text/plain": [
       "Training factorization_recommender for recommendations."
      ]
     },
     "metadata": {},
     "output_type": "display_data"
    },
    {
     "data": {
      "text/html": [
       "<pre>+------------------------------+--------------------------------------------------+----------+</pre>"
      ],
      "text/plain": [
       "+------------------------------+--------------------------------------------------+----------+"
      ]
     },
     "metadata": {},
     "output_type": "display_data"
    },
    {
     "data": {
      "text/html": [
       "<pre>| Parameter                    | Description                                      | Value    |</pre>"
      ],
      "text/plain": [
       "| Parameter                    | Description                                      | Value    |"
      ]
     },
     "metadata": {},
     "output_type": "display_data"
    },
    {
     "data": {
      "text/html": [
       "<pre>+------------------------------+--------------------------------------------------+----------+</pre>"
      ],
      "text/plain": [
       "+------------------------------+--------------------------------------------------+----------+"
      ]
     },
     "metadata": {},
     "output_type": "display_data"
    },
    {
     "data": {
      "text/html": [
       "<pre>| num_factors                  | Factor Dimension                                 | 134      |</pre>"
      ],
      "text/plain": [
       "| num_factors                  | Factor Dimension                                 | 134      |"
      ]
     },
     "metadata": {},
     "output_type": "display_data"
    },
    {
     "data": {
      "text/html": [
       "<pre>| regularization               | L2 Regularization on Factors                     | 1e-14    |</pre>"
      ],
      "text/plain": [
       "| regularization               | L2 Regularization on Factors                     | 1e-14    |"
      ]
     },
     "metadata": {},
     "output_type": "display_data"
    },
    {
     "data": {
      "text/html": [
       "<pre>| max_iterations               | Maximum Number of Iterations                     | 50       |</pre>"
      ],
      "text/plain": [
       "| max_iterations               | Maximum Number of Iterations                     | 50       |"
      ]
     },
     "metadata": {},
     "output_type": "display_data"
    },
    {
     "data": {
      "text/html": [
       "<pre>| solver                       | Solver used for training                         | als      |</pre>"
      ],
      "text/plain": [
       "| solver                       | Solver used for training                         | als      |"
      ]
     },
     "metadata": {},
     "output_type": "display_data"
    },
    {
     "data": {
      "text/html": [
       "<pre>+------------------------------+--------------------------------------------------+----------+</pre>"
      ],
      "text/plain": [
       "+------------------------------+--------------------------------------------------+----------+"
      ]
     },
     "metadata": {},
     "output_type": "display_data"
    },
    {
     "data": {
      "text/html": [
       "<pre>+---------+--------------+------------------------+</pre>"
      ],
      "text/plain": [
       "+---------+--------------+------------------------+"
      ]
     },
     "metadata": {},
     "output_type": "display_data"
    },
    {
     "data": {
      "text/html": [
       "<pre>| Iter.   | Elapsed time | RMSE                   |</pre>"
      ],
      "text/plain": [
       "| Iter.   | Elapsed time | RMSE                   |"
      ]
     },
     "metadata": {},
     "output_type": "display_data"
    },
    {
     "data": {
      "text/html": [
       "<pre>+---------+--------------+------------------------+</pre>"
      ],
      "text/plain": [
       "+---------+--------------+------------------------+"
      ]
     },
     "metadata": {},
     "output_type": "display_data"
    },
    {
     "data": {
      "text/html": [
       "<pre>| Initial | 138us        | NA                     |</pre>"
      ],
      "text/plain": [
       "| Initial | 138us        | NA                     |"
      ]
     },
     "metadata": {},
     "output_type": "display_data"
    },
    {
     "data": {
      "text/html": [
       "<pre>+---------+--------------+------------------------+</pre>"
      ],
      "text/plain": [
       "+---------+--------------+------------------------+"
      ]
     },
     "metadata": {},
     "output_type": "display_data"
    },
    {
     "data": {
      "text/html": [
       "<pre>| 0       | 37.05s       | 0.519531               |</pre>"
      ],
      "text/plain": [
       "| 0       | 37.05s       | 0.519531               |"
      ]
     },
     "metadata": {},
     "output_type": "display_data"
    },
    {
     "data": {
      "text/html": [
       "<pre>| 1       | 1m 10s       | 5.36992                |</pre>"
      ],
      "text/plain": [
       "| 1       | 1m 10s       | 5.36992                |"
      ]
     },
     "metadata": {},
     "output_type": "display_data"
    },
    {
     "data": {
      "text/html": [
       "<pre>| 2       | 1m 42s       | nan                    |</pre>"
      ],
      "text/plain": [
       "| 2       | 1m 42s       | nan                    |"
      ]
     },
     "metadata": {},
     "output_type": "display_data"
    },
    {
     "data": {
      "text/html": [
       "<pre>Resetting model.</pre>"
      ],
      "text/plain": [
       "Resetting model."
      ]
     },
     "metadata": {},
     "output_type": "display_data"
    },
    {
     "data": {
      "text/html": [
       "<pre>| 3       | 2m 15s       | 15.809                 |</pre>"
      ],
      "text/plain": [
       "| 3       | 2m 15s       | 15.809                 |"
      ]
     },
     "metadata": {},
     "output_type": "display_data"
    },
    {
     "data": {
      "text/html": [
       "<pre>| 4       | 2m 47s       | nan                    |</pre>"
      ],
      "text/plain": [
       "| 4       | 2m 47s       | nan                    |"
      ]
     },
     "metadata": {},
     "output_type": "display_data"
    },
    {
     "data": {
      "text/html": [
       "<pre>Resetting model.</pre>"
      ],
      "text/plain": [
       "Resetting model."
      ]
     },
     "metadata": {},
     "output_type": "display_data"
    },
    {
     "data": {
      "text/html": [
       "<pre>| 5       | 3m 20s       | 0.401056               |</pre>"
      ],
      "text/plain": [
       "| 5       | 3m 20s       | 0.401056               |"
      ]
     },
     "metadata": {},
     "output_type": "display_data"
    },
    {
     "data": {
      "text/html": [
       "<pre>| 6       | 3m 53s       | 3.78524                |</pre>"
      ],
      "text/plain": [
       "| 6       | 3m 53s       | 3.78524                |"
      ]
     },
     "metadata": {},
     "output_type": "display_data"
    },
    {
     "data": {
      "text/html": [
       "<pre>| 7       | 4m 25s       | 12.9187                |</pre>"
      ],
      "text/plain": [
       "| 7       | 4m 25s       | 12.9187                |"
      ]
     },
     "metadata": {},
     "output_type": "display_data"
    },
    {
     "data": {
      "text/html": [
       "<pre>| 8       | 4m 58s       | 4.425                  |</pre>"
      ],
      "text/plain": [
       "| 8       | 4m 58s       | 4.425                  |"
      ]
     },
     "metadata": {},
     "output_type": "display_data"
    },
    {
     "data": {
      "text/html": [
       "<pre>| 9       | 5m 31s       | 6.16253                |</pre>"
      ],
      "text/plain": [
       "| 9       | 5m 31s       | 6.16253                |"
      ]
     },
     "metadata": {},
     "output_type": "display_data"
    },
    {
     "data": {
      "text/html": [
       "<pre>| 10      | 6m 11s       | nan                    |</pre>"
      ],
      "text/plain": [
       "| 10      | 6m 11s       | nan                    |"
      ]
     },
     "metadata": {},
     "output_type": "display_data"
    },
    {
     "data": {
      "text/html": [
       "<pre>Resetting model.</pre>"
      ],
      "text/plain": [
       "Resetting model."
      ]
     },
     "metadata": {},
     "output_type": "display_data"
    },
    {
     "data": {
      "text/html": [
       "<pre>| 11      | 6m 47s       | 0.383268               |</pre>"
      ],
      "text/plain": [
       "| 11      | 6m 47s       | 0.383268               |"
      ]
     },
     "metadata": {},
     "output_type": "display_data"
    },
    {
     "data": {
      "text/html": [
       "<pre>| 12      | 7m 19s       | nan                    |</pre>"
      ],
      "text/plain": [
       "| 12      | 7m 19s       | nan                    |"
      ]
     },
     "metadata": {},
     "output_type": "display_data"
    },
    {
     "data": {
      "text/html": [
       "<pre>Resetting model.</pre>"
      ],
      "text/plain": [
       "Resetting model."
      ]
     },
     "metadata": {},
     "output_type": "display_data"
    },
    {
     "data": {
      "text/html": [
       "<pre>| 13      | 10m 9s       | 0.417876               |</pre>"
      ],
      "text/plain": [
       "| 13      | 10m 9s       | 0.417876               |"
      ]
     },
     "metadata": {},
     "output_type": "display_data"
    },
    {
     "data": {
      "text/html": [
       "<pre>| 14      | 10m 45s      | nan                    |</pre>"
      ],
      "text/plain": [
       "| 14      | 10m 45s      | nan                    |"
      ]
     },
     "metadata": {},
     "output_type": "display_data"
    },
    {
     "data": {
      "text/html": [
       "<pre>Resetting model.</pre>"
      ],
      "text/plain": [
       "Resetting model."
      ]
     },
     "metadata": {},
     "output_type": "display_data"
    },
    {
     "data": {
      "text/html": [
       "<pre>| 15      | 12m 43s      | 1.92599                |</pre>"
      ],
      "text/plain": [
       "| 15      | 12m 43s      | 1.92599                |"
      ]
     },
     "metadata": {},
     "output_type": "display_data"
    },
    {
     "data": {
      "text/html": [
       "<pre>| 16      | 13m 17s      | nan                    |</pre>"
      ],
      "text/plain": [
       "| 16      | 13m 17s      | nan                    |"
      ]
     },
     "metadata": {},
     "output_type": "display_data"
    },
    {
     "data": {
      "text/html": [
       "<pre>Resetting model.</pre>"
      ],
      "text/plain": [
       "Resetting model."
      ]
     },
     "metadata": {},
     "output_type": "display_data"
    },
    {
     "data": {
      "text/html": [
       "<pre>| 17      | 13m 58s      | 5.26993                |</pre>"
      ],
      "text/plain": [
       "| 17      | 13m 58s      | 5.26993                |"
      ]
     },
     "metadata": {},
     "output_type": "display_data"
    },
    {
     "data": {
      "text/html": [
       "<pre>| 18      | 14m 33s      | nan                    |</pre>"
      ],
      "text/plain": [
       "| 18      | 14m 33s      | nan                    |"
      ]
     },
     "metadata": {},
     "output_type": "display_data"
    },
    {
     "data": {
      "text/html": [
       "<pre>Resetting model.</pre>"
      ],
      "text/plain": [
       "Resetting model."
      ]
     },
     "metadata": {},
     "output_type": "display_data"
    },
    {
     "data": {
      "text/html": [
       "<pre>| 19      | 16m 2s       | 5.28431                |</pre>"
      ],
      "text/plain": [
       "| 19      | 16m 2s       | 5.28431                |"
      ]
     },
     "metadata": {},
     "output_type": "display_data"
    },
    {
     "data": {
      "text/html": [
       "<pre>| 20      | 16m 41s      | 586.379                |</pre>"
      ],
      "text/plain": [
       "| 20      | 16m 41s      | 586.379                |"
      ]
     },
     "metadata": {},
     "output_type": "display_data"
    },
    {
     "data": {
      "text/html": [
       "<pre>| 21      | 17m 19s      | nan                    |</pre>"
      ],
      "text/plain": [
       "| 21      | 17m 19s      | nan                    |"
      ]
     },
     "metadata": {},
     "output_type": "display_data"
    },
    {
     "data": {
      "text/html": [
       "<pre>Resetting model.</pre>"
      ],
      "text/plain": [
       "Resetting model."
      ]
     },
     "metadata": {},
     "output_type": "display_data"
    },
    {
     "data": {
      "text/html": [
       "<pre>| 22      | 19m 29s      | 5.28431                |</pre>"
      ],
      "text/plain": [
       "| 22      | 19m 29s      | 5.28431                |"
      ]
     },
     "metadata": {},
     "output_type": "display_data"
    },
    {
     "data": {
      "text/html": [
       "<pre>| 23      | 20m 2s       | 0.314081               |</pre>"
      ],
      "text/plain": [
       "| 23      | 20m 2s       | 0.314081               |"
      ]
     },
     "metadata": {},
     "output_type": "display_data"
    },
    {
     "data": {
      "text/html": [
       "<pre>| 24      | 20m 34s      | 0.230108               |</pre>"
      ],
      "text/plain": [
       "| 24      | 20m 34s      | 0.230108               |"
      ]
     },
     "metadata": {},
     "output_type": "display_data"
    },
    {
     "data": {
      "text/html": [
       "<pre>| 25      | 21m 8s       | 0.297684               |</pre>"
      ],
      "text/plain": [
       "| 25      | 21m 8s       | 0.297684               |"
      ]
     },
     "metadata": {},
     "output_type": "display_data"
    },
    {
     "data": {
      "text/html": [
       "<pre>| 26      | 21m 40s      | 0.0980582              |</pre>"
      ],
      "text/plain": [
       "| 26      | 21m 40s      | 0.0980582              |"
      ]
     },
     "metadata": {},
     "output_type": "display_data"
    },
    {
     "data": {
      "text/html": [
       "<pre>| 27      | 22m 14s      | 0.0793586              |</pre>"
      ],
      "text/plain": [
       "| 27      | 22m 14s      | 0.0793586              |"
      ]
     },
     "metadata": {},
     "output_type": "display_data"
    },
    {
     "data": {
      "text/html": [
       "<pre>| 28      | 22m 49s      | 0.0989202              |</pre>"
      ],
      "text/plain": [
       "| 28      | 22m 49s      | 0.0989202              |"
      ]
     },
     "metadata": {},
     "output_type": "display_data"
    },
    {
     "data": {
      "text/html": [
       "<pre>| 29      | 23m 24s      | 0.984012               |</pre>"
      ],
      "text/plain": [
       "| 29      | 23m 24s      | 0.984012               |"
      ]
     },
     "metadata": {},
     "output_type": "display_data"
    },
    {
     "data": {
      "text/html": [
       "<pre>| 30      | 23m 57s      | nan                    |</pre>"
      ],
      "text/plain": [
       "| 30      | 23m 57s      | nan                    |"
      ]
     },
     "metadata": {},
     "output_type": "display_data"
    },
    {
     "data": {
      "text/html": [
       "<pre>Resetting model.</pre>"
      ],
      "text/plain": [
       "Resetting model."
      ]
     },
     "metadata": {},
     "output_type": "display_data"
    },
    {
     "data": {
      "text/html": [
       "<pre>| 31      | 26m 4s       | 5.28431                |</pre>"
      ],
      "text/plain": [
       "| 31      | 26m 4s       | 5.28431                |"
      ]
     },
     "metadata": {},
     "output_type": "display_data"
    },
    {
     "data": {
      "text/html": [
       "<pre>| 32      | 26m 37s      | 0.720203               |</pre>"
      ],
      "text/plain": [
       "| 32      | 26m 37s      | 0.720203               |"
      ]
     },
     "metadata": {},
     "output_type": "display_data"
    },
    {
     "data": {
      "text/html": [
       "<pre>| 33      | 27m 12s      | 343.249                |</pre>"
      ],
      "text/plain": [
       "| 33      | 27m 12s      | 343.249                |"
      ]
     },
     "metadata": {},
     "output_type": "display_data"
    },
    {
     "data": {
      "text/html": [
       "<pre>| 34      | 27m 46s      | nan                    |</pre>"
      ],
      "text/plain": [
       "| 34      | 27m 46s      | nan                    |"
      ]
     },
     "metadata": {},
     "output_type": "display_data"
    },
    {
     "data": {
      "text/html": [
       "<pre>Resetting model.</pre>"
      ],
      "text/plain": [
       "Resetting model."
      ]
     },
     "metadata": {},
     "output_type": "display_data"
    },
    {
     "data": {
      "text/html": [
       "<pre>| 35      | 28m 33s      | 5.28431                |</pre>"
      ],
      "text/plain": [
       "| 35      | 28m 33s      | 5.28431                |"
      ]
     },
     "metadata": {},
     "output_type": "display_data"
    },
    {
     "data": {
      "text/html": [
       "<pre>| 36      | 29m 10s      | 2370.69                |</pre>"
      ],
      "text/plain": [
       "| 36      | 29m 10s      | 2370.69                |"
      ]
     },
     "metadata": {},
     "output_type": "display_data"
    },
    {
     "data": {
      "text/html": [
       "<pre>| 37      | 29m 43s      | nan                    |</pre>"
      ],
      "text/plain": [
       "| 37      | 29m 43s      | nan                    |"
      ]
     },
     "metadata": {},
     "output_type": "display_data"
    },
    {
     "data": {
      "text/html": [
       "<pre>Resetting model.</pre>"
      ],
      "text/plain": [
       "Resetting model."
      ]
     },
     "metadata": {},
     "output_type": "display_data"
    },
    {
     "data": {
      "text/html": [
       "<pre>| 38      | 30m 45s      | 5.28431                |</pre>"
      ],
      "text/plain": [
       "| 38      | 30m 45s      | 5.28431                |"
      ]
     },
     "metadata": {},
     "output_type": "display_data"
    },
    {
     "data": {
      "text/html": [
       "<pre>| 39      | 31m 23s      | 2626.11                |</pre>"
      ],
      "text/plain": [
       "| 39      | 31m 23s      | 2626.11                |"
      ]
     },
     "metadata": {},
     "output_type": "display_data"
    },
    {
     "data": {
      "text/html": [
       "<pre>| 40      | 31m 56s      | nan                    |</pre>"
      ],
      "text/plain": [
       "| 40      | 31m 56s      | nan                    |"
      ]
     },
     "metadata": {},
     "output_type": "display_data"
    },
    {
     "data": {
      "text/html": [
       "<pre>Resetting model.</pre>"
      ],
      "text/plain": [
       "Resetting model."
      ]
     },
     "metadata": {},
     "output_type": "display_data"
    },
    {
     "data": {
      "text/html": [
       "<pre>| 41      | 33m 47s      | 5.28431                |</pre>"
      ],
      "text/plain": [
       "| 41      | 33m 47s      | 5.28431                |"
      ]
     },
     "metadata": {},
     "output_type": "display_data"
    },
    {
     "data": {
      "text/html": [
       "<pre>| 42      | 34m 19s      | 1.65511                |</pre>"
      ],
      "text/plain": [
       "| 42      | 34m 19s      | 1.65511                |"
      ]
     },
     "metadata": {},
     "output_type": "display_data"
    },
    {
     "data": {
      "text/html": [
       "<pre>| 43      | 34m 53s      | nan                    |</pre>"
      ],
      "text/plain": [
       "| 43      | 34m 53s      | nan                    |"
      ]
     },
     "metadata": {},
     "output_type": "display_data"
    },
    {
     "data": {
      "text/html": [
       "<pre>Resetting model.</pre>"
      ],
      "text/plain": [
       "Resetting model."
      ]
     },
     "metadata": {},
     "output_type": "display_data"
    },
    {
     "data": {
      "text/html": [
       "<pre>| 44      | 36m 45s      | 5.28431                |</pre>"
      ],
      "text/plain": [
       "| 44      | 36m 45s      | 5.28431                |"
      ]
     },
     "metadata": {},
     "output_type": "display_data"
    },
    {
     "data": {
      "text/html": [
       "<pre>| 45      | 37m 56s      | 0.647374               |</pre>"
      ],
      "text/plain": [
       "| 45      | 37m 56s      | 0.647374               |"
      ]
     },
     "metadata": {},
     "output_type": "display_data"
    },
    {
     "data": {
      "text/html": [
       "<pre>| 46      | 38m 34s      | nan                    |</pre>"
      ],
      "text/plain": [
       "| 46      | 38m 34s      | nan                    |"
      ]
     },
     "metadata": {},
     "output_type": "display_data"
    },
    {
     "data": {
      "text/html": [
       "<pre>Resetting model.</pre>"
      ],
      "text/plain": [
       "Resetting model."
      ]
     },
     "metadata": {},
     "output_type": "display_data"
    },
    {
     "data": {
      "text/html": [
       "<pre>| 47      | 40m 12s      | 5.28431                |</pre>"
      ],
      "text/plain": [
       "| 47      | 40m 12s      | 5.28431                |"
      ]
     },
     "metadata": {},
     "output_type": "display_data"
    },
    {
     "data": {
      "text/html": [
       "<pre>| 48      | 43m 19s      | 3.12637                |</pre>"
      ],
      "text/plain": [
       "| 48      | 43m 19s      | 3.12637                |"
      ]
     },
     "metadata": {},
     "output_type": "display_data"
    },
    {
     "data": {
      "text/html": [
       "<pre>| 49      | 44m 2s       | nan                    |</pre>"
      ],
      "text/plain": [
       "| 49      | 44m 2s       | nan                    |"
      ]
     },
     "metadata": {},
     "output_type": "display_data"
    },
    {
     "data": {
      "text/html": [
       "<pre>Resetting model.</pre>"
      ],
      "text/plain": [
       "Resetting model."
      ]
     },
     "metadata": {},
     "output_type": "display_data"
    },
    {
     "data": {
      "text/html": [
       "<pre>| FINAL   | 44m 3s       | nan                    |</pre>"
      ],
      "text/plain": [
       "| FINAL   | 44m 3s       | nan                    |"
      ]
     },
     "metadata": {},
     "output_type": "display_data"
    },
    {
     "data": {
      "text/html": [
       "<pre>+---------+--------------+------------------------+</pre>"
      ],
      "text/plain": [
       "+---------+--------------+------------------------+"
      ]
     },
     "metadata": {},
     "output_type": "display_data"
    },
    {
     "data": {
      "text/html": [
       "<pre>Optimization Complete: Iteration limit reached.</pre>"
      ],
      "text/plain": [
       "Optimization Complete: Iteration limit reached."
      ]
     },
     "metadata": {},
     "output_type": "display_data"
    }
   ],
   "source": [
    "k_rmses = {}\n",
    "for k in xrange(1,141,7):\n",
    "    k_recommender = graphlab.recommender.factorization_recommender.create(sf, num_factors=k, user_id = 'user_id', item_id = 'joke_id', target = 'rating', solver = 'als', regularization=1e-14)\n",
    "    k_rmses[k] = k_recommender.get('training_rmse')"
   ]
  },
  {
   "cell_type": "code",
   "execution_count": 62,
   "metadata": {
    "collapsed": false,
    "scrolled": true
   },
   "outputs": [
    {
     "data": {
      "image/png": "[encoded data removed]",
      "text/plain": [
       "<matplotlib.figure.Figure at 0x7f1ba1f76410>"
      ]
     },
     "metadata": {},
     "output_type": "display_data"
    }
   ],
   "source": [
    "# let's plot training_rmse vs. k  and see if we can observe an elbow. If so, we'll use that k value\n",
    "x_values = sorted(k_rmses.keys())\n",
    "y_values = [k_rmses[k] for k in x_values]\n",
    "plt.plot(x_values, y_values)\n",
    "plt.xlabel('k value')\n",
    "plt.ylabel('training_rmse')\n",
    "plt.show()"
   ]
  },
  {
   "cell_type": "markdown",
   "metadata": {},
   "source": [
    "### There seems to be an elbow around k ~ 8 which is very interesting"
   ]
  },
  {
   "cell_type": "markdown",
   "metadata": {},
   "source": [
    "### Because there are also 7 topics observed by eye. No cheating. I promise. I had assigned the topics before k-hunting\n",
    "~~~~\n",
    "Even though, this is a biased classification by one human (me), I was simply trying to get a sense of whether my model will be able to detect the number of topics or even get close. Turns out it did!\n",
    "This makes sense since these ratings are from real raters and the topics are inherent in the data.\n",
    "~~~~"
   ]
  },
  {
   "cell_type": "markdown",
   "metadata": {},
   "source": [
    "### This is the simple code I used to assign each joke a topic manually as I read them\n",
    "~~~~ \n",
    "I came up with 7 topics that roughly fit each of the jokes. How amazing!\n",
    "\n",
    "joke_topics = {}\n",
    "all_topics = set()\n",
    "for joke_id, joke in enumerate(jokes,1):\n",
    "    print joke\n",
    "    print \"choose from \", all_topics, \" or make a new topic\"\n",
    "    topic = raw_input(\"\\n\")\n",
    "    if topic not in all_topics:\n",
    "        all_topics.add(topic.lower())    \n",
    "    joke_topics[joke_id] = topic\n",
    "~~~~"
   ]
  },
  {
   "cell_type": "code",
   "execution_count": 72,
   "metadata": {
    "collapsed": false,
    "scrolled": true
   },
   "outputs": [
    {
     "name": "stdout",
     "output_type": "stream",
     "text": [
      "set(['political', 'disease', 'religion', 'other', 'racist', 'tech', 'sexual'])\n"
     ]
    }
   ],
   "source": [
    "joke_id_topics = {1: 'disease', 2: 'sexual', 3: 'racist', 4: 'sexual', 5: 'political', 6: 'political', 7: 'sexual', 8: 'disease', 9: 'other', 10: 'other', 11: 'racist', 12: 'other', 13: 'political', 14: 'sexual', 15: 'racist', 16: 'other', 17: 'sexual', 18: 'other', 19: 'political', 20: 'tech', 21: 'sexual', 22: 'sexual', 23: 'other', 24: 'other', 25: 'sexual', 26: 'sexual', 27: 'political', 28: 'tech', 29: 'sexual', 30: 'political', 31: 'political', 32: 'political', 33: 'racist', 34: 'racist', 35: 'other', 36: 'racist', 37: 'disease', 38: 'other', 39: 'sexual', 40: 'racist', 41: 'other', 42: 'sexual', 43: 'other', 44: 'other', 45: 'religion', 46: 'sexual', 47: 'tech', 48: 'tech', 49: 'tech', 50: 'sexual', 51: 'sexual', 52: 'sexual', 53: 'sexual', 54: 'religion', 55: 'other', 56: 'sexual', 57: 'other', 58: 'other', 59: 'political', 60: 'religion', 61: 'other', 62: 'tech', 63: 'tech', 64: 'disease', 65: 'racist', 66: 'political', 67: 'other', 68: 'tech', 69: 'other', 70: 'other', 71: 'tech', 72: 'sexual', 73: 'political', 74: 'other', 75: 'sexual', 76: 'other', 77: 'political', 78: 'political', 79: 'political', 80: 'political', 81: 'racist', 82: 'tech', 83: 'sexual', 84: 'tech', 85: 'sexual', 86: 'tech', 87: 'other', 88: 'racist', 89: 'political', 90: 'tech', 91: 'other', 92: 'other', 93: 'tech', 94: 'tech', 95: 'other', 96: 'political', 97: 'other', 98: 'sexual', 99: 'other', 100: 'political', 101: 'religion', 102: 'other', 103: 'other', 104: 'tech', 105: 'other', 106: 'tech', 107: 'racist', 108: 'other', 109: 'other', 110: 'other', 111: 'other', 112: 'other', 113: 'other', 114: 'other', 115: 'political', 116: 'tech', 117: 'other', 118: 'other', 119: 'other', 120: 'tech', 121: 'other', 122: 'tech', 123: 'other', 124: 'other', 125: 'other', 126: 'political', 127: 'political', 128: 'political', 129: 'other', 130: 'other', 131: 'other', 132: 'other', 133: 'other', 134: 'other', 135: 'other', 136: 'other', 137: 'other', 138: 'political', 139: 'political', 140: 'other', 141: 'other', 142: 'religion', 143: 'other', 144: 'other', 145: 'other', 146: 'political', 147: 'other', 148: 'other', 149: 'political', 150: 'other'}\n",
    "print set(joke_id_topics.values())"
   ]
  },
  {
   "cell_type": "markdown",
   "metadata": {},
   "source": [
    "## Parameters I tried tweaking overall: ##\n",
    "* num_factors  -  k dimension of the factorized matrices U, V\n",
    "* solver   -   'als' or 'sgd'\n",
    "* max_iterations  -  step iteration\n",
    "* regularization  -  lmbdas = [0, 1e-16, 1e-14, 1e-12, 1e-10]    `"
   ]
  },
  {
   "cell_type": "markdown",
   "metadata": {},
   "source": [
    "## Results ##\n",
    "* found k=8 is a good representation of the real life pattern in this dataset\n",
    "* solver 'als' performed just as well as 'sgd' with hardly a difference in training_rmse so using 'als' going forward for simplicity's sake\n",
    "* I tried increasing iterations to a 100 and it made very little difference. In fact you can see from the create report that by iteration 10, the rmse has already levelled out.\n",
    "* regularization paramater, lambda, dropped very slightly for lambda = 1e-14 but started to climb again as lambda got smaller. I feel comfortable with this learning rate since it is close to the typical 1e-12 and really I was just trying to make sure a particular lambda value doesn't perturb my training_rmse by a lot.\n"
   ]
  },
  {
   "cell_type": "code",
   "execution_count": 69,
   "metadata": {
    "collapsed": false
   },
   "outputs": [
    {
     "name": "stdout",
     "output_type": "stream",
     "text": [
      "0.000996696762741\n",
      "0.000633721589111\n",
      "-0.00221962947398\n",
      "0.00583880627528\n",
      "-0.00405034655705\n",
      "0.00768231926486\n",
      "6.64360704832e-05\n",
      "0.00033010088373\n"
     ]
    }
   ],
   "source": [
    "for coeff_topic in rating_recommender.coefficients['joke_id']['factors'][0]:\n",
    "    print coeff_topic"
   ]
  },
  {
   "cell_type": "markdown",
   "metadata": {},
   "source": [
    "## Does it make sense for a joke to be negative in a topic? \n",
    "ehh, not really. So we could use Non-negative Matrix Factorization to get more interpretable results. In practice, NNMF gives very similar results (same topic buckets) but with non-negative coefficients."
   ]
  },
  {
   "cell_type": "code",
   "execution_count": null,
   "metadata": {
    "collapsed": true
   },
   "outputs": [],
   "source": []
  },
  {
   "cell_type": "code",
   "execution_count": null,
   "metadata": {
    "collapsed": true
   },
   "outputs": [],
   "source": []
  }
 ],
 "metadata": {
  "kernelspec": {
   "display_name": "Python 2",
   "language": "python",
   "name": "python2"
  },
  "language_info": {
   "codemirror_mode": {
    "name": "ipython",
    "version": 2
   },
   "file_extension": ".py",
   "mimetype": "text/x-python",
   "name": "python",
   "nbconvert_exporter": "python",
   "pygments_lexer": "ipython2",
   "version": "2.7.13"
  }
 },
 "nbformat": 4,
 "nbformat_minor": 2
}
